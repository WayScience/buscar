{
 "cells": [
  {
   "cell_type": "markdown",
   "id": "f14772b4",
   "metadata": {},
   "source": [
    "# Downloading and Processing CPJUMP1 Experimental Metadata\n",
    "\n",
    "This notebook focuses on downloading and processing the metadata associated with the [CPJUMP1 pilot dataset](https://github.com/jump-cellpainting/2024_Chandrasekaran_NatureMethods_CPJUMP1). The primary goal is to identify and organize plates that contain wells treated with CRISPR perturbations for downstream analysis.\n",
    "\n",
    "**Key Points:**\n",
    "- Only metadata is downloaded and processed in this notebook. The full CPJUMP1 dataset is not downloaded here.\n",
    "- The metadata provides essential information about which plates and wells are relevant for CRISPR-based experiments.\n",
    "- The processed dataset used in this notebook has already undergone quality control and feature selection. For access to the full processed dataset, refer to [repo](https://github.com/WayScience/JUMP-single-cell)\n",
    "\n"
   ]
  },
  {
   "cell_type": "code",
   "execution_count": 1,
   "id": "7748e2b0",
   "metadata": {},
   "outputs": [],
   "source": [
    "import sys\n",
    "import pprint\n",
    "import pathlib\n",
    "import zipfile\n",
    "\n",
    "import requests\n",
    "import polars as pl\n",
    "from tqdm import tqdm\n",
    "\n",
    "sys.path.append(\"../../\")\n",
    "from utils import io_utils"
   ]
  },
  {
   "cell_type": "markdown",
   "id": "ddd7afb5",
   "metadata": {},
   "source": [
    "Parameters used in this notebook"
   ]
  },
  {
   "cell_type": "code",
   "execution_count": 2,
   "id": "0420eb8e",
   "metadata": {},
   "outputs": [],
   "source": [
    "# setting perturbation type\n",
    "pert_type = \"crispr\""
   ]
  },
  {
   "cell_type": "markdown",
   "id": "53ff431a",
   "metadata": {},
   "source": [
    "setting input and output paths"
   ]
  },
  {
   "cell_type": "code",
   "execution_count": 3,
   "id": "b7381913",
   "metadata": {},
   "outputs": [],
   "source": [
    "# setting config path\n",
    "config_path = pathlib.Path(\"../nb-configs.yaml\").resolve(strict=True)\n",
    "\n",
    "# setting results setting a data directory\n",
    "data_dir = pathlib.Path(\"./data\").resolve()\n",
    "data_dir.mkdir(exist_ok=True)\n",
    "\n",
    "# setting a path to save the experimental metadata\n",
    "exp_metadata_path = (data_dir / \"CPJUMP1-experimental-metadata.csv\").resolve()\n",
    "\n",
    "# setting profile directory\n",
    "profiles_dir = (data_dir / \"sc-profiles\").resolve()\n",
    "profiles_dir.mkdir(exist_ok=True)\n",
    "\n",
    "# create mitocheck directory\n",
    "mitocheck_dir = (profiles_dir / \"mitocheck\").resolve()\n",
    "mitocheck_dir.mkdir(exist_ok=True)"
   ]
  },
  {
   "cell_type": "markdown",
   "id": "0c3d0b8e",
   "metadata": {},
   "source": [
    "Loading in the notebook configurations and downloading the experimental metadata"
   ]
  },
  {
   "cell_type": "code",
   "execution_count": 4,
   "id": "5b8bfe5f",
   "metadata": {},
   "outputs": [
    {
     "data": {
      "text/html": [
       "<div><style>\n",
       ".dataframe > thead > tr,\n",
       ".dataframe > tbody > tr {\n",
       "  text-align: right;\n",
       "  white-space: pre-wrap;\n",
       "}\n",
       "</style>\n",
       "<small>shape: (22, 13)</small><table border=\"1\" class=\"dataframe\"><thead><tr><th>Batch</th><th>Plate_Map_Name</th><th>Assay_Plate_Barcode</th><th>Perturbation</th><th>Cell_type</th><th>Time</th><th>Density</th><th>Antibiotics</th><th>Cell_line</th><th>Time_delay</th><th>Times_imaged</th><th>Anomaly</th><th>Number_of_images</th></tr><tr><td>str</td><td>str</td><td>str</td><td>str</td><td>str</td><td>i64</td><td>i64</td><td>str</td><td>str</td><td>str</td><td>i64</td><td>str</td><td>i64</td></tr></thead><tbody><tr><td>&quot;2020_11_04_CPJUMP1&quot;</td><td>&quot;JUMP-Target-1_crispr_platemap&quot;</td><td>&quot;BR00116996&quot;</td><td>&quot;crispr&quot;</td><td>&quot;U2OS&quot;</td><td>144</td><td>100</td><td>&quot;absent&quot;</td><td>&quot;Cas9&quot;</td><td>&quot;Day0&quot;</td><td>1</td><td>&quot;WGA&quot;</td><td>27648</td></tr><tr><td>&quot;2020_11_04_CPJUMP1&quot;</td><td>&quot;JUMP-Target-1_crispr_platemap&quot;</td><td>&quot;BR00116997&quot;</td><td>&quot;crispr&quot;</td><td>&quot;U2OS&quot;</td><td>144</td><td>100</td><td>&quot;absent&quot;</td><td>&quot;Cas9&quot;</td><td>&quot;Day0&quot;</td><td>1</td><td>&quot;WGA&quot;</td><td>27648</td></tr><tr><td>&quot;2020_11_04_CPJUMP1&quot;</td><td>&quot;JUMP-Target-1_crispr_platemap&quot;</td><td>&quot;BR00116998&quot;</td><td>&quot;crispr&quot;</td><td>&quot;U2OS&quot;</td><td>144</td><td>100</td><td>&quot;absent&quot;</td><td>&quot;Cas9&quot;</td><td>&quot;Day0&quot;</td><td>1</td><td>&quot;WGA&quot;</td><td>27648</td></tr><tr><td>&quot;2020_11_04_CPJUMP1&quot;</td><td>&quot;JUMP-Target-1_crispr_platemap&quot;</td><td>&quot;BR00116999&quot;</td><td>&quot;crispr&quot;</td><td>&quot;U2OS&quot;</td><td>144</td><td>100</td><td>&quot;absent&quot;</td><td>&quot;Cas9&quot;</td><td>&quot;Day0&quot;</td><td>1</td><td>&quot;WGA&quot;</td><td>27648</td></tr><tr><td>&quot;2020_11_04_CPJUMP1&quot;</td><td>&quot;JUMP-Target-1_crispr_platemap&quot;</td><td>&quot;BR00117000&quot;</td><td>&quot;crispr&quot;</td><td>&quot;A549&quot;</td><td>144</td><td>100</td><td>&quot;absent&quot;</td><td>&quot;Cas9&quot;</td><td>&quot;Day0&quot;</td><td>1</td><td>&quot;none&quot;</td><td>27640</td></tr><tr><td>&hellip;</td><td>&hellip;</td><td>&hellip;</td><td>&hellip;</td><td>&hellip;</td><td>&hellip;</td><td>&hellip;</td><td>&hellip;</td><td>&hellip;</td><td>&hellip;</td><td>&hellip;</td><td>&hellip;</td><td>&hellip;</td></tr><tr><td>&quot;2020_11_04_CPJUMP1&quot;</td><td>&quot;JUMP-Target-1_crispr_platemap&quot;</td><td>&quot;BR00118048&quot;</td><td>&quot;crispr&quot;</td><td>&quot;U2OS&quot;</td><td>96</td><td>100</td><td>&quot;absent&quot;</td><td>&quot;Cas9&quot;</td><td>&quot;Day0&quot;</td><td>1</td><td>&quot;Phalloidin&quot;</td><td>27648</td></tr><tr><td>&quot;2020_11_04_CPJUMP1_DL&quot;</td><td>&quot;JUMP-Target-1_crispr_platemap&quot;</td><td>&quot;BR00116996&quot;</td><td>&quot;crispr&quot;</td><td>&quot;U2OS&quot;</td><td>144</td><td>100</td><td>&quot;absent&quot;</td><td>&quot;Cas9&quot;</td><td>&quot;Day0&quot;</td><td>1</td><td>&quot;WGA&quot;</td><td>27648</td></tr><tr><td>&quot;2020_11_04_CPJUMP1_DL&quot;</td><td>&quot;JUMP-Target-1_crispr_platemap&quot;</td><td>&quot;BR00116997&quot;</td><td>&quot;crispr&quot;</td><td>&quot;U2OS&quot;</td><td>144</td><td>100</td><td>&quot;absent&quot;</td><td>&quot;Cas9&quot;</td><td>&quot;Day0&quot;</td><td>1</td><td>&quot;WGA&quot;</td><td>27648</td></tr><tr><td>&quot;2020_11_04_CPJUMP1_DL&quot;</td><td>&quot;JUMP-Target-1_crispr_platemap&quot;</td><td>&quot;BR00116998&quot;</td><td>&quot;crispr&quot;</td><td>&quot;U2OS&quot;</td><td>144</td><td>100</td><td>&quot;absent&quot;</td><td>&quot;Cas9&quot;</td><td>&quot;Day0&quot;</td><td>1</td><td>&quot;WGA&quot;</td><td>27648</td></tr><tr><td>&quot;2020_11_04_CPJUMP1_DL&quot;</td><td>&quot;JUMP-Target-1_crispr_platemap&quot;</td><td>&quot;BR00116999&quot;</td><td>&quot;crispr&quot;</td><td>&quot;U2OS&quot;</td><td>144</td><td>100</td><td>&quot;absent&quot;</td><td>&quot;Cas9&quot;</td><td>&quot;Day0&quot;</td><td>1</td><td>&quot;WGA&quot;</td><td>27648</td></tr></tbody></table></div>"
      ],
      "text/plain": [
       "shape: (22, 13)\n",
       "┌───────────┬───────────┬───────────┬───────────┬───┬───────────┬───────────┬───────────┬──────────┐\n",
       "│ Batch     ┆ Plate_Map ┆ Assay_Pla ┆ Perturbat ┆ … ┆ Time_dela ┆ Times_ima ┆ Anomaly   ┆ Number_o │\n",
       "│ ---       ┆ _Name     ┆ te_Barcod ┆ ion       ┆   ┆ y         ┆ ged       ┆ ---       ┆ f_images │\n",
       "│ str       ┆ ---       ┆ e         ┆ ---       ┆   ┆ ---       ┆ ---       ┆ str       ┆ ---      │\n",
       "│           ┆ str       ┆ ---       ┆ str       ┆   ┆ str       ┆ i64       ┆           ┆ i64      │\n",
       "│           ┆           ┆ str       ┆           ┆   ┆           ┆           ┆           ┆          │\n",
       "╞═══════════╪═══════════╪═══════════╪═══════════╪═══╪═══════════╪═══════════╪═══════════╪══════════╡\n",
       "│ 2020_11_0 ┆ JUMP-Targ ┆ BR0011699 ┆ crispr    ┆ … ┆ Day0      ┆ 1         ┆ WGA       ┆ 27648    │\n",
       "│ 4_CPJUMP1 ┆ et-1_cris ┆ 6         ┆           ┆   ┆           ┆           ┆           ┆          │\n",
       "│           ┆ pr_platem ┆           ┆           ┆   ┆           ┆           ┆           ┆          │\n",
       "│           ┆ ap        ┆           ┆           ┆   ┆           ┆           ┆           ┆          │\n",
       "│ 2020_11_0 ┆ JUMP-Targ ┆ BR0011699 ┆ crispr    ┆ … ┆ Day0      ┆ 1         ┆ WGA       ┆ 27648    │\n",
       "│ 4_CPJUMP1 ┆ et-1_cris ┆ 7         ┆           ┆   ┆           ┆           ┆           ┆          │\n",
       "│           ┆ pr_platem ┆           ┆           ┆   ┆           ┆           ┆           ┆          │\n",
       "│           ┆ ap        ┆           ┆           ┆   ┆           ┆           ┆           ┆          │\n",
       "│ 2020_11_0 ┆ JUMP-Targ ┆ BR0011699 ┆ crispr    ┆ … ┆ Day0      ┆ 1         ┆ WGA       ┆ 27648    │\n",
       "│ 4_CPJUMP1 ┆ et-1_cris ┆ 8         ┆           ┆   ┆           ┆           ┆           ┆          │\n",
       "│           ┆ pr_platem ┆           ┆           ┆   ┆           ┆           ┆           ┆          │\n",
       "│           ┆ ap        ┆           ┆           ┆   ┆           ┆           ┆           ┆          │\n",
       "│ 2020_11_0 ┆ JUMP-Targ ┆ BR0011699 ┆ crispr    ┆ … ┆ Day0      ┆ 1         ┆ WGA       ┆ 27648    │\n",
       "│ 4_CPJUMP1 ┆ et-1_cris ┆ 9         ┆           ┆   ┆           ┆           ┆           ┆          │\n",
       "│           ┆ pr_platem ┆           ┆           ┆   ┆           ┆           ┆           ┆          │\n",
       "│           ┆ ap        ┆           ┆           ┆   ┆           ┆           ┆           ┆          │\n",
       "│ 2020_11_0 ┆ JUMP-Targ ┆ BR0011700 ┆ crispr    ┆ … ┆ Day0      ┆ 1         ┆ none      ┆ 27640    │\n",
       "│ 4_CPJUMP1 ┆ et-1_cris ┆ 0         ┆           ┆   ┆           ┆           ┆           ┆          │\n",
       "│           ┆ pr_platem ┆           ┆           ┆   ┆           ┆           ┆           ┆          │\n",
       "│           ┆ ap        ┆           ┆           ┆   ┆           ┆           ┆           ┆          │\n",
       "│ …         ┆ …         ┆ …         ┆ …         ┆ … ┆ …         ┆ …         ┆ …         ┆ …        │\n",
       "│ 2020_11_0 ┆ JUMP-Targ ┆ BR0011804 ┆ crispr    ┆ … ┆ Day0      ┆ 1         ┆ Phalloidi ┆ 27648    │\n",
       "│ 4_CPJUMP1 ┆ et-1_cris ┆ 8         ┆           ┆   ┆           ┆           ┆ n         ┆          │\n",
       "│           ┆ pr_platem ┆           ┆           ┆   ┆           ┆           ┆           ┆          │\n",
       "│           ┆ ap        ┆           ┆           ┆   ┆           ┆           ┆           ┆          │\n",
       "│ 2020_11_0 ┆ JUMP-Targ ┆ BR0011699 ┆ crispr    ┆ … ┆ Day0      ┆ 1         ┆ WGA       ┆ 27648    │\n",
       "│ 4_CPJUMP1 ┆ et-1_cris ┆ 6         ┆           ┆   ┆           ┆           ┆           ┆          │\n",
       "│ _DL       ┆ pr_platem ┆           ┆           ┆   ┆           ┆           ┆           ┆          │\n",
       "│           ┆ ap        ┆           ┆           ┆   ┆           ┆           ┆           ┆          │\n",
       "│ 2020_11_0 ┆ JUMP-Targ ┆ BR0011699 ┆ crispr    ┆ … ┆ Day0      ┆ 1         ┆ WGA       ┆ 27648    │\n",
       "│ 4_CPJUMP1 ┆ et-1_cris ┆ 7         ┆           ┆   ┆           ┆           ┆           ┆          │\n",
       "│ _DL       ┆ pr_platem ┆           ┆           ┆   ┆           ┆           ┆           ┆          │\n",
       "│           ┆ ap        ┆           ┆           ┆   ┆           ┆           ┆           ┆          │\n",
       "│ 2020_11_0 ┆ JUMP-Targ ┆ BR0011699 ┆ crispr    ┆ … ┆ Day0      ┆ 1         ┆ WGA       ┆ 27648    │\n",
       "│ 4_CPJUMP1 ┆ et-1_cris ┆ 8         ┆           ┆   ┆           ┆           ┆           ┆          │\n",
       "│ _DL       ┆ pr_platem ┆           ┆           ┆   ┆           ┆           ┆           ┆          │\n",
       "│           ┆ ap        ┆           ┆           ┆   ┆           ┆           ┆           ┆          │\n",
       "│ 2020_11_0 ┆ JUMP-Targ ┆ BR0011699 ┆ crispr    ┆ … ┆ Day0      ┆ 1         ┆ WGA       ┆ 27648    │\n",
       "│ 4_CPJUMP1 ┆ et-1_cris ┆ 9         ┆           ┆   ┆           ┆           ┆           ┆          │\n",
       "│ _DL       ┆ pr_platem ┆           ┆           ┆   ┆           ┆           ┆           ┆          │\n",
       "│           ┆ ap        ┆           ┆           ┆   ┆           ┆           ┆           ┆          │\n",
       "└───────────┴───────────┴───────────┴───────────┴───┴───────────┴───────────┴───────────┴──────────┘"
      ]
     },
     "execution_count": 4,
     "metadata": {},
     "output_type": "execute_result"
    }
   ],
   "source": [
    "# loading config file and setting experimental metadata URL\n",
    "nb_configs = io_utils.load_configs(config_path)\n",
    "CPJUMP1_exp_metadata_url = nb_configs[\"links\"][\"CPJUMP1-experimental-metadata-source\"]\n",
    "\n",
    "# read in the experimental metadata CSV file and only filter down to plays that\n",
    "# have an CRISPR perturbation\n",
    "exp_metadata = pl.read_csv(\n",
    "    CPJUMP1_exp_metadata_url, separator=\"\\t\", has_header=True, encoding=\"utf-8\"\n",
    ")\n",
    "\n",
    "# filtering the metadata to only includes plates that their perturbation types are crispr\n",
    "exp_metadata = exp_metadata.filter(exp_metadata[\"Perturbation\"].str.contains(pert_type))\n",
    "\n",
    "# save the experimental metadata as a csv file\n",
    "exp_metadata.write_csv(exp_metadata_path)\n",
    "\n",
    "# display\n",
    "exp_metadata"
   ]
  },
  {
   "cell_type": "markdown",
   "id": "9121e37c",
   "metadata": {},
   "source": [
    "Creating a dictionary to group plates by their corresponding experimental batch\n",
    "\n",
    "This step organizes the plate barcodes from the experimental metadata into groups based on their batch. Grouping plates by batch is useful for batch-wise data processing and downstream analyses."
   ]
  },
  {
   "cell_type": "code",
   "execution_count": 5,
   "id": "95c20b91",
   "metadata": {},
   "outputs": [
    {
     "name": "stdout",
     "output_type": "stream",
     "text": [
      "{'2020_11_04_CPJUMP1': ['BR00116996',\n",
      "                        'BR00116997',\n",
      "                        'BR00116998',\n",
      "                        'BR00116999',\n",
      "                        'BR00117000',\n",
      "                        'BR00117001',\n",
      "                        'BR00117002',\n",
      "                        'BR00117003',\n",
      "                        'BR00117004',\n",
      "                        'BR00117005',\n",
      "                        'BR00118041',\n",
      "                        'BR00118042',\n",
      "                        'BR00118043',\n",
      "                        'BR00118044',\n",
      "                        'BR00118045',\n",
      "                        'BR00118046',\n",
      "                        'BR00118047',\n",
      "                        'BR00118048'],\n",
      " '2020_11_04_CPJUMP1_DL': ['BR00116996',\n",
      "                           'BR00116997',\n",
      "                           'BR00116998',\n",
      "                           'BR00116999']}\n"
     ]
    }
   ],
   "source": [
    "# creating a dictionary for the batch and the associated plates with the a batch\n",
    "batch_plates_dict = {}\n",
    "exp_metadata_batches = exp_metadata[\"Batch\"].unique().to_list()\n",
    "\n",
    "for batch in exp_metadata_batches:\n",
    "    # getting the plates in the batch\n",
    "    plates_in_batch = exp_metadata.filter(exp_metadata[\"Batch\"] == batch)[\"Assay_Plate_Barcode\"].to_list()\n",
    "\n",
    "    # adding the plates to the dictionary\n",
    "    batch_plates_dict[batch] = plates_in_batch \n",
    "\n",
    "# display batch (Keys) and plates (values) within each batch \n",
    "pprint.pprint(batch_plates_dict)"
   ]
  },
  {
   "cell_type": "markdown",
   "id": "7021b414",
   "metadata": {},
   "source": [
    "## Downloading MitoCheck Data\n",
    "\n",
    "In this section we are downloading the MitoCheck data that was generated in this (study)[]"
   ]
  },
  {
   "cell_type": "code",
   "execution_count": 7,
   "id": "06783224",
   "metadata": {},
   "outputs": [
    {
     "name": "stderr",
     "output_type": "stream",
     "text": [
      "Downloading: 100%|██████████| 16.9G/16.9G [44:01<00:00, 6.85MB/s]  "
     ]
    },
    {
     "name": "stdout",
     "output_type": "stream",
     "text": [
      "Unexpected error: [Errno 2] No such file or directory: '/home/erikserrano/Development/BuSCar/notebooks/0.download-data/data/mitocheck/mitocheck_data.zip'\n"
     ]
    },
    {
     "name": "stderr",
     "output_type": "stream",
     "text": [
      "\n"
     ]
    }
   ],
   "source": [
    "# url source for the MitoCheck data\n",
    "mitocheck_source = nb_configs[\"links\"][\"MitoCheck-profiles-source\"]\n",
    "\n",
    "# define the temporary zip file path\n",
    "zip_path = mitocheck_dir / \"mitocheck_data.zip\"\n",
    "\n",
    "try:\n",
    "    # download with streaming to handle large files efficiently\n",
    "    with requests.get(mitocheck_source, stream=True) as response:\n",
    "        # check if the request was successful\n",
    "        response.raise_for_status()\n",
    "\n",
    "        # get file size for progress tracking\n",
    "        total_size = int(response.headers.get(\"content-length\", 0))\n",
    "\n",
    "        # use tqdm for progress bar\n",
    "        with (\n",
    "            open(zip_path, \"wb\") as file,\n",
    "            tqdm(\n",
    "                desc=\"Downloading MitoCheck data\",\n",
    "                total=total_size,\n",
    "                unit=\"B\",\n",
    "                unit_scale=True,\n",
    "                unit_divisor=1024,\n",
    "            ) as pbar,\n",
    "        ):\n",
    "            for chunk in response.iter_content(chunk_size=8192):  # 8KB chunks\n",
    "                if chunk:\n",
    "                    file.write(chunk)\n",
    "                    pbar.update(len(chunk))\n",
    "\n",
    "    # extract the zip file with progress bar\n",
    "    with zipfile.ZipFile(zip_path, \"r\") as zip_ref:\n",
    "        # Get list of files for extraction progress\n",
    "        file_list = zip_ref.namelist()\n",
    "        with tqdm(\n",
    "            desc=\"Extracting MitoCheck data\", total=len(file_list), unit=\"files\"\n",
    "        ) as pbar:\n",
    "            for file in file_list:\n",
    "                zip_ref.extract(file, mitocheck_dir)\n",
    "                pbar.update(1)\n",
    "\n",
    "    # removing temporary zip file after extraction\n",
    "    zip_path.unlink()\n",
    "\n",
    "# raise exceptions for any issues during download or extraction\n",
    "except requests.exceptions.RequestException as e:\n",
    "    print(f\"Error downloading file: {e}\")\n",
    "except zipfile.BadZipFile as e:\n",
    "    print(f\"Error extracting zip file: {e}\")\n",
    "except Exception as e:\n",
    "    print(f\"Unexpected error: {e}\")"
   ]
  }
 ],
 "metadata": {
  "kernelspec": {
   "display_name": "buscar",
   "language": "python",
   "name": "python3"
  },
  "language_info": {
   "codemirror_mode": {
    "name": "ipython",
    "version": 3
   },
   "file_extension": ".py",
   "mimetype": "text/x-python",
   "name": "python",
   "nbconvert_exporter": "python",
   "pygments_lexer": "ipython3",
   "version": "3.12.11"
  }
 },
 "nbformat": 4,
 "nbformat_minor": 5
}
