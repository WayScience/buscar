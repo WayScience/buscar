{
 "cells": [
  {
   "cell_type": "markdown",
   "id": "d6c178c2",
   "metadata": {},
   "source": [
    "# 3. Subsetting CPJUMP1 controls \n",
    "\n",
    "In this notebook, we subset control samples from the CPJUMP1 CRISPR dataset using stratified sampling. We generate 10 different random seeds to create multiple subsets, each containing 15% of the original control data stratified by plate and well metadata. This approach ensures reproducible sampling while maintaining the distribution of controls across experimental conditions.\n",
    "\n",
    "The subsampled datasets are saved as individual parquet files for downstream analysis and model training purposes.\n"
   ]
  },
  {
   "cell_type": "code",
   "execution_count": 1,
   "id": "c9632493",
   "metadata": {},
   "outputs": [],
   "source": [
    "import sys\n",
    "import pathlib\n",
    "import polars as pl\n",
    "\n",
    "sys.path.append(\"../../\")\n",
    "from utils.data_utils import load_group_stratified_data"
   ]
  },
  {
   "cell_type": "markdown",
   "id": "8c9670ac",
   "metadata": {},
   "source": [
    "Setting input and output paths"
   ]
  },
  {
   "cell_type": "markdown",
   "id": "c93b2557",
   "metadata": {},
   "source": []
  },
  {
   "cell_type": "code",
   "execution_count": null,
   "id": "6a8dd258",
   "metadata": {},
   "outputs": [],
   "source": [
    "# setting data path\n",
    "data_dir = pathlib.Path(\"../0.download-data/data\").resolve(strict=True)\n",
    "download_module_results_dir = pathlib.Path(\"../0.download-data/results\").resolve(\n",
    "    strict=True\n",
    ")\n",
    "\n",
    "# setting cpjump1 data dir\n",
    "cpjump_crispr_data_dir = (data_dir / \"cpjump1-crispr\").resolve(strict=True)\n",
    "\n",
    "# set CPJUMP1 CRISPR dataset\n",
    "cpjump_crispr_data_path = (\n",
    "    download_module_results_dir / \"concat_crispr_profiles.parquet\"\n",
    ").resolve(strict=True)"
   ]
  },
  {
   "cell_type": "markdown",
   "id": "c858d985",
   "metadata": {},
   "source": [
    "Loading data"
   ]
  },
  {
   "cell_type": "code",
   "execution_count": null,
   "id": "503ec41c",
   "metadata": {},
   "outputs": [],
   "source": [
    "# only loading controls\n",
    "controls_df = pl.read_parquet(cpjump_crispr_data_path).filter(\n",
    "    pl.col(\"Metadata_pert_type\") == \"control\"\n",
    ")"
   ]
  },
  {
   "cell_type": "markdown",
   "id": "cc45a182",
   "metadata": {},
   "source": [
    "generating 10 seeds of randomly sampled controls"
   ]
  },
  {
   "cell_type": "code",
   "execution_count": null,
   "id": "705e5ef0",
   "metadata": {},
   "outputs": [],
   "source": [
    "for seed_val in range(10):\n",
    "    # load the dataset with group stratified sub sampling\n",
    "    subsampled_df = load_group_stratified_data(\n",
    "        profiles=controls_df,\n",
    "        group_columns=[\"Metadata_Plate\", \"Metadata_Well\"],\n",
    "        sample_percentage=0.15,\n",
    "        seed=seed_val,\n",
    "    )\n",
    "\n",
    "    # save the file\n",
    "    subsampled_df.write_parquet(\n",
    "        cpjump_crispr_data_dir / f\"cpjump1_crispr_negcon_seed{seed_val}.parquet\"\n",
    "    )\n"
   ]
  }
 ],
 "metadata": {
  "kernelspec": {
   "display_name": "buscar",
   "language": "python",
   "name": "python3"
  },
  "language_info": {
   "codemirror_mode": {
    "name": "ipython",
    "version": 3
   },
   "file_extension": ".py",
   "mimetype": "text/x-python",
   "name": "python",
   "nbconvert_exporter": "python",
   "pygments_lexer": "ipython3",
   "version": "3.12.11"
  }
 },
 "nbformat": 4,
 "nbformat_minor": 5
}
