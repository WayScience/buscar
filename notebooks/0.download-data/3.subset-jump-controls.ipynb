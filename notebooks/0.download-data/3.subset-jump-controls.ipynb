{
 "cells": [
  {
   "cell_type": "markdown",
   "id": "d6c178c2",
   "metadata": {},
   "source": [
    "# 3. Subsetting CPJUMP1 controls "
   ]
  },
  {
   "cell_type": "markdown",
   "id": "b69c7dbb",
   "metadata": {},
   "source": []
  },
  {
   "cell_type": "code",
   "execution_count": 2,
   "id": "c9632493",
   "metadata": {},
   "outputs": [],
   "source": [
    "import pathlib \n"
   ]
  },
  {
   "cell_type": "code",
   "execution_count": null,
   "id": "6a8dd258",
   "metadata": {},
   "outputs": [],
   "source": [
    "# setting data directory\n",
    "data_dir = pathlib.Path(\"./data\")\n",
    "\n"
   ]
  }
 ],
 "metadata": {
  "kernelspec": {
   "display_name": "buscar",
   "language": "python",
   "name": "python3"
  },
  "language_info": {
   "codemirror_mode": {
    "name": "ipython",
    "version": 3
   },
   "file_extension": ".py",
   "mimetype": "text/x-python",
   "name": "python",
   "nbconvert_exporter": "python",
   "pygments_lexer": "ipython3",
   "version": "3.12.11"
  }
 },
 "nbformat": 4,
 "nbformat_minor": 5
}
