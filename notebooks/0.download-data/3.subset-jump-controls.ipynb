{
 "cells": [
  {
   "cell_type": "markdown",
   "id": "d6c178c2",
   "metadata": {},
   "source": [
    "# 3. Subsetting CPJUMP1 controls \n",
    "\n",
    "In this notebook, we subset control samples from the CPJUMP1 CRISPR dataset using stratified sampling. We generate 10 different random seeds to create multiple subsets, each containing 15% of the original control data stratified by plate and well metadata. This approach ensures reproducible sampling while maintaining the distribution of controls across experimental conditions.\n",
    "\n",
    "The subsampled datasets are saved as individual parquet files for downstream analysis and model training purposes.\n"
   ]
  },
  {
   "cell_type": "code",
   "execution_count": 1,
   "id": "c9632493",
   "metadata": {},
   "outputs": [],
   "source": [
    "import sys\n",
    "import json\n",
    "import pathlib\n",
    "import polars as pl\n",
    "\n",
    "sys.path.append(\"../../\")\n",
    "from utils.data_utils import split_meta_and_features"
   ]
  },
  {
   "cell_type": "markdown",
   "id": "b42648b9",
   "metadata": {},
   "source": [
    "Load helper functions"
   ]
  },
  {
   "cell_type": "code",
   "execution_count": 2,
   "id": "64311431",
   "metadata": {},
   "outputs": [],
   "source": [
    "def load_group_stratified_data(\n",
    "    profiles: str | pathlib.Path | pl.DataFrame,\n",
    "    group_columns: list[str] = [\"Metadata_Plate\", \"Metadata_Well\"],\n",
    "    sample_percentage: float = 0.2,\n",
    "    seed: int = 0\n",
    ") -> pl.DataFrame:\n",
    "    \"\"\"Memory-efficiently sample a percentage of rows from each group in a dataset.\n",
    "\n",
    "    This function performs stratified sampling by loading only the grouping columns first\n",
    "    to dtermine group memberships and sizes, then samples indices from each group, and\n",
    "    finally loads the full dataset filtered to only the sampled rows. This approach\n",
    "    minimizes memory usage compared to loading the entire dataset upfront.\n",
    "\n",
    "    Parameters\n",
    "    ----------\n",
    "    dataset_path : str or pathlib.Path\n",
    "        Path to the parquet dataset file to sample from\n",
    "    group_columns : list[str], default [\"Metadata_Plate\", \"Metadata_Well\"]\n",
    "        Column names to use for grouping. Sampling will be performed independently\n",
    "        within each unique combination of these columns\n",
    "    sample_percentage : float, default 0.2\n",
    "        Fraction of rows to sample from each group (must be between 0.0 and 1.0)\n",
    "\n",
    "    Returns\n",
    "    -------\n",
    "    pl.DataFrame\n",
    "        Subsampled dataframe containing the sampled rows from each group,\n",
    "        preserving all original columns\n",
    "\n",
    "    Raises\n",
    "    ------\n",
    "    ValueError\n",
    "        If sample_percentage is not between 0 and 1\n",
    "    FileNotFoundError\n",
    "        If dataset_path does not exist\n",
    "    \"\"\"\n",
    "    # validate inputs\n",
    "    if not 0 <= sample_percentage <= 1:\n",
    "        raise ValueError(\"sample_percentage must be between 0 and 1\")\n",
    "\n",
    "    # convert str types to pathlib types\n",
    "    if isinstance(profiles, str):\n",
    "        profiles = pathlib.Path(profiles).resolve(strict=True)\n",
    "\n",
    "    # load only the grouping columns to determine groups\n",
    "    if isinstance(profiles, pl.DataFrame):\n",
    "        # if a polars DataFrame is provided, use it directly\n",
    "        metadata_df = profiles.select(group_columns).with_row_index(\"original_idx\")\n",
    "    else:\n",
    "        metadata_df = pl.read_parquet(profiles, columns=group_columns).with_row_index(\n",
    "            \"original_idx\"\n",
    "        )\n",
    "\n",
    "    # sample indices for each group based on the group_columns\n",
    "    sampled_indices = (\n",
    "        metadata_df\n",
    "        # group rows by the specified columns (e.g., Plate and Well combinations)\n",
    "        .group_by(group_columns)\n",
    "        # for each group, randomly sample a fraction of the original row indices\n",
    "        .agg(\n",
    "            pl.col(\"original_idx\")\n",
    "            .sample(fraction=sample_percentage, seed=seed)  # sample specified percentage from each group\n",
    "            .alias(\"sampled_idx\")  # rename the sampled indices column\n",
    "        )\n",
    "        # extract only the sampled indices column, discarding group identifiers\n",
    "        .select(\"sampled_idx\")\n",
    "        # convert list of indices per group into individual rows (flatten the structure)\n",
    "        .explode(\"sampled_idx\")\n",
    "        # extract the sampled indices as a single column series\n",
    "        .get_column(\"sampled_idx\")\n",
    "        .sort()\n",
    "    )\n",
    "\n",
    "    # load the entire dataset and filter to sampled indices\n",
    "    sampled_df = (\n",
    "        profiles\n",
    "        .with_row_index(\"idx\")\n",
    "        .filter(pl.col(\"idx\").is_in(sampled_indices.implode()))\n",
    "        .drop(\"idx\")\n",
    "    )\n",
    "\n",
    "    return sampled_df"
   ]
  },
  {
   "cell_type": "markdown",
   "id": "8c9670ac",
   "metadata": {},
   "source": [
    "Setting input and output paths"
   ]
  },
  {
   "cell_type": "code",
   "execution_count": 3,
   "id": "6a8dd258",
   "metadata": {},
   "outputs": [],
   "source": [
    "# setting data path\n",
    "data_dir = pathlib.Path(\"../0.download-data/data\").resolve(strict=True)\n",
    "download_module_results_dir = pathlib.Path(\"../0.download-data/results\").resolve(\n",
    "    strict=True\n",
    ")\n",
    "\n",
    "# setting directory where all the single-cell profiles are stored\n",
    "profiles_dir = (data_dir / \"sc-profiles\").resolve(strict=True)\n",
    "    \n",
    "exp_metadata_path = (\n",
    "    profiles_dir / \"cpjump1\" / \"CPJUMP1-experimental-metadata.csv\"\n",
    ").resolve(strict=True)\n",
    "\n",
    "# Setting feature selection path\n",
    "shared_features_config_path = (\n",
    "    profiles_dir / \"cpjump1\" / \"feature_selected_sc_qc_features.json\"\n",
    ").resolve(strict=True)\n",
    "\n",
    "# setting cpjump1 data dir\n",
    "cpjump_crispr_data_dir = (data_dir / \"sc-profiles\" / \"cpjump1-crispr-negcon\").resolve()\n",
    "cpjump_crispr_data_dir.mkdir(exist_ok=True)\n",
    "\n",
    "\n",
    "# setting negative control \n",
    "negcon_data_dir = (profiles_dir / \"cpjump1\" / \"negcon\").resolve()\n",
    "negcon_data_dir.mkdir(exist_ok=True)\n",
    "poscon_data_dir = (profiles_dir / \"cpjump1\" / \"poscon\").resolve()\n",
    "poscon_data_dir.mkdir(exist_ok=True)\n"
   ]
  },
  {
   "cell_type": "markdown",
   "id": "c858d985",
   "metadata": {},
   "source": [
    "Loading data"
   ]
  },
  {
   "cell_type": "code",
   "execution_count": 4,
   "id": "2802b8cb",
   "metadata": {},
   "outputs": [],
   "source": [
    "# Load experimental metadata\n",
    "# selecting plates that pertains to the cpjump1 CRISPR dataset\n",
    "exp_metadata = pl.read_csv(exp_metadata_path)\n",
    "crispr_plate_names = (\n",
    "    exp_metadata.select(\"Assay_Plate_Barcode\").unique().to_series().to_list()\n",
    ")\n",
    "crispr_plate_paths = [\n",
    "    (profiles_dir / \"cpjump1\" / f\"{plate}_feature_selected_sc_qc.parquet\").resolve(\n",
    "        strict=True\n",
    "    )\n",
    "    for plate in crispr_plate_names\n",
    "]\n",
    "# Load shared features\n",
    "with open(shared_features_config_path) as f:\n",
    "    loaded_shared_features = json.load(f)\n",
    "\n",
    "shared_features = loaded_shared_features[\"shared-features\"]\n"
   ]
  },
  {
   "cell_type": "code",
   "execution_count": 5,
   "id": "503ec41c",
   "metadata": {},
   "outputs": [],
   "source": [
    "control_df = []\n",
    "for plate_path in crispr_plate_paths:\n",
    "    \n",
    "    # load plate data and filter to controls \n",
    "    plate_controls_df = pl.read_parquet(plate_path).filter(\n",
    "        pl.col(\"Metadata_pert_type\") == \"control\"\n",
    "    )\n",
    "\n",
    "    # split features\n",
    "    controls_meta, _ = split_meta_and_features(plate_controls_df)\n",
    "\n",
    "    # select metadata and shared features together\n",
    "    controls_df = plate_controls_df.select(controls_meta + shared_features)\n",
    "\n",
    "    # then append to list\n",
    "    control_df.append(controls_df)\n",
    "\n",
    "# concatenate dataframes \n",
    "controls_df = pl.concat(control_df)\n"
   ]
  },
  {
   "cell_type": "code",
   "execution_count": 6,
   "id": "3ca4f69c",
   "metadata": {},
   "outputs": [
    {
     "data": {
      "text/html": [
       "<div><style>\n",
       ".dataframe > thead > tr,\n",
       ".dataframe > tbody > tr {\n",
       "  text-align: right;\n",
       "  white-space: pre-wrap;\n",
       "}\n",
       "</style>\n",
       "<small>shape: (1_140_335, 318)</small><table border=\"1\" class=\"dataframe\"><thead><tr><th>Metadata_broad_sample</th><th>Metadata_ImageNumber</th><th>Metadata_Plate</th><th>Metadata_Site</th><th>Metadata_Well</th><th>Metadata_TableNumber</th><th>Metadata_ObjectNumber_cytoplasm</th><th>Metadata_Cytoplasm_Parent_Cells</th><th>Metadata_Cytoplasm_Parent_Nuclei</th><th>Metadata_ObjectNumber_cells</th><th>Metadata_ObjectNumber</th><th>Metadata_gene</th><th>Metadata_pert_type</th><th>Metadata_control_type</th><th>Metadata_target_sequence</th><th>Metadata_negcon_control_type</th><th>__index_level_0__</th><th>Nuclei_Texture_InverseDifferenceMoment_ER_5_01_256</th><th>Cytoplasm_AreaShape_Zernike_4_2</th><th>Cytoplasm_AreaShape_Zernike_9_3</th><th>Nuclei_RadialDistribution_RadialCV_AGP_2of4</th><th>Nuclei_Correlation_Correlation_DNA_HighZBF</th><th>Cells_Texture_Correlation_HighZBF_5_00_256</th><th>Cells_AreaShape_Solidity</th><th>Nuclei_RadialDistribution_MeanFrac_HighZBF_4of4</th><th>Nuclei_AreaShape_Orientation</th><th>Nuclei_Texture_Correlation_ER_5_02_256</th><th>Cytoplasm_Correlation_Correlation_DNA_LowZBF</th><th>Cytoplasm_Texture_InfoMeas2_DNA_10_01_256</th><th>Cells_RadialDistribution_FracAtD_DNA_2of4</th><th>Cells_RadialDistribution_MeanFrac_HighZBF_1of4</th><th>Nuclei_RadialDistribution_MeanFrac_Mito_4of4</th><th>Cells_Correlation_RWC_DNA_ER</th><th>Cells_Texture_InfoMeas2_ER_3_00_256</th><th>Cells_RadialDistribution_MeanFrac_HighZBF_2of4</th><th>Cytoplasm_RadialDistribution_RadialCV_ER_3of4</th><th>Nuclei_RadialDistribution_RadialCV_HighZBF_2of4</th><th>&hellip;</th><th>Nuclei_AreaShape_MinFeretDiameter</th><th>Nuclei_AreaShape_Zernike_5_3</th><th>Nuclei_AreaShape_Zernike_4_2</th><th>Nuclei_RadialDistribution_MeanFrac_HighZBF_3of4</th><th>Cytoplasm_Granularity_1_Brightfield</th><th>Nuclei_Correlation_Correlation_ER_Mito</th><th>Nuclei_AreaShape_Zernike_6_0</th><th>Cytoplasm_AreaShape_Solidity</th><th>Nuclei_RadialDistribution_FracAtD_DNA_3of4</th><th>Nuclei_AreaShape_Zernike_8_4</th><th>Nuclei_Intensity_MassDisplacement_HighZBF</th><th>Cytoplasm_Texture_Correlation_LowZBF_3_03_256</th><th>Cells_RadialDistribution_RadialCV_Mito_1of4</th><th>Nuclei_Intensity_MassDisplacement_AGP</th><th>Nuclei_Correlation_Correlation_AGP_Mito</th><th>Nuclei_RadialDistribution_MeanFrac_HighZBF_1of4</th><th>Cells_RadialDistribution_RadialCV_DNA_2of4</th><th>Nuclei_RadialDistribution_RadialCV_RNA_3of4</th><th>Cells_AreaShape_Zernike_7_3</th><th>Nuclei_RadialDistribution_MeanFrac_ER_1of4</th><th>Cytoplasm_Correlation_Overlap_ER_RNA</th><th>Cells_Texture_Correlation_LowZBF_5_01_256</th><th>Cytoplasm_Texture_Correlation_HighZBF_3_01_256</th><th>Nuclei_Texture_Correlation_LowZBF_3_02_256</th><th>Cells_RadialDistribution_RadialCV_AGP_3of4</th><th>Nuclei_RadialDistribution_MeanFrac_AGP_1of4</th><th>Cells_RadialDistribution_MeanFrac_Brightfield_1of4</th><th>Cytoplasm_Correlation_Correlation_DNA_HighZBF</th><th>Nuclei_Intensity_MassDisplacement_DNA</th><th>Cytoplasm_RadialDistribution_MeanFrac_DNA_4of4</th><th>Cells_Correlation_Correlation_AGP_DNA</th><th>Cytoplasm_Texture_InfoMeas2_RNA_3_01_256</th><th>Cells_RadialDistribution_RadialCV_DNA_4of4</th><th>Nuclei_Correlation_Correlation_DNA_LowZBF</th><th>Cytoplasm_Texture_Correlation_LowZBF_5_00_256</th><th>Cytoplasm_RadialDistribution_RadialCV_HighZBF_2of4</th><th>Nuclei_RadialDistribution_MeanFrac_Brightfield_1of4</th></tr><tr><td>str</td><td>i64</td><td>str</td><td>i64</td><td>str</td><td>str</td><td>i64</td><td>f64</td><td>f64</td><td>i64</td><td>i64</td><td>str</td><td>str</td><td>str</td><td>str</td><td>str</td><td>i64</td><td>f32</td><td>f32</td><td>f32</td><td>f32</td><td>f32</td><td>f32</td><td>f32</td><td>f32</td><td>f32</td><td>f32</td><td>f32</td><td>f32</td><td>f32</td><td>f32</td><td>f32</td><td>f32</td><td>f32</td><td>f32</td><td>f32</td><td>f32</td><td>&hellip;</td><td>f32</td><td>f32</td><td>f32</td><td>f32</td><td>f32</td><td>f32</td><td>f32</td><td>f32</td><td>f32</td><td>f32</td><td>f32</td><td>f32</td><td>f32</td><td>f32</td><td>f32</td><td>f32</td><td>f32</td><td>f32</td><td>f32</td><td>f32</td><td>f32</td><td>f32</td><td>f32</td><td>f32</td><td>f32</td><td>f32</td><td>f32</td><td>f32</td><td>f32</td><td>f32</td><td>f32</td><td>f32</td><td>f32</td><td>f32</td><td>f32</td><td>f32</td><td>f32</td></tr></thead><tbody><tr><td>&quot;BRDN0001147100&quot;</td><td>109</td><td>&quot;BR00117004&quot;</td><td>1</td><td>&quot;A13&quot;</td><td>&quot;973645104951076534500814757387…</td><td>1</td><td>1.0</td><td>1.0</td><td>1</td><td>1</td><td>null</td><td>&quot;control&quot;</td><td>&quot;negcon&quot;</td><td>&quot;ACAGCGCTCTCGTGTACTAT&quot;</td><td>&quot;NO_SITE (5 zeros)&quot;</td><td>8898</td><td>1.283786</td><td>-0.040981</td><td>1.539885</td><td>0.436257</td><td>0.979511</td><td>-1.085045</td><td>0.916592</td><td>-0.531047</td><td>-0.71405</td><td>1.54558</td><td>0.29688</td><td>-1.00411</td><td>0.972344</td><td>-0.545127</td><td>0.582298</td><td>-0.222069</td><td>0.092287</td><td>0.389696</td><td>-0.126638</td><td>0.432598</td><td>&hellip;</td><td>0.004871</td><td>0.072083</td><td>0.08072</td><td>0.810699</td><td>0.431524</td><td>0.325434</td><td>-0.941018</td><td>0.483423</td><td>-0.020853</td><td>-0.176041</td><td>-0.521738</td><td>0.424222</td><td>-0.127634</td><td>-0.629448</td><td>-0.753969</td><td>-0.814078</td><td>-0.382098</td><td>-1.115695</td><td>-0.282277</td><td>-0.294093</td><td>-0.588443</td><td>-0.674806</td><td>-1.396787</td><td>1.035461</td><td>-0.494509</td><td>0.540402</td><td>0.324344</td><td>-0.478843</td><td>-1.135597</td><td>0.560216</td><td>0.343086</td><td>-0.458638</td><td>-0.582636</td><td>-1.230223</td><td>-0.422533</td><td>-0.106012</td><td>0.288789</td></tr><tr><td>&quot;BRDN0001147100&quot;</td><td>109</td><td>&quot;BR00117004&quot;</td><td>1</td><td>&quot;A13&quot;</td><td>&quot;973645104951076534500814757387…</td><td>2</td><td>2.0</td><td>2.0</td><td>2</td><td>2</td><td>null</td><td>&quot;control&quot;</td><td>&quot;negcon&quot;</td><td>&quot;ACAGCGCTCTCGTGTACTAT&quot;</td><td>&quot;NO_SITE (5 zeros)&quot;</td><td>8899</td><td>0.631209</td><td>-0.947105</td><td>-0.449049</td><td>0.367252</td><td>-0.603403</td><td>0.840774</td><td>1.695294</td><td>0.49062</td><td>1.040968</td><td>0.415353</td><td>0.319355</td><td>-0.84813</td><td>-0.22556</td><td>-0.35963</td><td>-0.503729</td><td>-0.416442</td><td>0.582507</td><td>0.395955</td><td>0.591956</td><td>0.018579</td><td>&hellip;</td><td>-0.291914</td><td>0.814759</td><td>-0.21665</td><td>-0.701914</td><td>0.400176</td><td>0.335694</td><td>-0.892555</td><td>0.995512</td><td>-0.00202</td><td>-0.32598</td><td>-0.628514</td><td>0.516033</td><td>0.348308</td><td>-0.034656</td><td>-0.025324</td><td>1.31151</td><td>1.262517</td><td>0.397498</td><td>-0.664499</td><td>-0.578189</td><td>0.456906</td><td>-0.535735</td><td>0.59895</td><td>0.583395</td><td>0.960038</td><td>-0.218719</td><td>-0.54403</td><td>0.11254</td><td>-1.118299</td><td>0.142813</td><td>0.338777</td><td>0.000798</td><td>-0.090997</td><td>0.562409</td><td>-0.120887</td><td>-0.019057</td><td>-0.607882</td></tr><tr><td>&quot;BRDN0001147100&quot;</td><td>109</td><td>&quot;BR00117004&quot;</td><td>1</td><td>&quot;A13&quot;</td><td>&quot;973645104951076534500814757387…</td><td>3</td><td>3.0</td><td>3.0</td><td>3</td><td>3</td><td>null</td><td>&quot;control&quot;</td><td>&quot;negcon&quot;</td><td>&quot;ACAGCGCTCTCGTGTACTAT&quot;</td><td>&quot;NO_SITE (5 zeros)&quot;</td><td>8900</td><td>0.138232</td><td>-1.477212</td><td>0.080862</td><td>1.859246</td><td>0.607735</td><td>6.254068</td><td>-0.453453</td><td>-0.506308</td><td>-1.008397</td><td>-0.68629</td><td>-0.781591</td><td>-0.844411</td><td>-0.53491</td><td>-6.592209</td><td>1.337178</td><td>-0.624551</td><td>0.349236</td><td>-7.324387</td><td>-0.323157</td><td>-0.189493</td><td>&hellip;</td><td>1.286151</td><td>-1.354254</td><td>0.249199</td><td>0.194735</td><td>-1.025064</td><td>-0.476719</td><td>2.17999</td><td>0.002742</td><td>-0.102134</td><td>0.416085</td><td>5.100025</td><td>6.121351</td><td>1.831262</td><td>0.880067</td><td>-2.727755</td><td>0.25467</td><td>0.934202</td><td>-1.200643</td><td>-1.375109</td><td>-1.231726</td><td>-0.081077</td><td>5.397463</td><td>5.913037</td><td>-0.050483</td><td>0.324268</td><td>-0.551012</td><td>-8.525126</td><td>-1.314034</td><td>-0.726326</td><td>-0.824872</td><td>-0.250815</td><td>0.772741</td><td>-0.737889</td><td>-1.34484</td><td>6.567935</td><td>2.061557</td><td>-2.152835</td></tr><tr><td>&quot;BRDN0001147100&quot;</td><td>109</td><td>&quot;BR00117004&quot;</td><td>1</td><td>&quot;A13&quot;</td><td>&quot;973645104951076534500814757387…</td><td>4</td><td>4.0</td><td>4.0</td><td>4</td><td>4</td><td>null</td><td>&quot;control&quot;</td><td>&quot;negcon&quot;</td><td>&quot;ACAGCGCTCTCGTGTACTAT&quot;</td><td>&quot;NO_SITE (5 zeros)&quot;</td><td>8901</td><td>-1.133765</td><td>0.561952</td><td>-0.975277</td><td>2.320067</td><td>-0.728757</td><td>-0.346302</td><td>0.891871</td><td>0.989578</td><td>0.208291</td><td>-0.470475</td><td>1.011534</td><td>0.300339</td><td>-0.072268</td><td>-3.40101</td><td>-1.584213</td><td>-0.184066</td><td>0.398436</td><td>-2.985891</td><td>1.636834</td><td>-1.081985</td><td>&hellip;</td><td>-0.673401</td><td>0.450953</td><td>-0.465519</td><td>-0.791496</td><td>-1.411453</td><td>0.845529</td><td>0.691706</td><td>0.251255</td><td>0.483158</td><td>0.865771</td><td>1.143713</td><td>1.174832</td><td>-0.00827</td><td>1.753976</td><td>1.325494</td><td>-0.609885</td><td>0.372084</td><td>2.668134</td><td>2.19208</td><td>-0.99262</td><td>0.848627</td><td>-0.045751</td><td>0.1817</td><td>1.958415</td><td>0.158306</td><td>1.003991</td><td>-1.132076</td><td>-0.974475</td><td>0.122942</td><td>-1.012732</td><td>-0.48384</td><td>0.685647</td><td>-0.376699</td><td>1.887727</td><td>-0.790842</td><td>3.076729</td><td>1.097368</td></tr><tr><td>&quot;BRDN0001147100&quot;</td><td>109</td><td>&quot;BR00117004&quot;</td><td>1</td><td>&quot;A13&quot;</td><td>&quot;973645104951076534500814757387…</td><td>5</td><td>5.0</td><td>5.0</td><td>5</td><td>5</td><td>null</td><td>&quot;control&quot;</td><td>&quot;negcon&quot;</td><td>&quot;ACAGCGCTCTCGTGTACTAT&quot;</td><td>&quot;NO_SITE (5 zeros)&quot;</td><td>8902</td><td>0.103025</td><td>0.744425</td><td>0.384901</td><td>-0.471447</td><td>0.588202</td><td>0.339789</td><td>-1.479037</td><td>-0.722863</td><td>-1.09307</td><td>-0.974353</td><td>0.502303</td><td>-1.050171</td><td>-2.420892</td><td>-0.307705</td><td>0.64305</td><td>-1.428528</td><td>-0.169344</td><td>-0.484279</td><td>-1.655056</td><td>-0.192954</td><td>&hellip;</td><td>-0.725635</td><td>0.481723</td><td>-1.094774</td><td>0.574354</td><td>0.581651</td><td>0.8594</td><td>-0.583166</td><td>-0.279786</td><td>0.637579</td><td>0.601724</td><td>-0.153353</td><td>1.271306</td><td>-0.365857</td><td>-0.355863</td><td>-0.501733</td><td>-0.882928</td><td>-2.279461</td><td>-0.211571</td><td>0.293847</td><td>-0.547128</td><td>0.004971</td><td>1.302173</td><td>0.686441</td><td>-2.393544</td><td>-1.277359</td><td>-0.838309</td><td>-0.969098</td><td>-0.738932</td><td>-0.444847</td><td>-1.018068</td><td>0.261775</td><td>-0.892496</td><td>0.389557</td><td>-1.42267</td><td>1.253493</td><td>-0.658537</td><td>-1.013759</td></tr><tr><td>&hellip;</td><td>&hellip;</td><td>&hellip;</td><td>&hellip;</td><td>&hellip;</td><td>&hellip;</td><td>&hellip;</td><td>&hellip;</td><td>&hellip;</td><td>&hellip;</td><td>&hellip;</td><td>&hellip;</td><td>&hellip;</td><td>&hellip;</td><td>&hellip;</td><td>&hellip;</td><td>&hellip;</td><td>&hellip;</td><td>&hellip;</td><td>&hellip;</td><td>&hellip;</td><td>&hellip;</td><td>&hellip;</td><td>&hellip;</td><td>&hellip;</td><td>&hellip;</td><td>&hellip;</td><td>&hellip;</td><td>&hellip;</td><td>&hellip;</td><td>&hellip;</td><td>&hellip;</td><td>&hellip;</td><td>&hellip;</td><td>&hellip;</td><td>&hellip;</td><td>&hellip;</td><td>&hellip;</td><td>&hellip;</td><td>&hellip;</td><td>&hellip;</td><td>&hellip;</td><td>&hellip;</td><td>&hellip;</td><td>&hellip;</td><td>&hellip;</td><td>&hellip;</td><td>&hellip;</td><td>&hellip;</td><td>&hellip;</td><td>&hellip;</td><td>&hellip;</td><td>&hellip;</td><td>&hellip;</td><td>&hellip;</td><td>&hellip;</td><td>&hellip;</td><td>&hellip;</td><td>&hellip;</td><td>&hellip;</td><td>&hellip;</td><td>&hellip;</td><td>&hellip;</td><td>&hellip;</td><td>&hellip;</td><td>&hellip;</td><td>&hellip;</td><td>&hellip;</td><td>&hellip;</td><td>&hellip;</td><td>&hellip;</td><td>&hellip;</td><td>&hellip;</td><td>&hellip;</td><td>&hellip;</td></tr><tr><td>&quot;BRDN0001146476&quot;</td><td>3348</td><td>&quot;BR00117002&quot;</td><td>9</td><td>&quot;P12&quot;</td><td>&quot;630053133313594882863683921981…</td><td>210</td><td>210.0</td><td>210.0</td><td>210</td><td>210</td><td>null</td><td>&quot;control&quot;</td><td>&quot;negcon&quot;</td><td>&quot;ACTAGCCTGTTCGCGAGTAG&quot;</td><td>&quot;NO_SITE (5 zeros)&quot;</td><td>186486</td><td>-0.996945</td><td>-1.16525</td><td>-0.932599</td><td>0.457527</td><td>-0.632377</td><td>7.294566</td><td>1.13683</td><td>-1.023658</td><td>1.428412</td><td>0.516837</td><td>0.635269</td><td>2.157226</td><td>-0.518758</td><td>-0.270548</td><td>0.25374</td><td>-0.079584</td><td>0.539907</td><td>0.079726</td><td>-0.010132</td><td>1.68939</td><td>&hellip;</td><td>0.674024</td><td>-1.315815</td><td>-1.219558</td><td>2.431795</td><td>1.174809</td><td>1.048259</td><td>1.322327</td><td>2.241384</td><td>-2.189224</td><td>0.213897</td><td>3.560438</td><td>6.309641</td><td>0.115458</td><td>2.706239</td><td>1.354453</td><td>1.087252</td><td>-0.146434</td><td>0.641058</td><td>0.208635</td><td>0.290915</td><td>1.206244</td><td>7.568175</td><td>6.490794</td><td>0.581131</td><td>-1.942775</td><td>-0.087235</td><td>-0.98006</td><td>0.398595</td><td>1.487581</td><td>-0.921957</td><td>0.734651</td><td>0.951761</td><td>-0.967553</td><td>-2.088255</td><td>6.644085</td><td>0.513988</td><td>-1.284295</td></tr><tr><td>&quot;BRDN0001146476&quot;</td><td>3348</td><td>&quot;BR00117002&quot;</td><td>9</td><td>&quot;P12&quot;</td><td>&quot;630053133313594882863683921981…</td><td>211</td><td>211.0</td><td>211.0</td><td>211</td><td>211</td><td>null</td><td>&quot;control&quot;</td><td>&quot;negcon&quot;</td><td>&quot;ACTAGCCTGTTCGCGAGTAG&quot;</td><td>&quot;NO_SITE (5 zeros)&quot;</td><td>186487</td><td>-0.041266</td><td>1.363796</td><td>-1.233392</td><td>-1.137675</td><td>0.061946</td><td>1.487134</td><td>-0.854811</td><td>0.220591</td><td>-1.430866</td><td>-0.98101</td><td>-0.546567</td><td>-1.633554</td><td>1.031386</td><td>-1.426734</td><td>0.263993</td><td>-0.144883</td><td>0.926738</td><td>-1.008385</td><td>-0.367354</td><td>-0.0257</td><td>&hellip;</td><td>0.110604</td><td>-1.327782</td><td>0.362965</td><td>-0.851312</td><td>0.386267</td><td>-0.080853</td><td>1.371716</td><td>-0.202005</td><td>0.602326</td><td>1.760011</td><td>1.308848</td><td>3.462313</td><td>-0.027926</td><td>0.320341</td><td>-0.73918</td><td>0.828104</td><td>-0.530352</td><td>-0.076678</td><td>-0.482257</td><td>-0.433729</td><td>0.327027</td><td>1.04365</td><td>1.466507</td><td>1.394976</td><td>0.251149</td><td>0.307913</td><td>0.156833</td><td>-1.104901</td><td>1.143342</td><td>-0.799304</td><td>-0.448517</td><td>-0.902667</td><td>-0.802455</td><td>1.100212</td><td>2.943814</td><td>-0.664365</td><td>-0.250897</td></tr><tr><td>&quot;BRDN0001146476&quot;</td><td>3348</td><td>&quot;BR00117002&quot;</td><td>9</td><td>&quot;P12&quot;</td><td>&quot;630053133313594882863683921981…</td><td>212</td><td>212.0</td><td>212.0</td><td>212</td><td>212</td><td>null</td><td>&quot;control&quot;</td><td>&quot;negcon&quot;</td><td>&quot;ACTAGCCTGTTCGCGAGTAG&quot;</td><td>&quot;NO_SITE (5 zeros)&quot;</td><td>186488</td><td>0.244176</td><td>-1.085658</td><td>-0.373959</td><td>0.138931</td><td>-0.06771</td><td>3.738865</td><td>-5.005329</td><td>-0.22238</td><td>0.45859</td><td>-0.669205</td><td>-0.574658</td><td>1.054727</td><td>-2.763111</td><td>-0.452254</td><td>1.261958</td><td>-0.631262</td><td>-0.261233</td><td>-1.404976</td><td>-0.834265</td><td>0.323425</td><td>&hellip;</td><td>0.187295</td><td>-0.476105</td><td>0.496412</td><td>0.666381</td><td>1.344131</td><td>0.207744</td><td>0.239557</td><td>-3.191117</td><td>-0.299012</td><td>0.049567</td><td>1.3965</td><td>5.23805</td><td>-1.297245</td><td>0.334503</td><td>-0.07447</td><td>-0.639601</td><td>-2.621318</td><td>0.025982</td><td>-1.336691</td><td>-0.898791</td><td>0.238658</td><td>5.554022</td><td>4.331896</td><td>1.653086</td><td>1.26563</td><td>0.063482</td><td>-1.939195</td><td>-0.940511</td><td>-0.674721</td><td>-0.206147</td><td>-0.143058</td><td>0.267619</td><td>0.638702</td><td>0.077667</td><td>5.506052</td><td>-0.819278</td><td>-0.195188</td></tr><tr><td>&quot;BRDN0001146476&quot;</td><td>3348</td><td>&quot;BR00117002&quot;</td><td>9</td><td>&quot;P12&quot;</td><td>&quot;630053133313594882863683921981…</td><td>213</td><td>213.0</td><td>213.0</td><td>213</td><td>213</td><td>null</td><td>&quot;control&quot;</td><td>&quot;negcon&quot;</td><td>&quot;ACTAGCCTGTTCGCGAGTAG&quot;</td><td>&quot;NO_SITE (5 zeros)&quot;</td><td>186489</td><td>-0.762408</td><td>0.515647</td><td>-0.605056</td><td>1.432001</td><td>0.722811</td><td>-0.050107</td><td>0.276787</td><td>-0.471956</td><td>-0.166222</td><td>0.827687</td><td>-0.161606</td><td>1.053636</td><td>-2.022468</td><td>0.442195</td><td>-0.075739</td><td>0.674911</td><td>0.836946</td><td>0.106662</td><td>-0.659208</td><td>2.14237</td><td>&hellip;</td><td>0.110792</td><td>-0.222126</td><td>-1.415775</td><td>2.121369</td><td>0.598935</td><td>-0.492003</td><td>1.297825</td><td>1.237825</td><td>-1.143381</td><td>-0.838776</td><td>-0.728348</td><td>1.164578</td><td>-0.419602</td><td>0.995731</td><td>-1.852229</td><td>-0.884886</td><td>-1.933272</td><td>-0.305691</td><td>-1.079478</td><td>1.74774</td><td>0.705643</td><td>-0.679601</td><td>0.959546</td><td>1.732207</td><td>1.748025</td><td>2.711599</td><td>-0.651238</td><td>-0.755143</td><td>-0.401559</td><td>-0.014075</td><td>2.19875</td><td>1.115118</td><td>-0.757035</td><td>-1.211373</td><td>1.344598</td><td>-1.08122</td><td>0.509799</td></tr><tr><td>&quot;BRDN0001146476&quot;</td><td>3348</td><td>&quot;BR00117002&quot;</td><td>9</td><td>&quot;P12&quot;</td><td>&quot;630053133313594882863683921981…</td><td>214</td><td>214.0</td><td>214.0</td><td>214</td><td>214</td><td>null</td><td>&quot;control&quot;</td><td>&quot;negcon&quot;</td><td>&quot;ACTAGCCTGTTCGCGAGTAG&quot;</td><td>&quot;NO_SITE (5 zeros)&quot;</td><td>186490</td><td>-1.194112</td><td>0.3726</td><td>1.377311</td><td>-0.065126</td><td>0.983126</td><td>-0.438622</td><td>0.618912</td><td>-0.374937</td><td>0.002895</td><td>0.847338</td><td>-3.101266</td><td>0.394751</td><td>1.311734</td><td>-1.128551</td><td>-0.934965</td><td>1.056337</td><td>0.619291</td><td>-0.728846</td><td>0.711501</td><td>0.43333</td><td>&hellip;</td><td>-0.402265</td><td>-0.231891</td><td>0.786334</td><td>-0.718341</td><td>0.763565</td><td>-1.84975</td><td>0.643075</td><td>0.549805</td><td>2.011224</td><td>2.148889</td><td>0.389159</td><td>2.209455</td><td>-0.095328</td><td>0.459278</td><td>-1.039728</td><td>-0.885262</td><td>-0.96533</td><td>-0.761507</td><td>0.757364</td><td>-0.834471</td><td>-0.744332</td><td>0.75183</td><td>0.681375</td><td>1.615818</td><td>-1.340335</td><td>0.446655</td><td>0.839118</td><td>-1.581661</td><td>0.28872</td><td>0.482279</td><td>1.104554</td><td>0.789815</td><td>-0.870641</td><td>1.160593</td><td>0.758426</td><td>-0.535344</td><td>1.089744</td></tr></tbody></table></div>"
      ],
      "text/plain": [
       "shape: (1_140_335, 318)\n",
       "┌───────────┬───────────┬───────────┬───────────┬───┬───────────┬───────────┬───────────┬──────────┐\n",
       "│ Metadata_ ┆ Metadata_ ┆ Metadata_ ┆ Metadata_ ┆ … ┆ Nuclei_Co ┆ Cytoplasm ┆ Cytoplasm ┆ Nuclei_R │\n",
       "│ broad_sam ┆ ImageNumb ┆ Plate     ┆ Site      ┆   ┆ rrelation ┆ _Texture_ ┆ _RadialDi ┆ adialDis │\n",
       "│ ple       ┆ er        ┆ ---       ┆ ---       ┆   ┆ _Correlat ┆ Correlati ┆ stributio ┆ tributio │\n",
       "│ ---       ┆ ---       ┆ str       ┆ i64       ┆   ┆ ion…      ┆ on_…      ┆ n_R…      ┆ n_Mean…  │\n",
       "│ str       ┆ i64       ┆           ┆           ┆   ┆ ---       ┆ ---       ┆ ---       ┆ ---      │\n",
       "│           ┆           ┆           ┆           ┆   ┆ f32       ┆ f32       ┆ f32       ┆ f32      │\n",
       "╞═══════════╪═══════════╪═══════════╪═══════════╪═══╪═══════════╪═══════════╪═══════════╪══════════╡\n",
       "│ BRDN00011 ┆ 109       ┆ BR0011700 ┆ 1         ┆ … ┆ -1.230223 ┆ -0.422533 ┆ -0.106012 ┆ 0.288789 │\n",
       "│ 47100     ┆           ┆ 4         ┆           ┆   ┆           ┆           ┆           ┆          │\n",
       "│ BRDN00011 ┆ 109       ┆ BR0011700 ┆ 1         ┆ … ┆ 0.562409  ┆ -0.120887 ┆ -0.019057 ┆ -0.60788 │\n",
       "│ 47100     ┆           ┆ 4         ┆           ┆   ┆           ┆           ┆           ┆ 2        │\n",
       "│ BRDN00011 ┆ 109       ┆ BR0011700 ┆ 1         ┆ … ┆ -1.34484  ┆ 6.567935  ┆ 2.061557  ┆ -2.15283 │\n",
       "│ 47100     ┆           ┆ 4         ┆           ┆   ┆           ┆           ┆           ┆ 5        │\n",
       "│ BRDN00011 ┆ 109       ┆ BR0011700 ┆ 1         ┆ … ┆ 1.887727  ┆ -0.790842 ┆ 3.076729  ┆ 1.097368 │\n",
       "│ 47100     ┆           ┆ 4         ┆           ┆   ┆           ┆           ┆           ┆          │\n",
       "│ BRDN00011 ┆ 109       ┆ BR0011700 ┆ 1         ┆ … ┆ -1.42267  ┆ 1.253493  ┆ -0.658537 ┆ -1.01375 │\n",
       "│ 47100     ┆           ┆ 4         ┆           ┆   ┆           ┆           ┆           ┆ 9        │\n",
       "│ …         ┆ …         ┆ …         ┆ …         ┆ … ┆ …         ┆ …         ┆ …         ┆ …        │\n",
       "│ BRDN00011 ┆ 3348      ┆ BR0011700 ┆ 9         ┆ … ┆ -2.088255 ┆ 6.644085  ┆ 0.513988  ┆ -1.28429 │\n",
       "│ 46476     ┆           ┆ 2         ┆           ┆   ┆           ┆           ┆           ┆ 5        │\n",
       "│ BRDN00011 ┆ 3348      ┆ BR0011700 ┆ 9         ┆ … ┆ 1.100212  ┆ 2.943814  ┆ -0.664365 ┆ -0.25089 │\n",
       "│ 46476     ┆           ┆ 2         ┆           ┆   ┆           ┆           ┆           ┆ 7        │\n",
       "│ BRDN00011 ┆ 3348      ┆ BR0011700 ┆ 9         ┆ … ┆ 0.077667  ┆ 5.506052  ┆ -0.819278 ┆ -0.19518 │\n",
       "│ 46476     ┆           ┆ 2         ┆           ┆   ┆           ┆           ┆           ┆ 8        │\n",
       "│ BRDN00011 ┆ 3348      ┆ BR0011700 ┆ 9         ┆ … ┆ -1.211373 ┆ 1.344598  ┆ -1.08122  ┆ 0.509799 │\n",
       "│ 46476     ┆           ┆ 2         ┆           ┆   ┆           ┆           ┆           ┆          │\n",
       "│ BRDN00011 ┆ 3348      ┆ BR0011700 ┆ 9         ┆ … ┆ 1.160593  ┆ 0.758426  ┆ -0.535344 ┆ 1.089744 │\n",
       "│ 46476     ┆           ┆ 2         ┆           ┆   ┆           ┆           ┆           ┆          │\n",
       "└───────────┴───────────┴───────────┴───────────┴───┴───────────┴───────────┴───────────┴──────────┘"
      ]
     },
     "execution_count": 6,
     "metadata": {},
     "output_type": "execute_result"
    }
   ],
   "source": [
    "negcon_df = controls_df.filter(pl.col(\"Metadata_control_type\") == \"negcon\")\n",
    "negcon_df"
   ]
  },
  {
   "cell_type": "markdown",
   "id": "cc45a182",
   "metadata": {},
   "source": [
    "generating 10 seeds of randomly sampled negative controls"
   ]
  },
  {
   "cell_type": "code",
   "execution_count": 7,
   "id": "705e5ef0",
   "metadata": {},
   "outputs": [],
   "source": [
    "for seed_val in range(10):\n",
    "\n",
    "    # load the dataset with group stratified sub sampling\n",
    "    subsampled_df = load_group_stratified_data(\n",
    "        profiles=negcon_df,\n",
    "        group_columns=[\"Metadata_Plate\", \"Metadata_Well\"],\n",
    "        sample_percentage=0.15,\n",
    "        seed=seed_val,\n",
    "    )\n",
    "\n",
    "    # save the file\n",
    "    subsampled_df.write_parquet(\n",
    "        negcon_data_dir / f\"cpjump1_crispr_negcon_seed{seed_val}.parquet\"\n",
    "    )\n"
   ]
  },
  {
   "cell_type": "markdown",
   "id": "e3946e99",
   "metadata": {},
   "source": [
    "Selecting only positive controls and saving it "
   ]
  },
  {
   "cell_type": "code",
   "execution_count": 8,
   "id": "23bbf122",
   "metadata": {},
   "outputs": [],
   "source": [
    "# write as parquet file\n",
    "poscon_cp_df = controls_df.filter((pl.col(\"Metadata_control_type\") == \"poscon_cp\"))\n",
    "poscon_cp_df.write_parquet(poscon_data_dir / \"poscon_cp_df.parquet\")\n"
   ]
  }
 ],
 "metadata": {
  "kernelspec": {
   "display_name": "buscar",
   "language": "python",
   "name": "python3"
  },
  "language_info": {
   "codemirror_mode": {
    "name": "ipython",
    "version": 3
   },
   "file_extension": ".py",
   "mimetype": "text/x-python",
   "name": "python",
   "nbconvert_exporter": "python",
   "pygments_lexer": "ipython3",
   "version": "3.12.11"
  }
 },
 "nbformat": 4,
 "nbformat_minor": 5
}
