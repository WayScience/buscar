{
 "cells": [
  {
   "cell_type": "markdown",
   "id": "d6c178c2",
   "metadata": {},
   "source": [
    "# 3. Subsetting CPJUMP1 controls \n",
    "\n",
    "In this notebook, we subset control samples from the CPJUMP1 CRISPR dataset using stratified sampling. We generate 10 different random seeds to create multiple subsets, each containing 15% of the original control data stratified by plate and well metadata. This approach ensures reproducible sampling while maintaining the distribution of controls across experimental conditions.\n",
    "\n",
    "The subsampled datasets are saved as individual parquet files for downstream analysis and model training purposes.\n"
   ]
  },
  {
   "cell_type": "code",
   "execution_count": 1,
   "id": "c9632493",
   "metadata": {},
   "outputs": [],
   "source": [
    "import sys\n",
    "import json\n",
    "import pathlib\n",
    "import polars as pl\n",
    "\n",
    "sys.path.append(\"../../\")\n",
    "from utils.data_utils import split_meta_and_features"
   ]
  },
  {
   "cell_type": "markdown",
   "id": "b42648b9",
   "metadata": {},
   "source": [
    "Load helper functions"
   ]
  },
  {
   "cell_type": "code",
   "execution_count": 2,
   "id": "64311431",
   "metadata": {},
   "outputs": [],
   "source": [
    "def load_group_stratified_data(\n",
    "    profiles: str | pathlib.Path | pl.DataFrame,\n",
    "    group_columns: list[str] = [\"Metadata_Plate\", \"Metadata_Well\"],\n",
    "    sample_percentage: float = 0.2,\n",
    "    seed: int = 0\n",
    ") -> pl.DataFrame:\n",
    "    \"\"\"Memory-efficiently sample a percentage of rows from each group in a dataset.\n",
    "\n",
    "    This function performs stratified sampling by loading only the grouping columns first\n",
    "    to dtermine group memberships and sizes, then samples indices from each group, and\n",
    "    finally loads the full dataset filtered to only the sampled rows. This approach\n",
    "    minimizes memory usage compared to loading the entire dataset upfront.\n",
    "\n",
    "    Parameters\n",
    "    ----------\n",
    "    dataset_path : str or pathlib.Path\n",
    "        Path to the parquet dataset file to sample from\n",
    "    group_columns : list[str], default [\"Metadata_Plate\", \"Metadata_Well\"]\n",
    "        Column names to use for grouping. Sampling will be performed independently\n",
    "        within each unique combination of these columns\n",
    "    sample_percentage : float, default 0.2\n",
    "        Fraction of rows to sample from each group (must be between 0.0 and 1.0)\n",
    "\n",
    "    Returns\n",
    "    -------\n",
    "    pl.DataFrame\n",
    "        Subsampled dataframe containing the sampled rows from each group,\n",
    "        preserving all original columns\n",
    "\n",
    "    Raises\n",
    "    ------\n",
    "    ValueError\n",
    "        If sample_percentage is not between 0 and 1\n",
    "    FileNotFoundError\n",
    "        If dataset_path does not exist\n",
    "    \"\"\"\n",
    "    # validate inputs\n",
    "    if not 0 <= sample_percentage <= 1:\n",
    "        raise ValueError(\"sample_percentage must be between 0 and 1\")\n",
    "\n",
    "    # convert str types to pathlib types\n",
    "    if isinstance(profiles, str):\n",
    "        profiles = pathlib.Path(profiles).resolve(strict=True)\n",
    "\n",
    "    # load only the grouping columns to determine groups\n",
    "    if isinstance(profiles, pl.DataFrame):\n",
    "        # if a polars DataFrame is provided, use it directly\n",
    "        metadata_df = profiles.select(group_columns).with_row_index(\"original_idx\")\n",
    "    else:\n",
    "        metadata_df = pl.read_parquet(profiles, columns=group_columns).with_row_index(\n",
    "            \"original_idx\"\n",
    "        )\n",
    "\n",
    "    # sample indices for each group based on the group_columns\n",
    "    sampled_indices = (\n",
    "        metadata_df\n",
    "        # group rows by the specified columns (e.g., Plate and Well combinations)\n",
    "        .group_by(group_columns)\n",
    "        # for each group, randomly sample a fraction of the original row indices\n",
    "        .agg(\n",
    "            pl.col(\"original_idx\")\n",
    "            .sample(fraction=sample_percentage, seed=seed)  # sample specified percentage from each group\n",
    "            .alias(\"sampled_idx\")  # rename the sampled indices column\n",
    "        )\n",
    "        # extract only the sampled indices column, discarding group identifiers\n",
    "        .select(\"sampled_idx\")\n",
    "        # convert list of indices per group into individual rows (flatten the structure)\n",
    "        .explode(\"sampled_idx\")\n",
    "        # extract the sampled indices as a single column series\n",
    "        .get_column(\"sampled_idx\")\n",
    "        .sort()\n",
    "    )\n",
    "\n",
    "    # load the entire dataset and filter to sampled indices\n",
    "    sampled_df = (\n",
    "        profiles\n",
    "        .with_row_index(\"idx\")\n",
    "        .filter(pl.col(\"idx\").is_in(sampled_indices.implode()))\n",
    "        .drop(\"idx\")\n",
    "    )\n",
    "\n",
    "    return sampled_df"
   ]
  },
  {
   "cell_type": "markdown",
   "id": "8c9670ac",
   "metadata": {},
   "source": [
    "Setting input and output paths"
   ]
  },
  {
   "cell_type": "code",
   "execution_count": 3,
   "id": "6a8dd258",
   "metadata": {},
   "outputs": [],
   "source": [
    "# setting data path\n",
    "data_dir = pathlib.Path(\"../0.download-data/data\").resolve(strict=True)\n",
    "download_module_results_dir = pathlib.Path(\"../0.download-data/results\").resolve(\n",
    "    strict=True\n",
    ")\n",
    "\n",
    "# setting directory where all the single-cell profiles are stored\n",
    "profiles_dir = (data_dir / \"sc-profiles\").resolve(strict=True)\n",
    "    \n",
    "exp_metadata_path = (\n",
    "    profiles_dir / \"cpjump1\" / \"CPJUMP1-experimental-metadata.csv\"\n",
    ").resolve(strict=True)\n",
    "\n",
    "# Setting feature selection path\n",
    "shared_features_config_path = (\n",
    "    profiles_dir / \"cpjump1\" / \"feature_selected_sc_qc_features.json\"\n",
    ").resolve(strict=True)\n",
    "\n",
    "# setting cpjump1 data dir\n",
    "cpjump_crispr_data_dir = (data_dir / \"sc-profiles\" / \"cpjump1-crispr-negcon\").resolve()\n",
    "cpjump_crispr_data_dir.mkdir(exist_ok=True)\n",
    "\n",
    "\n",
    "# setting negative control \n",
    "negcon_data_dir = (profiles_dir / \"cpjump1\" / \"negcon\").resolve()\n",
    "negcon_data_dir.mkdir(exist_ok=True)\n",
    "poscon_data_dir = (profiles_dir / \"cpjump1\" / \"poscon\").resolve()\n",
    "poscon_data_dir.mkdir(exist_ok=True)\n"
   ]
  },
  {
   "cell_type": "markdown",
   "id": "c858d985",
   "metadata": {},
   "source": [
    "Loading data"
   ]
  },
  {
   "cell_type": "code",
   "execution_count": 4,
   "id": "2802b8cb",
   "metadata": {},
   "outputs": [],
   "source": [
    "# Load experimental metadata\n",
    "# selecting plates that pertains to the cpjump1 CRISPR dataset\n",
    "exp_metadata = pl.read_csv(exp_metadata_path)\n",
    "crispr_plate_names = (\n",
    "    exp_metadata.select(\"Assay_Plate_Barcode\").unique().to_series().to_list()\n",
    ")\n",
    "crispr_plate_paths = [\n",
    "    (profiles_dir / \"cpjump1\" / f\"{plate}_feature_selected_sc_qc.parquet\").resolve(\n",
    "        strict=True\n",
    "    )\n",
    "    for plate in crispr_plate_names\n",
    "]\n",
    "# Load shared features\n",
    "with open(shared_features_config_path) as f:\n",
    "    loaded_shared_features = json.load(f)\n",
    "\n",
    "shared_features = loaded_shared_features[\"shared-features\"]\n"
   ]
  },
  {
   "cell_type": "code",
   "execution_count": 5,
   "id": "503ec41c",
   "metadata": {},
   "outputs": [],
   "source": [
    "control_df = []\n",
    "for plate_path in crispr_plate_paths:\n",
    "    \n",
    "    # load plate data and filter to controls \n",
    "    plate_controls_df = pl.read_parquet(plate_path).filter(\n",
    "        pl.col(\"Metadata_pert_type\") == \"control\"\n",
    "    )\n",
    "\n",
    "    # split features\n",
    "    controls_meta, _ = split_meta_and_features(plate_controls_df)\n",
    "\n",
    "    # select metadata and shared features together\n",
    "    controls_df = plate_controls_df.select(controls_meta + shared_features)\n",
    "\n",
    "    # then append to list\n",
    "    control_df.append(controls_df)\n",
    "\n",
    "# concatenate dataframes \n",
    "controls_df = pl.concat(control_df)\n"
   ]
  },
  {
   "cell_type": "code",
   "execution_count": 6,
   "id": "3ca4f69c",
   "metadata": {},
   "outputs": [
    {
     "data": {
      "text/html": [
       "<div><style>\n",
       ".dataframe > thead > tr,\n",
       ".dataframe > tbody > tr {\n",
       "  text-align: right;\n",
       "  white-space: pre-wrap;\n",
       "}\n",
       "</style>\n",
       "<small>shape: (1_140_335, 318)</small><table border=\"1\" class=\"dataframe\"><thead><tr><th>Metadata_broad_sample</th><th>Metadata_ImageNumber</th><th>Metadata_Plate</th><th>Metadata_Site</th><th>Metadata_Well</th><th>Metadata_TableNumber</th><th>Metadata_ObjectNumber_cytoplasm</th><th>Metadata_Cytoplasm_Parent_Cells</th><th>Metadata_Cytoplasm_Parent_Nuclei</th><th>Metadata_ObjectNumber_cells</th><th>Metadata_ObjectNumber</th><th>Metadata_gene</th><th>Metadata_pert_type</th><th>Metadata_control_type</th><th>Metadata_target_sequence</th><th>Metadata_negcon_control_type</th><th>__index_level_0__</th><th>Nuclei_Texture_InverseDifferenceMoment_ER_5_01_256</th><th>Cytoplasm_AreaShape_Zernike_4_2</th><th>Cytoplasm_AreaShape_Zernike_9_3</th><th>Nuclei_RadialDistribution_RadialCV_AGP_2of4</th><th>Nuclei_Correlation_Correlation_DNA_HighZBF</th><th>Cells_Texture_Correlation_HighZBF_5_00_256</th><th>Cells_AreaShape_Solidity</th><th>Nuclei_RadialDistribution_MeanFrac_HighZBF_4of4</th><th>Nuclei_AreaShape_Orientation</th><th>Nuclei_Texture_Correlation_ER_5_02_256</th><th>Cytoplasm_Correlation_Correlation_DNA_LowZBF</th><th>Cytoplasm_Texture_InfoMeas2_DNA_10_01_256</th><th>Cells_RadialDistribution_FracAtD_DNA_2of4</th><th>Cells_RadialDistribution_MeanFrac_HighZBF_1of4</th><th>Nuclei_RadialDistribution_MeanFrac_Mito_4of4</th><th>Cells_Correlation_RWC_DNA_ER</th><th>Cells_Texture_InfoMeas2_ER_3_00_256</th><th>Cells_RadialDistribution_MeanFrac_HighZBF_2of4</th><th>Cytoplasm_RadialDistribution_RadialCV_ER_3of4</th><th>Nuclei_RadialDistribution_RadialCV_HighZBF_2of4</th><th>&hellip;</th><th>Nuclei_AreaShape_MinFeretDiameter</th><th>Nuclei_AreaShape_Zernike_5_3</th><th>Nuclei_AreaShape_Zernike_4_2</th><th>Nuclei_RadialDistribution_MeanFrac_HighZBF_3of4</th><th>Cytoplasm_Granularity_1_Brightfield</th><th>Nuclei_Correlation_Correlation_ER_Mito</th><th>Nuclei_AreaShape_Zernike_6_0</th><th>Cytoplasm_AreaShape_Solidity</th><th>Nuclei_RadialDistribution_FracAtD_DNA_3of4</th><th>Nuclei_AreaShape_Zernike_8_4</th><th>Nuclei_Intensity_MassDisplacement_HighZBF</th><th>Cytoplasm_Texture_Correlation_LowZBF_3_03_256</th><th>Cells_RadialDistribution_RadialCV_Mito_1of4</th><th>Nuclei_Intensity_MassDisplacement_AGP</th><th>Nuclei_Correlation_Correlation_AGP_Mito</th><th>Nuclei_RadialDistribution_MeanFrac_HighZBF_1of4</th><th>Cells_RadialDistribution_RadialCV_DNA_2of4</th><th>Nuclei_RadialDistribution_RadialCV_RNA_3of4</th><th>Cells_AreaShape_Zernike_7_3</th><th>Nuclei_RadialDistribution_MeanFrac_ER_1of4</th><th>Cytoplasm_Correlation_Overlap_ER_RNA</th><th>Cells_Texture_Correlation_LowZBF_5_01_256</th><th>Cytoplasm_Texture_Correlation_HighZBF_3_01_256</th><th>Nuclei_Texture_Correlation_LowZBF_3_02_256</th><th>Cells_RadialDistribution_RadialCV_AGP_3of4</th><th>Nuclei_RadialDistribution_MeanFrac_AGP_1of4</th><th>Cells_RadialDistribution_MeanFrac_Brightfield_1of4</th><th>Cytoplasm_Correlation_Correlation_DNA_HighZBF</th><th>Nuclei_Intensity_MassDisplacement_DNA</th><th>Cytoplasm_RadialDistribution_MeanFrac_DNA_4of4</th><th>Cells_Correlation_Correlation_AGP_DNA</th><th>Cytoplasm_Texture_InfoMeas2_RNA_3_01_256</th><th>Cells_RadialDistribution_RadialCV_DNA_4of4</th><th>Nuclei_Correlation_Correlation_DNA_LowZBF</th><th>Cytoplasm_Texture_Correlation_LowZBF_5_00_256</th><th>Cytoplasm_RadialDistribution_RadialCV_HighZBF_2of4</th><th>Nuclei_RadialDistribution_MeanFrac_Brightfield_1of4</th></tr><tr><td>str</td><td>i64</td><td>str</td><td>i64</td><td>str</td><td>str</td><td>i64</td><td>f64</td><td>f64</td><td>i64</td><td>i64</td><td>str</td><td>str</td><td>str</td><td>str</td><td>str</td><td>i64</td><td>f32</td><td>f32</td><td>f32</td><td>f32</td><td>f32</td><td>f32</td><td>f32</td><td>f32</td><td>f32</td><td>f32</td><td>f32</td><td>f32</td><td>f32</td><td>f32</td><td>f32</td><td>f32</td><td>f32</td><td>f32</td><td>f32</td><td>f32</td><td>&hellip;</td><td>f32</td><td>f32</td><td>f32</td><td>f32</td><td>f32</td><td>f32</td><td>f32</td><td>f32</td><td>f32</td><td>f32</td><td>f32</td><td>f32</td><td>f32</td><td>f32</td><td>f32</td><td>f32</td><td>f32</td><td>f32</td><td>f32</td><td>f32</td><td>f32</td><td>f32</td><td>f32</td><td>f32</td><td>f32</td><td>f32</td><td>f32</td><td>f32</td><td>f32</td><td>f32</td><td>f32</td><td>f32</td><td>f32</td><td>f32</td><td>f32</td><td>f32</td><td>f32</td></tr></thead><tbody><tr><td>&quot;BRDN0001147100&quot;</td><td>109</td><td>&quot;BR00118047&quot;</td><td>1</td><td>&quot;A13&quot;</td><td>&quot;308628357980232446257703298793…</td><td>1</td><td>1.0</td><td>1.0</td><td>1</td><td>1</td><td>null</td><td>&quot;control&quot;</td><td>&quot;negcon&quot;</td><td>&quot;ACAGCGCTCTCGTGTACTAT&quot;</td><td>&quot;NO_SITE (5 zeros)&quot;</td><td>7010</td><td>-1.028713</td><td>1.059229</td><td>0.115462</td><td>0.473156</td><td>1.324485</td><td>-0.084368</td><td>0.71923</td><td>-0.81904</td><td>1.265652</td><td>0.042607</td><td>0.541244</td><td>1.751658</td><td>-1.741249</td><td>1.467187</td><td>-0.309894</td><td>0.577766</td><td>0.859873</td><td>0.780703</td><td>-1.449886</td><td>-0.195239</td><td>&hellip;</td><td>0.208276</td><td>0.865554</td><td>-0.603492</td><td>1.166788</td><td>-0.990647</td><td>0.781832</td><td>-1.52143</td><td>1.362438</td><td>0.532911</td><td>0.120666</td><td>-0.12049</td><td>0.124058</td><td>1.330898</td><td>-0.068765</td><td>1.012425</td><td>-1.437147</td><td>-2.012827</td><td>-0.017953</td><td>-0.365368</td><td>0.513308</td><td>-0.541348</td><td>0.344488</td><td>0.414022</td><td>-0.256932</td><td>-1.467478</td><td>-0.275899</td><td>0.554505</td><td>0.40101</td><td>-0.714905</td><td>-0.055816</td><td>0.79722</td><td>1.111975</td><td>-0.111111</td><td>-1.704028</td><td>-0.116456</td><td>1.41343</td><td>-0.510386</td></tr><tr><td>&quot;BRDN0001147100&quot;</td><td>109</td><td>&quot;BR00118047&quot;</td><td>1</td><td>&quot;A13&quot;</td><td>&quot;308628357980232446257703298793…</td><td>2</td><td>2.0</td><td>2.0</td><td>2</td><td>2</td><td>null</td><td>&quot;control&quot;</td><td>&quot;negcon&quot;</td><td>&quot;ACAGCGCTCTCGTGTACTAT&quot;</td><td>&quot;NO_SITE (5 zeros)&quot;</td><td>7011</td><td>0.122049</td><td>0.004791</td><td>-0.857309</td><td>0.038176</td><td>-0.078726</td><td>-0.079663</td><td>0.17033</td><td>0.967084</td><td>1.055542</td><td>0.686653</td><td>-0.291474</td><td>-0.070826</td><td>-0.156032</td><td>0.269196</td><td>0.217574</td><td>0.521351</td><td>0.71286</td><td>0.264704</td><td>0.20849</td><td>1.046584</td><td>&hellip;</td><td>-0.494419</td><td>-0.712622</td><td>-0.373149</td><td>-0.305804</td><td>-0.191004</td><td>0.618058</td><td>0.97991</td><td>0.643491</td><td>-0.105978</td><td>0.734167</td><td>-0.689359</td><td>-0.330821</td><td>-0.467458</td><td>-0.354211</td><td>0.688672</td><td>1.372547</td><td>0.891099</td><td>0.978844</td><td>-1.100139</td><td>-0.91033</td><td>0.072436</td><td>-0.275345</td><td>1.882924</td><td>0.087411</td><td>0.508982</td><td>-0.439045</td><td>0.008573</td><td>0.585336</td><td>-0.823073</td><td>-0.250795</td><td>-0.142025</td><td>1.011612</td><td>0.861527</td><td>-0.863903</td><td>-0.447796</td><td>-0.354031</td><td>0.312585</td></tr><tr><td>&quot;BRDN0001147100&quot;</td><td>109</td><td>&quot;BR00118047&quot;</td><td>1</td><td>&quot;A13&quot;</td><td>&quot;308628357980232446257703298793…</td><td>3</td><td>3.0</td><td>3.0</td><td>3</td><td>3</td><td>null</td><td>&quot;control&quot;</td><td>&quot;negcon&quot;</td><td>&quot;ACAGCGCTCTCGTGTACTAT&quot;</td><td>&quot;NO_SITE (5 zeros)&quot;</td><td>7012</td><td>0.370399</td><td>-0.262972</td><td>-1.404616</td><td>-0.693991</td><td>0.502991</td><td>0.618994</td><td>-0.066264</td><td>0.098727</td><td>1.524291</td><td>-1.025337</td><td>0.297346</td><td>0.339764</td><td>0.420589</td><td>0.519443</td><td>-0.287341</td><td>0.159021</td><td>0.614568</td><td>0.398127</td><td>1.703434</td><td>-0.608472</td><td>&hellip;</td><td>-0.434808</td><td>0.72182</td><td>-0.773704</td><td>-0.517222</td><td>-0.026364</td><td>0.007683</td><td>-0.784433</td><td>0.630488</td><td>0.626985</td><td>-0.974103</td><td>0.125999</td><td>0.111416</td><td>1.104746</td><td>-0.371487</td><td>-1.39123</td><td>-0.90087</td><td>1.074054</td><td>-0.850756</td><td>-1.633757</td><td>1.140424</td><td>-0.000907</td><td>-0.535922</td><td>-0.056651</td><td>-0.43723</td><td>-0.377323</td><td>1.054326</td><td>-0.015501</td><td>-0.080123</td><td>-0.539807</td><td>-0.26611</td><td>1.090343</td><td>0.151405</td><td>-0.609261</td><td>-0.735018</td><td>-0.15961</td><td>0.330829</td><td>-0.514569</td></tr><tr><td>&quot;BRDN0001147100&quot;</td><td>109</td><td>&quot;BR00118047&quot;</td><td>1</td><td>&quot;A13&quot;</td><td>&quot;308628357980232446257703298793…</td><td>4</td><td>4.0</td><td>4.0</td><td>4</td><td>4</td><td>null</td><td>&quot;control&quot;</td><td>&quot;negcon&quot;</td><td>&quot;ACAGCGCTCTCGTGTACTAT&quot;</td><td>&quot;NO_SITE (5 zeros)&quot;</td><td>7013</td><td>-0.787941</td><td>-0.374708</td><td>0.78542</td><td>-0.419399</td><td>-0.267538</td><td>-0.381069</td><td>1.084841</td><td>0.33705</td><td>1.199166</td><td>0.54354</td><td>-1.196335</td><td>-0.198555</td><td>1.621134</td><td>-0.343463</td><td>-0.217215</td><td>0.258121</td><td>0.864777</td><td>-0.369991</td><td>-1.101691</td><td>-0.227312</td><td>&hellip;</td><td>0.632325</td><td>-0.417053</td><td>-1.454626</td><td>-0.310669</td><td>-0.304528</td><td>0.087402</td><td>0.437442</td><td>1.017849</td><td>0.961979</td><td>-0.784957</td><td>0.182204</td><td>0.043337</td><td>-0.386272</td><td>-0.386587</td><td>-0.058351</td><td>-0.600421</td><td>-0.361494</td><td>0.086438</td><td>0.527366</td><td>-0.233363</td><td>0.012496</td><td>-0.111335</td><td>-0.311494</td><td>-0.374822</td><td>-0.709454</td><td>1.474652</td><td>-0.065686</td><td>0.385537</td><td>-0.705235</td><td>-0.634491</td><td>0.101058</td><td>0.561559</td><td>-1.088893</td><td>0.515875</td><td>0.273117</td><td>0.459208</td><td>-0.088421</td></tr><tr><td>&quot;BRDN0001147100&quot;</td><td>109</td><td>&quot;BR00118047&quot;</td><td>1</td><td>&quot;A13&quot;</td><td>&quot;308628357980232446257703298793…</td><td>5</td><td>5.0</td><td>5.0</td><td>5</td><td>5</td><td>null</td><td>&quot;control&quot;</td><td>&quot;negcon&quot;</td><td>&quot;ACAGCGCTCTCGTGTACTAT&quot;</td><td>&quot;NO_SITE (5 zeros)&quot;</td><td>7014</td><td>-0.42181</td><td>-0.080816</td><td>2.363815</td><td>0.220237</td><td>-0.272926</td><td>-0.324976</td><td>-0.597176</td><td>0.279955</td><td>0.70838</td><td>0.387093</td><td>0.468885</td><td>-0.135322</td><td>0.864667</td><td>0.116455</td><td>-0.335405</td><td>0.231344</td><td>-1.679674</td><td>-1.150475</td><td>-0.361051</td><td>0.137044</td><td>&hellip;</td><td>0.230192</td><td>-0.72051</td><td>-0.301345</td><td>0.562988</td><td>-0.249575</td><td>0.674224</td><td>2.867441</td><td>-0.959345</td><td>-0.268888</td><td>-0.757371</td><td>-0.029052</td><td>-0.882626</td><td>-0.531049</td><td>-1.307925</td><td>0.457686</td><td>0.987683</td><td>-1.385461</td><td>-0.58981</td><td>0.040728</td><td>-0.037037</td><td>-2.149111</td><td>-0.479564</td><td>1.679714</td><td>0.407997</td><td>-1.281839</td><td>-0.073656</td><td>-0.153475</td><td>-0.337976</td><td>-0.755771</td><td>0.203726</td><td>1.045206</td><td>-0.463189</td><td>-0.398109</td><td>-0.935839</td><td>-0.754607</td><td>0.125589</td><td>-0.289761</td></tr><tr><td>&hellip;</td><td>&hellip;</td><td>&hellip;</td><td>&hellip;</td><td>&hellip;</td><td>&hellip;</td><td>&hellip;</td><td>&hellip;</td><td>&hellip;</td><td>&hellip;</td><td>&hellip;</td><td>&hellip;</td><td>&hellip;</td><td>&hellip;</td><td>&hellip;</td><td>&hellip;</td><td>&hellip;</td><td>&hellip;</td><td>&hellip;</td><td>&hellip;</td><td>&hellip;</td><td>&hellip;</td><td>&hellip;</td><td>&hellip;</td><td>&hellip;</td><td>&hellip;</td><td>&hellip;</td><td>&hellip;</td><td>&hellip;</td><td>&hellip;</td><td>&hellip;</td><td>&hellip;</td><td>&hellip;</td><td>&hellip;</td><td>&hellip;</td><td>&hellip;</td><td>&hellip;</td><td>&hellip;</td><td>&hellip;</td><td>&hellip;</td><td>&hellip;</td><td>&hellip;</td><td>&hellip;</td><td>&hellip;</td><td>&hellip;</td><td>&hellip;</td><td>&hellip;</td><td>&hellip;</td><td>&hellip;</td><td>&hellip;</td><td>&hellip;</td><td>&hellip;</td><td>&hellip;</td><td>&hellip;</td><td>&hellip;</td><td>&hellip;</td><td>&hellip;</td><td>&hellip;</td><td>&hellip;</td><td>&hellip;</td><td>&hellip;</td><td>&hellip;</td><td>&hellip;</td><td>&hellip;</td><td>&hellip;</td><td>&hellip;</td><td>&hellip;</td><td>&hellip;</td><td>&hellip;</td><td>&hellip;</td><td>&hellip;</td><td>&hellip;</td><td>&hellip;</td><td>&hellip;</td><td>&hellip;</td></tr><tr><td>&quot;BRDN0001146476&quot;</td><td>3348</td><td>&quot;BR00118043&quot;</td><td>9</td><td>&quot;P12&quot;</td><td>&quot;119960994267979118783648899547…</td><td>129</td><td>129.0</td><td>129.0</td><td>129</td><td>129</td><td>null</td><td>&quot;control&quot;</td><td>&quot;negcon&quot;</td><td>&quot;ACTAGCCTGTTCGCGAGTAG&quot;</td><td>&quot;NO_SITE (5 zeros)&quot;</td><td>387345</td><td>-0.262129</td><td>-0.451563</td><td>1.08365</td><td>-0.565492</td><td>-1.377005</td><td>1.032865</td><td>0.917688</td><td>1.435191</td><td>-0.724395</td><td>-0.10208</td><td>-2.342868</td><td>-1.672678</td><td>0.069266</td><td>-0.514682</td><td>0.426476</td><td>0.916992</td><td>0.383645</td><td>0.030663</td><td>1.310647</td><td>0.233206</td><td>&hellip;</td><td>-0.315055</td><td>-0.966533</td><td>-1.484386</td><td>-0.332623</td><td>-1.991891</td><td>-0.966093</td><td>0.854135</td><td>1.092622</td><td>1.67505</td><td>0.101743</td><td>0.682051</td><td>1.732903</td><td>1.658742</td><td>-0.342558</td><td>-0.857745</td><td>-1.493278</td><td>2.048434</td><td>-0.546937</td><td>0.563514</td><td>-0.797819</td><td>-0.165102</td><td>0.24081</td><td>0.652409</td><td>0.935035</td><td>0.961801</td><td>1.385283</td><td>-0.730183</td><td>-1.097008</td><td>-0.058342</td><td>0.023226</td><td>-0.051859</td><td>0.304116</td><td>-0.882071</td><td>1.085634</td><td>1.677004</td><td>-0.305542</td><td>0.938798</td></tr><tr><td>&quot;BRDN0001146476&quot;</td><td>3348</td><td>&quot;BR00118043&quot;</td><td>9</td><td>&quot;P12&quot;</td><td>&quot;119960994267979118783648899547…</td><td>130</td><td>130.0</td><td>130.0</td><td>130</td><td>130</td><td>null</td><td>&quot;control&quot;</td><td>&quot;negcon&quot;</td><td>&quot;ACTAGCCTGTTCGCGAGTAG&quot;</td><td>&quot;NO_SITE (5 zeros)&quot;</td><td>387346</td><td>-0.109972</td><td>-0.19425</td><td>-0.317486</td><td>2.963791</td><td>-2.336638</td><td>0.948756</td><td>0.861868</td><td>1.636599</td><td>-1.328884</td><td>0.288599</td><td>-1.774356</td><td>-0.683632</td><td>-1.983382</td><td>0.807104</td><td>-1.039564</td><td>-0.404527</td><td>-0.776086</td><td>1.507437</td><td>-2.858381</td><td>-0.458741</td><td>&hellip;</td><td>-0.630868</td><td>0.274432</td><td>-1.190532</td><td>-0.699095</td><td>-1.330493</td><td>0.634812</td><td>1.268949</td><td>1.523775</td><td>0.150757</td><td>0.191521</td><td>0.251803</td><td>0.379428</td><td>-0.661837</td><td>-0.99228</td><td>0.113257</td><td>0.508658</td><td>-1.787135</td><td>-0.199529</td><td>-0.56785</td><td>0.601707</td><td>0.21728</td><td>0.737103</td><td>0.975092</td><td>-0.467949</td><td>0.474577</td><td>3.040004</td><td>-0.158844</td><td>0.663654</td><td>-1.193295</td><td>0.462751</td><td>1.726538</td><td>-0.804577</td><td>0.33413</td><td>1.068649</td><td>1.244595</td><td>0.024562</td><td>-0.273189</td></tr><tr><td>&quot;BRDN0001146476&quot;</td><td>3348</td><td>&quot;BR00118043&quot;</td><td>9</td><td>&quot;P12&quot;</td><td>&quot;119960994267979118783648899547…</td><td>131</td><td>131.0</td><td>131.0</td><td>131</td><td>131</td><td>null</td><td>&quot;control&quot;</td><td>&quot;negcon&quot;</td><td>&quot;ACTAGCCTGTTCGCGAGTAG&quot;</td><td>&quot;NO_SITE (5 zeros)&quot;</td><td>387347</td><td>2.224269</td><td>1.624416</td><td>-0.059406</td><td>-1.096799</td><td>0.290633</td><td>0.354355</td><td>0.58592</td><td>-0.388792</td><td>-1.734747</td><td>0.369879</td><td>0.89592</td><td>-1.229484</td><td>-0.254668</td><td>0.834035</td><td>-0.797126</td><td>-0.390029</td><td>0.896478</td><td>0.624295</td><td>-2.139969</td><td>-1.546824</td><td>&hellip;</td><td>0.12378</td><td>-1.113251</td><td>-1.336006</td><td>0.197241</td><td>-0.739147</td><td>0.618262</td><td>1.521116</td><td>0.810462</td><td>-0.811166</td><td>-0.878595</td><td>-0.516524</td><td>-1.129364</td><td>1.057978</td><td>-0.973787</td><td>-0.247707</td><td>0.433158</td><td>0.588788</td><td>-1.622477</td><td>-1.437321</td><td>1.6247</td><td>-0.756856</td><td>-0.452766</td><td>-0.077749</td><td>-0.363133</td><td>0.854473</td><td>0.944136</td><td>-0.382993</td><td>0.059144</td><td>0.01668</td><td>0.187787</td><td>-1.788669</td><td>0.270751</td><td>-0.527319</td><td>-0.466399</td><td>0.25835</td><td>-0.921918</td><td>-0.395227</td></tr><tr><td>&quot;BRDN0001146476&quot;</td><td>3348</td><td>&quot;BR00118043&quot;</td><td>9</td><td>&quot;P12&quot;</td><td>&quot;119960994267979118783648899547…</td><td>132</td><td>132.0</td><td>132.0</td><td>132</td><td>132</td><td>null</td><td>&quot;control&quot;</td><td>&quot;negcon&quot;</td><td>&quot;ACTAGCCTGTTCGCGAGTAG&quot;</td><td>&quot;NO_SITE (5 zeros)&quot;</td><td>387348</td><td>0.534403</td><td>1.721981</td><td>-0.474416</td><td>-0.101497</td><td>-0.185324</td><td>-0.776172</td><td>0.805823</td><td>0.11892</td><td>-0.412498</td><td>1.22031</td><td>0.231701</td><td>-0.736331</td><td>0.768541</td><td>0.502666</td><td>0.276547</td><td>-0.068513</td><td>0.152254</td><td>0.216654</td><td>-0.083206</td><td>-0.22703</td><td>&hellip;</td><td>1.177736</td><td>0.58795</td><td>-1.435349</td><td>0.191335</td><td>-0.458654</td><td>-0.262132</td><td>0.203373</td><td>0.141632</td><td>0.072797</td><td>-0.281663</td><td>0.203744</td><td>-0.069872</td><td>1.110613</td><td>-1.637295</td><td>-2.043472</td><td>0.980754</td><td>0.071489</td><td>-1.606803</td><td>-1.762426</td><td>0.788461</td><td>-1.689507</td><td>-0.747968</td><td>-0.024951</td><td>0.813029</td><td>-0.276101</td><td>0.278273</td><td>-0.457901</td><td>0.181623</td><td>-0.473566</td><td>0.709965</td><td>0.530347</td><td>0.437383</td><td>-0.751677</td><td>-0.731785</td><td>0.079244</td><td>-0.518756</td><td>-0.472694</td></tr><tr><td>&quot;BRDN0001146476&quot;</td><td>3348</td><td>&quot;BR00118043&quot;</td><td>9</td><td>&quot;P12&quot;</td><td>&quot;119960994267979118783648899547…</td><td>133</td><td>133.0</td><td>133.0</td><td>133</td><td>133</td><td>null</td><td>&quot;control&quot;</td><td>&quot;negcon&quot;</td><td>&quot;ACTAGCCTGTTCGCGAGTAG&quot;</td><td>&quot;NO_SITE (5 zeros)&quot;</td><td>387349</td><td>-0.863855</td><td>0.014532</td><td>-0.164647</td><td>-0.402136</td><td>-0.408145</td><td>-0.170701</td><td>1.181247</td><td>0.629089</td><td>1.728242</td><td>-0.758389</td><td>-1.659843</td><td>-0.6123</td><td>1.929627</td><td>-0.332393</td><td>0.386636</td><td>0.752975</td><td>0.988574</td><td>-0.545124</td><td>1.137265</td><td>0.74628</td><td>&hellip;</td><td>0.650758</td><td>-0.888284</td><td>1.077676</td><td>-0.255357</td><td>-2.661916</td><td>0.394921</td><td>1.682612</td><td>0.756615</td><td>1.109969</td><td>-0.055126</td><td>-0.316067</td><td>-0.31878</td><td>0.835605</td><td>-0.029442</td><td>-0.815912</td><td>1.158492</td><td>1.263918</td><td>-0.760395</td><td>0.251795</td><td>-1.546847</td><td>-1.533369</td><td>1.57407</td><td>-0.25121</td><td>0.403816</td><td>-0.316875</td><td>0.83044</td><td>0.130338</td><td>-0.265714</td><td>-0.851504</td><td>-0.821918</td><td>1.419414</td><td>0.97341</td><td>-0.962976</td><td>1.355111</td><td>-0.392867</td><td>-0.362624</td><td>0.219699</td></tr></tbody></table></div>"
      ],
      "text/plain": [
       "shape: (1_140_335, 318)\n",
       "┌───────────┬───────────┬───────────┬───────────┬───┬───────────┬───────────┬───────────┬──────────┐\n",
       "│ Metadata_ ┆ Metadata_ ┆ Metadata_ ┆ Metadata_ ┆ … ┆ Nuclei_Co ┆ Cytoplasm ┆ Cytoplasm ┆ Nuclei_R │\n",
       "│ broad_sam ┆ ImageNumb ┆ Plate     ┆ Site      ┆   ┆ rrelation ┆ _Texture_ ┆ _RadialDi ┆ adialDis │\n",
       "│ ple       ┆ er        ┆ ---       ┆ ---       ┆   ┆ _Correlat ┆ Correlati ┆ stributio ┆ tributio │\n",
       "│ ---       ┆ ---       ┆ str       ┆ i64       ┆   ┆ ion…      ┆ on_…      ┆ n_R…      ┆ n_Mean…  │\n",
       "│ str       ┆ i64       ┆           ┆           ┆   ┆ ---       ┆ ---       ┆ ---       ┆ ---      │\n",
       "│           ┆           ┆           ┆           ┆   ┆ f32       ┆ f32       ┆ f32       ┆ f32      │\n",
       "╞═══════════╪═══════════╪═══════════╪═══════════╪═══╪═══════════╪═══════════╪═══════════╪══════════╡\n",
       "│ BRDN00011 ┆ 109       ┆ BR0011804 ┆ 1         ┆ … ┆ -1.704028 ┆ -0.116456 ┆ 1.41343   ┆ -0.51038 │\n",
       "│ 47100     ┆           ┆ 7         ┆           ┆   ┆           ┆           ┆           ┆ 6        │\n",
       "│ BRDN00011 ┆ 109       ┆ BR0011804 ┆ 1         ┆ … ┆ -0.863903 ┆ -0.447796 ┆ -0.354031 ┆ 0.312585 │\n",
       "│ 47100     ┆           ┆ 7         ┆           ┆   ┆           ┆           ┆           ┆          │\n",
       "│ BRDN00011 ┆ 109       ┆ BR0011804 ┆ 1         ┆ … ┆ -0.735018 ┆ -0.15961  ┆ 0.330829  ┆ -0.51456 │\n",
       "│ 47100     ┆           ┆ 7         ┆           ┆   ┆           ┆           ┆           ┆ 9        │\n",
       "│ BRDN00011 ┆ 109       ┆ BR0011804 ┆ 1         ┆ … ┆ 0.515875  ┆ 0.273117  ┆ 0.459208  ┆ -0.08842 │\n",
       "│ 47100     ┆           ┆ 7         ┆           ┆   ┆           ┆           ┆           ┆ 1        │\n",
       "│ BRDN00011 ┆ 109       ┆ BR0011804 ┆ 1         ┆ … ┆ -0.935839 ┆ -0.754607 ┆ 0.125589  ┆ -0.28976 │\n",
       "│ 47100     ┆           ┆ 7         ┆           ┆   ┆           ┆           ┆           ┆ 1        │\n",
       "│ …         ┆ …         ┆ …         ┆ …         ┆ … ┆ …         ┆ …         ┆ …         ┆ …        │\n",
       "│ BRDN00011 ┆ 3348      ┆ BR0011804 ┆ 9         ┆ … ┆ 1.085634  ┆ 1.677004  ┆ -0.305542 ┆ 0.938798 │\n",
       "│ 46476     ┆           ┆ 3         ┆           ┆   ┆           ┆           ┆           ┆          │\n",
       "│ BRDN00011 ┆ 3348      ┆ BR0011804 ┆ 9         ┆ … ┆ 1.068649  ┆ 1.244595  ┆ 0.024562  ┆ -0.27318 │\n",
       "│ 46476     ┆           ┆ 3         ┆           ┆   ┆           ┆           ┆           ┆ 9        │\n",
       "│ BRDN00011 ┆ 3348      ┆ BR0011804 ┆ 9         ┆ … ┆ -0.466399 ┆ 0.25835   ┆ -0.921918 ┆ -0.39522 │\n",
       "│ 46476     ┆           ┆ 3         ┆           ┆   ┆           ┆           ┆           ┆ 7        │\n",
       "│ BRDN00011 ┆ 3348      ┆ BR0011804 ┆ 9         ┆ … ┆ -0.731785 ┆ 0.079244  ┆ -0.518756 ┆ -0.47269 │\n",
       "│ 46476     ┆           ┆ 3         ┆           ┆   ┆           ┆           ┆           ┆ 4        │\n",
       "│ BRDN00011 ┆ 3348      ┆ BR0011804 ┆ 9         ┆ … ┆ 1.355111  ┆ -0.392867 ┆ -0.362624 ┆ 0.219699 │\n",
       "│ 46476     ┆           ┆ 3         ┆           ┆   ┆           ┆           ┆           ┆          │\n",
       "└───────────┴───────────┴───────────┴───────────┴───┴───────────┴───────────┴───────────┴──────────┘"
      ]
     },
     "execution_count": 6,
     "metadata": {},
     "output_type": "execute_result"
    }
   ],
   "source": [
    "negcon_df = controls_df.filter(pl.col(\"Metadata_control_type\") == \"negcon\")\n",
    "negcon_df"
   ]
  },
  {
   "cell_type": "markdown",
   "id": "cc45a182",
   "metadata": {},
   "source": [
    "generating 10 seeds of randomly sampled negative controls"
   ]
  },
  {
   "cell_type": "code",
   "execution_count": 7,
   "id": "705e5ef0",
   "metadata": {},
   "outputs": [],
   "source": [
    "for seed_val in range(10):\n",
    "\n",
    "    # load the dataset with group stratified sub sampling\n",
    "    subsampled_df = load_group_stratified_data(\n",
    "        profiles=negcon_df,\n",
    "        group_columns=[\"Metadata_Plate\", \"Metadata_Well\"],\n",
    "        sample_percentage=0.15,\n",
    "        seed=seed_val,\n",
    "    )\n",
    "\n",
    "    # save the file\n",
    "    subsampled_df.write_parquet(\n",
    "        negcon_data_dir / f\"cpjump1_crispr_negcon_seed{seed_val}.parquet\"\n",
    "    )\n"
   ]
  },
  {
   "cell_type": "markdown",
   "id": "e3946e99",
   "metadata": {},
   "source": [
    "Selecting only positive controls and saving it "
   ]
  },
  {
   "cell_type": "code",
   "execution_count": null,
   "id": "23bbf122",
   "metadata": {},
   "outputs": [],
   "source": [
    "# write as parquet file\n",
    "poscon_cp_df = controls_df.filter((pl.col(\"Metadata_control_type\") == \"poscon_cp\")).select(\"Metadata_gene\")\n",
    "poscon_cp_df.write_parquet(poscon_data_dir / \"poscon_cp_df.parquet\")\n"
   ]
  }
 ],
 "metadata": {
  "kernelspec": {
   "display_name": "buscar",
   "language": "python",
   "name": "python3"
  },
  "language_info": {
   "codemirror_mode": {
    "name": "ipython",
    "version": 3
   },
   "file_extension": ".py",
   "mimetype": "text/x-python",
   "name": "python",
   "nbconvert_exporter": "python",
   "pygments_lexer": "ipython3",
   "version": "3.12.11"
  }
 },
 "nbformat": 4,
 "nbformat_minor": 5
}
