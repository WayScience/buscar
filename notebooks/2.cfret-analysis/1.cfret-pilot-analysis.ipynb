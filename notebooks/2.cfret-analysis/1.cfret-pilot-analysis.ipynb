{
 "cells": [
  {
   "cell_type": "markdown",
   "id": "9ac3fc80",
   "metadata": {},
   "source": [
    "# CFReT Buscar analysis\n",
    "\n",
    "\n",
    "This notebook demonstrates applying the BUSCAR pipeline to the CFReT pilot Cell Painting dataset.\n",
    "It walks through data loading, signature extraction, clustering, measuring phenotypic activity\n",
    "(between a reference control and experimental treatments) and ranking treatments by effect.\n",
    "\n",
    "Data & references\n",
    "- Data source: CFReT pilot dataset (see paper: https://www.ahajournals.org/doi/full/10.1161/CIRCULATIONAHA.124.071956)\n",
    "- Original data repo: https://github.com/WayScience/cellpainting_predicts_cardiac_fibrosis"
   ]
  },
  {
   "cell_type": "code",
   "execution_count": 1,
   "id": "a052f353",
   "metadata": {},
   "outputs": [
    {
     "name": "stderr",
     "output_type": "stream",
     "text": [
      "/home/erikserrano/Software/miniconda3/envs/buscar/lib/python3.12/site-packages/louvain/__init__.py:54: UserWarning: pkg_resources is deprecated as an API. See https://setuptools.pypa.io/en/latest/pkg_resources.html. The pkg_resources package is slated for removal as early as 2025-11-30. Refrain from using this package or pin to Setuptools<81.\n",
      "  from pkg_resources import get_distribution, DistributionNotFound\n"
     ]
    }
   ],
   "source": [
    "import sys\n",
    "import json\n",
    "import pathlib\n",
    "\n",
    "import polars as pl\n",
    "\n",
    "sys.path.append(\"../../\")\n",
    "from utils.io_utils import load_profiles\n",
    "\n",
    "# from utils.metrics import measure_phenotypic_activity\n",
    "from utils.data_utils import split_meta_and_features\n",
    "from utils.signatures import get_signatures\n",
    "from utils.heterogeneity import optimized_clustering\n",
    "from utils.metrics import measure_phenotypic_activity\n",
    "from utils.identify_hits import identify_compound_hit"
   ]
  },
  {
   "cell_type": "markdown",
   "id": "5424c076",
   "metadata": {},
   "source": [
    "Setting paramters"
   ]
  },
  {
   "cell_type": "code",
   "execution_count": 2,
   "id": "e66b0c55",
   "metadata": {},
   "outputs": [],
   "source": [
    "# setting parameters\n",
    "treatment_col = \"Metadata_treatment\"\n",
    "treatment_heart_col = \"Metadata_treatment_and_heart\"\n",
    "\n",
    "\n",
    "# parameters used for clustering optimization\n",
    "cfret_cluster_param_grid = {\n",
    "    # Clustering resolution: how granular the clusters should be\n",
    "    \"cluster_resolution\": {\"type\": \"float\", \"low\": 0.1, \"high\": 2.2},\n",
    "    # Number of neighbors for graph construction\n",
    "    \"n_neighbors\": {\"type\": \"int\", \"low\": 5, \"high\": 100},\n",
    "    # Clustering algorithm\n",
    "    \"cluster_method\": {\"type\": \"categorical\", \"choices\": [\"leiden\", \"louvain\"]},\n",
    "    # Distance metric for neighbor computation\n",
    "    \"neighbor_distance_metric\": {\n",
    "        \"type\": \"categorical\",\n",
    "        \"choices\": [\"euclidean\", \"cosine\", \"manhattan\"],\n",
    "    },\n",
    "    # Dimensionality reduction approach\n",
    "    \"dim_reduction\": {\"type\": \"categorical\", \"choices\": [\"PCA\", \"raw\"]},\n",
    "}"
   ]
  },
  {
   "cell_type": "markdown",
   "id": "6ea34b95",
   "metadata": {},
   "source": [
    "Setting input and output paths"
   ]
  },
  {
   "cell_type": "code",
   "execution_count": 3,
   "id": "61c684d4",
   "metadata": {},
   "outputs": [],
   "source": [
    "# load in raw data from\n",
    "cfret_data_dir = pathlib.Path(\"../0.download-data/data/sc-profiles/cfret/\").resolve(\n",
    "    strict=True\n",
    ")\n",
    "cfret_profiles_path = (\n",
    "    cfret_data_dir / \"localhost230405150001_sc_feature_selected.parquet\"\n",
    ").resolve(strict=True)\n",
    "cfret_feature_space_path = (\n",
    "    cfret_data_dir / \"cfret_feature_space_configs.json\"\n",
    ").resolve(strict=True)\n",
    "\n",
    "# make results dir\n",
    "results_dir = pathlib.Path(\"./results/cfret-pilot\").resolve()\n",
    "results_dir.mkdir(parents=True, exist_ok=True)"
   ]
  },
  {
   "cell_type": "markdown",
   "id": "f8a48f4c",
   "metadata": {},
   "source": [
    "Data preprocessing \n",
    "- "
   ]
  },
  {
   "cell_type": "code",
   "execution_count": 4,
   "id": "d46f7bb0",
   "metadata": {},
   "outputs": [
    {
     "data": {
      "text/html": [
       "<div><style>\n",
       ".dataframe > thead > tr,\n",
       ".dataframe > tbody > tr {\n",
       "  text-align: right;\n",
       "  white-space: pre-wrap;\n",
       "}\n",
       "</style>\n",
       "<small>shape: (5, 677)</small><table border=\"1\" class=\"dataframe\"><thead><tr><th>Metadata_WellRow</th><th>Metadata_WellCol</th><th>Metadata_heart_number</th><th>Metadata_cell_type</th><th>Metadata_heart_failure_type</th><th>Metadata_treatment</th><th>Metadata_Nuclei_Location_Center_X</th><th>Metadata_Nuclei_Location_Center_Y</th><th>Metadata_Cells_Location_Center_X</th><th>Metadata_Cells_Location_Center_Y</th><th>Metadata_Image_Count_Cells</th><th>Metadata_ImageNumber</th><th>Metadata_Plate</th><th>Metadata_Well</th><th>Metadata_Cells_Number_Object_Number</th><th>Metadata_Cytoplasm_Parent_Cells</th><th>Metadata_Cytoplasm_Parent_Nuclei</th><th>Metadata_Nuclei_Number_Object_Number</th><th>Metadata_Site</th><th>Cytoplasm_AreaShape_BoundingBoxMinimum_X</th><th>Cytoplasm_AreaShape_Compactness</th><th>Cytoplasm_AreaShape_Eccentricity</th><th>Cytoplasm_AreaShape_Extent</th><th>Cytoplasm_AreaShape_FormFactor</th><th>Cytoplasm_AreaShape_MajorAxisLength</th><th>Cytoplasm_AreaShape_MeanRadius</th><th>Cytoplasm_AreaShape_MinorAxisLength</th><th>Cytoplasm_AreaShape_Perimeter</th><th>Cytoplasm_AreaShape_Solidity</th><th>Cytoplasm_AreaShape_Zernike_0_0</th><th>Cytoplasm_AreaShape_Zernike_1_1</th><th>Cytoplasm_AreaShape_Zernike_2_0</th><th>Cytoplasm_AreaShape_Zernike_2_2</th><th>Cytoplasm_AreaShape_Zernike_3_1</th><th>Cytoplasm_AreaShape_Zernike_4_0</th><th>Cytoplasm_AreaShape_Zernike_4_2</th><th>Cytoplasm_AreaShape_Zernike_5_1</th><th>&hellip;</th><th>Nuclei_Texture_DifferenceVariance_Actin_3_01_256</th><th>Nuclei_Texture_DifferenceVariance_Mitochondria_3_03_256</th><th>Nuclei_Texture_DifferenceVariance_PM_3_03_256</th><th>Nuclei_Texture_InfoMeas1_ER_3_00_256</th><th>Nuclei_Texture_InfoMeas1_ER_3_01_256</th><th>Nuclei_Texture_InfoMeas1_ER_3_02_256</th><th>Nuclei_Texture_InfoMeas1_ER_3_03_256</th><th>Nuclei_Texture_InfoMeas1_Hoechst_3_00_256</th><th>Nuclei_Texture_InfoMeas1_Hoechst_3_01_256</th><th>Nuclei_Texture_InfoMeas1_Hoechst_3_02_256</th><th>Nuclei_Texture_InfoMeas1_Hoechst_3_03_256</th><th>Nuclei_Texture_InfoMeas1_Mitochondria_3_00_256</th><th>Nuclei_Texture_InfoMeas1_Mitochondria_3_01_256</th><th>Nuclei_Texture_InfoMeas1_Mitochondria_3_02_256</th><th>Nuclei_Texture_InfoMeas1_Mitochondria_3_03_256</th><th>Nuclei_Texture_InfoMeas1_PM_3_00_256</th><th>Nuclei_Texture_InfoMeas1_PM_3_01_256</th><th>Nuclei_Texture_InfoMeas1_PM_3_02_256</th><th>Nuclei_Texture_InfoMeas1_PM_3_03_256</th><th>Nuclei_Texture_InfoMeas2_ER_3_01_256</th><th>Nuclei_Texture_InfoMeas2_ER_3_03_256</th><th>Nuclei_Texture_InfoMeas2_Hoechst_3_01_256</th><th>Nuclei_Texture_InfoMeas2_Hoechst_3_03_256</th><th>Nuclei_Texture_InfoMeas2_PM_3_01_256</th><th>Nuclei_Texture_InfoMeas2_PM_3_03_256</th><th>Nuclei_Texture_InverseDifferenceMoment_Actin_3_02_256</th><th>Nuclei_Texture_InverseDifferenceMoment_ER_3_01_256</th><th>Nuclei_Texture_InverseDifferenceMoment_ER_3_03_256</th><th>Nuclei_Texture_InverseDifferenceMoment_Mitochondria_3_03_256</th><th>Nuclei_Texture_InverseDifferenceMoment_PM_3_01_256</th><th>Nuclei_Texture_InverseDifferenceMoment_PM_3_03_256</th><th>Nuclei_Texture_SumEntropy_PM_3_01_256</th><th>Nuclei_Texture_SumVariance_ER_3_03_256</th><th>Nuclei_Texture_SumVariance_Hoechst_3_03_256</th><th>Nuclei_Texture_SumVariance_Mitochondria_3_01_256</th><th>Nuclei_Texture_SumVariance_PM_3_01_256</th><th>Metadata_treatment_and_heart</th></tr><tr><td>str</td><td>i64</td><td>i64</td><td>str</td><td>str</td><td>str</td><td>f64</td><td>f64</td><td>f64</td><td>f64</td><td>i64</td><td>i64</td><td>str</td><td>str</td><td>i64</td><td>i64</td><td>i64</td><td>i64</td><td>str</td><td>f64</td><td>f64</td><td>f64</td><td>f64</td><td>f64</td><td>f64</td><td>f64</td><td>f64</td><td>f64</td><td>f64</td><td>f64</td><td>f64</td><td>f64</td><td>f64</td><td>f64</td><td>f64</td><td>f64</td><td>f64</td><td>&hellip;</td><td>f64</td><td>f64</td><td>f64</td><td>f64</td><td>f64</td><td>f64</td><td>f64</td><td>f64</td><td>f64</td><td>f64</td><td>f64</td><td>f64</td><td>f64</td><td>f64</td><td>f64</td><td>f64</td><td>f64</td><td>f64</td><td>f64</td><td>f64</td><td>f64</td><td>f64</td><td>f64</td><td>f64</td><td>f64</td><td>f64</td><td>f64</td><td>f64</td><td>f64</td><td>f64</td><td>f64</td><td>f64</td><td>f64</td><td>f64</td><td>f64</td><td>f64</td><td>str</td></tr></thead><tbody><tr><td>&quot;B&quot;</td><td>2</td><td>9</td><td>&quot;failing&quot;</td><td>&quot;rejected&quot;</td><td>&quot;DMSO_heart_9&quot;</td><td>221.046761</td><td>137.115493</td><td>246.6028</td><td>109.285755</td><td>40</td><td>1</td><td>&quot;localhost230405150001&quot;</td><td>&quot;B02&quot;</td><td>1</td><td>1</td><td>6</td><td>6</td><td>&quot;f00&quot;</td><td>-1.35494</td><td>0.841229</td><td>0.648883</td><td>-0.850138</td><td>-1.045214</td><td>1.298358</td><td>0.376165</td><td>0.935101</td><td>1.530228</td><td>-0.983617</td><td>-0.261031</td><td>-0.299817</td><td>-0.721977</td><td>0.944725</td><td>0.161074</td><td>0.532329</td><td>1.845864</td><td>-1.418634</td><td>&hellip;</td><td>-0.052719</td><td>0.797095</td><td>0.359081</td><td>-0.173336</td><td>0.300041</td><td>0.217945</td><td>-0.039774</td><td>0.488531</td><td>0.472164</td><td>0.28659</td><td>0.464359</td><td>0.501649</td><td>0.507623</td><td>1.076663</td><td>0.741941</td><td>-0.696022</td><td>-0.178762</td><td>0.186741</td><td>0.158222</td><td>0.341595</td><td>0.50487</td><td>-0.440604</td><td>-0.426966</td><td>0.194372</td><td>-0.035117</td><td>0.400021</td><td>-0.619206</td><td>-0.393448</td><td>0.961214</td><td>0.406068</td><td>0.374039</td><td>-0.280532</td><td>-0.158967</td><td>-0.344804</td><td>-0.263653</td><td>-0.305486</td><td>&quot;DMSO_heart_9&quot;</td></tr><tr><td>&quot;B&quot;</td><td>2</td><td>9</td><td>&quot;failing&quot;</td><td>&quot;rejected&quot;</td><td>&quot;DMSO_heart_9&quot;</td><td>690.596142</td><td>183.067828</td><td>716.170091</td><td>177.132195</td><td>40</td><td>1</td><td>&quot;localhost230405150001&quot;</td><td>&quot;B02&quot;</td><td>2</td><td>2</td><td>7</td><td>7</td><td>&quot;f00&quot;</td><td>0.657107</td><td>-0.850399</td><td>-0.584931</td><td>2.090925</td><td>1.263259</td><td>-0.021031</td><td>1.627957</td><td>0.944161</td><td>-0.085511</td><td>1.475345</td><td>2.164761</td><td>-0.688462</td><td>1.215015</td><td>1.499086</td><td>-0.770667</td><td>1.012721</td><td>0.6791</td><td>0.429311</td><td>&hellip;</td><td>-0.318777</td><td>-1.154168</td><td>-0.66473</td><td>0.134835</td><td>0.263514</td><td>-0.124309</td><td>0.634517</td><td>0.968512</td><td>0.859562</td><td>0.351144</td><td>0.914468</td><td>-2.508508</td><td>-2.389124</td><td>-1.80698</td><td>-2.121536</td><td>-0.231231</td><td>-0.763949</td><td>-1.055166</td><td>-0.258152</td><td>0.282319</td><td>0.048807</td><td>-0.981164</td><td>-1.0743</td><td>0.612996</td><td>0.290339</td><td>0.030854</td><td>-0.421502</td><td>-0.61852</td><td>-0.050925</td><td>0.424753</td><td>0.323462</td><td>-0.096856</td><td>-0.218001</td><td>-0.359297</td><td>2.621455</td><td>-0.175679</td><td>&quot;DMSO_heart_9&quot;</td></tr><tr><td>&quot;B&quot;</td><td>2</td><td>9</td><td>&quot;failing&quot;</td><td>&quot;rejected&quot;</td><td>&quot;DMSO_heart_9&quot;</td><td>626.56149</td><td>206.923698</td><td>623.94374</td><td>199.90644</td><td>40</td><td>1</td><td>&quot;localhost230405150001&quot;</td><td>&quot;B02&quot;</td><td>3</td><td>3</td><td>8</td><td>8</td><td>&quot;f00&quot;</td><td>0.384287</td><td>-0.727344</td><td>0.399813</td><td>0.699568</td><td>0.778991</td><td>-0.192578</td><td>-0.166121</td><td>-0.185078</td><td>-0.620564</td><td>0.385325</td><td>0.41953</td><td>-1.35377</td><td>-0.189027</td><td>1.88019</td><td>-0.198823</td><td>0.77826</td><td>2.084304</td><td>0.866506</td><td>&hellip;</td><td>-0.437225</td><td>0.097014</td><td>0.148712</td><td>-0.126239</td><td>0.315114</td><td>-0.682006</td><td>-0.952994</td><td>0.534521</td><td>0.448969</td><td>-0.512213</td><td>0.68761</td><td>-0.333052</td><td>-1.116806</td><td>-0.671374</td><td>-0.085583</td><td>0.565659</td><td>0.117809</td><td>-0.035232</td><td>0.340022</td><td>0.392109</td><td>0.906171</td><td>-0.637012</td><td>-0.912759</td><td>-0.139719</td><td>-0.319312</td><td>-0.119514</td><td>-0.62708</td><td>-0.213998</td><td>0.492022</td><td>0.783465</td><td>0.531513</td><td>-0.515924</td><td>-0.090464</td><td>-0.381751</td><td>-0.23489</td><td>-0.312005</td><td>&quot;DMSO_heart_9&quot;</td></tr><tr><td>&quot;B&quot;</td><td>2</td><td>9</td><td>&quot;failing&quot;</td><td>&quot;rejected&quot;</td><td>&quot;DMSO_heart_9&quot;</td><td>559.448583</td><td>220.68816</td><td>528.646623</td><td>196.955552</td><td>40</td><td>1</td><td>&quot;localhost230405150001&quot;</td><td>&quot;B02&quot;</td><td>4</td><td>4</td><td>9</td><td>9</td><td>&quot;f00&quot;</td><td>-0.08178</td><td>-0.31057</td><td>-1.984463</td><td>0.923396</td><td>-0.152527</td><td>-0.454748</td><td>0.485672</td><td>0.978143</td><td>0.075853</td><td>0.333035</td><td>1.036702</td><td>2.124015</td><td>-0.11271</td><td>-1.276017</td><td>0.663499</td><td>1.351768</td><td>-2.07981</td><td>2.000062</td><td>&hellip;</td><td>-0.180273</td><td>0.154455</td><td>0.355861</td><td>-0.285138</td><td>0.187411</td><td>-0.401472</td><td>-1.323716</td><td>0.216479</td><td>0.694455</td><td>0.22334</td><td>0.272893</td><td>-1.610123</td><td>-1.983535</td><td>-1.990444</td><td>-1.759351</td><td>-0.667021</td><td>-1.511134</td><td>-1.70973</td><td>-1.025608</td><td>0.38988</td><td>0.970785</td><td>-0.723812</td><td>-0.240465</td><td>1.02861</td><td>0.817875</td><td>0.731123</td><td>-0.410279</td><td>0.066951</td><td>0.233985</td><td>0.697668</td><td>0.3868</td><td>0.216837</td><td>-0.078625</td><td>-0.345897</td><td>-0.148249</td><td>-0.205381</td><td>&quot;DMSO_heart_9&quot;</td></tr><tr><td>&quot;B&quot;</td><td>2</td><td>9</td><td>&quot;failing&quot;</td><td>&quot;rejected&quot;</td><td>&quot;DMSO_heart_9&quot;</td><td>909.019946</td><td>247.69434</td><td>897.965996</td><td>253.621836</td><td>40</td><td>1</td><td>&quot;localhost230405150001&quot;</td><td>&quot;B02&quot;</td><td>5</td><td>5</td><td>10</td><td>10</td><td>&quot;f00&quot;</td><td>1.384627</td><td>-0.236857</td><td>0.651571</td><td>-0.525561</td><td>-0.256208</td><td>-0.352022</td><td>-0.51073</td><td>-0.650514</td><td>-0.61187</td><td>-0.390602</td><td>-0.915644</td><td>0.274757</td><td>-0.807468</td><td>-0.263914</td><td>1.012877</td><td>0.333081</td><td>0.457026</td><td>-0.320432</td><td>&hellip;</td><td>-0.235359</td><td>-0.874322</td><td>1.036752</td><td>0.560328</td><td>0.087048</td><td>0.500935</td><td>1.024688</td><td>0.682356</td><td>0.703425</td><td>-0.559919</td><td>0.535412</td><td>-0.446346</td><td>-0.250839</td><td>-0.325067</td><td>-0.220781</td><td>0.135176</td><td>-0.068065</td><td>-1.328074</td><td>-0.471597</td><td>-0.313553</td><td>-1.011855</td><td>-0.921082</td><td>-0.718369</td><td>-0.1701</td><td>0.076669</td><td>0.151063</td><td>0.78411</td><td>0.796587</td><td>-0.833035</td><td>0.971781</td><td>0.96971</td><td>-0.859995</td><td>-0.437968</td><td>-0.375427</td><td>0.054053</td><td>-0.346036</td><td>&quot;DMSO_heart_9&quot;</td></tr></tbody></table></div>"
      ],
      "text/plain": [
       "shape: (5, 677)\n",
       "┌───────────┬───────────┬───────────┬───────────┬───┬───────────┬───────────┬───────────┬──────────┐\n",
       "│ Metadata_ ┆ Metadata_ ┆ Metadata_ ┆ Metadata_ ┆ … ┆ Nuclei_Te ┆ Nuclei_Te ┆ Nuclei_Te ┆ Metadata │\n",
       "│ WellRow   ┆ WellCol   ┆ heart_num ┆ cell_type ┆   ┆ xture_Sum ┆ xture_Sum ┆ xture_Sum ┆ _treatme │\n",
       "│ ---       ┆ ---       ┆ ber       ┆ ---       ┆   ┆ Variance_ ┆ Variance_ ┆ Variance_ ┆ nt_and_h │\n",
       "│ str       ┆ i64       ┆ ---       ┆ str       ┆   ┆ Hoe…      ┆ Mit…      ┆ PM_…      ┆ eart     │\n",
       "│           ┆           ┆ i64       ┆           ┆   ┆ ---       ┆ ---       ┆ ---       ┆ ---      │\n",
       "│           ┆           ┆           ┆           ┆   ┆ f64       ┆ f64       ┆ f64       ┆ str      │\n",
       "╞═══════════╪═══════════╪═══════════╪═══════════╪═══╪═══════════╪═══════════╪═══════════╪══════════╡\n",
       "│ B         ┆ 2         ┆ 9         ┆ failing   ┆ … ┆ -0.344804 ┆ -0.263653 ┆ -0.305486 ┆ DMSO_hea │\n",
       "│           ┆           ┆           ┆           ┆   ┆           ┆           ┆           ┆ rt_9     │\n",
       "│ B         ┆ 2         ┆ 9         ┆ failing   ┆ … ┆ -0.359297 ┆ 2.621455  ┆ -0.175679 ┆ DMSO_hea │\n",
       "│           ┆           ┆           ┆           ┆   ┆           ┆           ┆           ┆ rt_9     │\n",
       "│ B         ┆ 2         ┆ 9         ┆ failing   ┆ … ┆ -0.381751 ┆ -0.23489  ┆ -0.312005 ┆ DMSO_hea │\n",
       "│           ┆           ┆           ┆           ┆   ┆           ┆           ┆           ┆ rt_9     │\n",
       "│ B         ┆ 2         ┆ 9         ┆ failing   ┆ … ┆ -0.345897 ┆ -0.148249 ┆ -0.205381 ┆ DMSO_hea │\n",
       "│           ┆           ┆           ┆           ┆   ┆           ┆           ┆           ┆ rt_9     │\n",
       "│ B         ┆ 2         ┆ 9         ┆ failing   ┆ … ┆ -0.375427 ┆ 0.054053  ┆ -0.346036 ┆ DMSO_hea │\n",
       "│           ┆           ┆           ┆           ┆   ┆           ┆           ┆           ┆ rt_9     │\n",
       "└───────────┴───────────┴───────────┴───────────┴───┴───────────┴───────────┴───────────┴──────────┘"
      ]
     },
     "execution_count": 4,
     "metadata": {},
     "output_type": "execute_result"
    }
   ],
   "source": [
    "# loading profiles\n",
    "cfret_df = load_profiles(cfret_profiles_path)\n",
    "\n",
    "# add another metadata column that combins both Metadata_heart_number and Metadata_treatment\n",
    "cfret_df = cfret_df.with_columns(\n",
    "    (\n",
    "        pl.col(\"Metadata_treatment\").cast(pl.Utf8)\n",
    "        + \"_heart_\"\n",
    "        + pl.col(\"Metadata_heart_number\").cast(pl.Utf8)\n",
    "    ).alias(\"Metadata_treatment_and_heart\")\n",
    ")\n",
    "\n",
    "# Update the Metadata_treatment column that distinguishes what is the reference\n",
    "# among other treatments in this example we are using heart 11 + DMSO as our\n",
    "# reference (healthy heart + DMSO)\n",
    "cfret_df = cfret_df.with_columns(\n",
    "    pl.when(\n",
    "        (pl.col(\"Metadata_treatment\") == \"DMSO\")\n",
    "        & (pl.col(\"Metadata_heart_number\") == 11)\n",
    "    )\n",
    "    .then(pl.lit(\"DMSO_heart_11\"))\n",
    "    .otherwise(pl.col(\"Metadata_treatment\"))\n",
    "    .alias(\"Metadata_treatment\")\n",
    ")\n",
    "cfret_df = cfret_df.with_columns(\n",
    "    pl.when(\n",
    "        (pl.col(\"Metadata_treatment\") == \"DMSO\")\n",
    "        & (pl.col(\"Metadata_heart_number\") == 9)\n",
    "    )\n",
    "    .then(pl.lit(\"DMSO_heart_9\"))\n",
    "    .otherwise(pl.col(\"Metadata_treatment\"))\n",
    "    .alias(\"Metadata_treatment\")\n",
    ")\n",
    "\n",
    "# split features\n",
    "cfret_meta, cfret_feats = split_meta_and_features(cfret_df)\n",
    "\n",
    "\n",
    "# Display data\n",
    "cfret_df.head()"
   ]
  },
  {
   "cell_type": "markdown",
   "id": "0a1a597a",
   "metadata": {},
   "source": [
    "## BUSCAR pipeline"
   ]
  },
  {
   "cell_type": "markdown",
   "id": "da8220dd",
   "metadata": {},
   "source": [
    "Creating on and off morphology signatures"
   ]
  },
  {
   "cell_type": "code",
   "execution_count": 5,
   "id": "437ca668",
   "metadata": {},
   "outputs": [
    {
     "name": "stdout",
     "output_type": "stream",
     "text": [
      "Signatures already exist, skipping this step.\n"
     ]
    }
   ],
   "source": [
    "# setting output paths\n",
    "signatures_outpath = (results_dir / \"cfret_pilot_signatures.json\").resolve()\n",
    "\n",
    "if signatures_outpath.exists():\n",
    "    print(\"Signatures already exist, skipping this step.\")\n",
    "    with open(signatures_outpath, \"r\") as f:\n",
    "        sigs = json.load(f)\n",
    "        on_sigs = sigs[\"on\"]\n",
    "        off_sigs = sigs[\"off\"]\n",
    "else:\n",
    "    # once the data is loaded, separate the controls\n",
    "    negcon_df = cfret_df.filter(pl.col(\"Metadata_treatment\") == \"DMSO_heart_9\")\n",
    "    poscon_df = cfret_df.filter(pl.col(\"Metadata_treatment\") == \"DMSO_heart_11\")\n",
    "\n",
    "    # creating signatures\n",
    "    on_sigs, off_sigs, _ = get_signatures(\n",
    "        ref_profiles=negcon_df,\n",
    "        exp_profiles=poscon_df,\n",
    "        morph_feats=cfret_feats,\n",
    "        test_method=\"mann_whitney_u\",\n",
    "    )\n",
    "\n",
    "    # Save signatures as json file\n",
    "    with open(signatures_outpath, \"w\") as f:\n",
    "        json.dump({\"on\": on_sigs, \"off\": off_sigs}, f, indent=4)"
   ]
  },
  {
   "cell_type": "markdown",
   "id": "47425cab",
   "metadata": {},
   "source": [
    "assess heterogeneity "
   ]
  },
  {
   "cell_type": "code",
   "execution_count": 6,
   "id": "7bc3980e",
   "metadata": {},
   "outputs": [],
   "source": [
    "# setting best params outputs\n",
    "treatment_best_params_outpath = (\n",
    "    results_dir / \"cfret_treatment_clustering_params.json\"\n",
    ").resolve()\n",
    "cfret_treatment_cluster_df_outpath = (\n",
    "    results_dir / \"cfret_treatment_clustered.parquet\"\n",
    ").resolve()\n",
    "cfret_treatment_heart_cluster_df_outpath = (\n",
    "    results_dir / \"cfret_treatment_heart_clustered.parquet\"\n",
    ").resolve()\n",
    "treatment_heart_best_params_outpath = (\n",
    "    results_dir / \"cfret_treatment_heart_clustering_params.json\"\n",
    ").resolve()\n",
    "\n",
    "# check if the files exist, if they do skip this step\n",
    "if all(\n",
    "    path.exists()\n",
    "    for path in [\n",
    "        treatment_best_params_outpath,\n",
    "        cfret_treatment_cluster_df_outpath,\n",
    "    ]\n",
    "):\n",
    "    # load the profiles\n",
    "    cfret_treatment_clustered_df = pl.read_parquet(cfret_treatment_cluster_df_outpath)\n",
    "else:\n",
    "    # here we are clustering each treatment regardless of heart\n",
    "    # this will allow us to see how each treatment affects the population as a whole\n",
    "    cfret_treatment_clustered_df, cfret_treatment_clustered_best_params = (\n",
    "        optimized_clustering(\n",
    "            profiles=cfret_df,\n",
    "            meta_features=cfret_meta,\n",
    "            morph_features=cfret_feats,\n",
    "            treatment_col=treatment_col,\n",
    "            param_grid=cfret_cluster_param_grid,\n",
    "            n_trials=200,\n",
    "            n_jobs=1,\n",
    "        )\n",
    "    )\n",
    "\n",
    "    # save best params as json and dataframe as parquet\n",
    "    cfret_treatment_clustered_df.write_parquet(cfret_treatment_cluster_df_outpath)\n",
    "    with open(treatment_best_params_outpath, \"w\") as f:\n",
    "        json.dump(\n",
    "            cfret_treatment_clustered_best_params,\n",
    "            f,\n",
    "            indent=4,\n",
    "        )\n",
    "\n",
    "\n",
    "# check if the files exist, if they do skip this step aswell\n",
    "if all(\n",
    "    path.exists()\n",
    "    for path in [\n",
    "        cfret_treatment_heart_cluster_df_outpath,\n",
    "        treatment_heart_best_params_outpath,\n",
    "    ]\n",
    "):\n",
    "    # load the profiles\n",
    "    cfret_treatment_heart_clustered_df = pl.read_parquet(\n",
    "        cfret_treatment_heart_cluster_df_outpath\n",
    "    )\n",
    "else:\n",
    "    # here we are clustering each treatment-heart combination\n",
    "    # this will allow us to see how each heart responds to each treatment\n",
    "    cfret_treatment_heart_clustered_df, cfret_treatment_heart_clustered_best_params = (\n",
    "        optimized_clustering(\n",
    "            profiles=cfret_df,\n",
    "            meta_features=cfret_meta,\n",
    "            morph_features=cfret_feats,\n",
    "            treatment_col=treatment_heart_col,\n",
    "            param_grid=cfret_cluster_param_grid,\n",
    "            n_trials=200,\n",
    "            n_jobs=1,\n",
    "        )\n",
    "    )\n",
    "\n",
    "    # save best params as json and dataframe as parquet\n",
    "    cfret_treatment_heart_clustered_df.write_parquet(\n",
    "        cfret_treatment_heart_cluster_df_outpath\n",
    "    )\n",
    "    with open(treatment_heart_best_params_outpath, \"w\") as f:\n",
    "        json.dump(\n",
    "            cfret_treatment_heart_clustered_best_params,\n",
    "            f,\n",
    "            indent=4,\n",
    "        )"
   ]
  },
  {
   "cell_type": "markdown",
   "id": "75e48a3f",
   "metadata": {},
   "source": [
    "Measure phenotypic activity between clusters"
   ]
  },
  {
   "cell_type": "code",
   "execution_count": 7,
   "id": "dc6be2d0",
   "metadata": {},
   "outputs": [
    {
     "name": "stdout",
     "output_type": "stream",
     "text": [
      "Distance scores already exist, skipping this step.\n"
     ]
    }
   ],
   "source": [
    "# setting output paths\n",
    "treatment_dist_scores_outpath = (\n",
    "    results_dir / \"treatment_phenotypic_dist_scores.csv\"\n",
    ").resolve()\n",
    "treatment_heart_dist_scores_outpath = (\n",
    "    results_dir / \"treatment_heart_dist_scores.csv\"\n",
    ").resolve()\n",
    "\n",
    "if all(\n",
    "    path.exists()\n",
    "    for path in [\n",
    "        treatment_dist_scores_outpath,\n",
    "        treatment_heart_dist_scores_outpath,\n",
    "    ]\n",
    "):\n",
    "    print(\"Distance scores already exist, skipping this step.\")\n",
    "\n",
    "    # load the distance scores\n",
    "    treatment_dist_scores = pl.read_csv(treatment_dist_scores_outpath)\n",
    "    treatment_heart_dist_scores = pl.read_csv(treatment_heart_dist_scores_outpath)\n",
    "\n",
    "else:\n",
    "    # measuring phenotypic activity\n",
    "    treatment_dist_scores = measure_phenotypic_activity(\n",
    "        profiles=cfret_treatment_clustered_df,\n",
    "        on_signature=on_sigs,\n",
    "        off_signature=off_sigs,\n",
    "        ref_treatment=\"DMSO_heart_11\",\n",
    "    )\n",
    "\n",
    "    treatment_heart_dist_scores = measure_phenotypic_activity(\n",
    "        profiles=cfret_treatment_heart_clustered_df,\n",
    "        on_signature=on_sigs,\n",
    "        off_signature=off_sigs,\n",
    "        ref_treatment=\"DMSO_heart_11\",\n",
    "        treatment_col=treatment_heart_col,\n",
    "    )\n",
    "\n",
    "    # save those as csv files\n",
    "    treatment_dist_scores.write_csv(treatment_dist_scores_outpath)\n",
    "    treatment_heart_dist_scores.write_csv(treatment_heart_dist_scores_outpath)"
   ]
  },
  {
   "cell_type": "markdown",
   "id": "57da629a",
   "metadata": {},
   "source": [
    "Rank treatments"
   ]
  },
  {
   "cell_type": "code",
   "execution_count": 8,
   "id": "83bfbb82",
   "metadata": {},
   "outputs": [
    {
     "name": "stdout",
     "output_type": "stream",
     "text": [
      "Rankings already exist, skipping this step.\n"
     ]
    }
   ],
   "source": [
    "# setting outptut paths\n",
    "treatment_rankings_outpath = (results_dir / \"treatment_rankings.csv\").resolve()\n",
    "treatment_heart_rankings_outpath = (\n",
    "    results_dir / \"treatment_heart_rankings.csv\"\n",
    ").resolve()\n",
    "\n",
    "if all(\n",
    "    path.exists()\n",
    "    for path in [\n",
    "        treatment_rankings_outpath,\n",
    "        treatment_heart_rankings_outpath,\n",
    "    ]\n",
    "):\n",
    "    print(\"Rankings already exist, skipping this step.\")\n",
    "\n",
    "    # load the rankings\n",
    "    treatment_rankings = pl.read_csv(treatment_rankings_outpath)\n",
    "    treatment_heart_rankings = pl.read_csv(treatment_heart_rankings_outpath)\n",
    "else:\n",
    "    treatment_rankings = identify_compound_hit(\n",
    "        distance_df=treatment_dist_scores, method=\"weighted_sum\"\n",
    "    )\n",
    "\n",
    "    treatment_heart_rankings = identify_compound_hit(\n",
    "        distance_df=treatment_heart_dist_scores, method=\"weighted_sum\"\n",
    "    )\n",
    "\n",
    "    # save as csv files\n",
    "    treatment_rankings.write_csv(treatment_rankings_outpath)\n",
    "    treatment_heart_rankings.write_csv(treatment_heart_rankings_outpath)"
   ]
  }
 ],
 "metadata": {
  "kernelspec": {
   "display_name": "buscar",
   "language": "python",
   "name": "python3"
  },
  "language_info": {
   "codemirror_mode": {
    "name": "ipython",
    "version": 3
   },
   "file_extension": ".py",
   "mimetype": "text/x-python",
   "name": "python",
   "nbconvert_exporter": "python",
   "pygments_lexer": "ipython3",
   "version": "3.12.11"
  }
 },
 "nbformat": 4,
 "nbformat_minor": 5
}
