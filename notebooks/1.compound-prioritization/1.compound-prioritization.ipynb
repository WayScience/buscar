{
    "cells": [
        {
            "cell_type": "markdown",
            "metadata": {},
            "source": [
                "# Compound Prioritization Analysis\n",
                "\n",
                "In this notebook, we conduct a compound prioritization analysis to identify potential candidate compounds from high-content drug screens. This process enables us to select compounds with the most promising biological effects based on their morphological impact."
            ]
        },
        {
            "cell_type": "code",
            "execution_count": 1,
            "metadata": {},
            "outputs": [],
            "source": [
                "import sys\n",
                "import pathlib\n",
                "import pandas as pd\n",
                "\n",
                "# using analysis module imports\n",
                "sys.path.append(\"../../\")\n",
                "import src.utils as utils"
            ]
        },
        {
            "cell_type": "code",
            "execution_count": 2,
            "metadata": {},
            "outputs": [],
            "source": [
                "# creating results directory\n",
                "result_dir = utils.create_results_dir()\n",
                "\n",
                "# loading in cell-injury data\n",
                "cell_injury_data_path = pathlib.Path(\"../data/labeled_cell_injury_df.parquet\").resolve(\n",
                "    strict=True\n",
                ")"
            ]
        },
        {
            "cell_type": "code",
            "execution_count": 10,
            "metadata": {},
            "outputs": [],
            "source": [
                "# loading data files\n",
                "cell_injury_df = pd.read_parquet(cell_injury_data_path)\n",
                "\n",
                "# split metadata and morphology feature column names\n",
                "meta_colnames, feat_colnames = utils.split_meta_and_features(profile=cell_injury_df)"
            ]
        },
        {
            "cell_type": "code",
            "execution_count": 17,
            "metadata": {},
            "outputs": [
                {
                    "name": "stdout",
                    "output_type": "stream",
                    "text": [
                        "Total number of control wells: 9855\n",
                        "Total number of wells cytoskeletal injury: 1472\n"
                    ]
                }
            ],
            "source": [
                "# only selecting wells that have been treated with DMSO and CytoSkeletal\n",
                "control_df = cell_injury_df.loc[cell_injury_df[\"injury_type\"] == \"Control\"][\n",
                "    feat_colnames\n",
                "]\n",
                "cyto_injury_df = cell_injury_df.loc[cell_injury_df[\"injury_type\"] == \"Cytoskeletal\"][\n",
                "    feat_colnames\n",
                "]\n",
                "\n",
                "# display sizes\n",
                "print(f\"Total number of control wells: {control_df.shape[0]}\")\n",
                "print(f\"Total number of wells cytoskeletal injury: {cyto_injury_df.shape[0]}\")"
            ]
        },
        {
            "cell_type": "code",
            "execution_count": 49,
            "metadata": {},
            "outputs": [],
            "source": [
                "target = control_df\n",
                "reference = cyto_injury_df"
            ]
        },
        {
            "cell_type": "code",
            "execution_count": null,
            "metadata": {},
            "outputs": [],
            "source": []
        }
    ],
    "metadata": {
        "kernelspec": {
            "display_name": "CFReT-compound-prio",
            "language": "python",
            "name": "python3"
        },
        "language_info": {
            "codemirror_mode": {
                "name": "ipython",
                "version": 3
            },
            "file_extension": ".py",
            "mimetype": "text/x-python",
            "name": "python",
            "nbconvert_exporter": "python",
            "pygments_lexer": "ipython3",
            "version": "3.11.10"
        }
    },
    "nbformat": 4,
    "nbformat_minor": 2
}
