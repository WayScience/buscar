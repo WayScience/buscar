{
 "cells": [
  {
   "cell_type": "markdown",
   "id": "293811c0",
   "metadata": {},
   "source": [
    "# Extracting Morphological Signatures\n",
    "\n",
    "In this notebook, we extract morphological signatures associated with two distinct cellular states:  \n",
    "- **On-morphology features**: Features that significantly change with the cellular state  \n",
    "- **Off-morphology features**: Features that do not show significant changes\n",
    "\n",
    "We identify and categorize features as either on- or off-morphology signatures using a systematic workflow.  \n",
    "This approach is applied to three datasets: Pilot-CFReT, MitoCheck, and CPJUMP1 (CRISPR only)."
   ]
  },
  {
   "cell_type": "code",
   "execution_count": null,
   "id": "75f8e42f",
   "metadata": {},
   "outputs": [],
   "source": [
    "import sys\n",
    "import json\n",
    "import pathlib\n",
    "import pprint\n",
    "from collections import Counter\n",
    "\n",
    "import polars as pl\n",
    "\n",
    "sys.path.append(\"../../\")\n",
    "from utils.signatures import get_signatures\n",
    "from utils.io_utils import load_profiles\n",
    "from utils.data_utils import split_meta_and_features"
   ]
  },
  {
   "cell_type": "code",
   "execution_count": null,
   "id": "2786a7e3",
   "metadata": {},
   "outputs": [],
   "source": [
    "# parameters\n",
    "method = \"ks_test\""
   ]
  },
  {
   "cell_type": "markdown",
   "id": "c3bebb22",
   "metadata": {},
   "source": [
    "Setting input and output paths"
   ]
  },
  {
   "cell_type": "code",
   "execution_count": null,
   "id": "de5258a2",
   "metadata": {},
   "outputs": [],
   "source": [
    "# setting data directory path\n",
    "data_dir = pathlib.Path(\"../0.download-data/data/\").resolve(strict=True)\n",
    "data_sc_profiles_path = (data_dir / \"sc-profiles\").resolve(strict=True)\n",
    "data_results_dir = pathlib.Path(\"../0.download-data/results/\").resolve(strict=True)\n",
    "\n",
    "# setting dataset paths\n",
    "jump_crispr_data_path = (data_results_dir / \"concat_crispr_profiles.parquet\").resolve(\n",
    "    strict=True\n",
    ")\n",
    "\n",
    "# setting mitocheck profile path\n",
    "mitocheck_profiles_path = (\n",
    "    data_sc_profiles_path\n",
    "    / \"mitocheck\"\n",
    "    / \"concat_mitocheck_cp_profiles_shared_feats.parquet\"\n",
    ").resolve(strict=True)\n",
    "\n",
    "# setting cfret profile path\n",
    "cfret_plate_plat = (\n",
    "    data_sc_profiles_path\n",
    "    / \"cfret\"\n",
    "    / \"localhost230405150001_sc_feature_selected.parquet\"\n",
    ").resolve(strict=True)\n",
    "\n",
    "# setting making a results directory and creating it\n",
    "results_dir = pathlib.Path(\"results\").resolve()\n",
    "results_dir.mkdir(exist_ok=True)\n",
    "\n",
    "# now making a \"signature_results\" within the results directory\n",
    "signature_results_dir = (results_dir / \"signature_results\").resolve()\n",
    "signature_results_dir.mkdir(exist_ok=True)\n"
   ]
  },
  {
   "cell_type": "markdown",
   "id": "6f100b8f",
   "metadata": {},
   "source": [
    "## Loading profiles"
   ]
  },
  {
   "cell_type": "markdown",
   "id": "39059811",
   "metadata": {},
   "source": [
    "### Loading CPJUMP CRISPR profiles"
   ]
  },
  {
   "cell_type": "code",
   "execution_count": null,
   "id": "4c962738",
   "metadata": {},
   "outputs": [
    {
     "data": {
      "text/html": [
       "<div><style>\n",
       ".dataframe > thead > tr,\n",
       ".dataframe > tbody > tr {\n",
       "  text-align: right;\n",
       "  white-space: pre-wrap;\n",
       "}\n",
       "</style>\n",
       "<small>shape: (5, 319)</small><table border=\"1\" class=\"dataframe\"><thead><tr><th>index</th><th>Metadata_broad_sample</th><th>Metadata_ImageNumber</th><th>Metadata_Plate</th><th>Metadata_Site</th><th>Metadata_Well</th><th>Metadata_TableNumber</th><th>Metadata_ObjectNumber_cytoplasm</th><th>Metadata_Cytoplasm_Parent_Cells</th><th>Metadata_Cytoplasm_Parent_Nuclei</th><th>Metadata_ObjectNumber_cells</th><th>Metadata_ObjectNumber</th><th>Metadata_gene</th><th>Metadata_pert_type</th><th>Metadata_control_type</th><th>Metadata_target_sequence</th><th>Metadata_negcon_control_type</th><th>__index_level_0__</th><th>Nuclei_Texture_InverseDifferenceMoment_ER_5_01_256</th><th>Cytoplasm_AreaShape_Zernike_4_2</th><th>Cytoplasm_AreaShape_Zernike_9_3</th><th>Nuclei_RadialDistribution_RadialCV_AGP_2of4</th><th>Nuclei_Correlation_Correlation_DNA_HighZBF</th><th>Cells_Texture_Correlation_HighZBF_5_00_256</th><th>Cells_AreaShape_Solidity</th><th>Nuclei_RadialDistribution_MeanFrac_HighZBF_4of4</th><th>Nuclei_AreaShape_Orientation</th><th>Nuclei_Texture_Correlation_ER_5_02_256</th><th>Cytoplasm_Correlation_Correlation_DNA_LowZBF</th><th>Cytoplasm_Texture_InfoMeas2_DNA_10_01_256</th><th>Cells_RadialDistribution_FracAtD_DNA_2of4</th><th>Cells_RadialDistribution_MeanFrac_HighZBF_1of4</th><th>Nuclei_RadialDistribution_MeanFrac_Mito_4of4</th><th>Cells_Correlation_RWC_DNA_ER</th><th>Cells_Texture_InfoMeas2_ER_3_00_256</th><th>Cells_RadialDistribution_MeanFrac_HighZBF_2of4</th><th>Cytoplasm_RadialDistribution_RadialCV_ER_3of4</th><th>&hellip;</th><th>Nuclei_AreaShape_MinFeretDiameter</th><th>Nuclei_AreaShape_Zernike_5_3</th><th>Nuclei_AreaShape_Zernike_4_2</th><th>Nuclei_RadialDistribution_MeanFrac_HighZBF_3of4</th><th>Cytoplasm_Granularity_1_Brightfield</th><th>Nuclei_Correlation_Correlation_ER_Mito</th><th>Nuclei_AreaShape_Zernike_6_0</th><th>Cytoplasm_AreaShape_Solidity</th><th>Nuclei_RadialDistribution_FracAtD_DNA_3of4</th><th>Nuclei_AreaShape_Zernike_8_4</th><th>Nuclei_Intensity_MassDisplacement_HighZBF</th><th>Cytoplasm_Texture_Correlation_LowZBF_3_03_256</th><th>Cells_RadialDistribution_RadialCV_Mito_1of4</th><th>Nuclei_Intensity_MassDisplacement_AGP</th><th>Nuclei_Correlation_Correlation_AGP_Mito</th><th>Nuclei_RadialDistribution_MeanFrac_HighZBF_1of4</th><th>Cells_RadialDistribution_RadialCV_DNA_2of4</th><th>Nuclei_RadialDistribution_RadialCV_RNA_3of4</th><th>Cells_AreaShape_Zernike_7_3</th><th>Nuclei_RadialDistribution_MeanFrac_ER_1of4</th><th>Cytoplasm_Correlation_Overlap_ER_RNA</th><th>Cells_Texture_Correlation_LowZBF_5_01_256</th><th>Cytoplasm_Texture_Correlation_HighZBF_3_01_256</th><th>Nuclei_Texture_Correlation_LowZBF_3_02_256</th><th>Cells_RadialDistribution_RadialCV_AGP_3of4</th><th>Nuclei_RadialDistribution_MeanFrac_AGP_1of4</th><th>Cells_RadialDistribution_MeanFrac_Brightfield_1of4</th><th>Cytoplasm_Correlation_Correlation_DNA_HighZBF</th><th>Nuclei_Intensity_MassDisplacement_DNA</th><th>Cytoplasm_RadialDistribution_MeanFrac_DNA_4of4</th><th>Cells_Correlation_Correlation_AGP_DNA</th><th>Cytoplasm_Texture_InfoMeas2_RNA_3_01_256</th><th>Cells_RadialDistribution_RadialCV_DNA_4of4</th><th>Nuclei_Correlation_Correlation_DNA_LowZBF</th><th>Cytoplasm_Texture_Correlation_LowZBF_5_00_256</th><th>Cytoplasm_RadialDistribution_RadialCV_HighZBF_2of4</th><th>Nuclei_RadialDistribution_MeanFrac_Brightfield_1of4</th></tr><tr><td>u32</td><td>str</td><td>i64</td><td>str</td><td>i64</td><td>str</td><td>str</td><td>i64</td><td>f64</td><td>f64</td><td>i64</td><td>i64</td><td>str</td><td>str</td><td>str</td><td>str</td><td>str</td><td>i64</td><td>f32</td><td>f32</td><td>f32</td><td>f32</td><td>f32</td><td>f32</td><td>f32</td><td>f32</td><td>f32</td><td>f32</td><td>f32</td><td>f32</td><td>f32</td><td>f32</td><td>f32</td><td>f32</td><td>f32</td><td>f32</td><td>f32</td><td>&hellip;</td><td>f32</td><td>f32</td><td>f32</td><td>f32</td><td>f32</td><td>f32</td><td>f32</td><td>f32</td><td>f32</td><td>f32</td><td>f32</td><td>f32</td><td>f32</td><td>f32</td><td>f32</td><td>f32</td><td>f32</td><td>f32</td><td>f32</td><td>f32</td><td>f32</td><td>f32</td><td>f32</td><td>f32</td><td>f32</td><td>f32</td><td>f32</td><td>f32</td><td>f32</td><td>f32</td><td>f32</td><td>f32</td><td>f32</td><td>f32</td><td>f32</td><td>f32</td><td>f32</td></tr></thead><tbody><tr><td>0</td><td>&quot;BRDN0001480888&quot;</td><td>1</td><td>&quot;BR00118042&quot;</td><td>1</td><td>&quot;A01&quot;</td><td>&quot;303093381085933119922914646776…</td><td>1</td><td>1.0</td><td>1.0</td><td>1</td><td>1</td><td>&quot;HIF1A&quot;</td><td>&quot;trt&quot;</td><td>null</td><td>&quot;TATGTGTGAATTACGTTGTG&quot;</td><td>null</td><td>0</td><td>-0.691219</td><td>-0.049621</td><td>-1.294324</td><td>-0.061174</td><td>-1.440591</td><td>0.522049</td><td>1.910693</td><td>1.494851</td><td>-0.154982</td><td>0.738557</td><td>-3.058917</td><td>0.511635</td><td>1.394656</td><td>0.510223</td><td>-0.773801</td><td>0.529597</td><td>0.770869</td><td>-0.528383</td><td>1.037726</td><td>&hellip;</td><td>1.097219</td><td>0.417256</td><td>0.320543</td><td>-0.383021</td><td>0.621598</td><td>-1.516066</td><td>-0.648817</td><td>1.100509</td><td>0.39645</td><td>-0.001651</td><td>-0.044026</td><td>0.245296</td><td>1.149065</td><td>-0.086191</td><td>-1.713225</td><td>-0.595922</td><td>1.538952</td><td>-0.753558</td><td>-0.810741</td><td>0.222772</td><td>-0.802649</td><td>0.059778</td><td>-1.365801</td><td>0.664306</td><td>1.404467</td><td>0.622543</td><td>-0.710411</td><td>0.87313</td><td>1.118513</td><td>0.120031</td><td>1.003498</td><td>0.614948</td><td>-0.515058</td><td>1.767456</td><td>0.038733</td><td>-0.584446</td><td>0.7869</td></tr><tr><td>1</td><td>&quot;BRDN0001480888&quot;</td><td>1</td><td>&quot;BR00118042&quot;</td><td>1</td><td>&quot;A01&quot;</td><td>&quot;303093381085933119922914646776…</td><td>2</td><td>2.0</td><td>2.0</td><td>2</td><td>2</td><td>&quot;HIF1A&quot;</td><td>&quot;trt&quot;</td><td>null</td><td>&quot;TATGTGTGAATTACGTTGTG&quot;</td><td>null</td><td>1</td><td>0.988222</td><td>0.456678</td><td>-0.284139</td><td>-0.631443</td><td>0.585516</td><td>-0.789029</td><td>0.318841</td><td>-0.717361</td><td>-0.397538</td><td>-0.382629</td><td>1.592286</td><td>0.056328</td><td>-2.505426</td><td>-0.866823</td><td>0.357278</td><td>-0.101601</td><td>-0.123406</td><td>-0.206006</td><td>0.505185</td><td>&hellip;</td><td>-0.250718</td><td>1.452054</td><td>-0.172235</td><td>0.406207</td><td>-0.345012</td><td>0.977032</td><td>-1.091817</td><td>0.048836</td><td>-0.733135</td><td>-1.382069</td><td>-0.311806</td><td>1.311746</td><td>0.999497</td><td>0.271198</td><td>0.6527</td><td>0.134393</td><td>-1.657802</td><td>0.480804</td><td>-0.813667</td><td>-0.197465</td><td>0.75315</td><td>-0.009194</td><td>-0.726208</td><td>0.511688</td><td>0.949462</td><td>0.337406</td><td>0.44452</td><td>0.005068</td><td>1.001196</td><td>-0.90121</td><td>1.079932</td><td>-0.016172</td><td>-0.322696</td><td>-0.185288</td><td>0.575087</td><td>0.504474</td><td>-0.01955</td></tr><tr><td>2</td><td>&quot;BRDN0001480888&quot;</td><td>1</td><td>&quot;BR00118042&quot;</td><td>1</td><td>&quot;A01&quot;</td><td>&quot;303093381085933119922914646776…</td><td>3</td><td>3.0</td><td>3.0</td><td>3</td><td>3</td><td>&quot;HIF1A&quot;</td><td>&quot;trt&quot;</td><td>null</td><td>&quot;TATGTGTGAATTACGTTGTG&quot;</td><td>null</td><td>2</td><td>-0.843739</td><td>1.359377</td><td>1.247706</td><td>-1.127565</td><td>-0.205899</td><td>0.747187</td><td>-0.902291</td><td>1.092206</td><td>-1.099346</td><td>-0.067577</td><td>-1.096886</td><td>-0.146192</td><td>0.563986</td><td>0.821315</td><td>0.985698</td><td>0.03514</td><td>0.715153</td><td>-1.228275</td><td>0.666513</td><td>&hellip;</td><td>-0.085279</td><td>-0.81086</td><td>0.269787</td><td>-1.648664</td><td>0.552468</td><td>-0.583703</td><td>-1.32783</td><td>-0.472018</td><td>0.746978</td><td>-0.050951</td><td>-0.656749</td><td>-0.295063</td><td>1.179529</td><td>-0.53046</td><td>-2.411917</td><td>1.925928</td><td>-0.137345</td><td>-0.903581</td><td>0.795428</td><td>-1.481889</td><td>-1.262035</td><td>0.02286</td><td>-0.690421</td><td>-1.256083</td><td>-0.625778</td><td>-0.40525</td><td>-0.100108</td><td>-0.360258</td><td>-0.501066</td><td>0.267138</td><td>0.725801</td><td>-0.825029</td><td>-0.575829</td><td>-0.261025</td><td>0.385164</td><td>-0.17127</td><td>0.076809</td></tr><tr><td>3</td><td>&quot;BRDN0001480888&quot;</td><td>1</td><td>&quot;BR00118042&quot;</td><td>1</td><td>&quot;A01&quot;</td><td>&quot;303093381085933119922914646776…</td><td>4</td><td>4.0</td><td>4.0</td><td>4</td><td>4</td><td>&quot;HIF1A&quot;</td><td>&quot;trt&quot;</td><td>null</td><td>&quot;TATGTGTGAATTACGTTGTG&quot;</td><td>null</td><td>3</td><td>-0.802762</td><td>1.993219</td><td>0.566209</td><td>-1.002378</td><td>-0.618874</td><td>-0.239915</td><td>0.370928</td><td>1.397622</td><td>0.046686</td><td>1.090674</td><td>-0.434855</td><td>0.736092</td><td>-0.270365</td><td>0.41715</td><td>-0.147249</td><td>0.805431</td><td>-0.189153</td><td>-0.006163</td><td>1.034545</td><td>&hellip;</td><td>-0.612397</td><td>-0.543575</td><td>1.066255</td><td>-1.769238</td><td>-0.831193</td><td>0.545127</td><td>-1.277042</td><td>0.271725</td><td>0.462355</td><td>0.909738</td><td>-0.193252</td><td>-0.828656</td><td>-0.8941</td><td>-1.448369</td><td>-1.246122</td><td>-0.182164</td><td>1.43827</td><td>-1.182127</td><td>1.238774</td><td>-0.354005</td><td>-0.812369</td><td>1.010259</td><td>-0.025481</td><td>0.145649</td><td>0.669315</td><td>0.545393</td><td>-0.129655</td><td>-0.292417</td><td>-0.918626</td><td>0.580396</td><td>0.106497</td><td>0.097183</td><td>-0.192688</td><td>1.772554</td><td>-1.260465</td><td>1.970041</td><td>1.115379</td></tr><tr><td>4</td><td>&quot;BRDN0001480888&quot;</td><td>1</td><td>&quot;BR00118042&quot;</td><td>1</td><td>&quot;A01&quot;</td><td>&quot;303093381085933119922914646776…</td><td>5</td><td>5.0</td><td>5.0</td><td>5</td><td>5</td><td>&quot;HIF1A&quot;</td><td>&quot;trt&quot;</td><td>null</td><td>&quot;TATGTGTGAATTACGTTGTG&quot;</td><td>null</td><td>4</td><td>-0.440574</td><td>0.14113</td><td>-1.239739</td><td>-0.47527</td><td>0.195501</td><td>-0.072187</td><td>-0.024126</td><td>0.123885</td><td>0.111281</td><td>-0.183105</td><td>-0.119996</td><td>0.667422</td><td>0.825763</td><td>-0.728491</td><td>0.643464</td><td>0.472659</td><td>0.315348</td><td>-0.123483</td><td>0.358054</td><td>&hellip;</td><td>0.27985</td><td>-0.928309</td><td>0.85853</td><td>-0.427714</td><td>-0.271408</td><td>-2.16289</td><td>0.305605</td><td>0.239475</td><td>0.241918</td><td>-1.820489</td><td>-0.65191</td><td>-0.579007</td><td>-1.190758</td><td>-1.45575</td><td>-2.855838</td><td>-0.735031</td><td>-1.515941</td><td>-1.143519</td><td>-1.06465</td><td>0.030316</td><td>-1.294371</td><td>-0.12064</td><td>-0.748875</td><td>0.057084</td><td>-0.780205</td><td>0.750306</td><td>-0.380263</td><td>-0.475508</td><td>0.110987</td><td>0.237228</td><td>1.47615</td><td>-0.036367</td><td>-0.796781</td><td>0.034057</td><td>-0.783654</td><td>0.228278</td><td>-0.410863</td></tr></tbody></table></div>"
      ],
      "text/plain": [
       "shape: (5, 319)\n",
       "┌───────┬────────────┬────────────┬────────────┬───┬───────────┬───────────┬───────────┬───────────┐\n",
       "│ index ┆ Metadata_b ┆ Metadata_I ┆ Metadata_P ┆ … ┆ Nuclei_Co ┆ Cytoplasm ┆ Cytoplasm ┆ Nuclei_Ra │\n",
       "│ ---   ┆ road_sampl ┆ mageNumber ┆ late       ┆   ┆ rrelation ┆ _Texture_ ┆ _RadialDi ┆ dialDistr │\n",
       "│ u32   ┆ e          ┆ ---        ┆ ---        ┆   ┆ _Correlat ┆ Correlati ┆ stributio ┆ ibution_M │\n",
       "│       ┆ ---        ┆ i64        ┆ str        ┆   ┆ ion…      ┆ on_…      ┆ n_R…      ┆ ean…      │\n",
       "│       ┆ str        ┆            ┆            ┆   ┆ ---       ┆ ---       ┆ ---       ┆ ---       │\n",
       "│       ┆            ┆            ┆            ┆   ┆ f32       ┆ f32       ┆ f32       ┆ f32       │\n",
       "╞═══════╪════════════╪════════════╪════════════╪═══╪═══════════╪═══════════╪═══════════╪═══════════╡\n",
       "│ 0     ┆ BRDN000148 ┆ 1          ┆ BR00118042 ┆ … ┆ 1.767456  ┆ 0.038733  ┆ -0.584446 ┆ 0.7869    │\n",
       "│       ┆ 0888       ┆            ┆            ┆   ┆           ┆           ┆           ┆           │\n",
       "│ 1     ┆ BRDN000148 ┆ 1          ┆ BR00118042 ┆ … ┆ -0.185288 ┆ 0.575087  ┆ 0.504474  ┆ -0.01955  │\n",
       "│       ┆ 0888       ┆            ┆            ┆   ┆           ┆           ┆           ┆           │\n",
       "│ 2     ┆ BRDN000148 ┆ 1          ┆ BR00118042 ┆ … ┆ -0.261025 ┆ 0.385164  ┆ -0.17127  ┆ 0.076809  │\n",
       "│       ┆ 0888       ┆            ┆            ┆   ┆           ┆           ┆           ┆           │\n",
       "│ 3     ┆ BRDN000148 ┆ 1          ┆ BR00118042 ┆ … ┆ 1.772554  ┆ -1.260465 ┆ 1.970041  ┆ 1.115379  │\n",
       "│       ┆ 0888       ┆            ┆            ┆   ┆           ┆           ┆           ┆           │\n",
       "│ 4     ┆ BRDN000148 ┆ 1          ┆ BR00118042 ┆ … ┆ 0.034057  ┆ -0.783654 ┆ 0.228278  ┆ -0.410863 │\n",
       "│       ┆ 0888       ┆            ┆            ┆   ┆           ┆           ┆           ┆           │\n",
       "└───────┴────────────┴────────────┴────────────┴───┴───────────┴───────────┴───────────┴───────────┘"
      ]
     },
     "execution_count": 26,
     "metadata": {},
     "output_type": "execute_result"
    }
   ],
   "source": [
    "# loading CPJUMP CRISPR profiles\n",
    "sc_jump_crispr_profiles = load_profiles(jump_crispr_data_path)\n",
    "\n",
    "# splitting metadata and features\n",
    "sc_jump_crispr_meta, sc_jump_crispr_feats = split_meta_and_features(\n",
    "    sc_jump_crispr_profiles\n",
    ")\n",
    "\n",
    "# displaying the first few rows of the profiles\n",
    "sc_jump_crispr_profiles.head()"
   ]
  },
  {
   "cell_type": "markdown",
   "id": "14579001",
   "metadata": {},
   "source": [
    "## Generating on and off morpholgy signatures "
   ]
  },
  {
   "cell_type": "markdown",
   "id": "1a04aaae",
   "metadata": {},
   "source": [
    "### Get signatures from CPJUMP1 dataset "
   ]
  },
  {
   "cell_type": "code",
   "execution_count": null,
   "id": "ebd15d2f",
   "metadata": {},
   "outputs": [
    {
     "name": "stdout",
     "output_type": "stream",
     "text": [
      "'Number of positive control genes: 13'\n",
      "(\"These are poscon genes: ['AURKB', 'BRD4', 'CLK1', 'DYRK1B', 'ERBB2', 'EZH2', \"\n",
      " \"'FLT3', 'HDAC3', 'IGF1R', 'JAK1', 'MET', 'PAK1', 'USP1']\")\n"
     ]
    },
    {
     "data": {
      "text/html": [
       "<div><style>\n",
       ".dataframe > thead > tr,\n",
       ".dataframe > tbody > tr {\n",
       "  text-align: right;\n",
       "  white-space: pre-wrap;\n",
       "}\n",
       "</style>\n",
       "<small>shape: (5, 319)</small><table border=\"1\" class=\"dataframe\"><thead><tr><th>index</th><th>Metadata_broad_sample</th><th>Metadata_ImageNumber</th><th>Metadata_Plate</th><th>Metadata_Site</th><th>Metadata_Well</th><th>Metadata_TableNumber</th><th>Metadata_ObjectNumber_cytoplasm</th><th>Metadata_Cytoplasm_Parent_Cells</th><th>Metadata_Cytoplasm_Parent_Nuclei</th><th>Metadata_ObjectNumber_cells</th><th>Metadata_ObjectNumber</th><th>Metadata_gene</th><th>Metadata_pert_type</th><th>Metadata_control_type</th><th>Metadata_target_sequence</th><th>Metadata_negcon_control_type</th><th>__index_level_0__</th><th>Nuclei_Texture_InverseDifferenceMoment_ER_5_01_256</th><th>Cytoplasm_AreaShape_Zernike_4_2</th><th>Cytoplasm_AreaShape_Zernike_9_3</th><th>Nuclei_RadialDistribution_RadialCV_AGP_2of4</th><th>Nuclei_Correlation_Correlation_DNA_HighZBF</th><th>Cells_Texture_Correlation_HighZBF_5_00_256</th><th>Cells_AreaShape_Solidity</th><th>Nuclei_RadialDistribution_MeanFrac_HighZBF_4of4</th><th>Nuclei_AreaShape_Orientation</th><th>Nuclei_Texture_Correlation_ER_5_02_256</th><th>Cytoplasm_Correlation_Correlation_DNA_LowZBF</th><th>Cytoplasm_Texture_InfoMeas2_DNA_10_01_256</th><th>Cells_RadialDistribution_FracAtD_DNA_2of4</th><th>Cells_RadialDistribution_MeanFrac_HighZBF_1of4</th><th>Nuclei_RadialDistribution_MeanFrac_Mito_4of4</th><th>Cells_Correlation_RWC_DNA_ER</th><th>Cells_Texture_InfoMeas2_ER_3_00_256</th><th>Cells_RadialDistribution_MeanFrac_HighZBF_2of4</th><th>Cytoplasm_RadialDistribution_RadialCV_ER_3of4</th><th>&hellip;</th><th>Nuclei_AreaShape_MinFeretDiameter</th><th>Nuclei_AreaShape_Zernike_5_3</th><th>Nuclei_AreaShape_Zernike_4_2</th><th>Nuclei_RadialDistribution_MeanFrac_HighZBF_3of4</th><th>Cytoplasm_Granularity_1_Brightfield</th><th>Nuclei_Correlation_Correlation_ER_Mito</th><th>Nuclei_AreaShape_Zernike_6_0</th><th>Cytoplasm_AreaShape_Solidity</th><th>Nuclei_RadialDistribution_FracAtD_DNA_3of4</th><th>Nuclei_AreaShape_Zernike_8_4</th><th>Nuclei_Intensity_MassDisplacement_HighZBF</th><th>Cytoplasm_Texture_Correlation_LowZBF_3_03_256</th><th>Cells_RadialDistribution_RadialCV_Mito_1of4</th><th>Nuclei_Intensity_MassDisplacement_AGP</th><th>Nuclei_Correlation_Correlation_AGP_Mito</th><th>Nuclei_RadialDistribution_MeanFrac_HighZBF_1of4</th><th>Cells_RadialDistribution_RadialCV_DNA_2of4</th><th>Nuclei_RadialDistribution_RadialCV_RNA_3of4</th><th>Cells_AreaShape_Zernike_7_3</th><th>Nuclei_RadialDistribution_MeanFrac_ER_1of4</th><th>Cytoplasm_Correlation_Overlap_ER_RNA</th><th>Cells_Texture_Correlation_LowZBF_5_01_256</th><th>Cytoplasm_Texture_Correlation_HighZBF_3_01_256</th><th>Nuclei_Texture_Correlation_LowZBF_3_02_256</th><th>Cells_RadialDistribution_RadialCV_AGP_3of4</th><th>Nuclei_RadialDistribution_MeanFrac_AGP_1of4</th><th>Cells_RadialDistribution_MeanFrac_Brightfield_1of4</th><th>Cytoplasm_Correlation_Correlation_DNA_HighZBF</th><th>Nuclei_Intensity_MassDisplacement_DNA</th><th>Cytoplasm_RadialDistribution_MeanFrac_DNA_4of4</th><th>Cells_Correlation_Correlation_AGP_DNA</th><th>Cytoplasm_Texture_InfoMeas2_RNA_3_01_256</th><th>Cells_RadialDistribution_RadialCV_DNA_4of4</th><th>Nuclei_Correlation_Correlation_DNA_LowZBF</th><th>Cytoplasm_Texture_Correlation_LowZBF_5_00_256</th><th>Cytoplasm_RadialDistribution_RadialCV_HighZBF_2of4</th><th>Nuclei_RadialDistribution_MeanFrac_Brightfield_1of4</th></tr><tr><td>u32</td><td>str</td><td>i64</td><td>str</td><td>i64</td><td>str</td><td>str</td><td>i64</td><td>f64</td><td>f64</td><td>i64</td><td>i64</td><td>str</td><td>str</td><td>str</td><td>str</td><td>str</td><td>i64</td><td>f32</td><td>f32</td><td>f32</td><td>f32</td><td>f32</td><td>f32</td><td>f32</td><td>f32</td><td>f32</td><td>f32</td><td>f32</td><td>f32</td><td>f32</td><td>f32</td><td>f32</td><td>f32</td><td>f32</td><td>f32</td><td>f32</td><td>&hellip;</td><td>f32</td><td>f32</td><td>f32</td><td>f32</td><td>f32</td><td>f32</td><td>f32</td><td>f32</td><td>f32</td><td>f32</td><td>f32</td><td>f32</td><td>f32</td><td>f32</td><td>f32</td><td>f32</td><td>f32</td><td>f32</td><td>f32</td><td>f32</td><td>f32</td><td>f32</td><td>f32</td><td>f32</td><td>f32</td><td>f32</td><td>f32</td><td>f32</td><td>f32</td><td>f32</td><td>f32</td><td>f32</td><td>f32</td><td>f32</td><td>f32</td><td>f32</td><td>f32</td></tr></thead><tbody><tr><td>44370</td><td>&quot;BRDN0001057455&quot;</td><td>469</td><td>&quot;BR00118041&quot;</td><td>1</td><td>&quot;C05&quot;</td><td>&quot;251377083526098455688025670966…</td><td>1</td><td>1.0</td><td>1.0</td><td>1</td><td>1</td><td>&quot;EZH2&quot;</td><td>&quot;control&quot;</td><td>&quot;poscon_cp&quot;</td><td>&quot;AGAAGGGACCAGTTTGTTGG&quot;</td><td>null</td><td>44729</td><td>-0.720737</td><td>-0.99562</td><td>0.608404</td><td>-0.075396</td><td>-0.754694</td><td>1.192771</td><td>1.189916</td><td>1.121562</td><td>1.073525</td><td>-0.101923</td><td>-2.332029</td><td>0.813718</td><td>1.891952</td><td>-0.528007</td><td>0.052382</td><td>0.492962</td><td>0.542304</td><td>-0.829857</td><td>2.179971</td><td>&hellip;</td><td>0.857316</td><td>1.041054</td><td>-0.365782</td><td>-1.650042</td><td>-0.066899</td><td>0.377524</td><td>-1.456956</td><td>1.227787</td><td>1.236125</td><td>-1.120438</td><td>1.545298</td><td>1.002021</td><td>0.32726</td><td>1.629706</td><td>0.583361</td><td>0.452936</td><td>1.209641</td><td>0.538964</td><td>0.964841</td><td>-0.333102</td><td>0.552967</td><td>0.430044</td><td>0.961234</td><td>0.543158</td><td>-0.0862</td><td>0.547685</td><td>-0.48022</td><td>-0.793249</td><td>-0.273273</td><td>-0.807079</td><td>0.122084</td><td>0.623559</td><td>-0.822849</td><td>1.389746</td><td>0.677316</td><td>0.586454</td><td>0.952611</td></tr><tr><td>44371</td><td>&quot;BRDN0001057455&quot;</td><td>469</td><td>&quot;BR00118041&quot;</td><td>1</td><td>&quot;C05&quot;</td><td>&quot;251377083526098455688025670966…</td><td>2</td><td>2.0</td><td>2.0</td><td>2</td><td>2</td><td>&quot;EZH2&quot;</td><td>&quot;control&quot;</td><td>&quot;poscon_cp&quot;</td><td>&quot;AGAAGGGACCAGTTTGTTGG&quot;</td><td>null</td><td>44730</td><td>-2.029901</td><td>1.087042</td><td>0.715875</td><td>1.406727</td><td>1.743212</td><td>1.184291</td><td>1.902819</td><td>-1.705426</td><td>-1.695478</td><td>0.551302</td><td>-0.896374</td><td>1.957329</td><td>0.384656</td><td>0.513912</td><td>-0.608335</td><td>0.794311</td><td>1.021235</td><td>-0.325151</td><td>0.734215</td><td>&hellip;</td><td>0.882149</td><td>-1.27064</td><td>-0.02895</td><td>2.302703</td><td>0.741143</td><td>1.115731</td><td>1.56439</td><td>2.350959</td><td>-0.945377</td><td>1.542551</td><td>0.510251</td><td>-0.617213</td><td>5.436908</td><td>2.178587</td><td>1.282575</td><td>-2.319446</td><td>0.325077</td><td>2.505541</td><td>-1.458432</td><td>2.360396</td><td>0.407762</td><td>-0.130752</td><td>0.225705</td><td>0.000688</td><td>0.409673</td><td>0.343323</td><td>-0.894979</td><td>-2.267853</td><td>0.319662</td><td>0.104886</td><td>0.828357</td><td>1.120054</td><td>-0.983647</td><td>-1.472309</td><td>0.678879</td><td>-0.973433</td><td>2.748424</td></tr><tr><td>44372</td><td>&quot;BRDN0001057455&quot;</td><td>469</td><td>&quot;BR00118041&quot;</td><td>1</td><td>&quot;C05&quot;</td><td>&quot;251377083526098455688025670966…</td><td>3</td><td>3.0</td><td>3.0</td><td>3</td><td>3</td><td>&quot;EZH2&quot;</td><td>&quot;control&quot;</td><td>&quot;poscon_cp&quot;</td><td>&quot;AGAAGGGACCAGTTTGTTGG&quot;</td><td>null</td><td>44731</td><td>1.680656</td><td>-0.170852</td><td>-0.628635</td><td>-1.262599</td><td>-0.170561</td><td>0.304794</td><td>0.297779</td><td>0.108417</td><td>-0.172087</td><td>1.255396</td><td>-0.463599</td><td>0.13405</td><td>1.235431</td><td>0.2496</td><td>1.276089</td><td>-1.307388</td><td>0.1811</td><td>0.581995</td><td>0.644704</td><td>&hellip;</td><td>1.39395</td><td>-0.660609</td><td>-0.581481</td><td>-0.370864</td><td>1.191957</td><td>-4.167519</td><td>-0.449767</td><td>0.5503</td><td>1.066913</td><td>-1.323941</td><td>-0.939626</td><td>0.547475</td><td>0.68666</td><td>0.326566</td><td>-3.126956</td><td>0.271466</td><td>0.268613</td><td>-1.507686</td><td>1.059332</td><td>1.199491</td><td>-1.571392</td><td>0.003607</td><td>-1.001576</td><td>-0.263355</td><td>-0.870036</td><td>1.413561</td><td>0.03872</td><td>0.904146</td><td>0.323542</td><td>-0.544639</td><td>0.448401</td><td>-0.400668</td><td>-0.838142</td><td>-0.429652</td><td>-0.26508</td><td>-0.616134</td><td>-0.235447</td></tr><tr><td>44373</td><td>&quot;BRDN0001057455&quot;</td><td>469</td><td>&quot;BR00118041&quot;</td><td>1</td><td>&quot;C05&quot;</td><td>&quot;251377083526098455688025670966…</td><td>4</td><td>4.0</td><td>4.0</td><td>4</td><td>4</td><td>&quot;EZH2&quot;</td><td>&quot;control&quot;</td><td>&quot;poscon_cp&quot;</td><td>&quot;AGAAGGGACCAGTTTGTTGG&quot;</td><td>null</td><td>44732</td><td>0.378261</td><td>0.41906</td><td>-1.019068</td><td>-0.110102</td><td>-1.119991</td><td>3.367672</td><td>-0.140095</td><td>0.668473</td><td>1.283121</td><td>-0.305772</td><td>0.360507</td><td>1.164552</td><td>1.410507</td><td>1.185353</td><td>-0.500382</td><td>-0.034092</td><td>0.543307</td><td>0.477344</td><td>-0.031379</td><td>&hellip;</td><td>1.004089</td><td>0.888448</td><td>-0.609415</td><td>-0.448813</td><td>-0.014953</td><td>0.390513</td><td>-0.81123</td><td>0.381855</td><td>1.210092</td><td>-1.619481</td><td>-0.181619</td><td>3.86202</td><td>0.600565</td><td>1.670302</td><td>0.72437</td><td>-0.584019</td><td>1.444561</td><td>0.944064</td><td>0.945943</td><td>-0.346704</td><td>-0.613161</td><td>3.433858</td><td>3.530288</td><td>0.035722</td><td>-0.37097</td><td>0.804995</td><td>0.906236</td><td>1.271312</td><td>-0.743444</td><td>-1.805162</td><td>0.43261</td><td>0.650023</td><td>-0.899181</td><td>1.152752</td><td>4.001559</td><td>-0.072385</td><td>0.359419</td></tr><tr><td>44374</td><td>&quot;BRDN0001057455&quot;</td><td>469</td><td>&quot;BR00118041&quot;</td><td>1</td><td>&quot;C05&quot;</td><td>&quot;251377083526098455688025670966…</td><td>5</td><td>5.0</td><td>5.0</td><td>5</td><td>5</td><td>&quot;EZH2&quot;</td><td>&quot;control&quot;</td><td>&quot;poscon_cp&quot;</td><td>&quot;AGAAGGGACCAGTTTGTTGG&quot;</td><td>null</td><td>44733</td><td>0.662164</td><td>0.677753</td><td>-1.705038</td><td>-0.849754</td><td>-0.605519</td><td>-0.228802</td><td>0.337887</td><td>0.534903</td><td>-1.700619</td><td>-1.246144</td><td>-1.359642</td><td>0.782842</td><td>0.883505</td><td>0.906427</td><td>-1.558365</td><td>0.053047</td><td>0.519105</td><td>-0.003146</td><td>0.355126</td><td>&hellip;</td><td>0.370347</td><td>0.623865</td><td>0.646384</td><td>-0.122715</td><td>0.993989</td><td>-1.076307</td><td>-1.463478</td><td>0.692517</td><td>0.300942</td><td>0.79906</td><td>0.113185</td><td>-0.854377</td><td>0.420931</td><td>-0.747781</td><td>0.438037</td><td>-0.922214</td><td>-0.024438</td><td>-1.249223</td><td>0.18606</td><td>0.593878</td><td>-1.27667</td><td>0.517207</td><td>-0.593655</td><td>-0.560808</td><td>-0.859908</td><td>0.8372</td><td>0.186963</td><td>1.413197</td><td>-0.336592</td><td>-1.12012</td><td>0.398173</td><td>0.477613</td><td>-0.933496</td><td>0.33783</td><td>-0.505799</td><td>-0.141219</td><td>0.547048</td></tr></tbody></table></div>"
      ],
      "text/plain": [
       "shape: (5, 319)\n",
       "┌───────┬────────────┬────────────┬────────────┬───┬───────────┬───────────┬───────────┬───────────┐\n",
       "│ index ┆ Metadata_b ┆ Metadata_I ┆ Metadata_P ┆ … ┆ Nuclei_Co ┆ Cytoplasm ┆ Cytoplasm ┆ Nuclei_Ra │\n",
       "│ ---   ┆ road_sampl ┆ mageNumber ┆ late       ┆   ┆ rrelation ┆ _Texture_ ┆ _RadialDi ┆ dialDistr │\n",
       "│ u32   ┆ e          ┆ ---        ┆ ---        ┆   ┆ _Correlat ┆ Correlati ┆ stributio ┆ ibution_M │\n",
       "│       ┆ ---        ┆ i64        ┆ str        ┆   ┆ ion…      ┆ on_…      ┆ n_R…      ┆ ean…      │\n",
       "│       ┆ str        ┆            ┆            ┆   ┆ ---       ┆ ---       ┆ ---       ┆ ---       │\n",
       "│       ┆            ┆            ┆            ┆   ┆ f32       ┆ f32       ┆ f32       ┆ f32       │\n",
       "╞═══════╪════════════╪════════════╪════════════╪═══╪═══════════╪═══════════╪═══════════╪═══════════╡\n",
       "│ 44370 ┆ BRDN000105 ┆ 469        ┆ BR00118041 ┆ … ┆ 1.389746  ┆ 0.677316  ┆ 0.586454  ┆ 0.952611  │\n",
       "│       ┆ 7455       ┆            ┆            ┆   ┆           ┆           ┆           ┆           │\n",
       "│ 44371 ┆ BRDN000105 ┆ 469        ┆ BR00118041 ┆ … ┆ -1.472309 ┆ 0.678879  ┆ -0.973433 ┆ 2.748424  │\n",
       "│       ┆ 7455       ┆            ┆            ┆   ┆           ┆           ┆           ┆           │\n",
       "│ 44372 ┆ BRDN000105 ┆ 469        ┆ BR00118041 ┆ … ┆ -0.429652 ┆ -0.26508  ┆ -0.616134 ┆ -0.235447 │\n",
       "│       ┆ 7455       ┆            ┆            ┆   ┆           ┆           ┆           ┆           │\n",
       "│ 44373 ┆ BRDN000105 ┆ 469        ┆ BR00118041 ┆ … ┆ 1.152752  ┆ 4.001559  ┆ -0.072385 ┆ 0.359419  │\n",
       "│       ┆ 7455       ┆            ┆            ┆   ┆           ┆           ┆           ┆           │\n",
       "│ 44374 ┆ BRDN000105 ┆ 469        ┆ BR00118041 ┆ … ┆ 0.33783   ┆ -0.505799 ┆ -0.141219 ┆ 0.547048  │\n",
       "│       ┆ 7455       ┆            ┆            ┆   ┆           ┆           ┆           ┆           │\n",
       "└───────┴────────────┴────────────┴────────────┴───┴───────────┴───────────┴───────────┴───────────┘"
      ]
     },
     "execution_count": 6,
     "metadata": {},
     "output_type": "execute_result"
    }
   ],
   "source": [
    "# generating metadata dataframe\n",
    "cp_jump_meta_df = sc_jump_crispr_profiles[sc_jump_crispr_meta]\n",
    "\n",
    "# creating positive control genes list\n",
    "negcon_profiles_df = sc_jump_crispr_profiles.filter(\n",
    "    pl.col(\"Metadata_control_type\") == \"negcon\"\n",
    ")\n",
    "\n",
    "# treatment profiles\n",
    "trt_profiles_df = sc_jump_crispr_profiles.filter(pl.col(\"Metadata_pert_type\") == \"trt\")\n",
    "\n",
    "# selecting positive control profiles\n",
    "# poscon_cp = known chemical probs that module specific genes\n",
    "poscon_profiles_df = sc_jump_crispr_profiles.filter(\n",
    "    pl.col(\"Metadata_control_type\") == \"poscon_cp\"\n",
    ")\n",
    "poscon_genes = (\n",
    "    cp_jump_meta_df.filter(pl.col(\"Metadata_control_type\") == \"poscon_cp\")[\n",
    "        \"Metadata_gene\"\n",
    "    ]\n",
    "    .unique()\n",
    "    .sort()\n",
    "    .to_list()\n",
    ")\n",
    "\n",
    "# displaying the number of positive control genes and their names\n",
    "pprint.pprint(f\"Number of positive control genes: {len(poscon_genes)}\")\n",
    "pprint.pprint(f\"These are poscon genes: {poscon_genes}\")\n",
    "\n",
    "# display dataframe of positive control profiles\n",
    "poscon_profiles_df.head()"
   ]
  },
  {
   "cell_type": "code",
   "execution_count": null,
   "id": "5971a3f0",
   "metadata": {},
   "outputs": [],
   "source": [
    "# group by plate first\n",
    "results = {}\n",
    "for gene_name, gene_group_df in trt_profiles_df.group_by(\"Metadata_gene\"):\n",
    "    gene_name = gene_name[0]  # extract string value from tuple\n",
    "\n",
    "    # getting signatures for the current gene\n",
    "    on_morph_sig, off_morph_sig = get_signatures(\n",
    "        ref_profiles=negcon_profiles_df,\n",
    "        exp_profiles=gene_group_df,\n",
    "        morph_feats=sc_jump_crispr_feats,\n",
    "        method=method,\n",
    "    )\n",
    "    # Counting compartment signatures\n",
    "    on_morph_compartments_counts = dict(\n",
    "        Counter([feat.split(\"_\")[0] for feat in on_morph_sig])\n",
    "    )\n",
    "\n",
    "    # store in dict\n",
    "    results[f\"negcon_{gene_name}\"] = {\n",
    "        \"on_morph_sig\": on_morph_sig,\n",
    "        \"off_morph_sig\": off_morph_sig,\n",
    "        \"on_morph_compartments_counts\": on_morph_compartments_counts,\n",
    "    }\n",
    "\n",
    "# writing results to a json file\n",
    "with open(\n",
    "    signature_results_dir / f\"{method}_negcon_trt_signature_results.json\", \"w\"\n",
    ") as f:\n",
    "    json.dump(results, f, indent=4)\n"
   ]
  },
  {
   "cell_type": "code",
   "execution_count": null,
   "id": "cb7dc53f",
   "metadata": {},
   "outputs": [],
   "source": [
    "# create a dataframe from the results\n",
    "counts = []\n",
    "for key, value in results.items():\n",
    "    gene_name = key.replace(\"negcon_\", \"\")  # remove prefix to get just gene name\n",
    "    compartment_counts = value[\"on_morph_compartments_counts\"]\n",
    "\n",
    "    # get counts for each compartment, defaulting to 0 if not present\n",
    "    nuclei_count = compartment_counts.get(\"Nuclei\", 0)\n",
    "    cytoplasm_count = compartment_counts.get(\"Cytoplasm\", 0)\n",
    "    cells_count = compartment_counts.get(\"Cells\", 0)\n",
    "\n",
    "    counts.append([gene_name, nuclei_count, cytoplasm_count, cells_count])\n",
    "\n",
    "# creating a dataframe with the counts\n",
    "cols = [\"Gene\", \"Nuclei\", \"Cytoplasm\", \"Cells\"]\n",
    "on_sig_compartment_counts = pl.DataFrame(counts, schema=cols)\n",
    "\n",
    "# save\n",
    "on_sig_compartment_counts.write_csv(\n",
    "    signature_results_dir / f\"{method}_negcon_trt_on_sig_compartment_counts.csv\",\n",
    ")\n"
   ]
  },
  {
   "cell_type": "markdown",
   "id": "2c0bf3c2",
   "metadata": {},
   "source": [
    "### Generating signatures from Mitocheck data\n"
   ]
  },
  {
   "cell_type": "markdown",
   "id": "dc863307",
   "metadata": {},
   "source": [
    "Loading in mitocheck data"
   ]
  },
  {
   "cell_type": "code",
   "execution_count": 4,
   "id": "16f09f8f",
   "metadata": {},
   "outputs": [],
   "source": [
    "# loading MitoCheck profiles\n",
    "mitocheck_profiles = load_profiles(mitocheck_profiles_path)\n",
    "\n",
    "# splitting metadata and features columns\n",
    "mito_meta = mitocheck_profiles.columns[:12]\n",
    "mito_feats = mitocheck_profiles.drop(mito_meta).columns\n"
   ]
  },
  {
   "cell_type": "markdown",
   "id": "500ef572",
   "metadata": {},
   "source": [
    "Splitting them into control and treated profiles"
   ]
  },
  {
   "cell_type": "code",
   "execution_count": null,
   "id": "499463f4",
   "metadata": {},
   "outputs": [],
   "source": [
    "# selecting column that contains the phenotype class\n",
    "phenotype_class = \"Mitocheck_Phenotypic_Class\"\n",
    "\n",
    "# splitting control and treated profiles\n",
    "mitocheck_negcontrol_profiles = mitocheck_profiles.filter(\n",
    "    pl.col(phenotype_class) == \"negcon\"\n",
    ")\n",
    "mitocheck_trt_profiles = mitocheck_profiles.filter(pl.col(phenotype_class) != \"negcon\")"
   ]
  },
  {
   "cell_type": "code",
   "execution_count": null,
   "id": "922763b8",
   "metadata": {},
   "outputs": [],
   "source": [
    "# group by plate first\n",
    "results = {}\n",
    "for class_name, class_group_df in mitocheck_trt_profiles.group_by(phenotype_class):\n",
    "    class_name = class_name[0]  # extract string value from tuple\n",
    "\n",
    "    # getting signatures for the current class\n",
    "    on_morph_sig, off_morph_sig = get_signatures(\n",
    "        ref_profiles=mitocheck_negcontrol_profiles,\n",
    "        exp_profiles=class_group_df,\n",
    "        morph_feats=mito_feats,\n",
    "        method=method,\n",
    "    )\n",
    "    # Counting compartment signatures\n",
    "    off_morph_compartments_counts = dict(\n",
    "        Counter([feat.split(\"_\")[0] for feat in off_morph_sig])\n",
    "    )\n",
    "    on_morph_compartments_counts = dict(\n",
    "        Counter([feat.split(\"_\")[0] for feat in on_morph_sig])\n",
    "    )\n",
    "\n",
    "    # store in dict\n",
    "    results[f\"negcon_{class_name}\"] = {\n",
    "        \"off_morph_compartments_counts\": off_morph_compartments_counts,\n",
    "        \"on_morph_compartments_counts\": on_morph_compartments_counts,\n",
    "        \"on_morph_sig\": on_morph_sig,\n",
    "        \"off_morph_sig\": off_morph_sig,\n",
    "    }\n",
    "\n",
    "\n",
    "# writing results to a json file\n",
    "with open(\n",
    "    signature_results_dir / f\"{method}_mitocheck_trt_signature_results.json\", \"w\"\n",
    ") as f:\n",
    "    json.dump(results, f, indent=4)"
   ]
  },
  {
   "cell_type": "markdown",
   "id": "8064d603",
   "metadata": {},
   "source": [
    "### Generating signatures from CFReT data"
   ]
  },
  {
   "cell_type": "code",
   "execution_count": 10,
   "id": "c519d21b",
   "metadata": {},
   "outputs": [],
   "source": [
    "# loading cfret profiles\n",
    "phenotype_class = \"Metadata_treatment\"\n",
    "cfret_profiles = load_profiles(cfret_plate_plat)\n",
    "\n",
    "# splitting metadata and features columns\n",
    "cfret_meta, cfret_feats = split_meta_and_features(cfret_profiles)\n",
    "\n",
    "# splitting negative control and treatment profiles\n",
    "negcon_cfret_profiles = cfret_profiles.filter(pl.col(\"Metadata_treatment\") == \"DMSO\")\n",
    "trt_cfret_profiles = cfret_profiles.filter(pl.col(\"Metadata_treatment\") != \"DMSO\")"
   ]
  },
  {
   "cell_type": "code",
   "execution_count": 14,
   "id": "10b07e3c",
   "metadata": {},
   "outputs": [],
   "source": [
    "results = {}\n",
    "for trt_name, trt_group_df in trt_cfret_profiles.group_by(phenotype_class):\n",
    "    trt_name = trt_name[0]\n",
    "\n",
    "    # getting signatures for the current class\n",
    "    on_morph_sig, off_morph_sig = get_signatures(\n",
    "        ref_profiles=negcon_cfret_profiles,\n",
    "        exp_profiles=trt_group_df,\n",
    "        morph_feats=cfret_feats,\n",
    "        method=method,\n",
    "    )\n",
    "    # counting compartment signatures\n",
    "    off_morph_compartments_counts = dict(\n",
    "        Counter([feat.split(\"_\")[0] for feat in off_morph_sig])\n",
    "    )\n",
    "    on_morph_compartments_counts = dict(\n",
    "        Counter([feat.split(\"_\")[0] for feat in on_morph_sig])\n",
    "    )\n",
    "\n",
    "    # store in dict\n",
    "    results[f\"negcon_{trt_name}\"] = {\n",
    "        \"off_morph_compartments_counts\": off_morph_compartments_counts,\n",
    "        \"on_morph_compartments_counts\": on_morph_compartments_counts,\n",
    "        \"on_morph_sig\": on_morph_sig,\n",
    "        \"off_morph_sig\": off_morph_sig,\n",
    "    }\n",
    "\n",
    "# writing results to a json file\n",
    "with open(\n",
    "    signature_results_dir / f\"{method}_cfret_trt_signature_results.json\", \"w\"\n",
    ") as f:\n",
    "    json.dump(results, f, indent=4)\n"
   ]
  }
 ],
 "metadata": {
  "kernelspec": {
   "display_name": "buscar",
   "language": "python",
   "name": "python3"
  },
  "language_info": {
   "codemirror_mode": {
    "name": "ipython",
    "version": 3
   },
   "file_extension": ".py",
   "mimetype": "text/x-python",
   "name": "python",
   "nbconvert_exporter": "python",
   "pygments_lexer": "ipython3",
   "version": "3.12.11"
  }
 },
 "nbformat": 4,
 "nbformat_minor": 5
}
