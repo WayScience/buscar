{
 "cells": [
  {
   "cell_type": "markdown",
   "id": "54aea5c2",
   "metadata": {},
   "source": [
    "# 2.assess-heterogeneity \n",
    "\n",
    "This section of the notebook uses buscar's clustering module to assess single-cell heterogeneity. We'll focus on three specific datasets: **CFReT**, **MitoCheck**, and **CPJUMP (crispir)**. The goal is to use our clustering algorithms to identify cellular heterogeneity at the single-cell level. \n",
    "\n",
    "A key advantage of using these datasets is that they include ground-truth labels. This allows us to evaluate whether our clustering algorithms are identifying biologically meaningful groups in a data-driven way, and to assess the accuracy of our approach."
   ]
  },
  {
   "cell_type": "code",
   "execution_count": 1,
   "id": "5333b9c0",
   "metadata": {},
   "outputs": [
    {
     "name": "stderr",
     "output_type": "stream",
     "text": [
      "/home/erikserrano/Programs/miniconda3/envs/buscar/lib/python3.12/site-packages/louvain/__init__.py:54: UserWarning: pkg_resources is deprecated as an API. See https://setuptools.pypa.io/en/latest/pkg_resources.html. The pkg_resources package is slated for removal as early as 2025-11-30. Refrain from using this package or pin to Setuptools<81.\n",
      "  from pkg_resources import get_distribution, DistributionNotFound\n"
     ]
    }
   ],
   "source": [
    "import sys\n",
    "import pathlib\n",
    "\n",
    "import pickle\n",
    "import polars as pl\n",
    "\n",
    "sys.path.append(\"../../\")\n",
    "from utils.heterogeneity import assess_heterogeneity\n"
   ]
  },
  {
   "cell_type": "markdown",
   "id": "29f21fd9",
   "metadata": {},
   "source": [
    "Setting paths"
   ]
  },
  {
   "cell_type": "code",
   "execution_count": 2,
   "id": "cf6a3c28",
   "metadata": {},
   "outputs": [],
   "source": [
    "# set module and data directory paths\n",
    "download_module_path = pathlib.Path(\"../0.download-data/\").resolve(strict=True)\n",
    "sc_profiles_path = (download_module_path / \"data\" / \"sc-profiles\").resolve(strict=True)\n",
    "\n",
    "# set paths for the profiles\n",
    "mitocheck_profile_path = (sc_profiles_path / \"mitocheck\" / \"concat_mitocheck_cp_profiles_shared_feats.parquet\").resolve(strict=True)\n",
    "cfret_profile_path = (sc_profiles_path / \"cfret\" / \"localhost230405150001_sc_feature_selected.parquet\").resolve(strict=True)\n",
    "cpjump1_crispir_path = (download_module_path / \"results\" / \"concat_crispr_profiles.parquet\").resolve(strict=True)\n",
    "\n",
    "# create signature output paths\n",
    "results_dir = pathlib.Path(\"./results\").resolve()\n",
    "results_dir.mkdir(exist_ok=True)"
   ]
  },
  {
   "cell_type": "markdown",
   "id": "631ea3a5",
   "metadata": {},
   "source": [
    "Loading datasets"
   ]
  },
  {
   "cell_type": "code",
   "execution_count": 3,
   "id": "74bfe56f",
   "metadata": {},
   "outputs": [],
   "source": [
    "# load all profiles\n",
    "mitocheck_profile_df = pl.read_parquet(mitocheck_profile_path)\n",
    "cfret_profile_df = pl.read_parquet(cfret_profile_path)\n",
    "cpjump1_crispir_df = pl.read_parquet(cpjump1_crispir_path)"
   ]
  },
  {
   "cell_type": "markdown",
   "id": "22e63660",
   "metadata": {},
   "source": [
    "Splitting datasets, only selected the treated profiles"
   ]
  },
  {
   "cell_type": "code",
   "execution_count": 4,
   "id": "3c0fd9f3",
   "metadata": {},
   "outputs": [],
   "source": [
    "# separate metadata based on phenotypic class\n",
    "mito_trt = mitocheck_profile_df.filter(pl.col(\"Mitocheck_Phenotypic_Class\") != \"negcon\")\n",
    "\n",
    "# split metadata and features\n",
    "mito_meta = mito_trt.columns[:12]\n",
    "mito_features = mito_trt.columns[12:]"
   ]
  },
  {
   "cell_type": "code",
   "execution_count": 5,
   "id": "109ce77b",
   "metadata": {},
   "outputs": [],
   "source": [
    "# only selected treatment profiles from cfret\n",
    "cfret_trt = cfret_profile_df.filter(pl.col(\"Metadata_treatment\") != \"DMSO\")\n",
    "\n",
    "# split metadata and features for cfret\n",
    "cfret_meta = cfret_trt.columns[:19]\n",
    "cfret_feats = cfret_trt.columns[19:]"
   ]
  },
  {
   "cell_type": "code",
   "execution_count": 6,
   "id": "1753990c",
   "metadata": {},
   "outputs": [],
   "source": [
    "# selecting only treated profiles from cpjump1\n",
    "cpjump1_trt = cpjump1_crispir_df.filter(pl.col(\"Metadata_pert_type\") == \"trt\")\n",
    "\n",
    "# split metadata and features for cpjump1\n",
    "cpjump1_meta = cpjump1_trt.columns[:18]\n",
    "cpjump1_feats = cpjump1_trt.columns[18:]\n"
   ]
  },
  {
   "cell_type": "markdown",
   "id": "e91f0ea3",
   "metadata": {},
   "source": [
    "## Clustering profiles"
   ]
  },
  {
   "cell_type": "code",
   "execution_count": 7,
   "id": "d4b06373",
   "metadata": {},
   "outputs": [
    {
     "name": "stderr",
     "output_type": "stream",
     "text": [
      "[I 2025-08-07 15:05:10,296] A new study created in memory with name: mitocheck_heterogeneity\n"
     ]
    },
    {
     "data": {
      "application/vnd.jupyter.widget-view+json": {
       "model_id": "e0c25707bf56462a8a887ed160d41e6a",
       "version_major": 2,
       "version_minor": 0
      },
      "text/plain": [
       "  0%|          | 0/500 [00:00<?, ?it/s]"
      ]
     },
     "metadata": {},
     "output_type": "display_data"
    },
    {
     "name": "stderr",
     "output_type": "stream",
     "text": [
      "/home/erikserrano/Development/BuSCar/notebooks/1.compound-prioritization/../../utils/heterogeneity.py:113: UserWarning: Ignoring svd_solver='auto' and using randomized, sklearn.decomposition._truncated_svd.TruncatedSVD only supports dict_keys(['arpack', 'randomized']).\n",
      "  sc.pp.pca(\n"
     ]
    },
    {
     "name": "stdout",
     "output_type": "stream",
     "text": [
      "[I 2025-08-07 15:05:16,867] Trial 0 finished with value: 0.022089131118488235 and parameters: {'n_neighbors': 77, 'dim_reduction': 'pca', 'pca_solver': 'auto', 'pca_components': 23, 'resolution': 1.4636269269064541, 'method': 'leiden', 'dist_metric': 'cosine', 'louv_clustering_imp': 'vtraag', 'leid_clustering_imp': 'igraph'}. Best is trial 0 with value: 0.022089131118488235.\n"
     ]
    },
    {
     "name": "stderr",
     "output_type": "stream",
     "text": [
      "/home/erikserrano/Development/BuSCar/notebooks/1.compound-prioritization/../../utils/heterogeneity.py:215: FutureWarning: In the future, the default backend for leiden will be igraph instead of leidenalg.\n",
      "\n",
      " To achieve the future defaults please pass: flavor=\"igraph\" and n_iterations=2.  directed must also be False to work with igraph's implementation.\n",
      "  sc.tl.leiden(\n"
     ]
    },
    {
     "name": "stdout",
     "output_type": "stream",
     "text": [
      "[I 2025-08-07 15:05:26,532] Trial 1 finished with value: 0.03428073434491475 and parameters: {'n_neighbors': 167, 'dim_reduction': 'raw', 'pca_solver': 'auto', 'pca_components': 28, 'resolution': 1.3429447810061663, 'method': 'leiden', 'dist_metric': 'cosine', 'louv_clustering_imp': 'igraph', 'leid_clustering_imp': 'leidenalg'}. Best is trial 1 with value: 0.03428073434491475.\n",
      "[I 2025-08-07 15:05:27,149] Trial 2 finished with value: 0.01656472080561803 and parameters: {'n_neighbors': 51, 'dim_reduction': 'raw', 'pca_solver': 'arpack', 'pca_components': 46, 'resolution': 1.667608456708831, 'method': 'leiden', 'dist_metric': 'cosine', 'louv_clustering_imp': 'vtraag', 'leid_clustering_imp': 'igraph'}. Best is trial 1 with value: 0.03428073434491475.\n",
      "[I 2025-08-07 15:05:28,522] Trial 3 finished with value: 0.06469417566611868 and parameters: {'n_neighbors': 117, 'dim_reduction': 'pca', 'pca_solver': 'arpack', 'pca_components': 55, 'resolution': 1.053377481178845, 'method': 'leiden', 'dist_metric': 'euclidean', 'louv_clustering_imp': 'igraph', 'leid_clustering_imp': 'igraph'}. Best is trial 3 with value: 0.06469417566611868.\n",
      "[I 2025-08-07 15:05:30,461] Trial 4 finished with value: 0.07201192044274593 and parameters: {'n_neighbors': 183, 'dim_reduction': 'raw', 'pca_solver': 'randomized', 'pca_components': 34, 'resolution': 1.5047249995692098, 'method': 'louvain', 'dist_metric': 'cosine', 'louv_clustering_imp': 'vtraag', 'leid_clustering_imp': 'igraph'}. Best is trial 4 with value: 0.07201192044274593.\n",
      "[I 2025-08-07 15:05:31,296] Trial 5 finished with value: 0.033246676236241536 and parameters: {'n_neighbors': 5, 'dim_reduction': 'pca', 'pca_solver': 'arpack', 'pca_components': 36, 'resolution': 0.5070870907973101, 'method': 'leiden', 'dist_metric': 'euclidean', 'louv_clustering_imp': 'igraph', 'leid_clustering_imp': 'leidenalg'}. Best is trial 4 with value: 0.07201192044274593.\n",
      "[I 2025-08-07 15:05:41,150] Trial 6 finished with value: 0.10304617635501251 and parameters: {'n_neighbors': 161, 'dim_reduction': 'raw', 'pca_solver': 'arpack', 'pca_components': 16, 'resolution': 0.5149966981766954, 'method': 'leiden', 'dist_metric': 'euclidean', 'louv_clustering_imp': 'igraph', 'leid_clustering_imp': 'leidenalg'}. Best is trial 6 with value: 0.10304617635501251.\n",
      "[I 2025-08-07 15:05:42,051] Trial 7 finished with value: 0.049645136343813775 and parameters: {'n_neighbors': 72, 'dim_reduction': 'raw', 'pca_solver': 'auto', 'pca_components': 92, 'resolution': 1.4354868198728923, 'method': 'louvain', 'dist_metric': 'cosine', 'louv_clustering_imp': 'vtraag', 'leid_clustering_imp': 'igraph'}. Best is trial 6 with value: 0.10304617635501251.\n",
      "[I 2025-08-07 15:05:42,844] Trial 8 finished with value: 0.04593925775300315 and parameters: {'n_neighbors': 34, 'dim_reduction': 'pca', 'pca_solver': 'arpack', 'pca_components': 82, 'resolution': 0.9838566770452821, 'method': 'leiden', 'dist_metric': 'euclidean', 'louv_clustering_imp': 'vtraag', 'leid_clustering_imp': 'igraph'}. Best is trial 6 with value: 0.10304617635501251.\n"
     ]
    },
    {
     "name": "stderr",
     "output_type": "stream",
     "text": [
      "`resolution` parameter has no effect for flavor \"igraph\"\n"
     ]
    },
    {
     "name": "stdout",
     "output_type": "stream",
     "text": [
      "[I 2025-08-07 15:05:44,615] Trial 9 finished with value: 0.07859645632596374 and parameters: {'n_neighbors': 142, 'dim_reduction': 'pca', 'pca_solver': 'arpack', 'pca_components': 19, 'resolution': 0.6136215130654088, 'method': 'louvain', 'dist_metric': 'euclidean', 'louv_clustering_imp': 'igraph', 'leid_clustering_imp': 'igraph'}. Best is trial 6 with value: 0.10304617635501251.\n"
     ]
    },
    {
     "name": "stderr",
     "output_type": "stream",
     "text": [
      "`resolution` parameter has no effect for flavor \"igraph\"\n"
     ]
    },
    {
     "name": "stdout",
     "output_type": "stream",
     "text": [
      "[I 2025-08-07 15:05:46,408] Trial 10 finished with value: 0.11187779405375355 and parameters: {'n_neighbors': 196, 'dim_reduction': 'raw', 'pca_solver': 'randomized', 'pca_components': 67, 'resolution': 0.22781054025073588, 'method': 'louvain', 'dist_metric': 'euclidean', 'louv_clustering_imp': 'igraph', 'leid_clustering_imp': 'leidenalg'}. Best is trial 10 with value: 0.11187779405375355.\n"
     ]
    },
    {
     "name": "stderr",
     "output_type": "stream",
     "text": [
      "`resolution` parameter has no effect for flavor \"igraph\"\n"
     ]
    },
    {
     "name": "stdout",
     "output_type": "stream",
     "text": [
      "[I 2025-08-07 15:05:47,803] Trial 11 finished with value: 0.11229135477966141 and parameters: {'n_neighbors': 196, 'dim_reduction': 'raw', 'pca_solver': 'randomized', 'pca_components': 65, 'resolution': 0.10153144755565147, 'method': 'louvain', 'dist_metric': 'euclidean', 'louv_clustering_imp': 'igraph', 'leid_clustering_imp': 'leidenalg'}. Best is trial 11 with value: 0.11229135477966141.\n"
     ]
    },
    {
     "name": "stderr",
     "output_type": "stream",
     "text": [
      "`resolution` parameter has no effect for flavor \"igraph\"\n"
     ]
    },
    {
     "name": "stdout",
     "output_type": "stream",
     "text": [
      "[I 2025-08-07 15:05:49,474] Trial 12 finished with value: 0.11152317067486268 and parameters: {'n_neighbors': 184, 'dim_reduction': 'raw', 'pca_solver': 'randomized', 'pca_components': 70, 'resolution': 0.1985105219801229, 'method': 'louvain', 'dist_metric': 'euclidean', 'louv_clustering_imp': 'igraph', 'leid_clustering_imp': 'leidenalg'}. Best is trial 11 with value: 0.11229135477966141.\n"
     ]
    },
    {
     "name": "stderr",
     "output_type": "stream",
     "text": [
      "`resolution` parameter has no effect for flavor \"igraph\"\n"
     ]
    },
    {
     "name": "stdout",
     "output_type": "stream",
     "text": [
      "[I 2025-08-07 15:05:51,586] Trial 13 finished with value: 0.12078470922901037 and parameters: {'n_neighbors': 195, 'dim_reduction': 'raw', 'pca_solver': 'randomized', 'pca_components': 68, 'resolution': 0.1680844302989829, 'method': 'louvain', 'dist_metric': 'euclidean', 'louv_clustering_imp': 'igraph', 'leid_clustering_imp': 'leidenalg'}. Best is trial 13 with value: 0.12078470922901037.\n"
     ]
    },
    {
     "name": "stderr",
     "output_type": "stream",
     "text": [
      "`resolution` parameter has no effect for flavor \"igraph\"\n"
     ]
    },
    {
     "name": "stdout",
     "output_type": "stream",
     "text": [
      "[I 2025-08-07 15:05:52,739] Trial 14 finished with value: 0.09662655837689142 and parameters: {'n_neighbors': 138, 'dim_reduction': 'raw', 'pca_solver': 'randomized', 'pca_components': 72, 'resolution': 1.9466178515336023, 'method': 'louvain', 'dist_metric': 'euclidean', 'louv_clustering_imp': 'igraph', 'leid_clustering_imp': 'leidenalg'}. Best is trial 13 with value: 0.12078470922901037.\n"
     ]
    },
    {
     "name": "stderr",
     "output_type": "stream",
     "text": [
      "`resolution` parameter has no effect for flavor \"igraph\"\n"
     ]
    },
    {
     "name": "stdout",
     "output_type": "stream",
     "text": [
      "[I 2025-08-07 15:05:54,761] Trial 15 finished with value: 0.10775591191082397 and parameters: {'n_neighbors': 200, 'dim_reduction': 'raw', 'pca_solver': 'randomized', 'pca_components': 99, 'resolution': 0.11789276214259205, 'method': 'louvain', 'dist_metric': 'euclidean', 'louv_clustering_imp': 'igraph', 'leid_clustering_imp': 'leidenalg'}. Best is trial 13 with value: 0.12078470922901037.\n"
     ]
    },
    {
     "name": "stderr",
     "output_type": "stream",
     "text": [
      "`resolution` parameter has no effect for flavor \"igraph\"\n"
     ]
    },
    {
     "name": "stdout",
     "output_type": "stream",
     "text": [
      "[I 2025-08-07 15:05:55,803] Trial 16 finished with value: 0.07319423665807386 and parameters: {'n_neighbors': 109, 'dim_reduction': 'raw', 'pca_solver': 'randomized', 'pca_components': 57, 'resolution': 0.7063281479438095, 'method': 'louvain', 'dist_metric': 'euclidean', 'louv_clustering_imp': 'igraph', 'leid_clustering_imp': 'leidenalg'}. Best is trial 13 with value: 0.12078470922901037.\n"
     ]
    },
    {
     "name": "stderr",
     "output_type": "stream",
     "text": [
      "`resolution` parameter has no effect for flavor \"igraph\"\n"
     ]
    },
    {
     "name": "stdout",
     "output_type": "stream",
     "text": [
      "[I 2025-08-07 15:05:56,957] Trial 17 finished with value: 0.08875143677496791 and parameters: {'n_neighbors': 152, 'dim_reduction': 'raw', 'pca_solver': 'randomized', 'pca_components': 83, 'resolution': 0.36335965747058224, 'method': 'louvain', 'dist_metric': 'euclidean', 'louv_clustering_imp': 'igraph', 'leid_clustering_imp': 'leidenalg'}. Best is trial 13 with value: 0.12078470922901037.\n"
     ]
    },
    {
     "name": "stderr",
     "output_type": "stream",
     "text": [
      "`resolution` parameter has no effect for flavor \"igraph\"\n"
     ]
    },
    {
     "name": "stdout",
     "output_type": "stream",
     "text": [
      "[I 2025-08-07 15:05:58,540] Trial 18 finished with value: 0.08741228320025672 and parameters: {'n_neighbors': 128, 'dim_reduction': 'raw', 'pca_solver': 'randomized', 'pca_components': 61, 'resolution': 0.8586759075007566, 'method': 'louvain', 'dist_metric': 'euclidean', 'louv_clustering_imp': 'igraph', 'leid_clustering_imp': 'leidenalg'}. Best is trial 13 with value: 0.12078470922901037.\n"
     ]
    },
    {
     "name": "stderr",
     "output_type": "stream",
     "text": [
      "`resolution` parameter has no effect for flavor \"igraph\"\n",
      "`resolution` parameter has no effect for flavor \"igraph\"\n"
     ]
    },
    {
     "name": "stdout",
     "output_type": "stream",
     "text": [
      "[I 2025-08-07 15:06:00,110] Trial 19 finished with value: 0.08960918551016521 and parameters: {'n_neighbors': 174, 'dim_reduction': 'raw', 'pca_solver': 'randomized', 'pca_components': 49, 'resolution': 0.36067191237708507, 'method': 'louvain', 'dist_metric': 'euclidean', 'louv_clustering_imp': 'igraph', 'leid_clustering_imp': 'leidenalg'}. Best is trial 13 with value: 0.12078470922901037.\n",
      "[I 2025-08-07 15:06:01,173] Trial 20 finished with value: 0.09356709547945836 and parameters: {'n_neighbors': 88, 'dim_reduction': 'raw', 'pca_solver': 'randomized', 'pca_components': 79, 'resolution': 0.1007279576682967, 'method': 'louvain', 'dist_metric': 'euclidean', 'louv_clustering_imp': 'igraph', 'leid_clustering_imp': 'leidenalg'}. Best is trial 13 with value: 0.12078470922901037.\n"
     ]
    },
    {
     "name": "stderr",
     "output_type": "stream",
     "text": [
      "`resolution` parameter has no effect for flavor \"igraph\"\n"
     ]
    },
    {
     "name": "stdout",
     "output_type": "stream",
     "text": [
      "[I 2025-08-07 15:06:02,867] Trial 21 finished with value: 0.11011519265198164 and parameters: {'n_neighbors': 200, 'dim_reduction': 'raw', 'pca_solver': 'randomized', 'pca_components': 66, 'resolution': 0.33951509682468717, 'method': 'louvain', 'dist_metric': 'euclidean', 'louv_clustering_imp': 'igraph', 'leid_clustering_imp': 'leidenalg'}. Best is trial 13 with value: 0.12078470922901037.\n"
     ]
    },
    {
     "name": "stderr",
     "output_type": "stream",
     "text": [
      "`resolution` parameter has no effect for flavor \"igraph\"\n"
     ]
    },
    {
     "name": "stdout",
     "output_type": "stream",
     "text": [
      "[I 2025-08-07 15:06:04,714] Trial 22 finished with value: 0.10303840510270267 and parameters: {'n_neighbors': 200, 'dim_reduction': 'raw', 'pca_solver': 'randomized', 'pca_components': 46, 'resolution': 0.2882993412284119, 'method': 'louvain', 'dist_metric': 'euclidean', 'louv_clustering_imp': 'igraph', 'leid_clustering_imp': 'leidenalg'}. Best is trial 13 with value: 0.12078470922901037.\n"
     ]
    },
    {
     "name": "stderr",
     "output_type": "stream",
     "text": [
      "`resolution` parameter has no effect for flavor \"igraph\"\n"
     ]
    },
    {
     "name": "stdout",
     "output_type": "stream",
     "text": [
      "[I 2025-08-07 15:06:06,252] Trial 23 finished with value: 0.12200548798650279 and parameters: {'n_neighbors': 183, 'dim_reduction': 'raw', 'pca_solver': 'randomized', 'pca_components': 75, 'resolution': 0.46681234211832406, 'method': 'louvain', 'dist_metric': 'euclidean', 'louv_clustering_imp': 'igraph', 'leid_clustering_imp': 'leidenalg'}. Best is trial 23 with value: 0.12200548798650279.\n"
     ]
    },
    {
     "name": "stderr",
     "output_type": "stream",
     "text": [
      "`resolution` parameter has no effect for flavor \"igraph\"\n"
     ]
    },
    {
     "name": "stdout",
     "output_type": "stream",
     "text": [
      "[I 2025-08-07 15:06:07,669] Trial 24 finished with value: 0.11324822719297564 and parameters: {'n_neighbors': 176, 'dim_reduction': 'raw', 'pca_solver': 'randomized', 'pca_components': 79, 'resolution': 0.5168296571867846, 'method': 'louvain', 'dist_metric': 'euclidean', 'louv_clustering_imp': 'igraph', 'leid_clustering_imp': 'leidenalg'}. Best is trial 23 with value: 0.12200548798650279.\n"
     ]
    },
    {
     "name": "stderr",
     "output_type": "stream",
     "text": [
      "`resolution` parameter has no effect for flavor \"igraph\"\n"
     ]
    },
    {
     "name": "stdout",
     "output_type": "stream",
     "text": [
      "[I 2025-08-07 15:06:08,918] Trial 25 finished with value: 0.08484872427394746 and parameters: {'n_neighbors': 154, 'dim_reduction': 'raw', 'pca_solver': 'auto', 'pca_components': 88, 'resolution': 0.7665032855893912, 'method': 'louvain', 'dist_metric': 'euclidean', 'louv_clustering_imp': 'igraph', 'leid_clustering_imp': 'leidenalg'}. Best is trial 23 with value: 0.12200548798650279.\n",
      "[I 2025-08-07 15:06:12,360] Trial 26 finished with value: 0.1071566994976601 and parameters: {'n_neighbors': 176, 'dim_reduction': 'pca', 'pca_solver': 'randomized', 'pca_components': 76, 'resolution': 0.5348961379214516, 'method': 'louvain', 'dist_metric': 'cosine', 'louv_clustering_imp': 'vtraag', 'leid_clustering_imp': 'leidenalg'}. Best is trial 23 with value: 0.12200548798650279.\n"
     ]
    },
    {
     "name": "stderr",
     "output_type": "stream",
     "text": [
      "`resolution` parameter has no effect for flavor \"igraph\"\n"
     ]
    },
    {
     "name": "stdout",
     "output_type": "stream",
     "text": [
      "[I 2025-08-07 15:06:13,727] Trial 27 finished with value: 0.1040106959421583 and parameters: {'n_neighbors': 140, 'dim_reduction': 'raw', 'pca_solver': 'randomized', 'pca_components': 93, 'resolution': 1.0226964913234813, 'method': 'louvain', 'dist_metric': 'euclidean', 'louv_clustering_imp': 'igraph', 'leid_clustering_imp': 'leidenalg'}. Best is trial 23 with value: 0.12200548798650279.\n"
     ]
    },
    {
     "name": "stderr",
     "output_type": "stream",
     "text": [
      "`resolution` parameter has no effect for flavor \"igraph\"\n"
     ]
    },
    {
     "name": "stdout",
     "output_type": "stream",
     "text": [
      "[I 2025-08-07 15:06:15,186] Trial 28 finished with value: 0.10737664682309561 and parameters: {'n_neighbors': 182, 'dim_reduction': 'raw', 'pca_solver': 'randomized', 'pca_components': 75, 'resolution': 1.1969771367223896, 'method': 'louvain', 'dist_metric': 'euclidean', 'louv_clustering_imp': 'igraph', 'leid_clustering_imp': 'leidenalg'}. Best is trial 23 with value: 0.12200548798650279.\n"
     ]
    },
    {
     "name": "stderr",
     "output_type": "stream",
     "text": [
      "/home/erikserrano/Development/BuSCar/notebooks/1.compound-prioritization/../../utils/heterogeneity.py:113: UserWarning: Ignoring svd_solver='auto' and using randomized, sklearn.decomposition._truncated_svd.TruncatedSVD only supports dict_keys(['arpack', 'randomized']).\n",
      "  sc.pp.pca(\n"
     ]
    },
    {
     "name": "stdout",
     "output_type": "stream",
     "text": [
      "[I 2025-08-07 15:06:17,237] Trial 29 finished with value: 0.07639107562258267 and parameters: {'n_neighbors': 92, 'dim_reduction': 'pca', 'pca_solver': 'auto', 'pca_components': 87, 'resolution': 0.4508949885619021, 'method': 'louvain', 'dist_metric': 'cosine', 'louv_clustering_imp': 'vtraag', 'leid_clustering_imp': 'leidenalg'}. Best is trial 23 with value: 0.12200548798650279.\n"
     ]
    },
    {
     "name": "stderr",
     "output_type": "stream",
     "text": [
      "`resolution` parameter has no effect for flavor \"igraph\"\n"
     ]
    },
    {
     "name": "stdout",
     "output_type": "stream",
     "text": [
      "[I 2025-08-07 15:06:18,614] Trial 30 finished with value: 0.11382073105390146 and parameters: {'n_neighbors': 160, 'dim_reduction': 'raw', 'pca_solver': 'randomized', 'pca_components': 62, 'resolution': 0.6716049051930388, 'method': 'louvain', 'dist_metric': 'euclidean', 'louv_clustering_imp': 'igraph', 'leid_clustering_imp': 'leidenalg'}. Best is trial 23 with value: 0.12200548798650279.\n"
     ]
    },
    {
     "name": "stderr",
     "output_type": "stream",
     "text": [
      "`resolution` parameter has no effect for flavor \"igraph\"\n"
     ]
    },
    {
     "name": "stdout",
     "output_type": "stream",
     "text": [
      "[I 2025-08-07 15:06:20,024] Trial 31 finished with value: 0.08736367960688607 and parameters: {'n_neighbors': 164, 'dim_reduction': 'raw', 'pca_solver': 'randomized', 'pca_components': 62, 'resolution': 0.6832251865716424, 'method': 'louvain', 'dist_metric': 'euclidean', 'louv_clustering_imp': 'igraph', 'leid_clustering_imp': 'leidenalg'}. Best is trial 23 with value: 0.12200548798650279.\n"
     ]
    },
    {
     "name": "stderr",
     "output_type": "stream",
     "text": [
      "`resolution` parameter has no effect for flavor \"igraph\"\n"
     ]
    },
    {
     "name": "stdout",
     "output_type": "stream",
     "text": [
      "[I 2025-08-07 15:06:21,310] Trial 32 finished with value: 0.08859166837958128 and parameters: {'n_neighbors': 168, 'dim_reduction': 'raw', 'pca_solver': 'randomized', 'pca_components': 51, 'resolution': 0.8745185537566997, 'method': 'louvain', 'dist_metric': 'euclidean', 'louv_clustering_imp': 'igraph', 'leid_clustering_imp': 'leidenalg'}. Best is trial 23 with value: 0.12200548798650279.\n"
     ]
    },
    {
     "name": "stderr",
     "output_type": "stream",
     "text": [
      "`resolution` parameter has no effect for flavor \"igraph\"\n"
     ]
    },
    {
     "name": "stdout",
     "output_type": "stream",
     "text": [
      "[I 2025-08-07 15:06:22,558] Trial 33 finished with value: 0.09191442904468826 and parameters: {'n_neighbors': 155, 'dim_reduction': 'raw', 'pca_solver': 'auto', 'pca_components': 72, 'resolution': 0.575147773904062, 'method': 'louvain', 'dist_metric': 'euclidean', 'louv_clustering_imp': 'igraph', 'leid_clustering_imp': 'leidenalg'}. Best is trial 23 with value: 0.12200548798650279.\n",
      "[I 2025-08-07 15:06:28,337] Trial 34 finished with value: 0.0753569888411421 and parameters: {'n_neighbors': 186, 'dim_reduction': 'raw', 'pca_solver': 'randomized', 'pca_components': 57, 'resolution': 0.44634889390011456, 'method': 'leiden', 'dist_metric': 'cosine', 'louv_clustering_imp': 'igraph', 'leid_clustering_imp': 'leidenalg'}. Best is trial 23 with value: 0.12200548798650279.\n"
     ]
    },
    {
     "name": "stderr",
     "output_type": "stream",
     "text": [
      "`resolution` parameter has no effect for flavor \"igraph\"\n"
     ]
    },
    {
     "name": "stdout",
     "output_type": "stream",
     "text": [
      "[I 2025-08-07 15:06:29,573] Trial 35 finished with value: 0.08664217348114836 and parameters: {'n_neighbors': 127, 'dim_reduction': 'raw', 'pca_solver': 'randomized', 'pca_components': 41, 'resolution': 0.8072186004093636, 'method': 'louvain', 'dist_metric': 'euclidean', 'louv_clustering_imp': 'igraph', 'leid_clustering_imp': 'igraph'}. Best is trial 23 with value: 0.12200548798650279.\n",
      "[I 2025-08-07 15:06:36,891] Trial 36 finished with value: 0.04211468248282362 and parameters: {'n_neighbors': 169, 'dim_reduction': 'raw', 'pca_solver': 'randomized', 'pca_components': 78, 'resolution': 0.6464707989319569, 'method': 'leiden', 'dist_metric': 'cosine', 'louv_clustering_imp': 'vtraag', 'leid_clustering_imp': 'leidenalg'}. Best is trial 23 with value: 0.12200548798650279.\n"
     ]
    },
    {
     "name": "stderr",
     "output_type": "stream",
     "text": [
      "/home/erikserrano/Development/BuSCar/notebooks/1.compound-prioritization/../../utils/heterogeneity.py:113: UserWarning: Ignoring svd_solver='auto' and using randomized, sklearn.decomposition._truncated_svd.TruncatedSVD only supports dict_keys(['arpack', 'randomized']).\n",
      "  sc.pp.pca(\n",
      "`resolution` parameter has no effect for flavor \"igraph\"\n"
     ]
    },
    {
     "name": "stdout",
     "output_type": "stream",
     "text": [
      "[I 2025-08-07 15:06:40,155] Trial 37 finished with value: 0.1111795252919125 and parameters: {'n_neighbors': 187, 'dim_reduction': 'pca', 'pca_solver': 'auto', 'pca_components': 61, 'resolution': 1.19324428346613, 'method': 'louvain', 'dist_metric': 'euclidean', 'louv_clustering_imp': 'igraph', 'leid_clustering_imp': 'igraph'}. Best is trial 23 with value: 0.12200548798650279.\n",
      "[I 2025-08-07 15:06:44,928] Trial 38 finished with value: 0.1106795663405766 and parameters: {'n_neighbors': 146, 'dim_reduction': 'raw', 'pca_solver': 'arpack', 'pca_components': 82, 'resolution': 0.4242991185889499, 'method': 'leiden', 'dist_metric': 'euclidean', 'louv_clustering_imp': 'igraph', 'leid_clustering_imp': 'leidenalg'}. Best is trial 23 with value: 0.12200548798650279.\n",
      "[I 2025-08-07 15:06:46,299] Trial 39 finished with value: 0.14943912908473403 and parameters: {'n_neighbors': 127, 'dim_reduction': 'raw', 'pca_solver': 'randomized', 'pca_components': 26, 'resolution': 0.22126656939762002, 'method': 'louvain', 'dist_metric': 'cosine', 'louv_clustering_imp': 'vtraag', 'leid_clustering_imp': 'leidenalg'}. Best is trial 39 with value: 0.14943912908473403.\n",
      "[I 2025-08-07 15:06:47,246] Trial 40 finished with value: 0.05713899837518551 and parameters: {'n_neighbors': 125, 'dim_reduction': 'pca', 'pca_solver': 'arpack', 'pca_components': 11, 'resolution': 0.27164300122438184, 'method': 'leiden', 'dist_metric': 'cosine', 'louv_clustering_imp': 'vtraag', 'leid_clustering_imp': 'igraph'}. Best is trial 39 with value: 0.14943912908473403.\n",
      "[I 2025-08-07 15:06:48,805] Trial 41 finished with value: 0.14907310144270072 and parameters: {'n_neighbors': 160, 'dim_reduction': 'raw', 'pca_solver': 'randomized', 'pca_components': 26, 'resolution': 0.213382274005796, 'method': 'louvain', 'dist_metric': 'cosine', 'louv_clustering_imp': 'vtraag', 'leid_clustering_imp': 'leidenalg'}. Best is trial 39 with value: 0.14943912908473403.\n",
      "[I 2025-08-07 15:06:50,037] Trial 42 finished with value: 0.15013796422367312 and parameters: {'n_neighbors': 108, 'dim_reduction': 'raw', 'pca_solver': 'randomized', 'pca_components': 29, 'resolution': 0.2240573589034629, 'method': 'louvain', 'dist_metric': 'cosine', 'louv_clustering_imp': 'vtraag', 'leid_clustering_imp': 'leidenalg'}. Best is trial 42 with value: 0.15013796422367312.\n",
      "[I 2025-08-07 15:06:51,089] Trial 43 finished with value: 0.1499984395255276 and parameters: {'n_neighbors': 73, 'dim_reduction': 'raw', 'pca_solver': 'randomized', 'pca_components': 27, 'resolution': 0.20088127550214296, 'method': 'louvain', 'dist_metric': 'cosine', 'louv_clustering_imp': 'vtraag', 'leid_clustering_imp': 'leidenalg'}. Best is trial 42 with value: 0.15013796422367312.\n",
      "[I 2025-08-07 15:06:52,190] Trial 44 finished with value: 0.15169876790460343 and parameters: {'n_neighbors': 69, 'dim_reduction': 'raw', 'pca_solver': 'randomized', 'pca_components': 28, 'resolution': 0.2482318021301678, 'method': 'louvain', 'dist_metric': 'cosine', 'louv_clustering_imp': 'vtraag', 'leid_clustering_imp': 'leidenalg'}. Best is trial 44 with value: 0.15169876790460343.\n",
      "[I 2025-08-07 15:06:53,148] Trial 45 finished with value: 0.14949509308166517 and parameters: {'n_neighbors': 60, 'dim_reduction': 'raw', 'pca_solver': 'randomized', 'pca_components': 26, 'resolution': 0.22491767776080568, 'method': 'louvain', 'dist_metric': 'cosine', 'louv_clustering_imp': 'vtraag', 'leid_clustering_imp': 'leidenalg'}. Best is trial 44 with value: 0.15169876790460343.\n",
      "[I 2025-08-07 15:06:54,156] Trial 46 finished with value: 0.10462975415360348 and parameters: {'n_neighbors': 60, 'dim_reduction': 'raw', 'pca_solver': 'randomized', 'pca_components': 32, 'resolution': 0.2920638931511122, 'method': 'louvain', 'dist_metric': 'cosine', 'louv_clustering_imp': 'vtraag', 'leid_clustering_imp': 'igraph'}. Best is trial 44 with value: 0.15169876790460343.\n",
      "[I 2025-08-07 15:06:54,959] Trial 47 finished with value: 0.1476201403827269 and parameters: {'n_neighbors': 40, 'dim_reduction': 'raw', 'pca_solver': 'arpack', 'pca_components': 21, 'resolution': 0.1964924436269283, 'method': 'louvain', 'dist_metric': 'cosine', 'louv_clustering_imp': 'vtraag', 'leid_clustering_imp': 'leidenalg'}. Best is trial 44 with value: 0.15169876790460343.\n",
      "[I 2025-08-07 15:07:00,132] Trial 48 finished with value: 0.025864107136940786 and parameters: {'n_neighbors': 74, 'dim_reduction': 'pca', 'pca_solver': 'randomized', 'pca_components': 30, 'resolution': 1.8132919215824301, 'method': 'leiden', 'dist_metric': 'cosine', 'louv_clustering_imp': 'vtraag', 'leid_clustering_imp': 'leidenalg'}. Best is trial 44 with value: 0.15169876790460343.\n",
      "[I 2025-08-07 15:07:00,912] Trial 49 finished with value: 0.07435969536987709 and parameters: {'n_neighbors': 52, 'dim_reduction': 'raw', 'pca_solver': 'randomized', 'pca_components': 38, 'resolution': 0.3909384175222874, 'method': 'louvain', 'dist_metric': 'cosine', 'louv_clustering_imp': 'vtraag', 'leid_clustering_imp': 'leidenalg'}. Best is trial 44 with value: 0.15169876790460343.\n",
      "[I 2025-08-07 15:07:01,488] Trial 50 finished with value: 0.15127173287036297 and parameters: {'n_neighbors': 21, 'dim_reduction': 'raw', 'pca_solver': 'auto', 'pca_components': 17, 'resolution': 0.15672478407220614, 'method': 'louvain', 'dist_metric': 'cosine', 'louv_clustering_imp': 'vtraag', 'leid_clustering_imp': 'leidenalg'}. Best is trial 44 with value: 0.15169876790460343.\n",
      "[I 2025-08-07 15:07:02,019] Trial 51 finished with value: 0.1490637189868527 and parameters: {'n_neighbors': 15, 'dim_reduction': 'raw', 'pca_solver': 'auto', 'pca_components': 25, 'resolution': 0.16333657339778251, 'method': 'louvain', 'dist_metric': 'cosine', 'louv_clustering_imp': 'vtraag', 'leid_clustering_imp': 'leidenalg'}. Best is trial 44 with value: 0.15169876790460343.\n",
      "[I 2025-08-07 15:07:03,186] Trial 52 finished with value: 0.1501478447331744 and parameters: {'n_neighbors': 101, 'dim_reduction': 'raw', 'pca_solver': 'auto', 'pca_components': 15, 'resolution': 0.2685273249309882, 'method': 'louvain', 'dist_metric': 'cosine', 'louv_clustering_imp': 'vtraag', 'leid_clustering_imp': 'leidenalg'}. Best is trial 44 with value: 0.15169876790460343.\n",
      "[I 2025-08-07 15:07:04,429] Trial 53 finished with value: 0.1057508372109138 and parameters: {'n_neighbors': 101, 'dim_reduction': 'raw', 'pca_solver': 'auto', 'pca_components': 15, 'resolution': 0.3125949944040744, 'method': 'louvain', 'dist_metric': 'cosine', 'louv_clustering_imp': 'vtraag', 'leid_clustering_imp': 'leidenalg'}. Best is trial 44 with value: 0.15169876790460343.\n",
      "[I 2025-08-07 15:07:05,425] Trial 54 finished with value: 0.14982372812314745 and parameters: {'n_neighbors': 65, 'dim_reduction': 'raw', 'pca_solver': 'auto', 'pca_components': 17, 'resolution': 0.16101947695457886, 'method': 'louvain', 'dist_metric': 'cosine', 'louv_clustering_imp': 'vtraag', 'leid_clustering_imp': 'leidenalg'}. Best is trial 44 with value: 0.15169876790460343.\n",
      "[I 2025-08-07 15:07:06,264] Trial 55 finished with value: -1.0 and parameters: {'n_neighbors': 87, 'dim_reduction': 'raw', 'pca_solver': 'auto', 'pca_components': 17, 'resolution': 0.10758332823760691, 'method': 'louvain', 'dist_metric': 'cosine', 'louv_clustering_imp': 'vtraag', 'leid_clustering_imp': 'leidenalg'}. Best is trial 44 with value: 0.15169876790460343.\n",
      "[I 2025-08-07 15:07:06,836] Trial 56 finished with value: 0.011222125869464817 and parameters: {'n_neighbors': 23, 'dim_reduction': 'raw', 'pca_solver': 'auto', 'pca_components': 13, 'resolution': 1.5603590504782674, 'method': 'louvain', 'dist_metric': 'cosine', 'louv_clustering_imp': 'vtraag', 'leid_clustering_imp': 'leidenalg'}. Best is trial 44 with value: 0.15169876790460343.\n",
      "[I 2025-08-07 15:07:07,800] Trial 57 finished with value: 0.14950662333520293 and parameters: {'n_neighbors': 80, 'dim_reduction': 'raw', 'pca_solver': 'auto', 'pca_components': 21, 'resolution': 0.15875335038225263, 'method': 'louvain', 'dist_metric': 'cosine', 'louv_clustering_imp': 'vtraag', 'leid_clustering_imp': 'igraph'}. Best is trial 44 with value: 0.15169876790460343.\n",
      "[I 2025-08-07 15:07:09,567] Trial 58 finished with value: 0.10515980774882167 and parameters: {'n_neighbors': 111, 'dim_reduction': 'raw', 'pca_solver': 'auto', 'pca_components': 18, 'resolution': 0.35095783686463755, 'method': 'louvain', 'dist_metric': 'cosine', 'louv_clustering_imp': 'vtraag', 'leid_clustering_imp': 'leidenalg'}. Best is trial 44 with value: 0.15169876790460343.\n",
      "[I 2025-08-07 15:07:10,598] Trial 59 finished with value: 0.10472841103673847 and parameters: {'n_neighbors': 65, 'dim_reduction': 'raw', 'pca_solver': 'auto', 'pca_components': 34, 'resolution': 0.2747553906671959, 'method': 'louvain', 'dist_metric': 'cosine', 'louv_clustering_imp': 'vtraag', 'leid_clustering_imp': 'leidenalg'}. Best is trial 44 with value: 0.15169876790460343.\n",
      "[I 2025-08-07 15:07:11,996] Trial 60 finished with value: 0.07441835694481609 and parameters: {'n_neighbors': 98, 'dim_reduction': 'raw', 'pca_solver': 'auto', 'pca_components': 10, 'resolution': 0.40423353961932607, 'method': 'louvain', 'dist_metric': 'cosine', 'louv_clustering_imp': 'vtraag', 'leid_clustering_imp': 'leidenalg'}. Best is trial 44 with value: 0.15169876790460343.\n",
      "[I 2025-08-07 15:07:12,948] Trial 61 finished with value: 0.14839748488621243 and parameters: {'n_neighbors': 78, 'dim_reduction': 'raw', 'pca_solver': 'auto', 'pca_components': 22, 'resolution': 0.15868817348950942, 'method': 'louvain', 'dist_metric': 'cosine', 'louv_clustering_imp': 'vtraag', 'leid_clustering_imp': 'igraph'}. Best is trial 44 with value: 0.15169876790460343.\n",
      "[I 2025-08-07 15:07:13,875] Trial 62 finished with value: 0.14950662333520293 and parameters: {'n_neighbors': 79, 'dim_reduction': 'raw', 'pca_solver': 'auto', 'pca_components': 21, 'resolution': 0.15838198887803334, 'method': 'louvain', 'dist_metric': 'cosine', 'louv_clustering_imp': 'vtraag', 'leid_clustering_imp': 'igraph'}. Best is trial 44 with value: 0.15169876790460343.\n",
      "[I 2025-08-07 15:07:14,551] Trial 63 finished with value: 0.10512074256388437 and parameters: {'n_neighbors': 42, 'dim_reduction': 'raw', 'pca_solver': 'auto', 'pca_components': 15, 'resolution': 0.26432813662220783, 'method': 'louvain', 'dist_metric': 'cosine', 'louv_clustering_imp': 'vtraag', 'leid_clustering_imp': 'igraph'}. Best is trial 44 with value: 0.15169876790460343.\n",
      "[I 2025-08-07 15:07:15,435] Trial 64 finished with value: 0.07536133662578193 and parameters: {'n_neighbors': 84, 'dim_reduction': 'raw', 'pca_solver': 'auto', 'pca_components': 29, 'resolution': 0.33116985803413257, 'method': 'louvain', 'dist_metric': 'cosine', 'louv_clustering_imp': 'vtraag', 'leid_clustering_imp': 'igraph'}. Best is trial 44 with value: 0.15169876790460343.\n",
      "[I 2025-08-07 15:07:16,095] Trial 65 finished with value: -1.0 and parameters: {'n_neighbors': 68, 'dim_reduction': 'raw', 'pca_solver': 'auto', 'pca_components': 19, 'resolution': 0.10639250088304181, 'method': 'louvain', 'dist_metric': 'cosine', 'louv_clustering_imp': 'vtraag', 'leid_clustering_imp': 'igraph'}. Best is trial 44 with value: 0.15169876790460343.\n",
      "[I 2025-08-07 15:07:17,263] Trial 66 finished with value: 0.14747557245473014 and parameters: {'n_neighbors': 107, 'dim_reduction': 'raw', 'pca_solver': 'auto', 'pca_components': 39, 'resolution': 0.16265784975695666, 'method': 'louvain', 'dist_metric': 'cosine', 'louv_clustering_imp': 'vtraag', 'leid_clustering_imp': 'leidenalg'}. Best is trial 44 with value: 0.15169876790460343.\n"
     ]
    },
    {
     "name": "stderr",
     "output_type": "stream",
     "text": [
      "/home/erikserrano/Development/BuSCar/notebooks/1.compound-prioritization/../../utils/heterogeneity.py:113: UserWarning: Ignoring svd_solver='auto' and using randomized, sklearn.decomposition._truncated_svd.TruncatedSVD only supports dict_keys(['arpack', 'randomized']).\n",
      "  sc.pp.pca(\n"
     ]
    },
    {
     "name": "stdout",
     "output_type": "stream",
     "text": [
      "[I 2025-08-07 15:07:18,918] Trial 67 finished with value: 0.15012773428959086 and parameters: {'n_neighbors': 116, 'dim_reduction': 'pca', 'pca_solver': 'auto', 'pca_components': 23, 'resolution': 0.24534478650263256, 'method': 'louvain', 'dist_metric': 'cosine', 'louv_clustering_imp': 'vtraag', 'leid_clustering_imp': 'igraph'}. Best is trial 44 with value: 0.15169876790460343.\n"
     ]
    },
    {
     "name": "stderr",
     "output_type": "stream",
     "text": [
      "/home/erikserrano/Development/BuSCar/notebooks/1.compound-prioritization/../../utils/heterogeneity.py:113: UserWarning: Ignoring svd_solver='auto' and using randomized, sklearn.decomposition._truncated_svd.TruncatedSVD only supports dict_keys(['arpack', 'randomized']).\n",
      "  sc.pp.pca(\n"
     ]
    },
    {
     "name": "stdout",
     "output_type": "stream",
     "text": [
      "[I 2025-08-07 15:07:20,216] Trial 68 finished with value: 0.07417960556586212 and parameters: {'n_neighbors': 116, 'dim_reduction': 'pca', 'pca_solver': 'auto', 'pca_components': 24, 'resolution': 0.4935990317597423, 'method': 'louvain', 'dist_metric': 'cosine', 'louv_clustering_imp': 'vtraag', 'leid_clustering_imp': 'leidenalg'}. Best is trial 44 with value: 0.15169876790460343.\n"
     ]
    },
    {
     "name": "stderr",
     "output_type": "stream",
     "text": [
      "/home/erikserrano/Development/BuSCar/notebooks/1.compound-prioritization/../../utils/heterogeneity.py:113: UserWarning: Ignoring svd_solver='auto' and using randomized, sklearn.decomposition._truncated_svd.TruncatedSVD only supports dict_keys(['arpack', 'randomized']).\n",
      "  sc.pp.pca(\n"
     ]
    },
    {
     "name": "stdout",
     "output_type": "stream",
     "text": [
      "[I 2025-08-07 15:07:22,126] Trial 69 finished with value: 0.1499851133002201 and parameters: {'n_neighbors': 96, 'dim_reduction': 'pca', 'pca_solver': 'auto', 'pca_components': 32, 'resolution': 0.2522250618323416, 'method': 'louvain', 'dist_metric': 'cosine', 'louv_clustering_imp': 'vtraag', 'leid_clustering_imp': 'leidenalg'}. Best is trial 44 with value: 0.15169876790460343.\n",
      "[I 2025-08-07 15:07:25,741] Trial 70 finished with value: 0.05000790479634686 and parameters: {'n_neighbors': 93, 'dim_reduction': 'pca', 'pca_solver': 'arpack', 'pca_components': 43, 'resolution': 0.5736889247496206, 'method': 'leiden', 'dist_metric': 'cosine', 'louv_clustering_imp': 'vtraag', 'leid_clustering_imp': 'leidenalg'}. Best is trial 44 with value: 0.15169876790460343.\n"
     ]
    },
    {
     "name": "stderr",
     "output_type": "stream",
     "text": [
      "/home/erikserrano/Development/BuSCar/notebooks/1.compound-prioritization/../../utils/heterogeneity.py:113: UserWarning: Ignoring svd_solver='auto' and using randomized, sklearn.decomposition._truncated_svd.TruncatedSVD only supports dict_keys(['arpack', 'randomized']).\n",
      "  sc.pp.pca(\n"
     ]
    },
    {
     "name": "stdout",
     "output_type": "stream",
     "text": [
      "[I 2025-08-07 15:07:27,550] Trial 71 finished with value: 0.15036597376546876 and parameters: {'n_neighbors': 96, 'dim_reduction': 'pca', 'pca_solver': 'auto', 'pca_components': 33, 'resolution': 0.2620533857773943, 'method': 'louvain', 'dist_metric': 'cosine', 'louv_clustering_imp': 'vtraag', 'leid_clustering_imp': 'leidenalg'}. Best is trial 44 with value: 0.15169876790460343.\n"
     ]
    },
    {
     "name": "stderr",
     "output_type": "stream",
     "text": [
      "/home/erikserrano/Development/BuSCar/notebooks/1.compound-prioritization/../../utils/heterogeneity.py:113: UserWarning: Ignoring svd_solver='auto' and using randomized, sklearn.decomposition._truncated_svd.TruncatedSVD only supports dict_keys(['arpack', 'randomized']).\n",
      "  sc.pp.pca(\n"
     ]
    },
    {
     "name": "stdout",
     "output_type": "stream",
     "text": [
      "[I 2025-08-07 15:07:29,205] Trial 72 finished with value: 0.1495905220797973 and parameters: {'n_neighbors': 119, 'dim_reduction': 'pca', 'pca_solver': 'auto', 'pca_components': 32, 'resolution': 0.25595670019628247, 'method': 'louvain', 'dist_metric': 'cosine', 'louv_clustering_imp': 'vtraag', 'leid_clustering_imp': 'leidenalg'}. Best is trial 44 with value: 0.15169876790460343.\n"
     ]
    },
    {
     "name": "stderr",
     "output_type": "stream",
     "text": [
      "/home/erikserrano/Development/BuSCar/notebooks/1.compound-prioritization/../../utils/heterogeneity.py:113: UserWarning: Ignoring svd_solver='auto' and using randomized, sklearn.decomposition._truncated_svd.TruncatedSVD only supports dict_keys(['arpack', 'randomized']).\n",
      "  sc.pp.pca(\n"
     ]
    },
    {
     "name": "stdout",
     "output_type": "stream",
     "text": [
      "[I 2025-08-07 15:07:30,606] Trial 73 finished with value: 0.07504352672018685 and parameters: {'n_neighbors': 95, 'dim_reduction': 'pca', 'pca_solver': 'auto', 'pca_components': 34, 'resolution': 0.3890729986835414, 'method': 'louvain', 'dist_metric': 'cosine', 'louv_clustering_imp': 'vtraag', 'leid_clustering_imp': 'leidenalg'}. Best is trial 44 with value: 0.15169876790460343.\n"
     ]
    },
    {
     "name": "stderr",
     "output_type": "stream",
     "text": [
      "/home/erikserrano/Development/BuSCar/notebooks/1.compound-prioritization/../../utils/heterogeneity.py:113: UserWarning: Ignoring svd_solver='auto' and using randomized, sklearn.decomposition._truncated_svd.TruncatedSVD only supports dict_keys(['arpack', 'randomized']).\n",
      "  sc.pp.pca(\n"
     ]
    },
    {
     "name": "stdout",
     "output_type": "stream",
     "text": [
      "[I 2025-08-07 15:07:31,905] Trial 74 finished with value: 0.10764072957205692 and parameters: {'n_neighbors': 106, 'dim_reduction': 'pca', 'pca_solver': 'auto', 'pca_components': 28, 'resolution': 0.30728981690708596, 'method': 'louvain', 'dist_metric': 'cosine', 'louv_clustering_imp': 'vtraag', 'leid_clustering_imp': 'leidenalg'}. Best is trial 44 with value: 0.15169876790460343.\n"
     ]
    },
    {
     "name": "stderr",
     "output_type": "stream",
     "text": [
      "/home/erikserrano/Development/BuSCar/notebooks/1.compound-prioritization/../../utils/heterogeneity.py:113: UserWarning: Ignoring svd_solver='auto' and using randomized, sklearn.decomposition._truncated_svd.TruncatedSVD only supports dict_keys(['arpack', 'randomized']).\n",
      "  sc.pp.pca(\n"
     ]
    },
    {
     "name": "stdout",
     "output_type": "stream",
     "text": [
      "[I 2025-08-07 15:07:33,594] Trial 75 finished with value: 0.14947878489927435 and parameters: {'n_neighbors': 115, 'dim_reduction': 'pca', 'pca_solver': 'auto', 'pca_components': 37, 'resolution': 0.23226356586707425, 'method': 'louvain', 'dist_metric': 'cosine', 'louv_clustering_imp': 'vtraag', 'leid_clustering_imp': 'leidenalg'}. Best is trial 44 with value: 0.15169876790460343.\n"
     ]
    },
    {
     "name": "stderr",
     "output_type": "stream",
     "text": [
      "/home/erikserrano/Development/BuSCar/notebooks/1.compound-prioritization/../../utils/heterogeneity.py:113: UserWarning: Ignoring svd_solver='auto' and using randomized, sklearn.decomposition._truncated_svd.TruncatedSVD only supports dict_keys(['arpack', 'randomized']).\n",
      "  sc.pp.pca(\n"
     ]
    },
    {
     "name": "stdout",
     "output_type": "stream",
     "text": [
      "[I 2025-08-07 15:07:34,906] Trial 76 finished with value: 0.10754273791845 and parameters: {'n_neighbors': 102, 'dim_reduction': 'pca', 'pca_solver': 'auto', 'pca_components': 32, 'resolution': 0.3547721595758327, 'method': 'louvain', 'dist_metric': 'cosine', 'louv_clustering_imp': 'vtraag', 'leid_clustering_imp': 'leidenalg'}. Best is trial 44 with value: 0.15169876790460343.\n"
     ]
    },
    {
     "name": "stderr",
     "output_type": "stream",
     "text": [
      "/home/erikserrano/Development/BuSCar/notebooks/1.compound-prioritization/../../utils/heterogeneity.py:113: UserWarning: Ignoring svd_solver='auto' and using randomized, sklearn.decomposition._truncated_svd.TruncatedSVD only supports dict_keys(['arpack', 'randomized']).\n",
      "  sc.pp.pca(\n"
     ]
    },
    {
     "name": "stdout",
     "output_type": "stream",
     "text": [
      "[I 2025-08-07 15:07:35,571] Trial 77 finished with value: 0.038957544770419836 and parameters: {'n_neighbors': 9, 'dim_reduction': 'pca', 'pca_solver': 'auto', 'pca_components': 23, 'resolution': 0.4696640723809798, 'method': 'louvain', 'dist_metric': 'cosine', 'louv_clustering_imp': 'vtraag', 'leid_clustering_imp': 'leidenalg'}. Best is trial 44 with value: 0.15169876790460343.\n"
     ]
    },
    {
     "name": "stderr",
     "output_type": "stream",
     "text": [
      "/home/erikserrano/Development/BuSCar/notebooks/1.compound-prioritization/../../utils/heterogeneity.py:113: UserWarning: Ignoring svd_solver='auto' and using randomized, sklearn.decomposition._truncated_svd.TruncatedSVD only supports dict_keys(['arpack', 'randomized']).\n",
      "  sc.pp.pca(\n"
     ]
    },
    {
     "name": "stdout",
     "output_type": "stream",
     "text": [
      "[I 2025-08-07 15:07:36,670] Trial 78 finished with value: 0.10320212741754312 and parameters: {'n_neighbors': 88, 'dim_reduction': 'pca', 'pca_solver': 'auto', 'pca_components': 13, 'resolution': 0.2277892485073368, 'method': 'louvain', 'dist_metric': 'cosine', 'louv_clustering_imp': 'vtraag', 'leid_clustering_imp': 'leidenalg'}. Best is trial 44 with value: 0.15169876790460343.\n",
      "[I 2025-08-07 15:07:38,633] Trial 79 finished with value: 0.10510300599989192 and parameters: {'n_neighbors': 121, 'dim_reduction': 'pca', 'pca_solver': 'arpack', 'pca_components': 30, 'resolution': 0.32701340743173457, 'method': 'louvain', 'dist_metric': 'cosine', 'louv_clustering_imp': 'vtraag', 'leid_clustering_imp': 'igraph'}. Best is trial 44 with value: 0.15169876790460343.\n"
     ]
    },
    {
     "name": "stderr",
     "output_type": "stream",
     "text": [
      "/home/erikserrano/Development/BuSCar/notebooks/1.compound-prioritization/../../utils/heterogeneity.py:113: UserWarning: Ignoring svd_solver='auto' and using randomized, sklearn.decomposition._truncated_svd.TruncatedSVD only supports dict_keys(['arpack', 'randomized']).\n",
      "  sc.pp.pca(\n"
     ]
    },
    {
     "name": "stdout",
     "output_type": "stream",
     "text": [
      "[I 2025-08-07 15:07:40,165] Trial 80 finished with value: 0.07602932196853306 and parameters: {'n_neighbors': 110, 'dim_reduction': 'pca', 'pca_solver': 'auto', 'pca_components': 41, 'resolution': 0.42432163684146734, 'method': 'louvain', 'dist_metric': 'cosine', 'louv_clustering_imp': 'vtraag', 'leid_clustering_imp': 'leidenalg'}. Best is trial 44 with value: 0.15169876790460343.\n"
     ]
    },
    {
     "name": "stderr",
     "output_type": "stream",
     "text": [
      "/home/erikserrano/Development/BuSCar/notebooks/1.compound-prioritization/../../utils/heterogeneity.py:113: UserWarning: Ignoring svd_solver='auto' and using randomized, sklearn.decomposition._truncated_svd.TruncatedSVD only supports dict_keys(['arpack', 'randomized']).\n",
      "  sc.pp.pca(\n"
     ]
    },
    {
     "name": "stdout",
     "output_type": "stream",
     "text": [
      "[I 2025-08-07 15:07:41,607] Trial 81 finished with value: 0.14921313380031925 and parameters: {'n_neighbors': 135, 'dim_reduction': 'pca', 'pca_solver': 'auto', 'pca_components': 19, 'resolution': 0.17809740658228507, 'method': 'louvain', 'dist_metric': 'cosine', 'louv_clustering_imp': 'vtraag', 'leid_clustering_imp': 'leidenalg'}. Best is trial 44 with value: 0.15169876790460343.\n"
     ]
    },
    {
     "name": "stderr",
     "output_type": "stream",
     "text": [
      "/home/erikserrano/Development/BuSCar/notebooks/1.compound-prioritization/../../utils/heterogeneity.py:113: UserWarning: Ignoring svd_solver='auto' and using randomized, sklearn.decomposition._truncated_svd.TruncatedSVD only supports dict_keys(['arpack', 'randomized']).\n",
      "  sc.pp.pca(\n"
     ]
    },
    {
     "name": "stdout",
     "output_type": "stream",
     "text": [
      "[I 2025-08-07 15:07:42,479] Trial 82 finished with value: 0.14870045488264863 and parameters: {'n_neighbors': 70, 'dim_reduction': 'pca', 'pca_solver': 'auto', 'pca_components': 13, 'resolution': 0.12596937822381582, 'method': 'louvain', 'dist_metric': 'cosine', 'louv_clustering_imp': 'vtraag', 'leid_clustering_imp': 'leidenalg'}. Best is trial 44 with value: 0.15169876790460343.\n"
     ]
    },
    {
     "name": "stderr",
     "output_type": "stream",
     "text": [
      "/home/erikserrano/Development/BuSCar/notebooks/1.compound-prioritization/../../utils/heterogeneity.py:113: UserWarning: Ignoring svd_solver='auto' and using randomized, sklearn.decomposition._truncated_svd.TruncatedSVD only supports dict_keys(['arpack', 'randomized']).\n",
      "  sc.pp.pca(\n"
     ]
    },
    {
     "name": "stdout",
     "output_type": "stream",
     "text": [
      "[I 2025-08-07 15:07:43,533] Trial 83 finished with value: 0.10295368452163843 and parameters: {'n_neighbors': 51, 'dim_reduction': 'pca', 'pca_solver': 'auto', 'pca_components': 27, 'resolution': 0.26009428938542234, 'method': 'louvain', 'dist_metric': 'cosine', 'louv_clustering_imp': 'vtraag', 'leid_clustering_imp': 'leidenalg'}. Best is trial 44 with value: 0.15169876790460343.\n",
      "[I 2025-08-07 15:07:44,431] Trial 84 finished with value: 0.12919284204834325 and parameters: {'n_neighbors': 27, 'dim_reduction': 'pca', 'pca_solver': 'randomized', 'pca_components': 24, 'resolution': 0.201612719655749, 'method': 'louvain', 'dist_metric': 'cosine', 'louv_clustering_imp': 'vtraag', 'leid_clustering_imp': 'leidenalg'}. Best is trial 44 with value: 0.15169876790460343.\n",
      "[I 2025-08-07 15:07:49,793] Trial 85 finished with value: 0.07878556515991204 and parameters: {'n_neighbors': 134, 'dim_reduction': 'raw', 'pca_solver': 'auto', 'pca_components': 16, 'resolution': 0.2912414314783096, 'method': 'leiden', 'dist_metric': 'cosine', 'louv_clustering_imp': 'vtraag', 'leid_clustering_imp': 'leidenalg'}. Best is trial 44 with value: 0.15169876790460343.\n",
      "[I 2025-08-07 15:07:50,630] Trial 86 finished with value: 0.07361780136377129 and parameters: {'n_neighbors': 61, 'dim_reduction': 'raw', 'pca_solver': 'randomized', 'pca_components': 35, 'resolution': 0.38763739559720084, 'method': 'louvain', 'dist_metric': 'cosine', 'louv_clustering_imp': 'vtraag', 'leid_clustering_imp': 'leidenalg'}. Best is trial 44 with value: 0.15169876790460343.\n"
     ]
    },
    {
     "name": "stderr",
     "output_type": "stream",
     "text": [
      "/home/erikserrano/Development/BuSCar/notebooks/1.compound-prioritization/../../utils/heterogeneity.py:113: UserWarning: Ignoring svd_solver='auto' and using randomized, sklearn.decomposition._truncated_svd.TruncatedSVD only supports dict_keys(['arpack', 'randomized']).\n",
      "  sc.pp.pca(\n"
     ]
    },
    {
     "name": "stdout",
     "output_type": "stream",
     "text": [
      "[I 2025-08-07 15:07:52,035] Trial 87 finished with value: 0.1495936853860447 and parameters: {'n_neighbors': 97, 'dim_reduction': 'pca', 'pca_solver': 'auto', 'pca_components': 20, 'resolution': 0.19989335395980037, 'method': 'louvain', 'dist_metric': 'cosine', 'louv_clustering_imp': 'vtraag', 'leid_clustering_imp': 'leidenalg'}. Best is trial 44 with value: 0.15169876790460343.\n",
      "[I 2025-08-07 15:07:53,016] Trial 88 finished with value: 0.0630875577635237 and parameters: {'n_neighbors': 84, 'dim_reduction': 'raw', 'pca_solver': 'randomized', 'pca_components': 30, 'resolution': 1.1852774413835456, 'method': 'louvain', 'dist_metric': 'cosine', 'louv_clustering_imp': 'vtraag', 'leid_clustering_imp': 'leidenalg'}. Best is trial 44 with value: 0.15169876790460343.\n",
      "[I 2025-08-07 15:07:53,728] Trial 89 finished with value: 0.017973086669657117 and parameters: {'n_neighbors': 55, 'dim_reduction': 'raw', 'pca_solver': 'auto', 'pca_components': 23, 'resolution': 1.3210981591464266, 'method': 'louvain', 'dist_metric': 'cosine', 'louv_clustering_imp': 'vtraag', 'leid_clustering_imp': 'leidenalg'}. Best is trial 44 with value: 0.15169876790460343.\n",
      "[I 2025-08-07 15:07:54,472] Trial 90 finished with value: 0.14692383027793188 and parameters: {'n_neighbors': 43, 'dim_reduction': 'raw', 'pca_solver': 'randomized', 'pca_components': 12, 'resolution': 0.1412153636537535, 'method': 'louvain', 'dist_metric': 'cosine', 'louv_clustering_imp': 'vtraag', 'leid_clustering_imp': 'leidenalg'}. Best is trial 44 with value: 0.15169876790460343.\n"
     ]
    },
    {
     "name": "stderr",
     "output_type": "stream",
     "text": [
      "/home/erikserrano/Development/BuSCar/notebooks/1.compound-prioritization/../../utils/heterogeneity.py:113: UserWarning: Ignoring svd_solver='auto' and using randomized, sklearn.decomposition._truncated_svd.TruncatedSVD only supports dict_keys(['arpack', 'randomized']).\n",
      "  sc.pp.pca(\n"
     ]
    },
    {
     "name": "stdout",
     "output_type": "stream",
     "text": [
      "[I 2025-08-07 15:07:55,940] Trial 91 finished with value: 0.1493926598946053 and parameters: {'n_neighbors': 98, 'dim_reduction': 'pca', 'pca_solver': 'auto', 'pca_components': 19, 'resolution': 0.20828825706890203, 'method': 'louvain', 'dist_metric': 'cosine', 'louv_clustering_imp': 'vtraag', 'leid_clustering_imp': 'leidenalg'}. Best is trial 44 with value: 0.15169876790460343.\n"
     ]
    },
    {
     "name": "stderr",
     "output_type": "stream",
     "text": [
      "/home/erikserrano/Development/BuSCar/notebooks/1.compound-prioritization/../../utils/heterogeneity.py:113: UserWarning: Ignoring svd_solver='auto' and using randomized, sklearn.decomposition._truncated_svd.TruncatedSVD only supports dict_keys(['arpack', 'randomized']).\n",
      "  sc.pp.pca(\n"
     ]
    },
    {
     "name": "stdout",
     "output_type": "stream",
     "text": [
      "[I 2025-08-07 15:07:57,005] Trial 92 finished with value: 0.1499449111942271 and parameters: {'n_neighbors': 90, 'dim_reduction': 'pca', 'pca_solver': 'auto', 'pca_components': 16, 'resolution': 0.2429029854749618, 'method': 'louvain', 'dist_metric': 'cosine', 'louv_clustering_imp': 'vtraag', 'leid_clustering_imp': 'leidenalg'}. Best is trial 44 with value: 0.15169876790460343.\n"
     ]
    },
    {
     "name": "stderr",
     "output_type": "stream",
     "text": [
      "/home/erikserrano/Development/BuSCar/notebooks/1.compound-prioritization/../../utils/heterogeneity.py:113: UserWarning: Ignoring svd_solver='auto' and using randomized, sklearn.decomposition._truncated_svd.TruncatedSVD only supports dict_keys(['arpack', 'randomized']).\n",
      "  sc.pp.pca(\n"
     ]
    },
    {
     "name": "stdout",
     "output_type": "stream",
     "text": [
      "[I 2025-08-07 15:07:58,163] Trial 93 finished with value: 0.1488067927721347 and parameters: {'n_neighbors': 74, 'dim_reduction': 'pca', 'pca_solver': 'auto', 'pca_components': 16, 'resolution': 0.10081842499816981, 'method': 'louvain', 'dist_metric': 'cosine', 'louv_clustering_imp': 'vtraag', 'leid_clustering_imp': 'leidenalg'}. Best is trial 44 with value: 0.15169876790460343.\n"
     ]
    },
    {
     "name": "stderr",
     "output_type": "stream",
     "text": [
      "/home/erikserrano/Development/BuSCar/notebooks/1.compound-prioritization/../../utils/heterogeneity.py:113: UserWarning: Ignoring svd_solver='auto' and using randomized, sklearn.decomposition._truncated_svd.TruncatedSVD only supports dict_keys(['arpack', 'randomized']).\n",
      "  sc.pp.pca(\n"
     ]
    },
    {
     "name": "stdout",
     "output_type": "stream",
     "text": [
      "[I 2025-08-07 15:07:59,554] Trial 94 finished with value: 0.15067880661463343 and parameters: {'n_neighbors': 89, 'dim_reduction': 'pca', 'pca_solver': 'auto', 'pca_components': 27, 'resolution': 0.2462172269408985, 'method': 'louvain', 'dist_metric': 'cosine', 'louv_clustering_imp': 'vtraag', 'leid_clustering_imp': 'leidenalg'}. Best is trial 44 with value: 0.15169876790460343.\n"
     ]
    },
    {
     "name": "stderr",
     "output_type": "stream",
     "text": [
      "/home/erikserrano/Development/BuSCar/notebooks/1.compound-prioritization/../../utils/heterogeneity.py:113: UserWarning: Ignoring svd_solver='auto' and using randomized, sklearn.decomposition._truncated_svd.TruncatedSVD only supports dict_keys(['arpack', 'randomized']).\n",
      "  sc.pp.pca(\n"
     ]
    },
    {
     "name": "stdout",
     "output_type": "stream",
     "text": [
      "[I 2025-08-07 15:08:00,652] Trial 95 finished with value: 0.1035280088832644 and parameters: {'n_neighbors': 92, 'dim_reduction': 'pca', 'pca_solver': 'auto', 'pca_components': 27, 'resolution': 0.32093201920442144, 'method': 'louvain', 'dist_metric': 'cosine', 'louv_clustering_imp': 'vtraag', 'leid_clustering_imp': 'leidenalg'}. Best is trial 44 with value: 0.15169876790460343.\n"
     ]
    },
    {
     "name": "stderr",
     "output_type": "stream",
     "text": [
      "/home/erikserrano/Development/BuSCar/notebooks/1.compound-prioritization/../../utils/heterogeneity.py:113: UserWarning: Ignoring svd_solver='auto' and using randomized, sklearn.decomposition._truncated_svd.TruncatedSVD only supports dict_keys(['arpack', 'randomized']).\n",
      "  sc.pp.pca(\n"
     ]
    },
    {
     "name": "stdout",
     "output_type": "stream",
     "text": [
      "[I 2025-08-07 15:08:02,294] Trial 96 finished with value: 0.1502046872596896 and parameters: {'n_neighbors': 106, 'dim_reduction': 'pca', 'pca_solver': 'auto', 'pca_components': 25, 'resolution': 0.25186136813708876, 'method': 'louvain', 'dist_metric': 'cosine', 'louv_clustering_imp': 'vtraag', 'leid_clustering_imp': 'igraph'}. Best is trial 44 with value: 0.15169876790460343.\n",
      "[I 2025-08-07 15:08:03,479] Trial 97 finished with value: 0.07342386572783928 and parameters: {'n_neighbors': 83, 'dim_reduction': 'pca', 'pca_solver': 'arpack', 'pca_components': 32, 'resolution': 0.3542281383441554, 'method': 'louvain', 'dist_metric': 'cosine', 'louv_clustering_imp': 'vtraag', 'leid_clustering_imp': 'igraph'}. Best is trial 44 with value: 0.15169876790460343.\n",
      "[I 2025-08-07 15:08:04,640] Trial 98 finished with value: 0.09874777462062413 and parameters: {'n_neighbors': 105, 'dim_reduction': 'pca', 'pca_solver': 'randomized', 'pca_components': 28, 'resolution': 0.29638006403130185, 'method': 'leiden', 'dist_metric': 'cosine', 'louv_clustering_imp': 'vtraag', 'leid_clustering_imp': 'igraph'}. Best is trial 44 with value: 0.15169876790460343.\n"
     ]
    },
    {
     "name": "stderr",
     "output_type": "stream",
     "text": [
      "/home/erikserrano/Development/BuSCar/notebooks/1.compound-prioritization/../../utils/heterogeneity.py:113: UserWarning: Ignoring svd_solver='auto' and using randomized, sklearn.decomposition._truncated_svd.TruncatedSVD only supports dict_keys(['arpack', 'randomized']).\n",
      "  sc.pp.pca(\n"
     ]
    },
    {
     "name": "stdout",
     "output_type": "stream",
     "text": [
      "[I 2025-08-07 15:08:05,871] Trial 99 finished with value: 0.07304215913639464 and parameters: {'n_neighbors': 114, 'dim_reduction': 'pca', 'pca_solver': 'auto', 'pca_components': 24, 'resolution': 0.5419436839132243, 'method': 'louvain', 'dist_metric': 'cosine', 'louv_clustering_imp': 'vtraag', 'leid_clustering_imp': 'igraph'}. Best is trial 44 with value: 0.15169876790460343.\n"
     ]
    },
    {
     "name": "stderr",
     "output_type": "stream",
     "text": [
      "/home/erikserrano/Development/BuSCar/notebooks/1.compound-prioritization/../../utils/heterogeneity.py:113: UserWarning: Ignoring svd_solver='auto' and using randomized, sklearn.decomposition._truncated_svd.TruncatedSVD only supports dict_keys(['arpack', 'randomized']).\n",
      "  sc.pp.pca(\n"
     ]
    },
    {
     "name": "stdout",
     "output_type": "stream",
     "text": [
      "[I 2025-08-07 15:08:07,711] Trial 100 finished with value: 0.07589495844125664 and parameters: {'n_neighbors': 102, 'dim_reduction': 'pca', 'pca_solver': 'auto', 'pca_components': 46, 'resolution': 0.42912314878964275, 'method': 'louvain', 'dist_metric': 'cosine', 'louv_clustering_imp': 'vtraag', 'leid_clustering_imp': 'igraph'}. Best is trial 44 with value: 0.15169876790460343.\n"
     ]
    },
    {
     "name": "stderr",
     "output_type": "stream",
     "text": [
      "/home/erikserrano/Development/BuSCar/notebooks/1.compound-prioritization/../../utils/heterogeneity.py:113: UserWarning: Ignoring svd_solver='auto' and using randomized, sklearn.decomposition._truncated_svd.TruncatedSVD only supports dict_keys(['arpack', 'randomized']).\n",
      "  sc.pp.pca(\n"
     ]
    },
    {
     "name": "stdout",
     "output_type": "stream",
     "text": [
      "[I 2025-08-07 15:08:08,864] Trial 101 finished with value: 0.1492150922301048 and parameters: {'n_neighbors': 88, 'dim_reduction': 'pca', 'pca_solver': 'auto', 'pca_components': 25, 'resolution': 0.2510466298237547, 'method': 'louvain', 'dist_metric': 'cosine', 'louv_clustering_imp': 'vtraag', 'leid_clustering_imp': 'igraph'}. Best is trial 44 with value: 0.15169876790460343.\n"
     ]
    },
    {
     "name": "stderr",
     "output_type": "stream",
     "text": [
      "/home/erikserrano/Development/BuSCar/notebooks/1.compound-prioritization/../../utils/heterogeneity.py:113: UserWarning: Ignoring svd_solver='auto' and using randomized, sklearn.decomposition._truncated_svd.TruncatedSVD only supports dict_keys(['arpack', 'randomized']).\n",
      "  sc.pp.pca(\n"
     ]
    },
    {
     "name": "stdout",
     "output_type": "stream",
     "text": [
      "[I 2025-08-07 15:08:10,372] Trial 102 finished with value: 0.1502382053362952 and parameters: {'n_neighbors': 122, 'dim_reduction': 'pca', 'pca_solver': 'auto', 'pca_components': 22, 'resolution': 0.24747973442500237, 'method': 'louvain', 'dist_metric': 'cosine', 'louv_clustering_imp': 'vtraag', 'leid_clustering_imp': 'leidenalg'}. Best is trial 44 with value: 0.15169876790460343.\n"
     ]
    },
    {
     "name": "stderr",
     "output_type": "stream",
     "text": [
      "/home/erikserrano/Development/BuSCar/notebooks/1.compound-prioritization/../../utils/heterogeneity.py:113: UserWarning: Ignoring svd_solver='auto' and using randomized, sklearn.decomposition._truncated_svd.TruncatedSVD only supports dict_keys(['arpack', 'randomized']).\n",
      "  sc.pp.pca(\n"
     ]
    },
    {
     "name": "stdout",
     "output_type": "stream",
     "text": [
      "[I 2025-08-07 15:08:11,924] Trial 103 finished with value: 0.1500048478162148 and parameters: {'n_neighbors': 124, 'dim_reduction': 'pca', 'pca_solver': 'auto', 'pca_components': 22, 'resolution': 0.20071919004171923, 'method': 'louvain', 'dist_metric': 'cosine', 'louv_clustering_imp': 'vtraag', 'leid_clustering_imp': 'igraph'}. Best is trial 44 with value: 0.15169876790460343.\n"
     ]
    },
    {
     "name": "stderr",
     "output_type": "stream",
     "text": [
      "/home/erikserrano/Development/BuSCar/notebooks/1.compound-prioritization/../../utils/heterogeneity.py:113: UserWarning: Ignoring svd_solver='auto' and using randomized, sklearn.decomposition._truncated_svd.TruncatedSVD only supports dict_keys(['arpack', 'randomized']).\n",
      "  sc.pp.pca(\n"
     ]
    },
    {
     "name": "stdout",
     "output_type": "stream",
     "text": [
      "[I 2025-08-07 15:08:13,202] Trial 104 finished with value: 0.08099997243731774 and parameters: {'n_neighbors': 120, 'dim_reduction': 'pca', 'pca_solver': 'auto', 'pca_components': 22, 'resolution': 0.9333410298440801, 'method': 'louvain', 'dist_metric': 'cosine', 'louv_clustering_imp': 'vtraag', 'leid_clustering_imp': 'igraph'}. Best is trial 44 with value: 0.15169876790460343.\n",
      "[I 2025-08-07 15:08:14,837] Trial 105 finished with value: 0.1498783879255596 and parameters: {'n_neighbors': 145, 'dim_reduction': 'pca', 'pca_solver': 'randomized', 'pca_components': 21, 'resolution': 0.18909642334486682, 'method': 'louvain', 'dist_metric': 'cosine', 'louv_clustering_imp': 'vtraag', 'leid_clustering_imp': 'igraph'}. Best is trial 44 with value: 0.15169876790460343.\n"
     ]
    },
    {
     "name": "stderr",
     "output_type": "stream",
     "text": [
      "/home/erikserrano/Development/BuSCar/notebooks/1.compound-prioritization/../../utils/heterogeneity.py:113: UserWarning: Ignoring svd_solver='auto' and using randomized, sklearn.decomposition._truncated_svd.TruncatedSVD only supports dict_keys(['arpack', 'randomized']).\n",
      "  sc.pp.pca(\n"
     ]
    },
    {
     "name": "stdout",
     "output_type": "stream",
     "text": [
      "[I 2025-08-07 15:08:16,415] Trial 106 finished with value: -1.0 and parameters: {'n_neighbors': 131, 'dim_reduction': 'pca', 'pca_solver': 'auto', 'pca_components': 29, 'resolution': 0.13253098716301787, 'method': 'louvain', 'dist_metric': 'cosine', 'louv_clustering_imp': 'vtraag', 'leid_clustering_imp': 'igraph'}. Best is trial 44 with value: 0.15169876790460343.\n"
     ]
    },
    {
     "name": "stderr",
     "output_type": "stream",
     "text": [
      "/home/erikserrano/Development/BuSCar/notebooks/1.compound-prioritization/../../utils/heterogeneity.py:113: UserWarning: Ignoring svd_solver='auto' and using randomized, sklearn.decomposition._truncated_svd.TruncatedSVD only supports dict_keys(['arpack', 'randomized']).\n",
      "  sc.pp.pca(\n"
     ]
    },
    {
     "name": "stdout",
     "output_type": "stream",
     "text": [
      "[I 2025-08-07 15:08:17,987] Trial 107 finished with value: 0.10329795428681673 and parameters: {'n_neighbors': 122, 'dim_reduction': 'pca', 'pca_solver': 'auto', 'pca_components': 26, 'resolution': 0.36713104606056934, 'method': 'louvain', 'dist_metric': 'cosine', 'louv_clustering_imp': 'vtraag', 'leid_clustering_imp': 'igraph'}. Best is trial 44 with value: 0.15169876790460343.\n",
      "[I 2025-08-07 15:08:19,133] Trial 108 finished with value: 0.10342154388907583 and parameters: {'n_neighbors': 112, 'dim_reduction': 'pca', 'pca_solver': 'randomized', 'pca_components': 18, 'resolution': 0.2920780431916702, 'method': 'louvain', 'dist_metric': 'cosine', 'louv_clustering_imp': 'vtraag', 'leid_clustering_imp': 'igraph'}. Best is trial 44 with value: 0.15169876790460343.\n"
     ]
    },
    {
     "name": "stderr",
     "output_type": "stream",
     "text": [
      "/home/erikserrano/Development/BuSCar/notebooks/1.compound-prioritization/../../utils/heterogeneity.py:113: UserWarning: Ignoring svd_solver='auto' and using randomized, sklearn.decomposition._truncated_svd.TruncatedSVD only supports dict_keys(['arpack', 'randomized']).\n",
      "  sc.pp.pca(\n"
     ]
    },
    {
     "name": "stdout",
     "output_type": "stream",
     "text": [
      "[I 2025-08-07 15:08:20,533] Trial 109 finished with value: 0.14875033574204607 and parameters: {'n_neighbors': 124, 'dim_reduction': 'pca', 'pca_solver': 'auto', 'pca_components': 14, 'resolution': 0.1820520875614579, 'method': 'louvain', 'dist_metric': 'cosine', 'louv_clustering_imp': 'vtraag', 'leid_clustering_imp': 'igraph'}. Best is trial 44 with value: 0.15169876790460343.\n",
      "[I 2025-08-07 15:08:22,185] Trial 110 finished with value: 0.10532689053323054 and parameters: {'n_neighbors': 106, 'dim_reduction': 'raw', 'pca_solver': 'auto', 'pca_components': 10, 'resolution': 0.3311980761895562, 'method': 'louvain', 'dist_metric': 'cosine', 'louv_clustering_imp': 'vtraag', 'leid_clustering_imp': 'igraph'}. Best is trial 44 with value: 0.15169876790460343.\n"
     ]
    },
    {
     "name": "stderr",
     "output_type": "stream",
     "text": [
      "/home/erikserrano/Development/BuSCar/notebooks/1.compound-prioritization/../../utils/heterogeneity.py:113: UserWarning: Ignoring svd_solver='auto' and using randomized, sklearn.decomposition._truncated_svd.TruncatedSVD only supports dict_keys(['arpack', 'randomized']).\n",
      "  sc.pp.pca(\n"
     ]
    },
    {
     "name": "stdout",
     "output_type": "stream",
     "text": [
      "[I 2025-08-07 15:08:23,947] Trial 111 finished with value: 0.15090301948424642 and parameters: {'n_neighbors': 100, 'dim_reduction': 'pca', 'pca_solver': 'auto', 'pca_components': 35, 'resolution': 0.24576383298877813, 'method': 'louvain', 'dist_metric': 'cosine', 'louv_clustering_imp': 'vtraag', 'leid_clustering_imp': 'leidenalg'}. Best is trial 44 with value: 0.15169876790460343.\n"
     ]
    },
    {
     "name": "stderr",
     "output_type": "stream",
     "text": [
      "/home/erikserrano/Development/BuSCar/notebooks/1.compound-prioritization/../../utils/heterogeneity.py:113: UserWarning: Ignoring svd_solver='auto' and using randomized, sklearn.decomposition._truncated_svd.TruncatedSVD only supports dict_keys(['arpack', 'randomized']).\n",
      "  sc.pp.pca(\n"
     ]
    },
    {
     "name": "stdout",
     "output_type": "stream",
     "text": [
      "[I 2025-08-07 15:08:25,584] Trial 112 finished with value: 0.1496804967077355 and parameters: {'n_neighbors': 117, 'dim_reduction': 'pca', 'pca_solver': 'auto', 'pca_components': 36, 'resolution': 0.2286779917575688, 'method': 'louvain', 'dist_metric': 'cosine', 'louv_clustering_imp': 'vtraag', 'leid_clustering_imp': 'leidenalg'}. Best is trial 44 with value: 0.15169876790460343.\n"
     ]
    },
    {
     "name": "stderr",
     "output_type": "stream",
     "text": [
      "/home/erikserrano/Development/BuSCar/notebooks/1.compound-prioritization/../../utils/heterogeneity.py:113: UserWarning: Ignoring svd_solver='auto' and using randomized, sklearn.decomposition._truncated_svd.TruncatedSVD only supports dict_keys(['arpack', 'randomized']).\n",
      "  sc.pp.pca(\n"
     ]
    },
    {
     "name": "stdout",
     "output_type": "stream",
     "text": [
      "[I 2025-08-07 15:08:27,397] Trial 113 finished with value: 0.15078683511559957 and parameters: {'n_neighbors': 101, 'dim_reduction': 'pca', 'pca_solver': 'auto', 'pca_components': 31, 'resolution': 0.2758099387977941, 'method': 'louvain', 'dist_metric': 'cosine', 'louv_clustering_imp': 'vtraag', 'leid_clustering_imp': 'leidenalg'}. Best is trial 44 with value: 0.15169876790460343.\n"
     ]
    },
    {
     "name": "stderr",
     "output_type": "stream",
     "text": [
      "/home/erikserrano/Development/BuSCar/notebooks/1.compound-prioritization/../../utils/heterogeneity.py:113: UserWarning: Ignoring svd_solver='auto' and using randomized, sklearn.decomposition._truncated_svd.TruncatedSVD only supports dict_keys(['arpack', 'randomized']).\n",
      "  sc.pp.pca(\n"
     ]
    },
    {
     "name": "stdout",
     "output_type": "stream",
     "text": [
      "[I 2025-08-07 15:08:29,165] Trial 114 finished with value: 0.15070163660690333 and parameters: {'n_neighbors': 111, 'dim_reduction': 'pca', 'pca_solver': 'auto', 'pca_components': 31, 'resolution': 0.281128351805236, 'method': 'louvain', 'dist_metric': 'cosine', 'louv_clustering_imp': 'vtraag', 'leid_clustering_imp': 'leidenalg'}. Best is trial 44 with value: 0.15169876790460343.\n"
     ]
    },
    {
     "name": "stderr",
     "output_type": "stream",
     "text": [
      "/home/erikserrano/Development/BuSCar/notebooks/1.compound-prioritization/../../utils/heterogeneity.py:113: UserWarning: Ignoring svd_solver='auto' and using randomized, sklearn.decomposition._truncated_svd.TruncatedSVD only supports dict_keys(['arpack', 'randomized']).\n",
      "  sc.pp.pca(\n"
     ]
    },
    {
     "name": "stdout",
     "output_type": "stream",
     "text": [
      "[I 2025-08-07 15:08:30,887] Trial 115 finished with value: 0.150816506855318 and parameters: {'n_neighbors': 109, 'dim_reduction': 'pca', 'pca_solver': 'auto', 'pca_components': 31, 'resolution': 0.28111188097614775, 'method': 'louvain', 'dist_metric': 'cosine', 'louv_clustering_imp': 'vtraag', 'leid_clustering_imp': 'leidenalg'}. Best is trial 44 with value: 0.15169876790460343.\n"
     ]
    },
    {
     "name": "stderr",
     "output_type": "stream",
     "text": [
      "/home/erikserrano/Development/BuSCar/notebooks/1.compound-prioritization/../../utils/heterogeneity.py:113: UserWarning: Ignoring svd_solver='auto' and using randomized, sklearn.decomposition._truncated_svd.TruncatedSVD only supports dict_keys(['arpack', 'randomized']).\n",
      "  sc.pp.pca(\n"
     ]
    },
    {
     "name": "stdout",
     "output_type": "stream",
     "text": [
      "[I 2025-08-07 15:08:32,421] Trial 116 finished with value: 0.07531301300123043 and parameters: {'n_neighbors': 101, 'dim_reduction': 'pca', 'pca_solver': 'auto', 'pca_components': 39, 'resolution': 0.47599307223097775, 'method': 'louvain', 'dist_metric': 'cosine', 'louv_clustering_imp': 'vtraag', 'leid_clustering_imp': 'leidenalg'}. Best is trial 44 with value: 0.15169876790460343.\n"
     ]
    },
    {
     "name": "stderr",
     "output_type": "stream",
     "text": [
      "/home/erikserrano/Development/BuSCar/notebooks/1.compound-prioritization/../../utils/heterogeneity.py:113: UserWarning: Ignoring svd_solver='auto' and using randomized, sklearn.decomposition._truncated_svd.TruncatedSVD only supports dict_keys(['arpack', 'randomized']).\n",
      "  sc.pp.pca(\n"
     ]
    },
    {
     "name": "stdout",
     "output_type": "stream",
     "text": [
      "[I 2025-08-07 15:08:33,977] Trial 117 finished with value: 0.07622157743719639 and parameters: {'n_neighbors': 111, 'dim_reduction': 'pca', 'pca_solver': 'auto', 'pca_components': 31, 'resolution': 0.37886129079836983, 'method': 'louvain', 'dist_metric': 'cosine', 'louv_clustering_imp': 'vtraag', 'leid_clustering_imp': 'leidenalg'}. Best is trial 44 with value: 0.15169876790460343.\n"
     ]
    },
    {
     "name": "stderr",
     "output_type": "stream",
     "text": [
      "/home/erikserrano/Development/BuSCar/notebooks/1.compound-prioritization/../../utils/heterogeneity.py:113: UserWarning: Ignoring svd_solver='auto' and using randomized, sklearn.decomposition._truncated_svd.TruncatedSVD only supports dict_keys(['arpack', 'randomized']).\n",
      "  sc.pp.pca(\n"
     ]
    },
    {
     "name": "stdout",
     "output_type": "stream",
     "text": [
      "[I 2025-08-07 15:08:37,743] Trial 118 finished with value: 0.10937969580644744 and parameters: {'n_neighbors': 108, 'dim_reduction': 'pca', 'pca_solver': 'auto', 'pca_components': 34, 'resolution': 0.29337772277365054, 'method': 'leiden', 'dist_metric': 'cosine', 'louv_clustering_imp': 'vtraag', 'leid_clustering_imp': 'leidenalg'}. Best is trial 44 with value: 0.15169876790460343.\n"
     ]
    },
    {
     "name": "stderr",
     "output_type": "stream",
     "text": [
      "/home/erikserrano/Development/BuSCar/notebooks/1.compound-prioritization/../../utils/heterogeneity.py:113: UserWarning: Ignoring svd_solver='auto' and using randomized, sklearn.decomposition._truncated_svd.TruncatedSVD only supports dict_keys(['arpack', 'randomized']).\n",
      "  sc.pp.pca(\n"
     ]
    },
    {
     "name": "stdout",
     "output_type": "stream",
     "text": [
      "[I 2025-08-07 15:08:39,168] Trial 119 finished with value: 0.07578407201011766 and parameters: {'n_neighbors': 100, 'dim_reduction': 'pca', 'pca_solver': 'auto', 'pca_components': 34, 'resolution': 0.4053891919589224, 'method': 'louvain', 'dist_metric': 'cosine', 'louv_clustering_imp': 'vtraag', 'leid_clustering_imp': 'leidenalg'}. Best is trial 44 with value: 0.15169876790460343.\n"
     ]
    },
    {
     "name": "stderr",
     "output_type": "stream",
     "text": [
      "/home/erikserrano/Development/BuSCar/notebooks/1.compound-prioritization/../../utils/heterogeneity.py:113: UserWarning: Ignoring svd_solver='auto' and using randomized, sklearn.decomposition._truncated_svd.TruncatedSVD only supports dict_keys(['arpack', 'randomized']).\n",
      "  sc.pp.pca(\n"
     ]
    },
    {
     "name": "stdout",
     "output_type": "stream",
     "text": [
      "[I 2025-08-07 15:08:40,833] Trial 120 finished with value: 0.14912570378266563 and parameters: {'n_neighbors': 105, 'dim_reduction': 'pca', 'pca_solver': 'auto', 'pca_components': 28, 'resolution': 0.2753281011596434, 'method': 'louvain', 'dist_metric': 'cosine', 'louv_clustering_imp': 'vtraag', 'leid_clustering_imp': 'leidenalg'}. Best is trial 44 with value: 0.15169876790460343.\n"
     ]
    },
    {
     "name": "stderr",
     "output_type": "stream",
     "text": [
      "/home/erikserrano/Development/BuSCar/notebooks/1.compound-prioritization/../../utils/heterogeneity.py:113: UserWarning: Ignoring svd_solver='auto' and using randomized, sklearn.decomposition._truncated_svd.TruncatedSVD only supports dict_keys(['arpack', 'randomized']).\n",
      "  sc.pp.pca(\n"
     ]
    },
    {
     "name": "stdout",
     "output_type": "stream",
     "text": [
      "[I 2025-08-07 15:08:42,765] Trial 121 finished with value: 0.10509534760160485 and parameters: {'n_neighbors': 113, 'dim_reduction': 'pca', 'pca_solver': 'auto', 'pca_components': 25, 'resolution': 0.32629201715223616, 'method': 'louvain', 'dist_metric': 'cosine', 'louv_clustering_imp': 'vtraag', 'leid_clustering_imp': 'leidenalg'}. Best is trial 44 with value: 0.15169876790460343.\n"
     ]
    },
    {
     "name": "stderr",
     "output_type": "stream",
     "text": [
      "/home/erikserrano/Development/BuSCar/notebooks/1.compound-prioritization/../../utils/heterogeneity.py:113: UserWarning: Ignoring svd_solver='auto' and using randomized, sklearn.decomposition._truncated_svd.TruncatedSVD only supports dict_keys(['arpack', 'randomized']).\n",
      "  sc.pp.pca(\n"
     ]
    },
    {
     "name": "stdout",
     "output_type": "stream",
     "text": [
      "[I 2025-08-07 15:08:44,598] Trial 122 finished with value: 0.15070041971869838 and parameters: {'n_neighbors': 94, 'dim_reduction': 'pca', 'pca_solver': 'auto', 'pca_components': 30, 'resolution': 0.27385807695806297, 'method': 'louvain', 'dist_metric': 'cosine', 'louv_clustering_imp': 'vtraag', 'leid_clustering_imp': 'leidenalg'}. Best is trial 44 with value: 0.15169876790460343.\n"
     ]
    },
    {
     "name": "stderr",
     "output_type": "stream",
     "text": [
      "/home/erikserrano/Development/BuSCar/notebooks/1.compound-prioritization/../../utils/heterogeneity.py:113: UserWarning: Ignoring svd_solver='auto' and using randomized, sklearn.decomposition._truncated_svd.TruncatedSVD only supports dict_keys(['arpack', 'randomized']).\n",
      "  sc.pp.pca(\n"
     ]
    },
    {
     "name": "stdout",
     "output_type": "stream",
     "text": [
      "[I 2025-08-07 15:08:46,122] Trial 123 finished with value: 0.1512224933284992 and parameters: {'n_neighbors': 96, 'dim_reduction': 'pca', 'pca_solver': 'auto', 'pca_components': 37, 'resolution': 0.2619757045071971, 'method': 'louvain', 'dist_metric': 'cosine', 'louv_clustering_imp': 'vtraag', 'leid_clustering_imp': 'leidenalg'}. Best is trial 44 with value: 0.15169876790460343.\n"
     ]
    },
    {
     "name": "stderr",
     "output_type": "stream",
     "text": [
      "/home/erikserrano/Development/BuSCar/notebooks/1.compound-prioritization/../../utils/heterogeneity.py:113: UserWarning: Ignoring svd_solver='auto' and using randomized, sklearn.decomposition._truncated_svd.TruncatedSVD only supports dict_keys(['arpack', 'randomized']).\n",
      "  sc.pp.pca(\n"
     ]
    },
    {
     "name": "stdout",
     "output_type": "stream",
     "text": [
      "[I 2025-08-07 15:08:47,613] Trial 124 finished with value: 0.1482384450780316 and parameters: {'n_neighbors': 96, 'dim_reduction': 'pca', 'pca_solver': 'auto', 'pca_components': 36, 'resolution': 0.1422663990922212, 'method': 'louvain', 'dist_metric': 'cosine', 'louv_clustering_imp': 'vtraag', 'leid_clustering_imp': 'leidenalg'}. Best is trial 44 with value: 0.15169876790460343.\n"
     ]
    },
    {
     "name": "stderr",
     "output_type": "stream",
     "text": [
      "/home/erikserrano/Development/BuSCar/notebooks/1.compound-prioritization/../../utils/heterogeneity.py:113: UserWarning: Ignoring svd_solver='auto' and using randomized, sklearn.decomposition._truncated_svd.TruncatedSVD only supports dict_keys(['arpack', 'randomized']).\n",
      "  sc.pp.pca(\n"
     ]
    },
    {
     "name": "stdout",
     "output_type": "stream",
     "text": [
      "[I 2025-08-07 15:08:49,176] Trial 125 finished with value: 0.076301678635131 and parameters: {'n_neighbors': 95, 'dim_reduction': 'pca', 'pca_solver': 'auto', 'pca_components': 38, 'resolution': 0.3551850927192182, 'method': 'louvain', 'dist_metric': 'cosine', 'louv_clustering_imp': 'vtraag', 'leid_clustering_imp': 'leidenalg'}. Best is trial 44 with value: 0.15169876790460343.\n"
     ]
    },
    {
     "name": "stderr",
     "output_type": "stream",
     "text": [
      "/home/erikserrano/Development/BuSCar/notebooks/1.compound-prioritization/../../utils/heterogeneity.py:113: UserWarning: Ignoring svd_solver='auto' and using randomized, sklearn.decomposition._truncated_svd.TruncatedSVD only supports dict_keys(['arpack', 'randomized']).\n",
      "  sc.pp.pca(\n"
     ]
    },
    {
     "name": "stdout",
     "output_type": "stream",
     "text": [
      "[I 2025-08-07 15:08:50,885] Trial 126 finished with value: 0.15012979652394925 and parameters: {'n_neighbors': 103, 'dim_reduction': 'pca', 'pca_solver': 'auto', 'pca_components': 41, 'resolution': 0.2753315216235337, 'method': 'louvain', 'dist_metric': 'cosine', 'louv_clustering_imp': 'vtraag', 'leid_clustering_imp': 'leidenalg'}. Best is trial 44 with value: 0.15169876790460343.\n"
     ]
    },
    {
     "name": "stderr",
     "output_type": "stream",
     "text": [
      "/home/erikserrano/Development/BuSCar/notebooks/1.compound-prioritization/../../utils/heterogeneity.py:113: UserWarning: Ignoring svd_solver='auto' and using randomized, sklearn.decomposition._truncated_svd.TruncatedSVD only supports dict_keys(['arpack', 'randomized']).\n",
      "  sc.pp.pca(\n"
     ]
    },
    {
     "name": "stdout",
     "output_type": "stream",
     "text": [
      "[I 2025-08-07 15:08:52,383] Trial 127 finished with value: 0.07400038947780387 and parameters: {'n_neighbors': 90, 'dim_reduction': 'pca', 'pca_solver': 'auto', 'pca_components': 31, 'resolution': 0.4448683862251891, 'method': 'louvain', 'dist_metric': 'cosine', 'louv_clustering_imp': 'vtraag', 'leid_clustering_imp': 'leidenalg'}. Best is trial 44 with value: 0.15169876790460343.\n"
     ]
    },
    {
     "name": "stderr",
     "output_type": "stream",
     "text": [
      "/home/erikserrano/Development/BuSCar/notebooks/1.compound-prioritization/../../utils/heterogeneity.py:113: UserWarning: Ignoring svd_solver='auto' and using randomized, sklearn.decomposition._truncated_svd.TruncatedSVD only supports dict_keys(['arpack', 'randomized']).\n",
      "  sc.pp.pca(\n"
     ]
    },
    {
     "name": "stdout",
     "output_type": "stream",
     "text": [
      "[I 2025-08-07 15:08:54,112] Trial 128 finished with value: 0.10388549001668379 and parameters: {'n_neighbors': 93, 'dim_reduction': 'pca', 'pca_solver': 'auto', 'pca_components': 35, 'resolution': 0.3132885652583678, 'method': 'louvain', 'dist_metric': 'cosine', 'louv_clustering_imp': 'vtraag', 'leid_clustering_imp': 'leidenalg'}. Best is trial 44 with value: 0.15169876790460343.\n"
     ]
    },
    {
     "name": "stderr",
     "output_type": "stream",
     "text": [
      "/home/erikserrano/Development/BuSCar/notebooks/1.compound-prioritization/../../utils/heterogeneity.py:113: UserWarning: Ignoring svd_solver='auto' and using randomized, sklearn.decomposition._truncated_svd.TruncatedSVD only supports dict_keys(['arpack', 'randomized']).\n",
      "  sc.pp.pca(\n"
     ]
    },
    {
     "name": "stdout",
     "output_type": "stream",
     "text": [
      "[I 2025-08-07 15:08:55,942] Trial 129 finished with value: 0.04553679140155657 and parameters: {'n_neighbors': 101, 'dim_reduction': 'pca', 'pca_solver': 'auto', 'pca_components': 32, 'resolution': 1.8276546086679313, 'method': 'louvain', 'dist_metric': 'cosine', 'louv_clustering_imp': 'vtraag', 'leid_clustering_imp': 'leidenalg'}. Best is trial 44 with value: 0.15169876790460343.\n"
     ]
    },
    {
     "name": "stderr",
     "output_type": "stream",
     "text": [
      "/home/erikserrano/Development/BuSCar/notebooks/1.compound-prioritization/../../utils/heterogeneity.py:113: UserWarning: Ignoring svd_solver='auto' and using randomized, sklearn.decomposition._truncated_svd.TruncatedSVD only supports dict_keys(['arpack', 'randomized']).\n",
      "  sc.pp.pca(\n"
     ]
    },
    {
     "name": "stdout",
     "output_type": "stream",
     "text": [
      "[I 2025-08-07 15:08:57,694] Trial 130 finished with value: 0.14860808427961322 and parameters: {'n_neighbors': 85, 'dim_reduction': 'pca', 'pca_solver': 'auto', 'pca_components': 43, 'resolution': 0.23996654174882556, 'method': 'louvain', 'dist_metric': 'cosine', 'louv_clustering_imp': 'vtraag', 'leid_clustering_imp': 'leidenalg'}. Best is trial 44 with value: 0.15169876790460343.\n"
     ]
    },
    {
     "name": "stderr",
     "output_type": "stream",
     "text": [
      "/home/erikserrano/Development/BuSCar/notebooks/1.compound-prioritization/../../utils/heterogeneity.py:113: UserWarning: Ignoring svd_solver='auto' and using randomized, sklearn.decomposition._truncated_svd.TruncatedSVD only supports dict_keys(['arpack', 'randomized']).\n",
      "  sc.pp.pca(\n"
     ]
    },
    {
     "name": "stdout",
     "output_type": "stream",
     "text": [
      "[I 2025-08-07 15:08:59,167] Trial 131 finished with value: 0.14796113377452386 and parameters: {'n_neighbors': 109, 'dim_reduction': 'pca', 'pca_solver': 'auto', 'pca_components': 29, 'resolution': 0.16793027526355964, 'method': 'louvain', 'dist_metric': 'cosine', 'louv_clustering_imp': 'vtraag', 'leid_clustering_imp': 'leidenalg'}. Best is trial 44 with value: 0.15169876790460343.\n",
      "[I 2025-08-07 15:09:00,490] Trial 132 finished with value: 0.1476896846300922 and parameters: {'n_neighbors': 98, 'dim_reduction': 'pca', 'pca_solver': 'arpack', 'pca_components': 30, 'resolution': 0.21596934663381995, 'method': 'louvain', 'dist_metric': 'cosine', 'louv_clustering_imp': 'vtraag', 'leid_clustering_imp': 'leidenalg'}. Best is trial 44 with value: 0.15169876790460343.\n"
     ]
    },
    {
     "name": "stderr",
     "output_type": "stream",
     "text": [
      "/home/erikserrano/Development/BuSCar/notebooks/1.compound-prioritization/../../utils/heterogeneity.py:113: UserWarning: Ignoring svd_solver='auto' and using randomized, sklearn.decomposition._truncated_svd.TruncatedSVD only supports dict_keys(['arpack', 'randomized']).\n",
      "  sc.pp.pca(\n"
     ]
    },
    {
     "name": "stdout",
     "output_type": "stream",
     "text": [
      "[I 2025-08-07 15:09:02,360] Trial 133 finished with value: 0.15043892931555683 and parameters: {'n_neighbors': 108, 'dim_reduction': 'pca', 'pca_solver': 'auto', 'pca_components': 33, 'resolution': 0.268803188394413, 'method': 'louvain', 'dist_metric': 'cosine', 'louv_clustering_imp': 'vtraag', 'leid_clustering_imp': 'leidenalg'}. Best is trial 44 with value: 0.15169876790460343.\n"
     ]
    },
    {
     "name": "stderr",
     "output_type": "stream",
     "text": [
      "/home/erikserrano/Development/BuSCar/notebooks/1.compound-prioritization/../../utils/heterogeneity.py:113: UserWarning: Ignoring svd_solver='auto' and using randomized, sklearn.decomposition._truncated_svd.TruncatedSVD only supports dict_keys(['arpack', 'randomized']).\n",
      "  sc.pp.pca(\n"
     ]
    },
    {
     "name": "stdout",
     "output_type": "stream",
     "text": [
      "[I 2025-08-07 15:09:04,308] Trial 134 finished with value: 0.15088509608182754 and parameters: {'n_neighbors': 104, 'dim_reduction': 'pca', 'pca_solver': 'auto', 'pca_components': 34, 'resolution': 0.2816587286372598, 'method': 'louvain', 'dist_metric': 'cosine', 'louv_clustering_imp': 'vtraag', 'leid_clustering_imp': 'leidenalg'}. Best is trial 44 with value: 0.15169876790460343.\n"
     ]
    },
    {
     "name": "stderr",
     "output_type": "stream",
     "text": [
      "/home/erikserrano/Development/BuSCar/notebooks/1.compound-prioritization/../../utils/heterogeneity.py:113: UserWarning: Ignoring svd_solver='auto' and using randomized, sklearn.decomposition._truncated_svd.TruncatedSVD only supports dict_keys(['arpack', 'randomized']).\n",
      "  sc.pp.pca(\n"
     ]
    },
    {
     "name": "stdout",
     "output_type": "stream",
     "text": [
      "[I 2025-08-07 15:09:06,424] Trial 135 finished with value: 0.10471775150694203 and parameters: {'n_neighbors': 117, 'dim_reduction': 'pca', 'pca_solver': 'auto', 'pca_components': 37, 'resolution': 0.3216083854086883, 'method': 'louvain', 'dist_metric': 'cosine', 'louv_clustering_imp': 'vtraag', 'leid_clustering_imp': 'leidenalg'}. Best is trial 44 with value: 0.15169876790460343.\n"
     ]
    },
    {
     "name": "stderr",
     "output_type": "stream",
     "text": [
      "/home/erikserrano/Development/BuSCar/notebooks/1.compound-prioritization/../../utils/heterogeneity.py:113: UserWarning: Ignoring svd_solver='auto' and using randomized, sklearn.decomposition._truncated_svd.TruncatedSVD only supports dict_keys(['arpack', 'randomized']).\n",
      "  sc.pp.pca(\n"
     ]
    },
    {
     "name": "stdout",
     "output_type": "stream",
     "text": [
      "[I 2025-08-07 15:09:08,055] Trial 136 finished with value: 0.10422924578045883 and parameters: {'n_neighbors': 82, 'dim_reduction': 'pca', 'pca_solver': 'auto', 'pca_components': 33, 'resolution': 0.27705245801449535, 'method': 'louvain', 'dist_metric': 'cosine', 'louv_clustering_imp': 'vtraag', 'leid_clustering_imp': 'leidenalg'}. Best is trial 44 with value: 0.15169876790460343.\n"
     ]
    },
    {
     "name": "stderr",
     "output_type": "stream",
     "text": [
      "/home/erikserrano/Development/BuSCar/notebooks/1.compound-prioritization/../../utils/heterogeneity.py:113: UserWarning: Ignoring svd_solver='auto' and using randomized, sklearn.decomposition._truncated_svd.TruncatedSVD only supports dict_keys(['arpack', 'randomized']).\n",
      "  sc.pp.pca(\n"
     ]
    },
    {
     "name": "stdout",
     "output_type": "stream",
     "text": [
      "[I 2025-08-07 15:09:09,643] Trial 137 finished with value: 0.07564892458496415 and parameters: {'n_neighbors': 106, 'dim_reduction': 'pca', 'pca_solver': 'auto', 'pca_components': 34, 'resolution': 0.38151400493455034, 'method': 'louvain', 'dist_metric': 'cosine', 'louv_clustering_imp': 'vtraag', 'leid_clustering_imp': 'leidenalg'}. Best is trial 44 with value: 0.15169876790460343.\n"
     ]
    },
    {
     "name": "stderr",
     "output_type": "stream",
     "text": [
      "/home/erikserrano/Development/BuSCar/notebooks/1.compound-prioritization/../../utils/heterogeneity.py:113: UserWarning: Ignoring svd_solver='auto' and using randomized, sklearn.decomposition._truncated_svd.TruncatedSVD only supports dict_keys(['arpack', 'randomized']).\n",
      "  sc.pp.pca(\n"
     ]
    },
    {
     "name": "stdout",
     "output_type": "stream",
     "text": [
      "[I 2025-08-07 15:09:10,275] Trial 138 finished with value: -0.008896039641521974 and parameters: {'n_neighbors': 5, 'dim_reduction': 'pca', 'pca_solver': 'auto', 'pca_components': 27, 'resolution': 0.748273634985423, 'method': 'louvain', 'dist_metric': 'cosine', 'louv_clustering_imp': 'vtraag', 'leid_clustering_imp': 'leidenalg'}. Best is trial 44 with value: 0.15169876790460343.\n"
     ]
    },
    {
     "name": "stderr",
     "output_type": "stream",
     "text": [
      "/home/erikserrano/Development/BuSCar/notebooks/1.compound-prioritization/../../utils/heterogeneity.py:113: UserWarning: Ignoring svd_solver='auto' and using randomized, sklearn.decomposition._truncated_svd.TruncatedSVD only supports dict_keys(['arpack', 'randomized']).\n",
      "  sc.pp.pca(\n"
     ]
    },
    {
     "name": "stdout",
     "output_type": "stream",
     "text": [
      "[I 2025-08-07 15:09:11,674] Trial 139 finished with value: 0.14634412143200926 and parameters: {'n_neighbors': 111, 'dim_reduction': 'pca', 'pca_solver': 'auto', 'pca_components': 30, 'resolution': 0.1368549743301442, 'method': 'louvain', 'dist_metric': 'cosine', 'louv_clustering_imp': 'vtraag', 'leid_clustering_imp': 'leidenalg'}. Best is trial 44 with value: 0.15169876790460343.\n"
     ]
    },
    {
     "name": "stderr",
     "output_type": "stream",
     "text": [
      "/home/erikserrano/Development/BuSCar/notebooks/1.compound-prioritization/../../utils/heterogeneity.py:113: UserWarning: Ignoring svd_solver='auto' and using randomized, sklearn.decomposition._truncated_svd.TruncatedSVD only supports dict_keys(['arpack', 'randomized']).\n",
      "  sc.pp.pca(\n"
     ]
    },
    {
     "name": "stdout",
     "output_type": "stream",
     "text": [
      "[I 2025-08-07 15:09:15,866] Trial 140 finished with value: 0.1516445099040387 and parameters: {'n_neighbors': 128, 'dim_reduction': 'pca', 'pca_solver': 'auto', 'pca_components': 37, 'resolution': 0.18667479795738268, 'method': 'leiden', 'dist_metric': 'cosine', 'louv_clustering_imp': 'vtraag', 'leid_clustering_imp': 'leidenalg'}. Best is trial 44 with value: 0.15169876790460343.\n"
     ]
    },
    {
     "name": "stderr",
     "output_type": "stream",
     "text": [
      "/home/erikserrano/Development/BuSCar/notebooks/1.compound-prioritization/../../utils/heterogeneity.py:113: UserWarning: Ignoring svd_solver='auto' and using randomized, sklearn.decomposition._truncated_svd.TruncatedSVD only supports dict_keys(['arpack', 'randomized']).\n",
      "  sc.pp.pca(\n"
     ]
    },
    {
     "name": "stdout",
     "output_type": "stream",
     "text": [
      "[I 2025-08-07 15:09:21,537] Trial 141 finished with value: 0.10507758822684585 and parameters: {'n_neighbors': 127, 'dim_reduction': 'pca', 'pca_solver': 'auto', 'pca_components': 39, 'resolution': 0.24085776240047846, 'method': 'leiden', 'dist_metric': 'cosine', 'louv_clustering_imp': 'vtraag', 'leid_clustering_imp': 'leidenalg'}. Best is trial 44 with value: 0.15169876790460343.\n"
     ]
    },
    {
     "name": "stderr",
     "output_type": "stream",
     "text": [
      "/home/erikserrano/Development/BuSCar/notebooks/1.compound-prioritization/../../utils/heterogeneity.py:113: UserWarning: Ignoring svd_solver='auto' and using randomized, sklearn.decomposition._truncated_svd.TruncatedSVD only supports dict_keys(['arpack', 'randomized']).\n",
      "  sc.pp.pca(\n"
     ]
    },
    {
     "name": "stdout",
     "output_type": "stream",
     "text": [
      "[I 2025-08-07 15:09:26,203] Trial 142 finished with value: 0.15259211226380476 and parameters: {'n_neighbors': 130, 'dim_reduction': 'pca', 'pca_solver': 'auto', 'pca_components': 36, 'resolution': 0.18358582553007552, 'method': 'leiden', 'dist_metric': 'cosine', 'louv_clustering_imp': 'vtraag', 'leid_clustering_imp': 'leidenalg'}. Best is trial 142 with value: 0.15259211226380476.\n"
     ]
    },
    {
     "name": "stderr",
     "output_type": "stream",
     "text": [
      "/home/erikserrano/Development/BuSCar/notebooks/1.compound-prioritization/../../utils/heterogeneity.py:113: UserWarning: Ignoring svd_solver='auto' and using randomized, sklearn.decomposition._truncated_svd.TruncatedSVD only supports dict_keys(['arpack', 'randomized']).\n",
      "  sc.pp.pca(\n"
     ]
    },
    {
     "name": "stdout",
     "output_type": "stream",
     "text": [
      "[I 2025-08-07 15:09:31,256] Trial 143 finished with value: 0.15251545624453514 and parameters: {'n_neighbors': 134, 'dim_reduction': 'pca', 'pca_solver': 'auto', 'pca_components': 36, 'resolution': 0.17445069776227973, 'method': 'leiden', 'dist_metric': 'cosine', 'louv_clustering_imp': 'vtraag', 'leid_clustering_imp': 'leidenalg'}. Best is trial 142 with value: 0.15259211226380476.\n"
     ]
    },
    {
     "name": "stderr",
     "output_type": "stream",
     "text": [
      "/home/erikserrano/Development/BuSCar/notebooks/1.compound-prioritization/../../utils/heterogeneity.py:113: UserWarning: Ignoring svd_solver='auto' and using randomized, sklearn.decomposition._truncated_svd.TruncatedSVD only supports dict_keys(['arpack', 'randomized']).\n",
      "  sc.pp.pca(\n"
     ]
    },
    {
     "name": "stdout",
     "output_type": "stream",
     "text": [
      "[I 2025-08-07 15:09:37,684] Trial 144 finished with value: 0.1516464906786096 and parameters: {'n_neighbors': 130, 'dim_reduction': 'pca', 'pca_solver': 'auto', 'pca_components': 43, 'resolution': 0.17685863202319185, 'method': 'leiden', 'dist_metric': 'cosine', 'louv_clustering_imp': 'vtraag', 'leid_clustering_imp': 'leidenalg'}. Best is trial 142 with value: 0.15259211226380476.\n"
     ]
    },
    {
     "name": "stderr",
     "output_type": "stream",
     "text": [
      "/home/erikserrano/Development/BuSCar/notebooks/1.compound-prioritization/../../utils/heterogeneity.py:113: UserWarning: Ignoring svd_solver='auto' and using randomized, sklearn.decomposition._truncated_svd.TruncatedSVD only supports dict_keys(['arpack', 'randomized']).\n",
      "  sc.pp.pca(\n"
     ]
    },
    {
     "name": "stdout",
     "output_type": "stream",
     "text": [
      "[I 2025-08-07 15:09:42,389] Trial 145 finished with value: 0.15161109358826375 and parameters: {'n_neighbors': 132, 'dim_reduction': 'pca', 'pca_solver': 'auto', 'pca_components': 43, 'resolution': 0.10177442677742571, 'method': 'leiden', 'dist_metric': 'cosine', 'louv_clustering_imp': 'vtraag', 'leid_clustering_imp': 'leidenalg'}. Best is trial 142 with value: 0.15259211226380476.\n"
     ]
    },
    {
     "name": "stderr",
     "output_type": "stream",
     "text": [
      "/home/erikserrano/Development/BuSCar/notebooks/1.compound-prioritization/../../utils/heterogeneity.py:113: UserWarning: Ignoring svd_solver='auto' and using randomized, sklearn.decomposition._truncated_svd.TruncatedSVD only supports dict_keys(['arpack', 'randomized']).\n",
      "  sc.pp.pca(\n"
     ]
    },
    {
     "name": "stdout",
     "output_type": "stream",
     "text": [
      "[I 2025-08-07 15:09:48,012] Trial 146 finished with value: 0.15108330605050788 and parameters: {'n_neighbors': 136, 'dim_reduction': 'pca', 'pca_solver': 'auto', 'pca_components': 44, 'resolution': 0.10858173947330427, 'method': 'leiden', 'dist_metric': 'cosine', 'louv_clustering_imp': 'vtraag', 'leid_clustering_imp': 'leidenalg'}. Best is trial 142 with value: 0.15259211226380476.\n"
     ]
    },
    {
     "name": "stderr",
     "output_type": "stream",
     "text": [
      "/home/erikserrano/Development/BuSCar/notebooks/1.compound-prioritization/../../utils/heterogeneity.py:113: UserWarning: Ignoring svd_solver='auto' and using randomized, sklearn.decomposition._truncated_svd.TruncatedSVD only supports dict_keys(['arpack', 'randomized']).\n",
      "  sc.pp.pca(\n"
     ]
    },
    {
     "name": "stdout",
     "output_type": "stream",
     "text": [
      "[I 2025-08-07 15:09:53,235] Trial 147 finished with value: 0.15189031043318726 and parameters: {'n_neighbors': 142, 'dim_reduction': 'pca', 'pca_solver': 'auto', 'pca_components': 47, 'resolution': 0.1243818244528438, 'method': 'leiden', 'dist_metric': 'cosine', 'louv_clustering_imp': 'vtraag', 'leid_clustering_imp': 'leidenalg'}. Best is trial 142 with value: 0.15259211226380476.\n"
     ]
    },
    {
     "name": "stderr",
     "output_type": "stream",
     "text": [
      "/home/erikserrano/Development/BuSCar/notebooks/1.compound-prioritization/../../utils/heterogeneity.py:113: UserWarning: Ignoring svd_solver='auto' and using randomized, sklearn.decomposition._truncated_svd.TruncatedSVD only supports dict_keys(['arpack', 'randomized']).\n",
      "  sc.pp.pca(\n"
     ]
    },
    {
     "name": "stdout",
     "output_type": "stream",
     "text": [
      "[I 2025-08-07 15:09:59,218] Trial 148 finished with value: 0.151810015448389 and parameters: {'n_neighbors': 142, 'dim_reduction': 'pca', 'pca_solver': 'auto', 'pca_components': 48, 'resolution': 0.1036007701272029, 'method': 'leiden', 'dist_metric': 'cosine', 'louv_clustering_imp': 'vtraag', 'leid_clustering_imp': 'leidenalg'}. Best is trial 142 with value: 0.15259211226380476.\n"
     ]
    },
    {
     "name": "stderr",
     "output_type": "stream",
     "text": [
      "/home/erikserrano/Development/BuSCar/notebooks/1.compound-prioritization/../../utils/heterogeneity.py:113: UserWarning: Ignoring svd_solver='auto' and using randomized, sklearn.decomposition._truncated_svd.TruncatedSVD only supports dict_keys(['arpack', 'randomized']).\n",
      "  sc.pp.pca(\n"
     ]
    },
    {
     "name": "stdout",
     "output_type": "stream",
     "text": [
      "[I 2025-08-07 15:10:03,734] Trial 149 finished with value: 0.15232778383989315 and parameters: {'n_neighbors': 139, 'dim_reduction': 'pca', 'pca_solver': 'auto', 'pca_components': 49, 'resolution': 0.10031528499786369, 'method': 'leiden', 'dist_metric': 'cosine', 'louv_clustering_imp': 'vtraag', 'leid_clustering_imp': 'leidenalg'}. Best is trial 142 with value: 0.15259211226380476.\n"
     ]
    },
    {
     "name": "stderr",
     "output_type": "stream",
     "text": [
      "/home/erikserrano/Development/BuSCar/notebooks/1.compound-prioritization/../../utils/heterogeneity.py:113: UserWarning: Ignoring svd_solver='auto' and using randomized, sklearn.decomposition._truncated_svd.TruncatedSVD only supports dict_keys(['arpack', 'randomized']).\n",
      "  sc.pp.pca(\n"
     ]
    },
    {
     "name": "stdout",
     "output_type": "stream",
     "text": [
      "[I 2025-08-07 15:10:09,893] Trial 150 finished with value: 0.15860726303386716 and parameters: {'n_neighbors': 139, 'dim_reduction': 'pca', 'pca_solver': 'auto', 'pca_components': 51, 'resolution': 0.12879824263251302, 'method': 'leiden', 'dist_metric': 'euclidean', 'louv_clustering_imp': 'vtraag', 'leid_clustering_imp': 'leidenalg'}. Best is trial 150 with value: 0.15860726303386716.\n"
     ]
    },
    {
     "name": "stderr",
     "output_type": "stream",
     "text": [
      "/home/erikserrano/Development/BuSCar/notebooks/1.compound-prioritization/../../utils/heterogeneity.py:113: UserWarning: Ignoring svd_solver='auto' and using randomized, sklearn.decomposition._truncated_svd.TruncatedSVD only supports dict_keys(['arpack', 'randomized']).\n",
      "  sc.pp.pca(\n"
     ]
    },
    {
     "name": "stdout",
     "output_type": "stream",
     "text": [
      "[I 2025-08-07 15:10:15,219] Trial 151 finished with value: 0.22510736528853403 and parameters: {'n_neighbors': 139, 'dim_reduction': 'pca', 'pca_solver': 'auto', 'pca_components': 51, 'resolution': 0.10939495084711655, 'method': 'leiden', 'dist_metric': 'euclidean', 'louv_clustering_imp': 'vtraag', 'leid_clustering_imp': 'leidenalg'}. Best is trial 151 with value: 0.22510736528853403.\n"
     ]
    },
    {
     "name": "stderr",
     "output_type": "stream",
     "text": [
      "/home/erikserrano/Development/BuSCar/notebooks/1.compound-prioritization/../../utils/heterogeneity.py:113: UserWarning: Ignoring svd_solver='auto' and using randomized, sklearn.decomposition._truncated_svd.TruncatedSVD only supports dict_keys(['arpack', 'randomized']).\n",
      "  sc.pp.pca(\n"
     ]
    },
    {
     "name": "stdout",
     "output_type": "stream",
     "text": [
      "[I 2025-08-07 15:10:21,710] Trial 152 finished with value: 0.16616147630073314 and parameters: {'n_neighbors': 149, 'dim_reduction': 'pca', 'pca_solver': 'auto', 'pca_components': 51, 'resolution': 0.11673574127308714, 'method': 'leiden', 'dist_metric': 'euclidean', 'louv_clustering_imp': 'vtraag', 'leid_clustering_imp': 'leidenalg'}. Best is trial 151 with value: 0.22510736528853403.\n"
     ]
    },
    {
     "name": "stderr",
     "output_type": "stream",
     "text": [
      "/home/erikserrano/Development/BuSCar/notebooks/1.compound-prioritization/../../utils/heterogeneity.py:113: UserWarning: Ignoring svd_solver='auto' and using randomized, sklearn.decomposition._truncated_svd.TruncatedSVD only supports dict_keys(['arpack', 'randomized']).\n",
      "  sc.pp.pca(\n"
     ]
    },
    {
     "name": "stdout",
     "output_type": "stream",
     "text": [
      "[I 2025-08-07 15:10:27,266] Trial 153 finished with value: 0.16420258373433705 and parameters: {'n_neighbors': 141, 'dim_reduction': 'pca', 'pca_solver': 'auto', 'pca_components': 49, 'resolution': 0.11002374498284859, 'method': 'leiden', 'dist_metric': 'euclidean', 'louv_clustering_imp': 'vtraag', 'leid_clustering_imp': 'leidenalg'}. Best is trial 151 with value: 0.22510736528853403.\n"
     ]
    },
    {
     "name": "stderr",
     "output_type": "stream",
     "text": [
      "/home/erikserrano/Development/BuSCar/notebooks/1.compound-prioritization/../../utils/heterogeneity.py:113: UserWarning: Ignoring svd_solver='auto' and using randomized, sklearn.decomposition._truncated_svd.TruncatedSVD only supports dict_keys(['arpack', 'randomized']).\n",
      "  sc.pp.pca(\n"
     ]
    },
    {
     "name": "stdout",
     "output_type": "stream",
     "text": [
      "[I 2025-08-07 15:10:32,203] Trial 154 finished with value: -1.0 and parameters: {'n_neighbors': 141, 'dim_reduction': 'pca', 'pca_solver': 'auto', 'pca_components': 51, 'resolution': 0.10050278470187791, 'method': 'leiden', 'dist_metric': 'euclidean', 'louv_clustering_imp': 'vtraag', 'leid_clustering_imp': 'leidenalg'}. Best is trial 151 with value: 0.22510736528853403.\n"
     ]
    },
    {
     "name": "stderr",
     "output_type": "stream",
     "text": [
      "/home/erikserrano/Development/BuSCar/notebooks/1.compound-prioritization/../../utils/heterogeneity.py:113: UserWarning: Ignoring svd_solver='auto' and using randomized, sklearn.decomposition._truncated_svd.TruncatedSVD only supports dict_keys(['arpack', 'randomized']).\n",
      "  sc.pp.pca(\n"
     ]
    },
    {
     "name": "stdout",
     "output_type": "stream",
     "text": [
      "[I 2025-08-07 15:10:36,693] Trial 155 finished with value: -1.0 and parameters: {'n_neighbors': 136, 'dim_reduction': 'pca', 'pca_solver': 'auto', 'pca_components': 54, 'resolution': 0.10189074644793585, 'method': 'leiden', 'dist_metric': 'euclidean', 'louv_clustering_imp': 'vtraag', 'leid_clustering_imp': 'leidenalg'}. Best is trial 151 with value: 0.22510736528853403.\n"
     ]
    },
    {
     "name": "stderr",
     "output_type": "stream",
     "text": [
      "/home/erikserrano/Development/BuSCar/notebooks/1.compound-prioritization/../../utils/heterogeneity.py:113: UserWarning: Ignoring svd_solver='auto' and using randomized, sklearn.decomposition._truncated_svd.TruncatedSVD only supports dict_keys(['arpack', 'randomized']).\n",
      "  sc.pp.pca(\n"
     ]
    },
    {
     "name": "stdout",
     "output_type": "stream",
     "text": [
      "[I 2025-08-07 15:10:41,958] Trial 156 finished with value: 0.17049007392862134 and parameters: {'n_neighbors': 152, 'dim_reduction': 'pca', 'pca_solver': 'auto', 'pca_components': 47, 'resolution': 0.14094101324564784, 'method': 'leiden', 'dist_metric': 'euclidean', 'louv_clustering_imp': 'vtraag', 'leid_clustering_imp': 'leidenalg'}. Best is trial 151 with value: 0.22510736528853403.\n"
     ]
    },
    {
     "name": "stderr",
     "output_type": "stream",
     "text": [
      "/home/erikserrano/Development/BuSCar/notebooks/1.compound-prioritization/../../utils/heterogeneity.py:113: UserWarning: Ignoring svd_solver='auto' and using randomized, sklearn.decomposition._truncated_svd.TruncatedSVD only supports dict_keys(['arpack', 'randomized']).\n",
      "  sc.pp.pca(\n"
     ]
    },
    {
     "name": "stdout",
     "output_type": "stream",
     "text": [
      "[I 2025-08-07 15:10:48,298] Trial 157 finished with value: 0.15860726303386716 and parameters: {'n_neighbors': 150, 'dim_reduction': 'pca', 'pca_solver': 'auto', 'pca_components': 48, 'resolution': 0.15518455074893475, 'method': 'leiden', 'dist_metric': 'euclidean', 'louv_clustering_imp': 'igraph', 'leid_clustering_imp': 'leidenalg'}. Best is trial 151 with value: 0.22510736528853403.\n"
     ]
    },
    {
     "name": "stderr",
     "output_type": "stream",
     "text": [
      "/home/erikserrano/Development/BuSCar/notebooks/1.compound-prioritization/../../utils/heterogeneity.py:113: UserWarning: Ignoring svd_solver='auto' and using randomized, sklearn.decomposition._truncated_svd.TruncatedSVD only supports dict_keys(['arpack', 'randomized']).\n",
      "  sc.pp.pca(\n"
     ]
    },
    {
     "name": "stdout",
     "output_type": "stream",
     "text": [
      "[I 2025-08-07 15:10:53,979] Trial 158 finished with value: 0.16420258373433705 and parameters: {'n_neighbors': 151, 'dim_reduction': 'pca', 'pca_solver': 'auto', 'pca_components': 49, 'resolution': 0.13200787359160093, 'method': 'leiden', 'dist_metric': 'euclidean', 'louv_clustering_imp': 'igraph', 'leid_clustering_imp': 'leidenalg'}. Best is trial 151 with value: 0.22510736528853403.\n",
      "[I 2025-08-07 15:10:59,712] Trial 159 finished with value: 0.15860726303386716 and parameters: {'n_neighbors': 150, 'dim_reduction': 'pca', 'pca_solver': 'arpack', 'pca_components': 48, 'resolution': 0.1414251376061341, 'method': 'leiden', 'dist_metric': 'euclidean', 'louv_clustering_imp': 'igraph', 'leid_clustering_imp': 'leidenalg'}. Best is trial 151 with value: 0.22510736528853403.\n",
      "[I 2025-08-07 15:11:05,928] Trial 160 finished with value: 0.16439189413381966 and parameters: {'n_neighbors': 150, 'dim_reduction': 'pca', 'pca_solver': 'arpack', 'pca_components': 49, 'resolution': 0.1490742715134526, 'method': 'leiden', 'dist_metric': 'euclidean', 'louv_clustering_imp': 'igraph', 'leid_clustering_imp': 'leidenalg'}. Best is trial 151 with value: 0.22510736528853403.\n",
      "[I 2025-08-07 15:11:10,949] Trial 161 finished with value: 0.16404511802744468 and parameters: {'n_neighbors': 149, 'dim_reduction': 'pca', 'pca_solver': 'arpack', 'pca_components': 49, 'resolution': 0.15462142214858937, 'method': 'leiden', 'dist_metric': 'euclidean', 'louv_clustering_imp': 'igraph', 'leid_clustering_imp': 'leidenalg'}. Best is trial 151 with value: 0.22510736528853403.\n",
      "[I 2025-08-07 15:11:16,578] Trial 162 finished with value: 0.16580427152070473 and parameters: {'n_neighbors': 149, 'dim_reduction': 'pca', 'pca_solver': 'arpack', 'pca_components': 51, 'resolution': 0.14146195405039233, 'method': 'leiden', 'dist_metric': 'euclidean', 'louv_clustering_imp': 'igraph', 'leid_clustering_imp': 'leidenalg'}. Best is trial 151 with value: 0.22510736528853403.\n",
      "[I 2025-08-07 15:11:22,716] Trial 163 finished with value: 0.15860726303386716 and parameters: {'n_neighbors': 150, 'dim_reduction': 'pca', 'pca_solver': 'arpack', 'pca_components': 49, 'resolution': 0.14153025912225287, 'method': 'leiden', 'dist_metric': 'euclidean', 'louv_clustering_imp': 'igraph', 'leid_clustering_imp': 'leidenalg'}. Best is trial 151 with value: 0.22510736528853403.\n",
      "[I 2025-08-07 15:11:29,193] Trial 164 finished with value: 0.17043976868533758 and parameters: {'n_neighbors': 151, 'dim_reduction': 'pca', 'pca_solver': 'arpack', 'pca_components': 48, 'resolution': 0.14216092075589576, 'method': 'leiden', 'dist_metric': 'euclidean', 'louv_clustering_imp': 'igraph', 'leid_clustering_imp': 'leidenalg'}. Best is trial 151 with value: 0.22510736528853403.\n",
      "[I 2025-08-07 15:11:34,353] Trial 165 finished with value: 0.1706735464268629 and parameters: {'n_neighbors': 151, 'dim_reduction': 'pca', 'pca_solver': 'arpack', 'pca_components': 53, 'resolution': 0.14400384881741843, 'method': 'leiden', 'dist_metric': 'euclidean', 'louv_clustering_imp': 'igraph', 'leid_clustering_imp': 'leidenalg'}. Best is trial 151 with value: 0.22510736528853403.\n",
      "[I 2025-08-07 15:11:39,524] Trial 166 finished with value: 0.16639333463279785 and parameters: {'n_neighbors': 150, 'dim_reduction': 'pca', 'pca_solver': 'arpack', 'pca_components': 51, 'resolution': 0.15814836912717734, 'method': 'leiden', 'dist_metric': 'euclidean', 'louv_clustering_imp': 'igraph', 'leid_clustering_imp': 'leidenalg'}. Best is trial 151 with value: 0.22510736528853403.\n",
      "[I 2025-08-07 15:11:45,230] Trial 167 finished with value: 0.16639333463279785 and parameters: {'n_neighbors': 150, 'dim_reduction': 'pca', 'pca_solver': 'arpack', 'pca_components': 51, 'resolution': 0.1554710067445891, 'method': 'leiden', 'dist_metric': 'euclidean', 'louv_clustering_imp': 'igraph', 'leid_clustering_imp': 'leidenalg'}. Best is trial 151 with value: 0.22510736528853403.\n",
      "[I 2025-08-07 15:11:52,190] Trial 168 finished with value: 0.14130240350627665 and parameters: {'n_neighbors': 151, 'dim_reduction': 'pca', 'pca_solver': 'arpack', 'pca_components': 54, 'resolution': 0.17168006552123719, 'method': 'leiden', 'dist_metric': 'euclidean', 'louv_clustering_imp': 'igraph', 'leid_clustering_imp': 'leidenalg'}. Best is trial 151 with value: 0.22510736528853403.\n",
      "[I 2025-08-07 15:11:58,567] Trial 169 finished with value: 0.16675228533008649 and parameters: {'n_neighbors': 157, 'dim_reduction': 'pca', 'pca_solver': 'arpack', 'pca_components': 51, 'resolution': 0.1446112665404692, 'method': 'leiden', 'dist_metric': 'euclidean', 'louv_clustering_imp': 'igraph', 'leid_clustering_imp': 'leidenalg'}. Best is trial 151 with value: 0.22510736528853403.\n",
      "[I 2025-08-07 15:12:04,445] Trial 170 finished with value: 0.16616147630073314 and parameters: {'n_neighbors': 157, 'dim_reduction': 'pca', 'pca_solver': 'arpack', 'pca_components': 51, 'resolution': 0.1341555339354656, 'method': 'leiden', 'dist_metric': 'euclidean', 'louv_clustering_imp': 'igraph', 'leid_clustering_imp': 'leidenalg'}. Best is trial 151 with value: 0.22510736528853403.\n",
      "[I 2025-08-07 15:12:10,249] Trial 171 finished with value: 0.16616147630073314 and parameters: {'n_neighbors': 157, 'dim_reduction': 'pca', 'pca_solver': 'arpack', 'pca_components': 51, 'resolution': 0.13541727179461904, 'method': 'leiden', 'dist_metric': 'euclidean', 'louv_clustering_imp': 'igraph', 'leid_clustering_imp': 'leidenalg'}. Best is trial 151 with value: 0.22510736528853403.\n",
      "[I 2025-08-07 15:12:15,685] Trial 172 finished with value: 0.17038754378205984 and parameters: {'n_neighbors': 158, 'dim_reduction': 'pca', 'pca_solver': 'arpack', 'pca_components': 52, 'resolution': 0.15163930569340306, 'method': 'leiden', 'dist_metric': 'euclidean', 'louv_clustering_imp': 'igraph', 'leid_clustering_imp': 'leidenalg'}. Best is trial 151 with value: 0.22510736528853403.\n",
      "[I 2025-08-07 15:12:21,043] Trial 173 finished with value: 0.17038754378205984 and parameters: {'n_neighbors': 155, 'dim_reduction': 'pca', 'pca_solver': 'arpack', 'pca_components': 52, 'resolution': 0.14948596444546922, 'method': 'leiden', 'dist_metric': 'euclidean', 'louv_clustering_imp': 'igraph', 'leid_clustering_imp': 'leidenalg'}. Best is trial 151 with value: 0.22510736528853403.\n",
      "[I 2025-08-07 15:12:26,124] Trial 174 finished with value: 0.16165890815058884 and parameters: {'n_neighbors': 157, 'dim_reduction': 'pca', 'pca_solver': 'arpack', 'pca_components': 57, 'resolution': 0.15331467056504708, 'method': 'leiden', 'dist_metric': 'euclidean', 'louv_clustering_imp': 'igraph', 'leid_clustering_imp': 'leidenalg'}. Best is trial 151 with value: 0.22510736528853403.\n",
      "[I 2025-08-07 15:12:32,437] Trial 175 finished with value: 0.14144114115630996 and parameters: {'n_neighbors': 156, 'dim_reduction': 'pca', 'pca_solver': 'arpack', 'pca_components': 56, 'resolution': 0.20284728246352549, 'method': 'leiden', 'dist_metric': 'euclidean', 'louv_clustering_imp': 'igraph', 'leid_clustering_imp': 'leidenalg'}. Best is trial 151 with value: 0.22510736528853403.\n",
      "[I 2025-08-07 15:12:38,893] Trial 176 finished with value: 0.17047925374494177 and parameters: {'n_neighbors': 162, 'dim_reduction': 'pca', 'pca_solver': 'arpack', 'pca_components': 59, 'resolution': 0.14804753054877706, 'method': 'leiden', 'dist_metric': 'euclidean', 'louv_clustering_imp': 'igraph', 'leid_clustering_imp': 'leidenalg'}. Best is trial 151 with value: 0.22510736528853403.\n",
      "[I 2025-08-07 15:12:45,793] Trial 177 finished with value: 0.16143631593996763 and parameters: {'n_neighbors': 164, 'dim_reduction': 'pca', 'pca_solver': 'arpack', 'pca_components': 53, 'resolution': 0.14608033250812558, 'method': 'leiden', 'dist_metric': 'euclidean', 'louv_clustering_imp': 'igraph', 'leid_clustering_imp': 'leidenalg'}. Best is trial 151 with value: 0.22510736528853403.\n",
      "[I 2025-08-07 15:12:53,707] Trial 178 finished with value: 0.15140612076168106 and parameters: {'n_neighbors': 161, 'dim_reduction': 'pca', 'pca_solver': 'arpack', 'pca_components': 51, 'resolution': 0.2014052820530128, 'method': 'leiden', 'dist_metric': 'euclidean', 'louv_clustering_imp': 'igraph', 'leid_clustering_imp': 'leidenalg'}. Best is trial 151 with value: 0.22510736528853403.\n",
      "[I 2025-08-07 15:13:00,021] Trial 179 finished with value: 0.17056770573295751 and parameters: {'n_neighbors': 169, 'dim_reduction': 'pca', 'pca_solver': 'arpack', 'pca_components': 52, 'resolution': 0.14305956331833755, 'method': 'leiden', 'dist_metric': 'euclidean', 'louv_clustering_imp': 'igraph', 'leid_clustering_imp': 'leidenalg'}. Best is trial 151 with value: 0.22510736528853403.\n",
      "[I 2025-08-07 15:13:06,415] Trial 180 finished with value: 0.15152068947942357 and parameters: {'n_neighbors': 171, 'dim_reduction': 'pca', 'pca_solver': 'arpack', 'pca_components': 52, 'resolution': 0.20676263318054341, 'method': 'leiden', 'dist_metric': 'euclidean', 'louv_clustering_imp': 'igraph', 'leid_clustering_imp': 'leidenalg'}. Best is trial 151 with value: 0.22510736528853403.\n",
      "[I 2025-08-07 15:13:12,797] Trial 181 finished with value: 0.17038754378205984 and parameters: {'n_neighbors': 147, 'dim_reduction': 'pca', 'pca_solver': 'arpack', 'pca_components': 58, 'resolution': 0.14121703395600557, 'method': 'leiden', 'dist_metric': 'euclidean', 'louv_clustering_imp': 'igraph', 'leid_clustering_imp': 'leidenalg'}. Best is trial 151 with value: 0.22510736528853403.\n",
      "[I 2025-08-07 15:13:18,909] Trial 182 finished with value: 0.16439189413381966 and parameters: {'n_neighbors': 155, 'dim_reduction': 'pca', 'pca_solver': 'arpack', 'pca_components': 59, 'resolution': 0.1370499662180633, 'method': 'leiden', 'dist_metric': 'euclidean', 'louv_clustering_imp': 'igraph', 'leid_clustering_imp': 'leidenalg'}. Best is trial 151 with value: 0.22510736528853403.\n",
      "[I 2025-08-07 15:13:24,758] Trial 183 finished with value: 0.1700204410722804 and parameters: {'n_neighbors': 165, 'dim_reduction': 'pca', 'pca_solver': 'arpack', 'pca_components': 59, 'resolution': 0.1688099451158912, 'method': 'leiden', 'dist_metric': 'euclidean', 'louv_clustering_imp': 'igraph', 'leid_clustering_imp': 'leidenalg'}. Best is trial 151 with value: 0.22510736528853403.\n",
      "[I 2025-08-07 15:13:30,918] Trial 184 finished with value: 0.15860726303386716 and parameters: {'n_neighbors': 165, 'dim_reduction': 'pca', 'pca_solver': 'arpack', 'pca_components': 58, 'resolution': 0.1696325067517927, 'method': 'leiden', 'dist_metric': 'euclidean', 'louv_clustering_imp': 'igraph', 'leid_clustering_imp': 'leidenalg'}. Best is trial 151 with value: 0.22510736528853403.\n",
      "[I 2025-08-07 15:13:37,744] Trial 185 finished with value: 0.13823991119354953 and parameters: {'n_neighbors': 158, 'dim_reduction': 'pca', 'pca_solver': 'arpack', 'pca_components': 59, 'resolution': 0.2040178642185679, 'method': 'leiden', 'dist_metric': 'euclidean', 'louv_clustering_imp': 'igraph', 'leid_clustering_imp': 'leidenalg'}. Best is trial 151 with value: 0.22510736528853403.\n",
      "[I 2025-08-07 15:13:44,002] Trial 186 finished with value: 0.16616147630073314 and parameters: {'n_neighbors': 154, 'dim_reduction': 'pca', 'pca_solver': 'arpack', 'pca_components': 63, 'resolution': 0.14551928841429923, 'method': 'leiden', 'dist_metric': 'euclidean', 'louv_clustering_imp': 'igraph', 'leid_clustering_imp': 'leidenalg'}. Best is trial 151 with value: 0.22510736528853403.\n",
      "[I 2025-08-07 15:13:48,753] Trial 187 finished with value: 0.14656943995191002 and parameters: {'n_neighbors': 146, 'dim_reduction': 'pca', 'pca_solver': 'arpack', 'pca_components': 55, 'resolution': 0.17878909449463803, 'method': 'leiden', 'dist_metric': 'euclidean', 'louv_clustering_imp': 'igraph', 'leid_clustering_imp': 'leidenalg'}. Best is trial 151 with value: 0.22510736528853403.\n",
      "[I 2025-08-07 15:13:54,787] Trial 188 finished with value: 0.17023532986546144 and parameters: {'n_neighbors': 179, 'dim_reduction': 'pca', 'pca_solver': 'arpack', 'pca_components': 63, 'resolution': 0.14739721463388505, 'method': 'leiden', 'dist_metric': 'euclidean', 'louv_clustering_imp': 'igraph', 'leid_clustering_imp': 'leidenalg'}. Best is trial 151 with value: 0.22510736528853403.\n",
      "[I 2025-08-07 15:14:01,032] Trial 189 finished with value: 0.15125538535066763 and parameters: {'n_neighbors': 175, 'dim_reduction': 'pca', 'pca_solver': 'arpack', 'pca_components': 64, 'resolution': 0.20614688064001496, 'method': 'leiden', 'dist_metric': 'euclidean', 'louv_clustering_imp': 'igraph', 'leid_clustering_imp': 'leidenalg'}. Best is trial 151 with value: 0.22510736528853403.\n",
      "[I 2025-08-07 15:14:05,833] Trial 190 finished with value: -1.0 and parameters: {'n_neighbors': 162, 'dim_reduction': 'pca', 'pca_solver': 'arpack', 'pca_components': 62, 'resolution': 0.1007004095136752, 'method': 'leiden', 'dist_metric': 'euclidean', 'louv_clustering_imp': 'igraph', 'leid_clustering_imp': 'leidenalg'}. Best is trial 151 with value: 0.22510736528853403.\n",
      "[I 2025-08-07 15:14:11,083] Trial 191 finished with value: 0.17058914805192743 and parameters: {'n_neighbors': 146, 'dim_reduction': 'pca', 'pca_solver': 'arpack', 'pca_components': 64, 'resolution': 0.14585826118444753, 'method': 'leiden', 'dist_metric': 'euclidean', 'louv_clustering_imp': 'igraph', 'leid_clustering_imp': 'leidenalg'}. Best is trial 151 with value: 0.22510736528853403.\n",
      "[I 2025-08-07 15:14:17,136] Trial 192 finished with value: 0.1701100931364838 and parameters: {'n_neighbors': 168, 'dim_reduction': 'pca', 'pca_solver': 'arpack', 'pca_components': 63, 'resolution': 0.1681364335452503, 'method': 'leiden', 'dist_metric': 'euclidean', 'louv_clustering_imp': 'igraph', 'leid_clustering_imp': 'leidenalg'}. Best is trial 151 with value: 0.22510736528853403.\n",
      "[I 2025-08-07 15:14:24,264] Trial 193 finished with value: 0.1467066660412965 and parameters: {'n_neighbors': 179, 'dim_reduction': 'pca', 'pca_solver': 'arpack', 'pca_components': 68, 'resolution': 0.1784055416172847, 'method': 'leiden', 'dist_metric': 'euclidean', 'louv_clustering_imp': 'igraph', 'leid_clustering_imp': 'leidenalg'}. Best is trial 151 with value: 0.22510736528853403.\n",
      "[I 2025-08-07 15:14:31,854] Trial 194 finished with value: 0.1467066660412965 and parameters: {'n_neighbors': 168, 'dim_reduction': 'pca', 'pca_solver': 'arpack', 'pca_components': 65, 'resolution': 0.21026882584796236, 'method': 'leiden', 'dist_metric': 'euclidean', 'louv_clustering_imp': 'igraph', 'leid_clustering_imp': 'leidenalg'}. Best is trial 151 with value: 0.22510736528853403.\n",
      "[I 2025-08-07 15:14:40,563] Trial 195 finished with value: 0.16420258373433705 and parameters: {'n_neighbors': 171, 'dim_reduction': 'pca', 'pca_solver': 'arpack', 'pca_components': 60, 'resolution': 0.16938426262802597, 'method': 'leiden', 'dist_metric': 'euclidean', 'louv_clustering_imp': 'igraph', 'leid_clustering_imp': 'leidenalg'}. Best is trial 151 with value: 0.22510736528853403.\n",
      "[I 2025-08-07 15:14:47,126] Trial 196 finished with value: 0.17058914805192743 and parameters: {'n_neighbors': 160, 'dim_reduction': 'pca', 'pca_solver': 'arpack', 'pca_components': 63, 'resolution': 0.13122848064026107, 'method': 'leiden', 'dist_metric': 'euclidean', 'louv_clustering_imp': 'igraph', 'leid_clustering_imp': 'leidenalg'}. Best is trial 151 with value: 0.22510736528853403.\n",
      "[I 2025-08-07 15:14:52,480] Trial 197 finished with value: 0.22510736528853403 and parameters: {'n_neighbors': 160, 'dim_reduction': 'pca', 'pca_solver': 'arpack', 'pca_components': 53, 'resolution': 0.10001991478769158, 'method': 'leiden', 'dist_metric': 'euclidean', 'louv_clustering_imp': 'igraph', 'leid_clustering_imp': 'leidenalg'}. Best is trial 151 with value: 0.22510736528853403.\n",
      "[I 2025-08-07 15:14:58,601] Trial 198 finished with value: 0.1470458575220362 and parameters: {'n_neighbors': 190, 'dim_reduction': 'pca', 'pca_solver': 'arpack', 'pca_components': 56, 'resolution': 0.2152516338537642, 'method': 'leiden', 'dist_metric': 'euclidean', 'louv_clustering_imp': 'igraph', 'leid_clustering_imp': 'leidenalg'}. Best is trial 151 with value: 0.22510736528853403.\n",
      "[I 2025-08-07 15:15:04,754] Trial 199 finished with value: 0.1468423185977973 and parameters: {'n_neighbors': 161, 'dim_reduction': 'pca', 'pca_solver': 'arpack', 'pca_components': 67, 'resolution': 0.17458955437396773, 'method': 'leiden', 'dist_metric': 'euclidean', 'louv_clustering_imp': 'igraph', 'leid_clustering_imp': 'leidenalg'}. Best is trial 151 with value: 0.22510736528853403.\n",
      "[I 2025-08-07 15:15:11,110] Trial 200 finished with value: 0.16143631593996763 and parameters: {'n_neighbors': 167, 'dim_reduction': 'pca', 'pca_solver': 'arpack', 'pca_components': 53, 'resolution': 0.10569978864334957, 'method': 'leiden', 'dist_metric': 'euclidean', 'louv_clustering_imp': 'igraph', 'leid_clustering_imp': 'leidenalg'}. Best is trial 151 with value: 0.22510736528853403.\n",
      "[I 2025-08-07 15:15:18,025] Trial 201 finished with value: 0.05653683783975341 and parameters: {'n_neighbors': 157, 'dim_reduction': 'pca', 'pca_solver': 'arpack', 'pca_components': 53, 'resolution': 1.0787236697460068, 'method': 'leiden', 'dist_metric': 'euclidean', 'louv_clustering_imp': 'igraph', 'leid_clustering_imp': 'leidenalg'}. Best is trial 151 with value: 0.22510736528853403.\n",
      "[I 2025-08-07 15:15:22,711] Trial 202 finished with value: 0.16616147630073314 and parameters: {'n_neighbors': 146, 'dim_reduction': 'pca', 'pca_solver': 'arpack', 'pca_components': 61, 'resolution': 0.13153012595992863, 'method': 'leiden', 'dist_metric': 'euclidean', 'louv_clustering_imp': 'igraph', 'leid_clustering_imp': 'leidenalg'}. Best is trial 151 with value: 0.22510736528853403.\n",
      "[I 2025-08-07 15:15:28,237] Trial 203 finished with value: 0.15860726303386716 and parameters: {'n_neighbors': 160, 'dim_reduction': 'pca', 'pca_solver': 'arpack', 'pca_components': 55, 'resolution': 0.1354153260181987, 'method': 'leiden', 'dist_metric': 'euclidean', 'louv_clustering_imp': 'igraph', 'leid_clustering_imp': 'leidenalg'}. Best is trial 151 with value: 0.22510736528853403.\n",
      "[I 2025-08-07 15:15:33,150] Trial 204 finished with value: 0.23549598255204274 and parameters: {'n_neighbors': 155, 'dim_reduction': 'pca', 'pca_solver': 'arpack', 'pca_components': 45, 'resolution': 0.1000420294126855, 'method': 'leiden', 'dist_metric': 'euclidean', 'louv_clustering_imp': 'igraph', 'leid_clustering_imp': 'leidenalg'}. Best is trial 204 with value: 0.23549598255204274.\n",
      "[I 2025-08-07 15:15:40,318] Trial 205 finished with value: 0.1477690244147729 and parameters: {'n_neighbors': 154, 'dim_reduction': 'pca', 'pca_solver': 'arpack', 'pca_components': 58, 'resolution': 0.1820690110003993, 'method': 'leiden', 'dist_metric': 'euclidean', 'louv_clustering_imp': 'igraph', 'leid_clustering_imp': 'leidenalg'}. Best is trial 204 with value: 0.23549598255204274.\n",
      "[I 2025-08-07 15:15:46,246] Trial 206 finished with value: 0.23549598255204274 and parameters: {'n_neighbors': 164, 'dim_reduction': 'pca', 'pca_solver': 'arpack', 'pca_components': 46, 'resolution': 0.10408394278494207, 'method': 'leiden', 'dist_metric': 'euclidean', 'louv_clustering_imp': 'igraph', 'leid_clustering_imp': 'leidenalg'}. Best is trial 204 with value: 0.23549598255204274.\n",
      "[I 2025-08-07 15:15:52,722] Trial 207 finished with value: 0.17034202490218817 and parameters: {'n_neighbors': 165, 'dim_reduction': 'pca', 'pca_solver': 'arpack', 'pca_components': 45, 'resolution': 0.1062521494740889, 'method': 'leiden', 'dist_metric': 'euclidean', 'louv_clustering_imp': 'igraph', 'leid_clustering_imp': 'leidenalg'}. Best is trial 204 with value: 0.23549598255204274.\n",
      "[I 2025-08-07 15:15:59,018] Trial 208 finished with value: 0.2258290195432164 and parameters: {'n_neighbors': 164, 'dim_reduction': 'pca', 'pca_solver': 'arpack', 'pca_components': 45, 'resolution': 0.10298195300877486, 'method': 'leiden', 'dist_metric': 'euclidean', 'louv_clustering_imp': 'igraph', 'leid_clustering_imp': 'leidenalg'}. Best is trial 204 with value: 0.23549598255204274.\n",
      "[I 2025-08-07 15:16:03,615] Trial 209 finished with value: -1.0 and parameters: {'n_neighbors': 172, 'dim_reduction': 'pca', 'pca_solver': 'arpack', 'pca_components': 45, 'resolution': 0.10389214465058785, 'method': 'leiden', 'dist_metric': 'euclidean', 'louv_clustering_imp': 'igraph', 'leid_clustering_imp': 'leidenalg'}. Best is trial 204 with value: 0.23549598255204274.\n",
      "[I 2025-08-07 15:16:09,818] Trial 210 finished with value: 0.1447895121437043 and parameters: {'n_neighbors': 164, 'dim_reduction': 'pca', 'pca_solver': 'arpack', 'pca_components': 46, 'resolution': 0.22301291773209458, 'method': 'leiden', 'dist_metric': 'euclidean', 'louv_clustering_imp': 'igraph', 'leid_clustering_imp': 'leidenalg'}. Best is trial 204 with value: 0.23549598255204274.\n",
      "[I 2025-08-07 15:16:15,664] Trial 211 finished with value: 0.15832863606220873 and parameters: {'n_neighbors': 165, 'dim_reduction': 'pca', 'pca_solver': 'arpack', 'pca_components': 46, 'resolution': 0.17408332207929436, 'method': 'leiden', 'dist_metric': 'euclidean', 'louv_clustering_imp': 'igraph', 'leid_clustering_imp': 'leidenalg'}. Best is trial 204 with value: 0.23549598255204274.\n",
      "[I 2025-08-07 15:16:22,404] Trial 212 finished with value: 0.17075150923500446 and parameters: {'n_neighbors': 178, 'dim_reduction': 'pca', 'pca_solver': 'arpack', 'pca_components': 65, 'resolution': 0.15872157158017733, 'method': 'leiden', 'dist_metric': 'euclidean', 'louv_clustering_imp': 'igraph', 'leid_clustering_imp': 'leidenalg'}. Best is trial 204 with value: 0.23549598255204274.\n",
      "[I 2025-08-07 15:16:27,365] Trial 213 finished with value: -1.0 and parameters: {'n_neighbors': 176, 'dim_reduction': 'pca', 'pca_solver': 'arpack', 'pca_components': 63, 'resolution': 0.10018421774430251, 'method': 'leiden', 'dist_metric': 'euclidean', 'louv_clustering_imp': 'igraph', 'leid_clustering_imp': 'leidenalg'}. Best is trial 204 with value: 0.23549598255204274.\n",
      "[I 2025-08-07 15:16:34,139] Trial 214 finished with value: 0.15174540519843602 and parameters: {'n_neighbors': 178, 'dim_reduction': 'pca', 'pca_solver': 'arpack', 'pca_components': 71, 'resolution': 0.17884686569680405, 'method': 'leiden', 'dist_metric': 'euclidean', 'louv_clustering_imp': 'igraph', 'leid_clustering_imp': 'leidenalg'}. Best is trial 204 with value: 0.23549598255204274.\n",
      "[I 2025-08-07 15:16:44,477] Trial 215 finished with value: 0.1662817252390559 and parameters: {'n_neighbors': 183, 'dim_reduction': 'pca', 'pca_solver': 'arpack', 'pca_components': 66, 'resolution': 0.14901769533141962, 'method': 'leiden', 'dist_metric': 'euclidean', 'louv_clustering_imp': 'igraph', 'leid_clustering_imp': 'leidenalg'}. Best is trial 204 with value: 0.23549598255204274.\n",
      "[I 2025-08-07 15:16:50,926] Trial 216 finished with value: 0.1518288204347019 and parameters: {'n_neighbors': 169, 'dim_reduction': 'pca', 'pca_solver': 'arpack', 'pca_components': 69, 'resolution': 0.207244154794585, 'method': 'leiden', 'dist_metric': 'euclidean', 'louv_clustering_imp': 'igraph', 'leid_clustering_imp': 'leidenalg'}. Best is trial 204 with value: 0.23549598255204274.\n",
      "[I 2025-08-07 15:16:55,873] Trial 217 finished with value: 0.23393052018928104 and parameters: {'n_neighbors': 161, 'dim_reduction': 'pca', 'pca_solver': 'arpack', 'pca_components': 61, 'resolution': 0.10060231204398788, 'method': 'leiden', 'dist_metric': 'euclidean', 'louv_clustering_imp': 'igraph', 'leid_clustering_imp': 'leidenalg'}. Best is trial 204 with value: 0.23549598255204274.\n",
      "[I 2025-08-07 15:17:03,360] Trial 218 finished with value: 0.04278076206144474 and parameters: {'n_neighbors': 161, 'dim_reduction': 'pca', 'pca_solver': 'arpack', 'pca_components': 65, 'resolution': 1.4537720233473712, 'method': 'leiden', 'dist_metric': 'euclidean', 'louv_clustering_imp': 'igraph', 'leid_clustering_imp': 'leidenalg'}. Best is trial 204 with value: 0.23549598255204274.\n",
      "[I 2025-08-07 15:17:10,016] Trial 219 finished with value: 0.22510736528853403 and parameters: {'n_neighbors': 166, 'dim_reduction': 'pca', 'pca_solver': 'arpack', 'pca_components': 60, 'resolution': 0.10640127289649441, 'method': 'leiden', 'dist_metric': 'euclidean', 'louv_clustering_imp': 'igraph', 'leid_clustering_imp': 'leidenalg'}. Best is trial 204 with value: 0.23549598255204274.\n",
      "[I 2025-08-07 15:17:15,680] Trial 220 finished with value: 0.22510736528853403 and parameters: {'n_neighbors': 167, 'dim_reduction': 'pca', 'pca_solver': 'arpack', 'pca_components': 61, 'resolution': 0.1031615248087872, 'method': 'leiden', 'dist_metric': 'euclidean', 'louv_clustering_imp': 'igraph', 'leid_clustering_imp': 'leidenalg'}. Best is trial 204 with value: 0.23549598255204274.\n",
      "[I 2025-08-07 15:17:23,136] Trial 221 finished with value: 0.22510736528853403 and parameters: {'n_neighbors': 168, 'dim_reduction': 'pca', 'pca_solver': 'arpack', 'pca_components': 60, 'resolution': 0.10463452559793365, 'method': 'leiden', 'dist_metric': 'euclidean', 'louv_clustering_imp': 'igraph', 'leid_clustering_imp': 'leidenalg'}. Best is trial 204 with value: 0.23549598255204274.\n",
      "[I 2025-08-07 15:17:29,277] Trial 222 finished with value: 0.17078676680696633 and parameters: {'n_neighbors': 173, 'dim_reduction': 'pca', 'pca_solver': 'arpack', 'pca_components': 61, 'resolution': 0.11193247742057749, 'method': 'leiden', 'dist_metric': 'euclidean', 'louv_clustering_imp': 'igraph', 'leid_clustering_imp': 'leidenalg'}. Best is trial 204 with value: 0.23549598255204274.\n",
      "[I 2025-08-07 15:17:35,680] Trial 223 finished with value: 0.22562291620814628 and parameters: {'n_neighbors': 173, 'dim_reduction': 'pca', 'pca_solver': 'arpack', 'pca_components': 61, 'resolution': 0.10372306101989891, 'method': 'leiden', 'dist_metric': 'euclidean', 'louv_clustering_imp': 'igraph', 'leid_clustering_imp': 'leidenalg'}. Best is trial 204 with value: 0.23549598255204274.\n",
      "[I 2025-08-07 15:17:41,954] Trial 224 finished with value: 0.22562291620814628 and parameters: {'n_neighbors': 173, 'dim_reduction': 'pca', 'pca_solver': 'arpack', 'pca_components': 61, 'resolution': 0.10432567421163073, 'method': 'leiden', 'dist_metric': 'euclidean', 'louv_clustering_imp': 'igraph', 'leid_clustering_imp': 'leidenalg'}. Best is trial 204 with value: 0.23549598255204274.\n",
      "[I 2025-08-07 15:17:47,290] Trial 225 finished with value: 0.22562291620814628 and parameters: {'n_neighbors': 173, 'dim_reduction': 'pca', 'pca_solver': 'arpack', 'pca_components': 61, 'resolution': 0.10131421052088063, 'method': 'leiden', 'dist_metric': 'euclidean', 'louv_clustering_imp': 'igraph', 'leid_clustering_imp': 'leidenalg'}. Best is trial 204 with value: 0.23549598255204274.\n",
      "[I 2025-08-07 15:17:53,305] Trial 226 finished with value: 0.22508797081073437 and parameters: {'n_neighbors': 172, 'dim_reduction': 'pca', 'pca_solver': 'arpack', 'pca_components': 61, 'resolution': 0.10497376780498827, 'method': 'leiden', 'dist_metric': 'euclidean', 'louv_clustering_imp': 'igraph', 'leid_clustering_imp': 'leidenalg'}. Best is trial 204 with value: 0.23549598255204274.\n",
      "[I 2025-08-07 15:17:59,602] Trial 227 finished with value: 0.17078676680696633 and parameters: {'n_neighbors': 174, 'dim_reduction': 'pca', 'pca_solver': 'arpack', 'pca_components': 61, 'resolution': 0.10561926181611629, 'method': 'leiden', 'dist_metric': 'euclidean', 'louv_clustering_imp': 'igraph', 'leid_clustering_imp': 'leidenalg'}. Best is trial 204 with value: 0.23549598255204274.\n",
      "[I 2025-08-07 15:18:05,223] Trial 228 finished with value: 0.23484604948577148 and parameters: {'n_neighbors': 172, 'dim_reduction': 'pca', 'pca_solver': 'arpack', 'pca_components': 61, 'resolution': 0.10317253732980179, 'method': 'leiden', 'dist_metric': 'euclidean', 'louv_clustering_imp': 'igraph', 'leid_clustering_imp': 'leidenalg'}. Best is trial 204 with value: 0.23549598255204274.\n",
      "[I 2025-08-07 15:18:11,000] Trial 229 finished with value: 0.22562291620814628 and parameters: {'n_neighbors': 173, 'dim_reduction': 'pca', 'pca_solver': 'arpack', 'pca_components': 61, 'resolution': 0.1010716874711385, 'method': 'leiden', 'dist_metric': 'euclidean', 'louv_clustering_imp': 'igraph', 'leid_clustering_imp': 'leidenalg'}. Best is trial 204 with value: 0.23549598255204274.\n",
      "[I 2025-08-07 15:18:16,067] Trial 230 finished with value: -1.0 and parameters: {'n_neighbors': 174, 'dim_reduction': 'pca', 'pca_solver': 'arpack', 'pca_components': 61, 'resolution': 0.10258915567403569, 'method': 'leiden', 'dist_metric': 'euclidean', 'louv_clustering_imp': 'igraph', 'leid_clustering_imp': 'leidenalg'}. Best is trial 204 with value: 0.23549598255204274.\n",
      "[I 2025-08-07 15:18:22,494] Trial 231 finished with value: 0.22457497939953275 and parameters: {'n_neighbors': 173, 'dim_reduction': 'pca', 'pca_solver': 'arpack', 'pca_components': 61, 'resolution': 0.10683134022763667, 'method': 'leiden', 'dist_metric': 'euclidean', 'louv_clustering_imp': 'igraph', 'leid_clustering_imp': 'leidenalg'}. Best is trial 204 with value: 0.23549598255204274.\n",
      "[I 2025-08-07 15:18:28,965] Trial 232 finished with value: 0.22457497939953275 and parameters: {'n_neighbors': 173, 'dim_reduction': 'pca', 'pca_solver': 'arpack', 'pca_components': 61, 'resolution': 0.1076261546366607, 'method': 'leiden', 'dist_metric': 'euclidean', 'louv_clustering_imp': 'igraph', 'leid_clustering_imp': 'leidenalg'}. Best is trial 204 with value: 0.23549598255204274.\n",
      "[I 2025-08-07 15:18:34,591] Trial 233 finished with value: 0.22562291620814628 and parameters: {'n_neighbors': 173, 'dim_reduction': 'pca', 'pca_solver': 'arpack', 'pca_components': 61, 'resolution': 0.10021115664969699, 'method': 'leiden', 'dist_metric': 'euclidean', 'louv_clustering_imp': 'igraph', 'leid_clustering_imp': 'leidenalg'}. Best is trial 204 with value: 0.23549598255204274.\n",
      "[I 2025-08-07 15:18:41,054] Trial 234 finished with value: 0.22562291620814628 and parameters: {'n_neighbors': 173, 'dim_reduction': 'pca', 'pca_solver': 'arpack', 'pca_components': 61, 'resolution': 0.10337082983851234, 'method': 'leiden', 'dist_metric': 'euclidean', 'louv_clustering_imp': 'igraph', 'leid_clustering_imp': 'leidenalg'}. Best is trial 204 with value: 0.23549598255204274.\n",
      "[I 2025-08-07 15:18:47,208] Trial 235 finished with value: -1.0 and parameters: {'n_neighbors': 173, 'dim_reduction': 'pca', 'pca_solver': 'arpack', 'pca_components': 60, 'resolution': 0.10440282961973538, 'method': 'leiden', 'dist_metric': 'euclidean', 'louv_clustering_imp': 'igraph', 'leid_clustering_imp': 'leidenalg'}. Best is trial 204 with value: 0.23549598255204274.\n",
      "[I 2025-08-07 15:18:52,489] Trial 236 finished with value: -1.0 and parameters: {'n_neighbors': 181, 'dim_reduction': 'pca', 'pca_solver': 'arpack', 'pca_components': 61, 'resolution': 0.10076129082429233, 'method': 'leiden', 'dist_metric': 'euclidean', 'louv_clustering_imp': 'igraph', 'leid_clustering_imp': 'leidenalg'}. Best is trial 204 with value: 0.23549598255204274.\n",
      "[I 2025-08-07 15:18:58,839] Trial 237 finished with value: 0.22508797081073437 and parameters: {'n_neighbors': 187, 'dim_reduction': 'pca', 'pca_solver': 'arpack', 'pca_components': 61, 'resolution': 0.10337588508887863, 'method': 'leiden', 'dist_metric': 'euclidean', 'louv_clustering_imp': 'igraph', 'leid_clustering_imp': 'leidenalg'}. Best is trial 204 with value: 0.23549598255204274.\n",
      "[I 2025-08-07 15:19:05,938] Trial 238 finished with value: 0.22508797081073437 and parameters: {'n_neighbors': 188, 'dim_reduction': 'pca', 'pca_solver': 'arpack', 'pca_components': 61, 'resolution': 0.10028074830653158, 'method': 'leiden', 'dist_metric': 'euclidean', 'louv_clustering_imp': 'igraph', 'leid_clustering_imp': 'leidenalg'}. Best is trial 204 with value: 0.23549598255204274.\n",
      "[I 2025-08-07 15:19:11,921] Trial 239 finished with value: 0.22508797081073437 and parameters: {'n_neighbors': 187, 'dim_reduction': 'pca', 'pca_solver': 'arpack', 'pca_components': 61, 'resolution': 0.10500945853387013, 'method': 'leiden', 'dist_metric': 'euclidean', 'louv_clustering_imp': 'igraph', 'leid_clustering_imp': 'leidenalg'}. Best is trial 204 with value: 0.23549598255204274.\n",
      "[I 2025-08-07 15:19:16,967] Trial 240 finished with value: -1.0 and parameters: {'n_neighbors': 194, 'dim_reduction': 'pca', 'pca_solver': 'arpack', 'pca_components': 61, 'resolution': 0.105515292822238, 'method': 'leiden', 'dist_metric': 'euclidean', 'louv_clustering_imp': 'igraph', 'leid_clustering_imp': 'leidenalg'}. Best is trial 204 with value: 0.23549598255204274.\n",
      "[I 2025-08-07 15:19:22,242] Trial 241 finished with value: -1.0 and parameters: {'n_neighbors': 189, 'dim_reduction': 'pca', 'pca_solver': 'arpack', 'pca_components': 60, 'resolution': 0.10147234792792144, 'method': 'leiden', 'dist_metric': 'euclidean', 'louv_clustering_imp': 'igraph', 'leid_clustering_imp': 'leidenalg'}. Best is trial 204 with value: 0.23549598255204274.\n",
      "[I 2025-08-07 15:19:27,281] Trial 242 finished with value: -1.0 and parameters: {'n_neighbors': 183, 'dim_reduction': 'pca', 'pca_solver': 'arpack', 'pca_components': 62, 'resolution': 0.10292613056784675, 'method': 'leiden', 'dist_metric': 'euclidean', 'louv_clustering_imp': 'igraph', 'leid_clustering_imp': 'leidenalg'}. Best is trial 204 with value: 0.23549598255204274.\n",
      "[I 2025-08-07 15:19:32,943] Trial 243 finished with value: 0.22457497939953275 and parameters: {'n_neighbors': 186, 'dim_reduction': 'pca', 'pca_solver': 'arpack', 'pca_components': 57, 'resolution': 0.11205793564267705, 'method': 'leiden', 'dist_metric': 'euclidean', 'louv_clustering_imp': 'igraph', 'leid_clustering_imp': 'leidenalg'}. Best is trial 204 with value: 0.23549598255204274.\n",
      "[I 2025-08-07 15:19:37,919] Trial 244 finished with value: -1.0 and parameters: {'n_neighbors': 185, 'dim_reduction': 'pca', 'pca_solver': 'arpack', 'pca_components': 57, 'resolution': 0.10074735150543314, 'method': 'leiden', 'dist_metric': 'euclidean', 'louv_clustering_imp': 'igraph', 'leid_clustering_imp': 'leidenalg'}. Best is trial 204 with value: 0.23549598255204274.\n",
      "[I 2025-08-07 15:19:44,448] Trial 245 finished with value: 0.17078676680696633 and parameters: {'n_neighbors': 174, 'dim_reduction': 'pca', 'pca_solver': 'arpack', 'pca_components': 61, 'resolution': 0.10577059701894656, 'method': 'leiden', 'dist_metric': 'euclidean', 'louv_clustering_imp': 'igraph', 'leid_clustering_imp': 'leidenalg'}. Best is trial 204 with value: 0.23549598255204274.\n",
      "[I 2025-08-07 15:19:50,894] Trial 246 finished with value: 0.23549598255204274 and parameters: {'n_neighbors': 171, 'dim_reduction': 'pca', 'pca_solver': 'arpack', 'pca_components': 59, 'resolution': 0.10326677773269864, 'method': 'leiden', 'dist_metric': 'euclidean', 'louv_clustering_imp': 'igraph', 'leid_clustering_imp': 'leidenalg'}. Best is trial 204 with value: 0.23549598255204274.\n",
      "[I 2025-08-07 15:19:56,397] Trial 247 finished with value: -1.0 and parameters: {'n_neighbors': 192, 'dim_reduction': 'pca', 'pca_solver': 'arpack', 'pca_components': 58, 'resolution': 0.10477918928704603, 'method': 'leiden', 'dist_metric': 'euclidean', 'louv_clustering_imp': 'igraph', 'leid_clustering_imp': 'leidenalg'}. Best is trial 204 with value: 0.23549598255204274.\n",
      "[I 2025-08-07 15:20:01,900] Trial 248 finished with value: -1.0 and parameters: {'n_neighbors': 198, 'dim_reduction': 'pca', 'pca_solver': 'arpack', 'pca_components': 59, 'resolution': 0.10488162414336345, 'method': 'leiden', 'dist_metric': 'euclidean', 'louv_clustering_imp': 'igraph', 'leid_clustering_imp': 'leidenalg'}. Best is trial 204 with value: 0.23549598255204274.\n",
      "[I 2025-08-07 15:20:08,768] Trial 249 finished with value: 0.16439189413381966 and parameters: {'n_neighbors': 171, 'dim_reduction': 'pca', 'pca_solver': 'arpack', 'pca_components': 57, 'resolution': 0.13346986455503643, 'method': 'leiden', 'dist_metric': 'euclidean', 'louv_clustering_imp': 'igraph', 'leid_clustering_imp': 'leidenalg'}. Best is trial 204 with value: 0.23549598255204274.\n",
      "[I 2025-08-07 15:20:14,304] Trial 250 finished with value: -1.0 and parameters: {'n_neighbors': 186, 'dim_reduction': 'pca', 'pca_solver': 'arpack', 'pca_components': 62, 'resolution': 0.10017692153852026, 'method': 'leiden', 'dist_metric': 'euclidean', 'louv_clustering_imp': 'igraph', 'leid_clustering_imp': 'leidenalg'}. Best is trial 204 with value: 0.23549598255204274.\n",
      "[I 2025-08-07 15:20:21,850] Trial 251 finished with value: 0.15878287876233818 and parameters: {'n_neighbors': 177, 'dim_reduction': 'pca', 'pca_solver': 'arpack', 'pca_components': 60, 'resolution': 0.13120572795873062, 'method': 'leiden', 'dist_metric': 'euclidean', 'louv_clustering_imp': 'igraph', 'leid_clustering_imp': 'leidenalg'}. Best is trial 204 with value: 0.23549598255204274.\n",
      "[I 2025-08-07 15:20:26,639] Trial 252 finished with value: -1.0 and parameters: {'n_neighbors': 170, 'dim_reduction': 'pca', 'pca_solver': 'arpack', 'pca_components': 64, 'resolution': 0.10123829859340186, 'method': 'leiden', 'dist_metric': 'euclidean', 'louv_clustering_imp': 'igraph', 'leid_clustering_imp': 'leidenalg'}. Best is trial 204 with value: 0.23549598255204274.\n",
      "[I 2025-08-07 15:20:33,691] Trial 253 finished with value: 0.14678524953855 and parameters: {'n_neighbors': 180, 'dim_reduction': 'pca', 'pca_solver': 'arpack', 'pca_components': 62, 'resolution': 0.18755471203444585, 'method': 'leiden', 'dist_metric': 'euclidean', 'louv_clustering_imp': 'igraph', 'leid_clustering_imp': 'leidenalg'}. Best is trial 204 with value: 0.23549598255204274.\n",
      "[I 2025-08-07 15:20:43,356] Trial 254 finished with value: 0.0536078148190698 and parameters: {'n_neighbors': 168, 'dim_reduction': 'pca', 'pca_solver': 'arpack', 'pca_components': 59, 'resolution': 1.5566492108096281, 'method': 'leiden', 'dist_metric': 'euclidean', 'louv_clustering_imp': 'igraph', 'leid_clustering_imp': 'leidenalg'}. Best is trial 204 with value: 0.23549598255204274.\n",
      "[I 2025-08-07 15:20:50,434] Trial 255 finished with value: 0.16616147630073314 and parameters: {'n_neighbors': 173, 'dim_reduction': 'pca', 'pca_solver': 'arpack', 'pca_components': 56, 'resolution': 0.1379003406403444, 'method': 'leiden', 'dist_metric': 'euclidean', 'louv_clustering_imp': 'igraph', 'leid_clustering_imp': 'leidenalg'}. Best is trial 204 with value: 0.23549598255204274.\n",
      "[I 2025-08-07 15:20:56,486] Trial 256 finished with value: 0.22562291620814628 and parameters: {'n_neighbors': 177, 'dim_reduction': 'pca', 'pca_solver': 'arpack', 'pca_components': 60, 'resolution': 0.10047924926220085, 'method': 'leiden', 'dist_metric': 'euclidean', 'louv_clustering_imp': 'igraph', 'leid_clustering_imp': 'leidenalg'}. Best is trial 204 with value: 0.23549598255204274.\n",
      "[I 2025-08-07 15:21:03,985] Trial 257 finished with value: 0.15106064099309122 and parameters: {'n_neighbors': 182, 'dim_reduction': 'pca', 'pca_solver': 'arpack', 'pca_components': 58, 'resolution': 0.18232510753971762, 'method': 'leiden', 'dist_metric': 'euclidean', 'louv_clustering_imp': 'igraph', 'leid_clustering_imp': 'leidenalg'}. Best is trial 204 with value: 0.23549598255204274.\n",
      "[I 2025-08-07 15:21:10,517] Trial 258 finished with value: 0.22508797081073437 and parameters: {'n_neighbors': 187, 'dim_reduction': 'pca', 'pca_solver': 'arpack', 'pca_components': 60, 'resolution': 0.10130438759482271, 'method': 'leiden', 'dist_metric': 'euclidean', 'louv_clustering_imp': 'igraph', 'leid_clustering_imp': 'leidenalg'}. Best is trial 204 with value: 0.23549598255204274.\n",
      "[I 2025-08-07 15:21:18,117] Trial 259 finished with value: 0.1662817252390559 and parameters: {'n_neighbors': 177, 'dim_reduction': 'pca', 'pca_solver': 'arpack', 'pca_components': 64, 'resolution': 0.13316129588999343, 'method': 'leiden', 'dist_metric': 'euclidean', 'louv_clustering_imp': 'igraph', 'leid_clustering_imp': 'leidenalg'}. Best is trial 204 with value: 0.23549598255204274.\n",
      "[I 2025-08-07 15:21:25,729] Trial 260 finished with value: 0.15878287876233818 and parameters: {'n_neighbors': 168, 'dim_reduction': 'pca', 'pca_solver': 'arpack', 'pca_components': 60, 'resolution': 0.16568312688969394, 'method': 'leiden', 'dist_metric': 'euclidean', 'louv_clustering_imp': 'igraph', 'leid_clustering_imp': 'leidenalg'}. Best is trial 204 with value: 0.23549598255204274.\n",
      "[I 2025-08-07 15:21:33,598] Trial 261 finished with value: 0.17091445303918631 and parameters: {'n_neighbors': 189, 'dim_reduction': 'pca', 'pca_solver': 'arpack', 'pca_components': 63, 'resolution': 0.13678517601939516, 'method': 'leiden', 'dist_metric': 'euclidean', 'louv_clustering_imp': 'igraph', 'leid_clustering_imp': 'leidenalg'}. Best is trial 204 with value: 0.23549598255204274.\n",
      "[I 2025-08-07 15:21:43,390] Trial 262 finished with value: 0.1514645355010693 and parameters: {'n_neighbors': 170, 'dim_reduction': 'pca', 'pca_solver': 'arpack', 'pca_components': 60, 'resolution': 0.18260458896949167, 'method': 'leiden', 'dist_metric': 'euclidean', 'louv_clustering_imp': 'igraph', 'leid_clustering_imp': 'leidenalg'}. Best is trial 204 with value: 0.23549598255204274.\n",
      "[I 2025-08-07 15:21:48,247] Trial 263 finished with value: -1.0 and parameters: {'n_neighbors': 176, 'dim_reduction': 'pca', 'pca_solver': 'arpack', 'pca_components': 62, 'resolution': 0.1013075391052244, 'method': 'leiden', 'dist_metric': 'euclidean', 'louv_clustering_imp': 'igraph', 'leid_clustering_imp': 'leidenalg'}. Best is trial 204 with value: 0.23549598255204274.\n",
      "[I 2025-08-07 15:21:55,694] Trial 264 finished with value: 0.17075150923500446 and parameters: {'n_neighbors': 166, 'dim_reduction': 'pca', 'pca_solver': 'arpack', 'pca_components': 66, 'resolution': 0.1358713105833534, 'method': 'leiden', 'dist_metric': 'euclidean', 'louv_clustering_imp': 'igraph', 'leid_clustering_imp': 'leidenalg'}. Best is trial 204 with value: 0.23549598255204274.\n",
      "[I 2025-08-07 15:22:03,960] Trial 265 finished with value: 0.16420258373433705 and parameters: {'n_neighbors': 181, 'dim_reduction': 'pca', 'pca_solver': 'arpack', 'pca_components': 59, 'resolution': 0.17745058749406817, 'method': 'leiden', 'dist_metric': 'euclidean', 'louv_clustering_imp': 'igraph', 'leid_clustering_imp': 'leidenalg'}. Best is trial 204 with value: 0.23549598255204274.\n",
      "[I 2025-08-07 15:22:08,825] Trial 266 finished with value: -1.0 and parameters: {'n_neighbors': 171, 'dim_reduction': 'pca', 'pca_solver': 'arpack', 'pca_components': 62, 'resolution': 0.1003087713775217, 'method': 'leiden', 'dist_metric': 'euclidean', 'louv_clustering_imp': 'igraph', 'leid_clustering_imp': 'leidenalg'}. Best is trial 204 with value: 0.23549598255204274.\n",
      "[I 2025-08-07 15:22:16,355] Trial 267 finished with value: 0.166624950656123 and parameters: {'n_neighbors': 195, 'dim_reduction': 'pca', 'pca_solver': 'arpack', 'pca_components': 64, 'resolution': 0.14549175718450127, 'method': 'leiden', 'dist_metric': 'euclidean', 'louv_clustering_imp': 'igraph', 'leid_clustering_imp': 'leidenalg'}. Best is trial 204 with value: 0.23549598255204274.\n",
      "[I 2025-08-07 15:22:26,060] Trial 268 finished with value: 0.04318253682035979 and parameters: {'n_neighbors': 164, 'dim_reduction': 'pca', 'pca_solver': 'arpack', 'pca_components': 60, 'resolution': 1.7031847768155222, 'method': 'leiden', 'dist_metric': 'euclidean', 'louv_clustering_imp': 'igraph', 'leid_clustering_imp': 'leidenalg'}. Best is trial 204 with value: 0.23549598255204274.\n",
      "[I 2025-08-07 15:22:33,214] Trial 269 finished with value: 0.16616147630073314 and parameters: {'n_neighbors': 175, 'dim_reduction': 'pca', 'pca_solver': 'arpack', 'pca_components': 56, 'resolution': 0.13678252843996455, 'method': 'leiden', 'dist_metric': 'euclidean', 'louv_clustering_imp': 'igraph', 'leid_clustering_imp': 'leidenalg'}. Best is trial 204 with value: 0.23549598255204274.\n",
      "[I 2025-08-07 15:22:39,804] Trial 270 finished with value: 0.13846226117905946 and parameters: {'n_neighbors': 167, 'dim_reduction': 'pca', 'pca_solver': 'arpack', 'pca_components': 58, 'resolution': 0.1927482457598343, 'method': 'leiden', 'dist_metric': 'euclidean', 'louv_clustering_imp': 'igraph', 'leid_clustering_imp': 'leidenalg'}. Best is trial 204 with value: 0.23549598255204274.\n",
      "[I 2025-08-07 15:22:47,446] Trial 271 finished with value: 0.16616147630073314 and parameters: {'n_neighbors': 178, 'dim_reduction': 'pca', 'pca_solver': 'arpack', 'pca_components': 62, 'resolution': 0.1640916326855187, 'method': 'leiden', 'dist_metric': 'euclidean', 'louv_clustering_imp': 'igraph', 'leid_clustering_imp': 'leidenalg'}. Best is trial 204 with value: 0.23549598255204274.\n",
      "[I 2025-08-07 15:22:58,582] Trial 272 finished with value: 0.03436693084512556 and parameters: {'n_neighbors': 171, 'dim_reduction': 'pca', 'pca_solver': 'arpack', 'pca_components': 100, 'resolution': 1.9832789805440942, 'method': 'leiden', 'dist_metric': 'euclidean', 'louv_clustering_imp': 'igraph', 'leid_clustering_imp': 'leidenalg'}. Best is trial 204 with value: 0.23549598255204274.\n",
      "[I 2025-08-07 15:23:05,844] Trial 273 finished with value: 0.1710847030462718 and parameters: {'n_neighbors': 185, 'dim_reduction': 'pca', 'pca_solver': 'arpack', 'pca_components': 65, 'resolution': 0.13784044250812988, 'method': 'leiden', 'dist_metric': 'euclidean', 'louv_clustering_imp': 'igraph', 'leid_clustering_imp': 'leidenalg'}. Best is trial 204 with value: 0.23549598255204274.\n",
      "[I 2025-08-07 15:23:13,024] Trial 274 finished with value: 0.22531076986142134 and parameters: {'n_neighbors': 164, 'dim_reduction': 'pca', 'pca_solver': 'arpack', 'pca_components': 60, 'resolution': 0.10263191369635241, 'method': 'leiden', 'dist_metric': 'euclidean', 'louv_clustering_imp': 'igraph', 'leid_clustering_imp': 'leidenalg'}. Best is trial 204 with value: 0.23549598255204274.\n",
      "[I 2025-08-07 15:23:24,019] Trial 275 finished with value: 0.05543724952775068 and parameters: {'n_neighbors': 166, 'dim_reduction': 'pca', 'pca_solver': 'arpack', 'pca_components': 60, 'resolution': 1.3413359816162402, 'method': 'leiden', 'dist_metric': 'euclidean', 'louv_clustering_imp': 'igraph', 'leid_clustering_imp': 'leidenalg'}. Best is trial 204 with value: 0.23549598255204274.\n",
      "[I 2025-08-07 15:23:29,840] Trial 276 finished with value: 0.13846226117905946 and parameters: {'n_neighbors': 162, 'dim_reduction': 'pca', 'pca_solver': 'arpack', 'pca_components': 58, 'resolution': 0.20404256457518916, 'method': 'leiden', 'dist_metric': 'euclidean', 'louv_clustering_imp': 'igraph', 'leid_clustering_imp': 'leidenalg'}. Best is trial 204 with value: 0.23549598255204274.\n",
      "[I 2025-08-07 15:23:35,569] Trial 277 finished with value: -1.0 and parameters: {'n_neighbors': 190, 'dim_reduction': 'pca', 'pca_solver': 'arpack', 'pca_components': 63, 'resolution': 0.10287895973878734, 'method': 'leiden', 'dist_metric': 'euclidean', 'louv_clustering_imp': 'igraph', 'leid_clustering_imp': 'leidenalg'}. Best is trial 204 with value: 0.23549598255204274.\n",
      "[I 2025-08-07 15:23:42,396] Trial 278 finished with value: 0.17075150923500446 and parameters: {'n_neighbors': 168, 'dim_reduction': 'pca', 'pca_solver': 'arpack', 'pca_components': 67, 'resolution': 0.1661887992749121, 'method': 'leiden', 'dist_metric': 'euclidean', 'louv_clustering_imp': 'igraph', 'leid_clustering_imp': 'leidenalg'}. Best is trial 204 with value: 0.23549598255204274.\n",
      "[I 2025-08-07 15:23:47,532] Trial 279 finished with value: -1.0 and parameters: {'n_neighbors': 181, 'dim_reduction': 'pca', 'pca_solver': 'arpack', 'pca_components': 56, 'resolution': 0.10123785035451484, 'method': 'leiden', 'dist_metric': 'euclidean', 'louv_clustering_imp': 'igraph', 'leid_clustering_imp': 'leidenalg'}. Best is trial 204 with value: 0.23549598255204274.\n",
      "[I 2025-08-07 15:23:53,476] Trial 280 finished with value: 0.158363158398632 and parameters: {'n_neighbors': 163, 'dim_reduction': 'pca', 'pca_solver': 'arpack', 'pca_components': 41, 'resolution': 0.13938229642132377, 'method': 'leiden', 'dist_metric': 'euclidean', 'louv_clustering_imp': 'igraph', 'leid_clustering_imp': 'leidenalg'}. Best is trial 204 with value: 0.23549598255204274.\n",
      "[I 2025-08-07 15:24:01,892] Trial 281 finished with value: 0.16616147630073314 and parameters: {'n_neighbors': 176, 'dim_reduction': 'pca', 'pca_solver': 'arpack', 'pca_components': 59, 'resolution': 0.1770991216523473, 'method': 'leiden', 'dist_metric': 'euclidean', 'louv_clustering_imp': 'igraph', 'leid_clustering_imp': 'leidenalg'}. Best is trial 204 with value: 0.23549598255204274.\n",
      "[I 2025-08-07 15:24:09,181] Trial 282 finished with value: 0.1664795769098465 and parameters: {'n_neighbors': 171, 'dim_reduction': 'pca', 'pca_solver': 'arpack', 'pca_components': 61, 'resolution': 0.13359046546952985, 'method': 'leiden', 'dist_metric': 'euclidean', 'louv_clustering_imp': 'igraph', 'leid_clustering_imp': 'leidenalg'}. Best is trial 204 with value: 0.23549598255204274.\n",
      "[I 2025-08-07 15:24:15,604] Trial 283 finished with value: 0.17071644837457087 and parameters: {'n_neighbors': 166, 'dim_reduction': 'pca', 'pca_solver': 'arpack', 'pca_components': 63, 'resolution': 0.1370121424493943, 'method': 'leiden', 'dist_metric': 'euclidean', 'louv_clustering_imp': 'igraph', 'leid_clustering_imp': 'leidenalg'}. Best is trial 204 with value: 0.23549598255204274.\n",
      "[I 2025-08-07 15:24:21,910] Trial 284 finished with value: 0.1382475991878297 and parameters: {'n_neighbors': 179, 'dim_reduction': 'pca', 'pca_solver': 'arpack', 'pca_components': 55, 'resolution': 0.21669787489215558, 'method': 'leiden', 'dist_metric': 'euclidean', 'louv_clustering_imp': 'igraph', 'leid_clustering_imp': 'leidenalg'}. Best is trial 204 with value: 0.23549598255204274.\n",
      "[I 2025-08-07 15:24:27,228] Trial 285 finished with value: -1.0 and parameters: {'n_neighbors': 187, 'dim_reduction': 'pca', 'pca_solver': 'arpack', 'pca_components': 58, 'resolution': 0.10207153055332971, 'method': 'leiden', 'dist_metric': 'euclidean', 'louv_clustering_imp': 'igraph', 'leid_clustering_imp': 'leidenalg'}. Best is trial 204 with value: 0.23549598255204274.\n",
      "[I 2025-08-07 15:24:34,621] Trial 286 finished with value: 0.15878287876233818 and parameters: {'n_neighbors': 174, 'dim_reduction': 'pca', 'pca_solver': 'arpack', 'pca_components': 60, 'resolution': 0.1759336850801202, 'method': 'leiden', 'dist_metric': 'euclidean', 'louv_clustering_imp': 'igraph', 'leid_clustering_imp': 'leidenalg'}. Best is trial 204 with value: 0.23549598255204274.\n",
      "[I 2025-08-07 15:24:40,921] Trial 287 finished with value: 0.1662817252390559 and parameters: {'n_neighbors': 168, 'dim_reduction': 'pca', 'pca_solver': 'arpack', 'pca_components': 64, 'resolution': 0.13741319770819604, 'method': 'leiden', 'dist_metric': 'euclidean', 'louv_clustering_imp': 'igraph', 'leid_clustering_imp': 'leidenalg'}. Best is trial 204 with value: 0.23549598255204274.\n",
      "[I 2025-08-07 15:24:45,696] Trial 288 finished with value: -1.0 and parameters: {'n_neighbors': 183, 'dim_reduction': 'pca', 'pca_solver': 'arpack', 'pca_components': 62, 'resolution': 0.10179738786754232, 'method': 'leiden', 'dist_metric': 'euclidean', 'louv_clustering_imp': 'igraph', 'leid_clustering_imp': 'leidenalg'}. Best is trial 204 with value: 0.23549598255204274.\n",
      "[I 2025-08-07 15:24:51,932] Trial 289 finished with value: 0.16439189413381966 and parameters: {'n_neighbors': 162, 'dim_reduction': 'pca', 'pca_solver': 'arpack', 'pca_components': 59, 'resolution': 0.16904349226596063, 'method': 'leiden', 'dist_metric': 'euclidean', 'louv_clustering_imp': 'igraph', 'leid_clustering_imp': 'leidenalg'}. Best is trial 204 with value: 0.23549598255204274.\n",
      "[I 2025-08-07 15:24:59,058] Trial 290 finished with value: 0.17056770573295751 and parameters: {'n_neighbors': 171, 'dim_reduction': 'pca', 'pca_solver': 'arpack', 'pca_components': 57, 'resolution': 0.1414493240794518, 'method': 'leiden', 'dist_metric': 'euclidean', 'louv_clustering_imp': 'igraph', 'leid_clustering_imp': 'leidenalg'}. Best is trial 204 with value: 0.23549598255204274.\n",
      "[I 2025-08-07 15:25:06,514] Trial 291 finished with value: 0.15186362001117681 and parameters: {'n_neighbors': 175, 'dim_reduction': 'pca', 'pca_solver': 'arpack', 'pca_components': 65, 'resolution': 0.20586930409125204, 'method': 'leiden', 'dist_metric': 'euclidean', 'louv_clustering_imp': 'igraph', 'leid_clustering_imp': 'leidenalg'}. Best is trial 204 with value: 0.23549598255204274.\n",
      "[I 2025-08-07 15:25:13,596] Trial 292 finished with value: 0.22381462944625752 and parameters: {'n_neighbors': 193, 'dim_reduction': 'pca', 'pca_solver': 'arpack', 'pca_components': 61, 'resolution': 0.13388837135964446, 'method': 'leiden', 'dist_metric': 'euclidean', 'louv_clustering_imp': 'igraph', 'leid_clustering_imp': 'leidenalg'}. Best is trial 204 with value: 0.23549598255204274.\n",
      "[I 2025-08-07 15:25:19,022] Trial 293 finished with value: 0.23393052018928104 and parameters: {'n_neighbors': 164, 'dim_reduction': 'pca', 'pca_solver': 'arpack', 'pca_components': 63, 'resolution': 0.10183286456281003, 'method': 'leiden', 'dist_metric': 'euclidean', 'louv_clustering_imp': 'igraph', 'leid_clustering_imp': 'leidenalg'}. Best is trial 204 with value: 0.23549598255204274.\n",
      "[I 2025-08-07 15:25:25,944] Trial 294 finished with value: 0.15135264643763383 and parameters: {'n_neighbors': 164, 'dim_reduction': 'pca', 'pca_solver': 'arpack', 'pca_components': 63, 'resolution': 0.17066448012213103, 'method': 'leiden', 'dist_metric': 'euclidean', 'louv_clustering_imp': 'igraph', 'leid_clustering_imp': 'leidenalg'}. Best is trial 204 with value: 0.23549598255204274.\n",
      "[I 2025-08-07 15:25:30,720] Trial 295 finished with value: -1.0 and parameters: {'n_neighbors': 161, 'dim_reduction': 'pca', 'pca_solver': 'arpack', 'pca_components': 66, 'resolution': 0.10052666547335656, 'method': 'leiden', 'dist_metric': 'euclidean', 'louv_clustering_imp': 'igraph', 'leid_clustering_imp': 'leidenalg'}. Best is trial 204 with value: 0.23549598255204274.\n",
      "[I 2025-08-07 15:25:38,304] Trial 296 finished with value: 0.0683017263920783 and parameters: {'n_neighbors': 168, 'dim_reduction': 'pca', 'pca_solver': 'arpack', 'pca_components': 59, 'resolution': 0.8837726928950809, 'method': 'leiden', 'dist_metric': 'euclidean', 'louv_clustering_imp': 'igraph', 'leid_clustering_imp': 'leidenalg'}. Best is trial 204 with value: 0.23549598255204274.\n",
      "[I 2025-08-07 15:25:42,588] Trial 297 finished with value: -1.0 and parameters: {'n_neighbors': 165, 'dim_reduction': 'pca', 'pca_solver': 'arpack', 'pca_components': 57, 'resolution': 0.10082543990380799, 'method': 'leiden', 'dist_metric': 'euclidean', 'louv_clustering_imp': 'igraph', 'leid_clustering_imp': 'leidenalg'}. Best is trial 204 with value: 0.23549598255204274.\n",
      "[I 2025-08-07 15:25:49,717] Trial 298 finished with value: 0.16616147630073314 and parameters: {'n_neighbors': 159, 'dim_reduction': 'pca', 'pca_solver': 'arpack', 'pca_components': 62, 'resolution': 0.14306216991032986, 'method': 'leiden', 'dist_metric': 'euclidean', 'louv_clustering_imp': 'igraph', 'leid_clustering_imp': 'leidenalg'}. Best is trial 204 with value: 0.23549598255204274.\n",
      "[I 2025-08-07 15:25:55,927] Trial 299 finished with value: 0.14744032756918612 and parameters: {'n_neighbors': 179, 'dim_reduction': 'pca', 'pca_solver': 'arpack', 'pca_components': 55, 'resolution': 0.1989056005385857, 'method': 'leiden', 'dist_metric': 'euclidean', 'louv_clustering_imp': 'igraph', 'leid_clustering_imp': 'leidenalg'}. Best is trial 204 with value: 0.23549598255204274.\n",
      "[I 2025-08-07 15:26:02,852] Trial 300 finished with value: 0.16580395044020466 and parameters: {'n_neighbors': 171, 'dim_reduction': 'pca', 'pca_solver': 'arpack', 'pca_components': 44, 'resolution': 0.16370198138965242, 'method': 'leiden', 'dist_metric': 'euclidean', 'louv_clustering_imp': 'igraph', 'leid_clustering_imp': 'leidenalg'}. Best is trial 204 with value: 0.23549598255204274.\n",
      "[I 2025-08-07 15:26:09,986] Trial 301 finished with value: 0.16717055288406926 and parameters: {'n_neighbors': 187, 'dim_reduction': 'pca', 'pca_solver': 'arpack', 'pca_components': 64, 'resolution': 0.13664497055103206, 'method': 'leiden', 'dist_metric': 'euclidean', 'louv_clustering_imp': 'igraph', 'leid_clustering_imp': 'leidenalg'}. Best is trial 204 with value: 0.23549598255204274.\n",
      "[I 2025-08-07 15:26:17,361] Trial 302 finished with value: 0.13828945587011715 and parameters: {'n_neighbors': 168, 'dim_reduction': 'pca', 'pca_solver': 'arpack', 'pca_components': 60, 'resolution': 0.22515169002503285, 'method': 'leiden', 'dist_metric': 'euclidean', 'louv_clustering_imp': 'igraph', 'leid_clustering_imp': 'leidenalg'}. Best is trial 204 with value: 0.23549598255204274.\n",
      "[I 2025-08-07 15:26:25,377] Trial 303 finished with value: 0.16439189413381966 and parameters: {'n_neighbors': 160, 'dim_reduction': 'pca', 'pca_solver': 'arpack', 'pca_components': 62, 'resolution': 0.13543199224516358, 'method': 'leiden', 'dist_metric': 'euclidean', 'louv_clustering_imp': 'igraph', 'leid_clustering_imp': 'leidenalg'}. Best is trial 204 with value: 0.23549598255204274.\n",
      "[I 2025-08-07 15:26:30,298] Trial 304 finished with value: -1.0 and parameters: {'n_neighbors': 176, 'dim_reduction': 'pca', 'pca_solver': 'arpack', 'pca_components': 59, 'resolution': 0.10132040745009717, 'method': 'leiden', 'dist_metric': 'euclidean', 'louv_clustering_imp': 'igraph', 'leid_clustering_imp': 'leidenalg'}. Best is trial 204 with value: 0.23549598255204274.\n",
      "[I 2025-08-07 15:26:36,218] Trial 305 finished with value: 0.1498695073375481 and parameters: {'n_neighbors': 164, 'dim_reduction': 'pca', 'pca_solver': 'arpack', 'pca_components': 57, 'resolution': 0.17654629638012387, 'method': 'leiden', 'dist_metric': 'euclidean', 'louv_clustering_imp': 'igraph', 'leid_clustering_imp': 'leidenalg'}. Best is trial 204 with value: 0.23549598255204274.\n",
      "[I 2025-08-07 15:26:42,967] Trial 306 finished with value: 0.16623908509680044 and parameters: {'n_neighbors': 170, 'dim_reduction': 'pca', 'pca_solver': 'arpack', 'pca_components': 66, 'resolution': 0.13639485199499318, 'method': 'leiden', 'dist_metric': 'euclidean', 'louv_clustering_imp': 'igraph', 'leid_clustering_imp': 'leidenalg'}. Best is trial 204 with value: 0.23549598255204274.\n",
      "[I 2025-08-07 15:26:49,870] Trial 307 finished with value: 0.17078676680696633 and parameters: {'n_neighbors': 183, 'dim_reduction': 'pca', 'pca_solver': 'arpack', 'pca_components': 61, 'resolution': 0.16785588700740361, 'method': 'leiden', 'dist_metric': 'euclidean', 'louv_clustering_imp': 'igraph', 'leid_clustering_imp': 'leidenalg'}. Best is trial 204 with value: 0.23549598255204274.\n",
      "[I 2025-08-07 15:26:56,923] Trial 308 finished with value: 0.16650533464278525 and parameters: {'n_neighbors': 177, 'dim_reduction': 'pca', 'pca_solver': 'arpack', 'pca_components': 90, 'resolution': 0.14749932524376447, 'method': 'leiden', 'dist_metric': 'euclidean', 'louv_clustering_imp': 'igraph', 'leid_clustering_imp': 'leidenalg'}. Best is trial 204 with value: 0.23549598255204274.\n",
      "[I 2025-08-07 15:27:03,274] Trial 309 finished with value: 0.22377272379824212 and parameters: {'n_neighbors': 191, 'dim_reduction': 'pca', 'pca_solver': 'arpack', 'pca_components': 64, 'resolution': 0.10256746993830283, 'method': 'leiden', 'dist_metric': 'euclidean', 'louv_clustering_imp': 'igraph', 'leid_clustering_imp': 'leidenalg'}. Best is trial 204 with value: 0.23549598255204274.\n",
      "[I 2025-08-07 15:27:12,158] Trial 310 finished with value: 0.13846226117905946 and parameters: {'n_neighbors': 196, 'dim_reduction': 'pca', 'pca_solver': 'arpack', 'pca_components': 59, 'resolution': 0.20401197004784583, 'method': 'leiden', 'dist_metric': 'euclidean', 'louv_clustering_imp': 'igraph', 'leid_clustering_imp': 'leidenalg'}. Best is trial 204 with value: 0.23549598255204274.\n",
      "[I 2025-08-07 15:27:17,476] Trial 311 finished with value: 0.22377272379824212 and parameters: {'n_neighbors': 165, 'dim_reduction': 'pca', 'pca_solver': 'arpack', 'pca_components': 63, 'resolution': 0.10089508339524077, 'method': 'leiden', 'dist_metric': 'euclidean', 'louv_clustering_imp': 'igraph', 'leid_clustering_imp': 'leidenalg'}. Best is trial 204 with value: 0.23549598255204274.\n",
      "[I 2025-08-07 15:27:21,948] Trial 312 finished with value: -1.0 and parameters: {'n_neighbors': 172, 'dim_reduction': 'pca', 'pca_solver': 'arpack', 'pca_components': 61, 'resolution': 0.10009266511700815, 'method': 'leiden', 'dist_metric': 'euclidean', 'louv_clustering_imp': 'igraph', 'leid_clustering_imp': 'leidenalg'}. Best is trial 204 with value: 0.23549598255204274.\n",
      "[I 2025-08-07 15:27:27,943] Trial 313 finished with value: 0.15922511537838147 and parameters: {'n_neighbors': 160, 'dim_reduction': 'pca', 'pca_solver': 'arpack', 'pca_components': 68, 'resolution': 0.14010791984623042, 'method': 'leiden', 'dist_metric': 'euclidean', 'louv_clustering_imp': 'igraph', 'leid_clustering_imp': 'leidenalg'}. Best is trial 204 with value: 0.23549598255204274.\n",
      "[I 2025-08-07 15:27:34,208] Trial 314 finished with value: 0.15152353585455675 and parameters: {'n_neighbors': 167, 'dim_reduction': 'pca', 'pca_solver': 'arpack', 'pca_components': 43, 'resolution': 0.18068907953066654, 'method': 'leiden', 'dist_metric': 'euclidean', 'louv_clustering_imp': 'igraph', 'leid_clustering_imp': 'leidenalg'}. Best is trial 204 with value: 0.23549598255204274.\n",
      "[I 2025-08-07 15:27:41,854] Trial 315 finished with value: 0.06541311805496458 and parameters: {'n_neighbors': 175, 'dim_reduction': 'pca', 'pca_solver': 'arpack', 'pca_components': 55, 'resolution': 1.0187165192672953, 'method': 'leiden', 'dist_metric': 'euclidean', 'louv_clustering_imp': 'igraph', 'leid_clustering_imp': 'leidenalg'}. Best is trial 204 with value: 0.23549598255204274.\n",
      "[I 2025-08-07 15:27:49,758] Trial 316 finished with value: 0.046359064149382546 and parameters: {'n_neighbors': 184, 'dim_reduction': 'pca', 'pca_solver': 'arpack', 'pca_components': 58, 'resolution': 1.2294587705962599, 'method': 'leiden', 'dist_metric': 'euclidean', 'louv_clustering_imp': 'igraph', 'leid_clustering_imp': 'leidenalg'}. Best is trial 204 with value: 0.23549598255204274.\n",
      "[I 2025-08-07 15:27:57,448] Trial 317 finished with value: 0.11481053043473147 and parameters: {'n_neighbors': 181, 'dim_reduction': 'pca', 'pca_solver': 'arpack', 'pca_components': 60, 'resolution': 0.5937549216667444, 'method': 'leiden', 'dist_metric': 'euclidean', 'louv_clustering_imp': 'igraph', 'leid_clustering_imp': 'leidenalg'}. Best is trial 204 with value: 0.23549598255204274.\n",
      "[I 2025-08-07 15:28:03,670] Trial 318 finished with value: 0.17058914805192743 and parameters: {'n_neighbors': 170, 'dim_reduction': 'pca', 'pca_solver': 'arpack', 'pca_components': 63, 'resolution': 0.14011249358586464, 'method': 'leiden', 'dist_metric': 'euclidean', 'louv_clustering_imp': 'igraph', 'leid_clustering_imp': 'leidenalg'}. Best is trial 204 with value: 0.23549598255204274.\n",
      "[I 2025-08-07 15:28:10,675] Trial 319 finished with value: 0.15878287876233818 and parameters: {'n_neighbors': 163, 'dim_reduction': 'pca', 'pca_solver': 'arpack', 'pca_components': 60, 'resolution': 0.16884028239799947, 'method': 'leiden', 'dist_metric': 'euclidean', 'louv_clustering_imp': 'igraph', 'leid_clustering_imp': 'leidenalg'}. Best is trial 204 with value: 0.23549598255204274.\n",
      "[I 2025-08-07 15:28:15,796] Trial 320 finished with value: 0.23549598255204274 and parameters: {'n_neighbors': 173, 'dim_reduction': 'pca', 'pca_solver': 'arpack', 'pca_components': 57, 'resolution': 0.10086601383390195, 'method': 'leiden', 'dist_metric': 'euclidean', 'louv_clustering_imp': 'igraph', 'leid_clustering_imp': 'leidenalg'}. Best is trial 204 with value: 0.23549598255204274.\n",
      "[I 2025-08-07 15:28:23,045] Trial 321 finished with value: 0.14660683331393984 and parameters: {'n_neighbors': 172, 'dim_reduction': 'pca', 'pca_solver': 'arpack', 'pca_components': 57, 'resolution': 0.2237802369977267, 'method': 'leiden', 'dist_metric': 'euclidean', 'louv_clustering_imp': 'igraph', 'leid_clustering_imp': 'leidenalg'}. Best is trial 204 with value: 0.23549598255204274.\n",
      "[I 2025-08-07 15:28:28,967] Trial 322 finished with value: 0.15860726303386716 and parameters: {'n_neighbors': 168, 'dim_reduction': 'pca', 'pca_solver': 'arpack', 'pca_components': 55, 'resolution': 0.1366359323151874, 'method': 'leiden', 'dist_metric': 'euclidean', 'louv_clustering_imp': 'igraph', 'leid_clustering_imp': 'leidenalg'}. Best is trial 204 with value: 0.23549598255204274.\n",
      "[I 2025-08-07 15:28:35,596] Trial 323 finished with value: 0.2258290195432164 and parameters: {'n_neighbors': 177, 'dim_reduction': 'pca', 'pca_solver': 'arpack', 'pca_components': 41, 'resolution': 0.10074662855555358, 'method': 'leiden', 'dist_metric': 'euclidean', 'louv_clustering_imp': 'igraph', 'leid_clustering_imp': 'leidenalg'}. Best is trial 204 with value: 0.23549598255204274.\n",
      "[I 2025-08-07 15:28:42,293] Trial 324 finished with value: 0.15097430220473484 and parameters: {'n_neighbors': 178, 'dim_reduction': 'pca', 'pca_solver': 'arpack', 'pca_components': 41, 'resolution': 0.17855459194473372, 'method': 'leiden', 'dist_metric': 'euclidean', 'louv_clustering_imp': 'igraph', 'leid_clustering_imp': 'leidenalg'}. Best is trial 204 with value: 0.23549598255204274.\n",
      "[I 2025-08-07 15:28:49,169] Trial 325 finished with value: 0.17068410041289292 and parameters: {'n_neighbors': 174, 'dim_reduction': 'pca', 'pca_solver': 'arpack', 'pca_components': 41, 'resolution': 0.13425808516163068, 'method': 'leiden', 'dist_metric': 'euclidean', 'louv_clustering_imp': 'igraph', 'leid_clustering_imp': 'leidenalg'}. Best is trial 204 with value: 0.23549598255204274.\n",
      "[I 2025-08-07 15:28:56,518] Trial 326 finished with value: 0.17056770573295751 and parameters: {'n_neighbors': 166, 'dim_reduction': 'pca', 'pca_solver': 'arpack', 'pca_components': 58, 'resolution': 0.16229316703598118, 'method': 'leiden', 'dist_metric': 'euclidean', 'louv_clustering_imp': 'igraph', 'leid_clustering_imp': 'leidenalg'}. Best is trial 204 with value: 0.23549598255204274.\n",
      "[I 2025-08-07 15:29:02,504] Trial 327 finished with value: 0.15832863606220873 and parameters: {'n_neighbors': 159, 'dim_reduction': 'pca', 'pca_solver': 'arpack', 'pca_components': 46, 'resolution': 0.13730144473854838, 'method': 'leiden', 'dist_metric': 'euclidean', 'louv_clustering_imp': 'igraph', 'leid_clustering_imp': 'leidenalg'}. Best is trial 204 with value: 0.23549598255204274.\n",
      "[I 2025-08-07 15:29:04,364] Trial 328 finished with value: -1.0 and parameters: {'n_neighbors': 174, 'dim_reduction': 'pca', 'pca_solver': 'arpack', 'pca_components': 54, 'resolution': 0.10002622449210245, 'method': 'leiden', 'dist_metric': 'euclidean', 'louv_clustering_imp': 'igraph', 'leid_clustering_imp': 'igraph'}. Best is trial 204 with value: 0.23549598255204274.\n",
      "[I 2025-08-07 15:29:11,298] Trial 329 finished with value: 0.14116506313431035 and parameters: {'n_neighbors': 170, 'dim_reduction': 'pca', 'pca_solver': 'arpack', 'pca_components': 44, 'resolution': 0.20182491015949994, 'method': 'leiden', 'dist_metric': 'euclidean', 'louv_clustering_imp': 'igraph', 'leid_clustering_imp': 'leidenalg'}. Best is trial 204 with value: 0.23549598255204274.\n",
      "[I 2025-08-07 15:29:18,255] Trial 330 finished with value: 0.17032141089407782 and parameters: {'n_neighbors': 179, 'dim_reduction': 'pca', 'pca_solver': 'arpack', 'pca_components': 39, 'resolution': 0.14426705743191098, 'method': 'leiden', 'dist_metric': 'euclidean', 'louv_clustering_imp': 'igraph', 'leid_clustering_imp': 'leidenalg'}. Best is trial 204 with value: 0.23549598255204274.\n",
      "[I 2025-08-07 15:29:25,290] Trial 331 finished with value: 0.14701921056166997 and parameters: {'n_neighbors': 163, 'dim_reduction': 'pca', 'pca_solver': 'arpack', 'pca_components': 62, 'resolution': 0.18691587597012627, 'method': 'leiden', 'dist_metric': 'euclidean', 'louv_clustering_imp': 'igraph', 'leid_clustering_imp': 'leidenalg'}. Best is trial 204 with value: 0.23549598255204274.\n",
      "[I 2025-08-07 15:29:31,368] Trial 332 finished with value: 0.16650533464278525 and parameters: {'n_neighbors': 156, 'dim_reduction': 'pca', 'pca_solver': 'arpack', 'pca_components': 66, 'resolution': 0.13695076590079522, 'method': 'leiden', 'dist_metric': 'euclidean', 'louv_clustering_imp': 'igraph', 'leid_clustering_imp': 'leidenalg'}. Best is trial 204 with value: 0.23549598255204274.\n",
      "[I 2025-08-07 15:29:36,742] Trial 333 finished with value: -1.0 and parameters: {'n_neighbors': 168, 'dim_reduction': 'pca', 'pca_solver': 'arpack', 'pca_components': 84, 'resolution': 0.10256087726242355, 'method': 'leiden', 'dist_metric': 'euclidean', 'louv_clustering_imp': 'igraph', 'leid_clustering_imp': 'leidenalg'}. Best is trial 204 with value: 0.23549598255204274.\n",
      "[I 2025-08-07 15:29:43,151] Trial 334 finished with value: 0.16165890815058884 and parameters: {'n_neighbors': 173, 'dim_reduction': 'pca', 'pca_solver': 'randomized', 'pca_components': 56, 'resolution': 0.16501085584776623, 'method': 'leiden', 'dist_metric': 'euclidean', 'louv_clustering_imp': 'igraph', 'leid_clustering_imp': 'leidenalg'}. Best is trial 204 with value: 0.23549598255204274.\n",
      "[I 2025-08-07 15:29:48,392] Trial 335 finished with value: -1.0 and parameters: {'n_neighbors': 177, 'dim_reduction': 'pca', 'pca_solver': 'arpack', 'pca_components': 58, 'resolution': 0.10008692416771872, 'method': 'leiden', 'dist_metric': 'euclidean', 'louv_clustering_imp': 'igraph', 'leid_clustering_imp': 'leidenalg'}. Best is trial 204 with value: 0.23549598255204274.\n",
      "[I 2025-08-07 15:29:55,837] Trial 336 finished with value: 0.15142106835720157 and parameters: {'n_neighbors': 164, 'dim_reduction': 'pca', 'pca_solver': 'arpack', 'pca_components': 96, 'resolution': 0.2233774975555936, 'method': 'leiden', 'dist_metric': 'euclidean', 'louv_clustering_imp': 'igraph', 'leid_clustering_imp': 'leidenalg'}. Best is trial 204 with value: 0.23549598255204274.\n",
      "[I 2025-08-07 15:30:00,622] Trial 337 finished with value: -1.0 and parameters: {'n_neighbors': 171, 'dim_reduction': 'pca', 'pca_solver': 'arpack', 'pca_components': 63, 'resolution': 0.10054028998949455, 'method': 'leiden', 'dist_metric': 'euclidean', 'louv_clustering_imp': 'igraph', 'leid_clustering_imp': 'leidenalg'}. Best is trial 204 with value: 0.23549598255204274.\n",
      "[I 2025-08-07 15:30:07,704] Trial 338 finished with value: 0.1611750133888465 and parameters: {'n_neighbors': 167, 'dim_reduction': 'pca', 'pca_solver': 'arpack', 'pca_components': 42, 'resolution': 0.13755524751626635, 'method': 'leiden', 'dist_metric': 'euclidean', 'louv_clustering_imp': 'igraph', 'leid_clustering_imp': 'leidenalg'}. Best is trial 204 with value: 0.23549598255204274.\n",
      "[I 2025-08-07 15:30:13,229] Trial 339 finished with value: 0.1467066660412965 and parameters: {'n_neighbors': 160, 'dim_reduction': 'pca', 'pca_solver': 'arpack', 'pca_components': 65, 'resolution': 0.17207795985504232, 'method': 'leiden', 'dist_metric': 'euclidean', 'louv_clustering_imp': 'igraph', 'leid_clustering_imp': 'leidenalg'}. Best is trial 204 with value: 0.23549598255204274.\n",
      "[I 2025-08-07 15:30:21,036] Trial 340 finished with value: 0.17078676680696633 and parameters: {'n_neighbors': 176, 'dim_reduction': 'pca', 'pca_solver': 'arpack', 'pca_components': 59, 'resolution': 0.13587845789668707, 'method': 'leiden', 'dist_metric': 'euclidean', 'louv_clustering_imp': 'igraph', 'leid_clustering_imp': 'leidenalg'}. Best is trial 204 with value: 0.23549598255204274.\n",
      "[I 2025-08-07 15:30:30,914] Trial 341 finished with value: 0.04912284949265692 and parameters: {'n_neighbors': 181, 'dim_reduction': 'pca', 'pca_solver': 'arpack', 'pca_components': 47, 'resolution': 1.4134079973211187, 'method': 'leiden', 'dist_metric': 'euclidean', 'louv_clustering_imp': 'igraph', 'leid_clustering_imp': 'leidenalg'}. Best is trial 204 with value: 0.23549598255204274.\n",
      "[I 2025-08-07 15:30:37,988] Trial 342 finished with value: 0.15456616364563333 and parameters: {'n_neighbors': 170, 'dim_reduction': 'pca', 'pca_solver': 'arpack', 'pca_components': 62, 'resolution': 0.19660125643002407, 'method': 'leiden', 'dist_metric': 'euclidean', 'louv_clustering_imp': 'igraph', 'leid_clustering_imp': 'leidenalg'}. Best is trial 204 with value: 0.23549598255204274.\n",
      "[I 2025-08-07 15:30:45,738] Trial 343 finished with value: 0.22531076986142134 and parameters: {'n_neighbors': 164, 'dim_reduction': 'pca', 'pca_solver': 'arpack', 'pca_components': 60, 'resolution': 0.10076130950727681, 'method': 'leiden', 'dist_metric': 'euclidean', 'louv_clustering_imp': 'igraph', 'leid_clustering_imp': 'leidenalg'}. Best is trial 204 with value: 0.23549598255204274.\n",
      "[I 2025-08-07 15:30:51,717] Trial 344 finished with value: 0.15860726303386716 and parameters: {'n_neighbors': 163, 'dim_reduction': 'pca', 'pca_solver': 'arpack', 'pca_components': 54, 'resolution': 0.14310021782101257, 'method': 'leiden', 'dist_metric': 'euclidean', 'louv_clustering_imp': 'igraph', 'leid_clustering_imp': 'leidenalg'}. Best is trial 204 with value: 0.23549598255204274.\n",
      "[I 2025-08-07 15:30:56,895] Trial 345 finished with value: 0.14161195731127027 and parameters: {'n_neighbors': 155, 'dim_reduction': 'pca', 'pca_solver': 'arpack', 'pca_components': 56, 'resolution': 0.22955159344142334, 'method': 'leiden', 'dist_metric': 'euclidean', 'louv_clustering_imp': 'igraph', 'leid_clustering_imp': 'leidenalg'}. Best is trial 204 with value: 0.23549598255204274.\n",
      "[I 2025-08-07 15:31:04,478] Trial 346 finished with value: 0.15878287876233818 and parameters: {'n_neighbors': 167, 'dim_reduction': 'pca', 'pca_solver': 'arpack', 'pca_components': 60, 'resolution': 0.16851967000265625, 'method': 'leiden', 'dist_metric': 'euclidean', 'louv_clustering_imp': 'igraph', 'leid_clustering_imp': 'leidenalg'}. Best is trial 204 with value: 0.23549598255204274.\n",
      "[I 2025-08-07 15:31:06,163] Trial 347 finished with value: -1.0 and parameters: {'n_neighbors': 161, 'dim_reduction': 'pca', 'pca_solver': 'arpack', 'pca_components': 58, 'resolution': 0.10015542016621026, 'method': 'leiden', 'dist_metric': 'euclidean', 'louv_clustering_imp': 'igraph', 'leid_clustering_imp': 'igraph'}. Best is trial 204 with value: 0.23549598255204274.\n",
      "[I 2025-08-07 15:31:13,541] Trial 348 finished with value: 0.17023532986546144 and parameters: {'n_neighbors': 173, 'dim_reduction': 'pca', 'pca_solver': 'arpack', 'pca_components': 64, 'resolution': 0.13422025679302976, 'method': 'leiden', 'dist_metric': 'euclidean', 'louv_clustering_imp': 'igraph', 'leid_clustering_imp': 'leidenalg'}. Best is trial 204 with value: 0.23549598255204274.\n",
      "[I 2025-08-07 15:31:19,611] Trial 349 finished with value: 0.15878287876233818 and parameters: {'n_neighbors': 158, 'dim_reduction': 'pca', 'pca_solver': 'arpack', 'pca_components': 60, 'resolution': 0.1367289679176588, 'method': 'leiden', 'dist_metric': 'euclidean', 'louv_clustering_imp': 'igraph', 'leid_clustering_imp': 'leidenalg'}. Best is trial 204 with value: 0.23549598255204274.\n",
      "[I 2025-08-07 15:31:25,991] Trial 350 finished with value: 0.15138225604923855 and parameters: {'n_neighbors': 165, 'dim_reduction': 'pca', 'pca_solver': 'arpack', 'pca_components': 45, 'resolution': 0.18290595364481946, 'method': 'leiden', 'dist_metric': 'euclidean', 'louv_clustering_imp': 'igraph', 'leid_clustering_imp': 'leidenalg'}. Best is trial 204 with value: 0.23549598255204274.\n",
      "[I 2025-08-07 15:31:30,866] Trial 351 finished with value: -1.0 and parameters: {'n_neighbors': 169, 'dim_reduction': 'pca', 'pca_solver': 'arpack', 'pca_components': 62, 'resolution': 0.1005866524628439, 'method': 'leiden', 'dist_metric': 'euclidean', 'louv_clustering_imp': 'igraph', 'leid_clustering_imp': 'leidenalg'}. Best is trial 204 with value: 0.23549598255204274.\n",
      "[I 2025-08-07 15:31:38,064] Trial 352 finished with value: 0.17056770573295751 and parameters: {'n_neighbors': 177, 'dim_reduction': 'pca', 'pca_solver': 'arpack', 'pca_components': 58, 'resolution': 0.13920182938827091, 'method': 'leiden', 'dist_metric': 'euclidean', 'louv_clustering_imp': 'igraph', 'leid_clustering_imp': 'leidenalg'}. Best is trial 204 with value: 0.23549598255204274.\n",
      "[I 2025-08-07 15:31:46,104] Trial 353 finished with value: 0.1645095471812891 and parameters: {'n_neighbors': 173, 'dim_reduction': 'pca', 'pca_solver': 'arpack', 'pca_components': 64, 'resolution': 0.1707405494534749, 'method': 'leiden', 'dist_metric': 'euclidean', 'louv_clustering_imp': 'igraph', 'leid_clustering_imp': 'leidenalg'}. Best is trial 204 with value: 0.23549598255204274.\n",
      "[I 2025-08-07 15:31:50,394] Trial 354 finished with value: -1.0 and parameters: {'n_neighbors': 162, 'dim_reduction': 'pca', 'pca_solver': 'arpack', 'pca_components': 57, 'resolution': 0.10051065823529945, 'method': 'leiden', 'dist_metric': 'euclidean', 'louv_clustering_imp': 'igraph', 'leid_clustering_imp': 'leidenalg'}. Best is trial 204 with value: 0.23549598255204274.\n",
      "[I 2025-08-07 15:31:58,905] Trial 355 finished with value: 0.15178678164206336 and parameters: {'n_neighbors': 166, 'dim_reduction': 'raw', 'pca_solver': 'randomized', 'pca_components': 61, 'resolution': 0.2204834292659233, 'method': 'leiden', 'dist_metric': 'euclidean', 'louv_clustering_imp': 'igraph', 'leid_clustering_imp': 'leidenalg'}. Best is trial 204 with value: 0.23549598255204274.\n",
      "[I 2025-08-07 15:32:06,295] Trial 356 finished with value: 0.16439189413381966 and parameters: {'n_neighbors': 170, 'dim_reduction': 'pca', 'pca_solver': 'arpack', 'pca_components': 59, 'resolution': 0.136271945264333, 'method': 'leiden', 'dist_metric': 'euclidean', 'louv_clustering_imp': 'igraph', 'leid_clustering_imp': 'leidenalg'}. Best is trial 204 with value: 0.23549598255204274.\n",
      "[I 2025-08-07 15:32:12,423] Trial 357 finished with value: 0.14681284139947104 and parameters: {'n_neighbors': 155, 'dim_reduction': 'pca', 'pca_solver': 'arpack', 'pca_components': 62, 'resolution': 0.17191026559602152, 'method': 'leiden', 'dist_metric': 'euclidean', 'louv_clustering_imp': 'igraph', 'leid_clustering_imp': 'leidenalg'}. Best is trial 204 with value: 0.23549598255204274.\n",
      "[I 2025-08-07 15:32:22,161] Trial 358 finished with value: 0.07147121383974663 and parameters: {'n_neighbors': 175, 'dim_reduction': 'pca', 'pca_solver': 'arpack', 'pca_components': 56, 'resolution': 0.8267761478641712, 'method': 'leiden', 'dist_metric': 'euclidean', 'louv_clustering_imp': 'igraph', 'leid_clustering_imp': 'leidenalg'}. Best is trial 204 with value: 0.23549598255204274.\n",
      "[I 2025-08-07 15:32:29,657] Trial 359 finished with value: 0.15878287876233818 and parameters: {'n_neighbors': 164, 'dim_reduction': 'pca', 'pca_solver': 'arpack', 'pca_components': 60, 'resolution': 0.13646659523871682, 'method': 'leiden', 'dist_metric': 'euclidean', 'louv_clustering_imp': 'igraph', 'leid_clustering_imp': 'leidenalg'}. Best is trial 204 with value: 0.23549598255204274.\n",
      "[I 2025-08-07 15:32:37,582] Trial 360 finished with value: 0.08349537009205336 and parameters: {'n_neighbors': 180, 'dim_reduction': 'pca', 'pca_solver': 'arpack', 'pca_components': 67, 'resolution': 0.722656717840253, 'method': 'leiden', 'dist_metric': 'euclidean', 'louv_clustering_imp': 'igraph', 'leid_clustering_imp': 'leidenalg'}. Best is trial 204 with value: 0.23549598255204274.\n",
      "[I 2025-08-07 15:32:43,629] Trial 361 finished with value: 0.15135264643763383 and parameters: {'n_neighbors': 170, 'dim_reduction': 'pca', 'pca_solver': 'arpack', 'pca_components': 64, 'resolution': 0.1941958878812086, 'method': 'leiden', 'dist_metric': 'euclidean', 'louv_clustering_imp': 'igraph', 'leid_clustering_imp': 'leidenalg'}. Best is trial 204 with value: 0.23549598255204274.\n",
      "[I 2025-08-07 15:32:48,691] Trial 362 finished with value: 0.22457497939953275 and parameters: {'n_neighbors': 161, 'dim_reduction': 'pca', 'pca_solver': 'arpack', 'pca_components': 62, 'resolution': 0.10019424084421671, 'method': 'leiden', 'dist_metric': 'euclidean', 'louv_clustering_imp': 'igraph', 'leid_clustering_imp': 'leidenalg'}. Best is trial 204 with value: 0.23549598255204274.\n",
      "[I 2025-08-07 15:32:55,019] Trial 363 finished with value: 0.15860726303386716 and parameters: {'n_neighbors': 174, 'dim_reduction': 'pca', 'pca_solver': 'arpack', 'pca_components': 54, 'resolution': 0.13855402253057103, 'method': 'leiden', 'dist_metric': 'euclidean', 'louv_clustering_imp': 'igraph', 'leid_clustering_imp': 'leidenalg'}. Best is trial 204 with value: 0.23549598255204274.\n",
      "[I 2025-08-07 15:33:00,783] Trial 364 finished with value: 0.15878287876233818 and parameters: {'n_neighbors': 166, 'dim_reduction': 'pca', 'pca_solver': 'arpack', 'pca_components': 59, 'resolution': 0.16635856794355736, 'method': 'leiden', 'dist_metric': 'euclidean', 'louv_clustering_imp': 'igraph', 'leid_clustering_imp': 'leidenalg'}. Best is trial 204 with value: 0.23549598255204274.\n",
      "[I 2025-08-07 15:33:07,188] Trial 365 finished with value: 0.22562291620814628 and parameters: {'n_neighbors': 169, 'dim_reduction': 'pca', 'pca_solver': 'arpack', 'pca_components': 47, 'resolution': 0.1013173568108777, 'method': 'leiden', 'dist_metric': 'euclidean', 'louv_clustering_imp': 'igraph', 'leid_clustering_imp': 'leidenalg'}. Best is trial 204 with value: 0.23549598255204274.\n",
      "[I 2025-08-07 15:33:08,645] Trial 366 finished with value: 0.08878279820183786 and parameters: {'n_neighbors': 170, 'dim_reduction': 'pca', 'pca_solver': 'arpack', 'pca_components': 47, 'resolution': 0.6361064601438238, 'method': 'leiden', 'dist_metric': 'euclidean', 'louv_clustering_imp': 'igraph', 'leid_clustering_imp': 'igraph'}. Best is trial 204 with value: 0.23549598255204274.\n",
      "[I 2025-08-07 15:33:14,851] Trial 367 finished with value: 0.17017298304306078 and parameters: {'n_neighbors': 159, 'dim_reduction': 'pca', 'pca_solver': 'arpack', 'pca_components': 50, 'resolution': 0.13635102761005424, 'method': 'leiden', 'dist_metric': 'euclidean', 'louv_clustering_imp': 'igraph', 'leid_clustering_imp': 'leidenalg'}. Best is trial 204 with value: 0.23549598255204274.\n",
      "[I 2025-08-07 15:33:21,326] Trial 368 finished with value: 0.151628375663151 and parameters: {'n_neighbors': 167, 'dim_reduction': 'pca', 'pca_solver': 'arpack', 'pca_components': 43, 'resolution': 0.23756222614226258, 'method': 'leiden', 'dist_metric': 'euclidean', 'louv_clustering_imp': 'igraph', 'leid_clustering_imp': 'leidenalg'}. Best is trial 204 with value: 0.23549598255204274.\n",
      "[I 2025-08-07 15:33:29,057] Trial 369 finished with value: 0.04948310731759461 and parameters: {'n_neighbors': 174, 'dim_reduction': 'pca', 'pca_solver': 'arpack', 'pca_components': 48, 'resolution': 1.8511676440714222, 'method': 'leiden', 'dist_metric': 'euclidean', 'louv_clustering_imp': 'igraph', 'leid_clustering_imp': 'leidenalg'}. Best is trial 204 with value: 0.23549598255204274.\n",
      "[I 2025-08-07 15:33:34,729] Trial 370 finished with value: -1.0 and parameters: {'n_neighbors': 178, 'dim_reduction': 'pca', 'pca_solver': 'arpack', 'pca_components': 46, 'resolution': 0.10109530452994639, 'method': 'leiden', 'dist_metric': 'euclidean', 'louv_clustering_imp': 'igraph', 'leid_clustering_imp': 'leidenalg'}. Best is trial 204 with value: 0.23549598255204274.\n",
      "[I 2025-08-07 15:33:41,650] Trial 371 finished with value: 0.158363158398632 and parameters: {'n_neighbors': 172, 'dim_reduction': 'pca', 'pca_solver': 'arpack', 'pca_components': 44, 'resolution': 0.1657203083660256, 'method': 'leiden', 'dist_metric': 'euclidean', 'louv_clustering_imp': 'igraph', 'leid_clustering_imp': 'leidenalg'}. Best is trial 204 with value: 0.23549598255204274.\n",
      "[I 2025-08-07 15:33:47,622] Trial 372 finished with value: 0.13870425252058974 and parameters: {'n_neighbors': 165, 'dim_reduction': 'pca', 'pca_solver': 'arpack', 'pca_components': 42, 'resolution': 0.20315621235112752, 'method': 'leiden', 'dist_metric': 'euclidean', 'louv_clustering_imp': 'igraph', 'leid_clustering_imp': 'leidenalg'}. Best is trial 204 with value: 0.23549598255204274.\n",
      "[I 2025-08-07 15:33:53,168] Trial 373 finished with value: 0.15853754343235646 and parameters: {'n_neighbors': 158, 'dim_reduction': 'pca', 'pca_solver': 'arpack', 'pca_components': 45, 'resolution': 0.135635124686691, 'method': 'leiden', 'dist_metric': 'euclidean', 'louv_clustering_imp': 'igraph', 'leid_clustering_imp': 'leidenalg'}. Best is trial 204 with value: 0.23549598255204274.\n",
      "[I 2025-08-07 15:33:57,915] Trial 374 finished with value: -1.0 and parameters: {'n_neighbors': 168, 'dim_reduction': 'pca', 'pca_solver': 'arpack', 'pca_components': 47, 'resolution': 0.10076785711849272, 'method': 'leiden', 'dist_metric': 'euclidean', 'louv_clustering_imp': 'igraph', 'leid_clustering_imp': 'leidenalg'}. Best is trial 204 with value: 0.23549598255204274.\n",
      "[I 2025-08-07 15:34:04,859] Trial 375 finished with value: 0.05117957803666624 and parameters: {'n_neighbors': 163, 'dim_reduction': 'raw', 'pca_solver': 'randomized', 'pca_components': 49, 'resolution': 1.138822440421696, 'method': 'leiden', 'dist_metric': 'euclidean', 'louv_clustering_imp': 'igraph', 'leid_clustering_imp': 'leidenalg'}. Best is trial 204 with value: 0.23549598255204274.\n",
      "[I 2025-08-07 15:34:12,926] Trial 376 finished with value: 0.16068871449592523 and parameters: {'n_neighbors': 177, 'dim_reduction': 'pca', 'pca_solver': 'arpack', 'pca_components': 53, 'resolution': 0.16130185377124764, 'method': 'leiden', 'dist_metric': 'euclidean', 'louv_clustering_imp': 'igraph', 'leid_clustering_imp': 'leidenalg'}. Best is trial 204 with value: 0.23549598255204274.\n",
      "[I 2025-08-07 15:34:19,170] Trial 377 finished with value: 0.16165890815058884 and parameters: {'n_neighbors': 172, 'dim_reduction': 'pca', 'pca_solver': 'arpack', 'pca_components': 57, 'resolution': 0.14203094305550842, 'method': 'leiden', 'dist_metric': 'euclidean', 'louv_clustering_imp': 'igraph', 'leid_clustering_imp': 'leidenalg'}. Best is trial 204 with value: 0.23549598255204274.\n",
      "[I 2025-08-07 15:34:26,008] Trial 378 finished with value: 0.1467066660412965 and parameters: {'n_neighbors': 154, 'dim_reduction': 'pca', 'pca_solver': 'arpack', 'pca_components': 65, 'resolution': 0.19779459517032938, 'method': 'leiden', 'dist_metric': 'euclidean', 'louv_clustering_imp': 'igraph', 'leid_clustering_imp': 'leidenalg'}. Best is trial 204 with value: 0.23549598255204274.\n",
      "[I 2025-08-07 15:34:32,234] Trial 379 finished with value: 0.22381462944625752 and parameters: {'n_neighbors': 169, 'dim_reduction': 'pca', 'pca_solver': 'arpack', 'pca_components': 60, 'resolution': 0.12592350270056787, 'method': 'leiden', 'dist_metric': 'euclidean', 'louv_clustering_imp': 'igraph', 'leid_clustering_imp': 'leidenalg'}. Best is trial 204 with value: 0.23549598255204274.\n",
      "[I 2025-08-07 15:34:38,432] Trial 380 finished with value: 0.17058914805192743 and parameters: {'n_neighbors': 163, 'dim_reduction': 'pca', 'pca_solver': 'arpack', 'pca_components': 63, 'resolution': 0.16521957660452746, 'method': 'leiden', 'dist_metric': 'euclidean', 'louv_clustering_imp': 'igraph', 'leid_clustering_imp': 'leidenalg'}. Best is trial 204 with value: 0.23549598255204274.\n",
      "[I 2025-08-07 15:34:44,833] Trial 381 finished with value: 0.17056770573295751 and parameters: {'n_neighbors': 175, 'dim_reduction': 'pca', 'pca_solver': 'arpack', 'pca_components': 58, 'resolution': 0.12945496373471546, 'method': 'leiden', 'dist_metric': 'euclidean', 'louv_clustering_imp': 'igraph', 'leid_clustering_imp': 'leidenalg'}. Best is trial 204 with value: 0.23549598255204274.\n",
      "[I 2025-08-07 15:34:50,121] Trial 382 finished with value: -1.0 and parameters: {'n_neighbors': 180, 'dim_reduction': 'pca', 'pca_solver': 'arpack', 'pca_components': 61, 'resolution': 0.10278265845696781, 'method': 'leiden', 'dist_metric': 'euclidean', 'louv_clustering_imp': 'igraph', 'leid_clustering_imp': 'leidenalg'}. Best is trial 204 with value: 0.23549598255204274.\n",
      "[I 2025-08-07 15:34:55,641] Trial 383 finished with value: 0.23549598255204274 and parameters: {'n_neighbors': 168, 'dim_reduction': 'pca', 'pca_solver': 'arpack', 'pca_components': 39, 'resolution': 0.10016724045125369, 'method': 'leiden', 'dist_metric': 'euclidean', 'louv_clustering_imp': 'igraph', 'leid_clustering_imp': 'leidenalg'}. Best is trial 204 with value: 0.23549598255204274.\n",
      "[I 2025-08-07 15:35:02,182] Trial 384 finished with value: 0.13863623464482563 and parameters: {'n_neighbors': 159, 'dim_reduction': 'pca', 'pca_solver': 'arpack', 'pca_components': 40, 'resolution': 0.1911921916391001, 'method': 'leiden', 'dist_metric': 'euclidean', 'louv_clustering_imp': 'igraph', 'leid_clustering_imp': 'leidenalg'}. Best is trial 204 with value: 0.23549598255204274.\n",
      "[I 2025-08-07 15:35:03,619] Trial 385 finished with value: 0.1626471730133024 and parameters: {'n_neighbors': 168, 'dim_reduction': 'pca', 'pca_solver': 'arpack', 'pca_components': 38, 'resolution': 0.1570490093153768, 'method': 'leiden', 'dist_metric': 'euclidean', 'louv_clustering_imp': 'igraph', 'leid_clustering_imp': 'igraph'}. Best is trial 204 with value: 0.23549598255204274.\n",
      "[I 2025-08-07 15:35:09,822] Trial 386 finished with value: 0.15828813724216917 and parameters: {'n_neighbors': 165, 'dim_reduction': 'pca', 'pca_solver': 'arpack', 'pca_components': 40, 'resolution': 0.13284106432705942, 'method': 'leiden', 'dist_metric': 'euclidean', 'louv_clustering_imp': 'igraph', 'leid_clustering_imp': 'leidenalg'}. Best is trial 204 with value: 0.23549598255204274.\n",
      "[I 2025-08-07 15:35:16,279] Trial 387 finished with value: 0.170515974888479 and parameters: {'n_neighbors': 161, 'dim_reduction': 'pca', 'pca_solver': 'arpack', 'pca_components': 43, 'resolution': 0.13610737965390574, 'method': 'leiden', 'dist_metric': 'euclidean', 'louv_clustering_imp': 'igraph', 'leid_clustering_imp': 'leidenalg'}. Best is trial 204 with value: 0.23549598255204274.\n",
      "[I 2025-08-07 15:35:21,558] Trial 388 finished with value: 0.1381767968323264 and parameters: {'n_neighbors': 171, 'dim_reduction': 'pca', 'pca_solver': 'arpack', 'pca_components': 45, 'resolution': 0.22843032213575376, 'method': 'leiden', 'dist_metric': 'euclidean', 'louv_clustering_imp': 'igraph', 'leid_clustering_imp': 'leidenalg'}. Best is trial 204 with value: 0.23549598255204274.\n",
      "[I 2025-08-07 15:35:26,473] Trial 389 finished with value: -1.0 and parameters: {'n_neighbors': 167, 'dim_reduction': 'pca', 'pca_solver': 'arpack', 'pca_components': 39, 'resolution': 0.10009601524191389, 'method': 'leiden', 'dist_metric': 'euclidean', 'louv_clustering_imp': 'igraph', 'leid_clustering_imp': 'leidenalg'}. Best is trial 204 with value: 0.23549598255204274.\n",
      "[I 2025-08-07 15:35:32,196] Trial 390 finished with value: 0.14144305138430854 and parameters: {'n_neighbors': 175, 'dim_reduction': 'pca', 'pca_solver': 'arpack', 'pca_components': 55, 'resolution': 0.1804745425273011, 'method': 'leiden', 'dist_metric': 'euclidean', 'louv_clustering_imp': 'igraph', 'leid_clustering_imp': 'leidenalg'}. Best is trial 204 with value: 0.23549598255204274.\n",
      "[I 2025-08-07 15:35:37,858] Trial 391 finished with value: 0.16114745511957196 and parameters: {'n_neighbors': 158, 'dim_reduction': 'pca', 'pca_solver': 'arpack', 'pca_components': 42, 'resolution': 0.13570995265542798, 'method': 'leiden', 'dist_metric': 'euclidean', 'louv_clustering_imp': 'igraph', 'leid_clustering_imp': 'leidenalg'}. Best is trial 204 with value: 0.23549598255204274.\n",
      "[I 2025-08-07 15:35:43,483] Trial 392 finished with value: 0.1450577026875726 and parameters: {'n_neighbors': 154, 'dim_reduction': 'pca', 'pca_solver': 'arpack', 'pca_components': 49, 'resolution': 0.17201168889500257, 'method': 'leiden', 'dist_metric': 'euclidean', 'louv_clustering_imp': 'igraph', 'leid_clustering_imp': 'leidenalg'}. Best is trial 204 with value: 0.23549598255204274.\n",
      "[I 2025-08-07 15:35:48,814] Trial 393 finished with value: -1.0 and parameters: {'n_neighbors': 163, 'dim_reduction': 'raw', 'pca_solver': 'arpack', 'pca_components': 53, 'resolution': 0.10181033074538823, 'method': 'leiden', 'dist_metric': 'euclidean', 'louv_clustering_imp': 'igraph', 'leid_clustering_imp': 'leidenalg'}. Best is trial 204 with value: 0.23549598255204274.\n",
      "[I 2025-08-07 15:35:55,101] Trial 394 finished with value: 0.16165890815058884 and parameters: {'n_neighbors': 170, 'dim_reduction': 'pca', 'pca_solver': 'arpack', 'pca_components': 57, 'resolution': 0.13506245119828086, 'method': 'leiden', 'dist_metric': 'euclidean', 'louv_clustering_imp': 'igraph', 'leid_clustering_imp': 'leidenalg'}. Best is trial 204 with value: 0.23549598255204274.\n",
      "[I 2025-08-07 15:36:02,969] Trial 395 finished with value: 0.14665545593393248 and parameters: {'n_neighbors': 179, 'dim_reduction': 'pca', 'pca_solver': 'randomized', 'pca_components': 63, 'resolution': 0.20614855691955708, 'method': 'leiden', 'dist_metric': 'euclidean', 'louv_clustering_imp': 'igraph', 'leid_clustering_imp': 'leidenalg'}. Best is trial 204 with value: 0.23549598255204274.\n",
      "[I 2025-08-07 15:36:10,558] Trial 396 finished with value: 0.1516129950152215 and parameters: {'n_neighbors': 166, 'dim_reduction': 'pca', 'pca_solver': 'arpack', 'pca_components': 59, 'resolution': 0.1720150346076046, 'method': 'leiden', 'dist_metric': 'euclidean', 'louv_clustering_imp': 'igraph', 'leid_clustering_imp': 'leidenalg'}. Best is trial 204 with value: 0.23549598255204274.\n",
      "[I 2025-08-07 15:36:15,765] Trial 397 finished with value: -1.0 and parameters: {'n_neighbors': 173, 'dim_reduction': 'pca', 'pca_solver': 'arpack', 'pca_components': 46, 'resolution': 0.10087884490460959, 'method': 'leiden', 'dist_metric': 'euclidean', 'louv_clustering_imp': 'igraph', 'leid_clustering_imp': 'leidenalg'}. Best is trial 204 with value: 0.23549598255204274.\n",
      "[I 2025-08-07 15:36:21,339] Trial 398 finished with value: 0.15860726303386716 and parameters: {'n_neighbors': 162, 'dim_reduction': 'pca', 'pca_solver': 'arpack', 'pca_components': 56, 'resolution': 0.13424358261351216, 'method': 'leiden', 'dist_metric': 'euclidean', 'louv_clustering_imp': 'igraph', 'leid_clustering_imp': 'leidenalg'}. Best is trial 204 with value: 0.23549598255204274.\n",
      "[I 2025-08-07 15:36:28,755] Trial 399 finished with value: 0.15881064741279774 and parameters: {'n_neighbors': 169, 'dim_reduction': 'pca', 'pca_solver': 'arpack', 'pca_components': 69, 'resolution': 0.16215916636168407, 'method': 'leiden', 'dist_metric': 'euclidean', 'louv_clustering_imp': 'igraph', 'leid_clustering_imp': 'leidenalg'}. Best is trial 204 with value: 0.23549598255204274.\n",
      "[I 2025-08-07 15:36:36,908] Trial 400 finished with value: 0.061113901628339205 and parameters: {'n_neighbors': 175, 'dim_reduction': 'pca', 'pca_solver': 'arpack', 'pca_components': 59, 'resolution': 1.2805368502100576, 'method': 'leiden', 'dist_metric': 'euclidean', 'louv_clustering_imp': 'igraph', 'leid_clustering_imp': 'leidenalg'}. Best is trial 204 with value: 0.23549598255204274.\n",
      "[I 2025-08-07 15:36:41,968] Trial 401 finished with value: -1.0 and parameters: {'n_neighbors': 182, 'dim_reduction': 'pca', 'pca_solver': 'arpack', 'pca_components': 65, 'resolution': 0.10057032385207357, 'method': 'leiden', 'dist_metric': 'euclidean', 'louv_clustering_imp': 'igraph', 'leid_clustering_imp': 'leidenalg'}. Best is trial 204 with value: 0.23549598255204274.\n",
      "[I 2025-08-07 15:36:48,607] Trial 402 finished with value: 0.16673735545612675 and parameters: {'n_neighbors': 166, 'dim_reduction': 'pca', 'pca_solver': 'arpack', 'pca_components': 62, 'resolution': 0.1459180929268005, 'method': 'leiden', 'dist_metric': 'euclidean', 'louv_clustering_imp': 'igraph', 'leid_clustering_imp': 'leidenalg'}. Best is trial 204 with value: 0.23549598255204274.\n",
      "[I 2025-08-07 15:36:55,580] Trial 403 finished with value: 0.13828945587011715 and parameters: {'n_neighbors': 157, 'dim_reduction': 'pca', 'pca_solver': 'arpack', 'pca_components': 60, 'resolution': 0.22828774583326178, 'method': 'leiden', 'dist_metric': 'euclidean', 'louv_clustering_imp': 'igraph', 'leid_clustering_imp': 'leidenalg'}. Best is trial 204 with value: 0.23549598255204274.\n",
      "[I 2025-08-07 15:36:57,144] Trial 404 finished with value: -1.0 and parameters: {'n_neighbors': 171, 'dim_reduction': 'pca', 'pca_solver': 'arpack', 'pca_components': 44, 'resolution': 0.10016874259663068, 'method': 'leiden', 'dist_metric': 'euclidean', 'louv_clustering_imp': 'igraph', 'leid_clustering_imp': 'igraph'}. Best is trial 204 with value: 0.23549598255204274.\n",
      "[I 2025-08-07 15:37:04,828] Trial 405 finished with value: 0.14666792608642132 and parameters: {'n_neighbors': 177, 'dim_reduction': 'pca', 'pca_solver': 'arpack', 'pca_components': 50, 'resolution': 0.1894299432945769, 'method': 'leiden', 'dist_metric': 'euclidean', 'louv_clustering_imp': 'igraph', 'leid_clustering_imp': 'leidenalg'}. Best is trial 204 with value: 0.23549598255204274.\n",
      "[I 2025-08-07 15:37:11,615] Trial 406 finished with value: 0.17058914805192743 and parameters: {'n_neighbors': 161, 'dim_reduction': 'pca', 'pca_solver': 'arpack', 'pca_components': 63, 'resolution': 0.13914333521122857, 'method': 'leiden', 'dist_metric': 'euclidean', 'louv_clustering_imp': 'igraph', 'leid_clustering_imp': 'leidenalg'}. Best is trial 204 with value: 0.23549598255204274.\n",
      "[I 2025-08-07 15:37:18,677] Trial 407 finished with value: 0.17056770573295751 and parameters: {'n_neighbors': 165, 'dim_reduction': 'pca', 'pca_solver': 'arpack', 'pca_components': 58, 'resolution': 0.1347958153838767, 'method': 'leiden', 'dist_metric': 'euclidean', 'louv_clustering_imp': 'igraph', 'leid_clustering_imp': 'leidenalg'}. Best is trial 204 with value: 0.23549598255204274.\n",
      "[I 2025-08-07 15:37:23,459] Trial 408 finished with value: -1.0 and parameters: {'n_neighbors': 172, 'dim_reduction': 'pca', 'pca_solver': 'arpack', 'pca_components': 61, 'resolution': 0.10019736157997604, 'method': 'leiden', 'dist_metric': 'euclidean', 'louv_clustering_imp': 'igraph', 'leid_clustering_imp': 'leidenalg'}. Best is trial 204 with value: 0.23549598255204274.\n",
      "[I 2025-08-07 15:37:30,150] Trial 409 finished with value: 0.16404511802744468 and parameters: {'n_neighbors': 169, 'dim_reduction': 'pca', 'pca_solver': 'arpack', 'pca_components': 47, 'resolution': 0.17386848736207136, 'method': 'leiden', 'dist_metric': 'euclidean', 'louv_clustering_imp': 'igraph', 'leid_clustering_imp': 'leidenalg'}. Best is trial 204 with value: 0.23549598255204274.\n",
      "[I 2025-08-07 15:37:35,233] Trial 410 finished with value: -1.0 and parameters: {'n_neighbors': 177, 'dim_reduction': 'pca', 'pca_solver': 'arpack', 'pca_components': 75, 'resolution': 0.10039653163408835, 'method': 'leiden', 'dist_metric': 'euclidean', 'louv_clustering_imp': 'igraph', 'leid_clustering_imp': 'leidenalg'}. Best is trial 204 with value: 0.23549598255204274.\n",
      "[I 2025-08-07 15:37:43,044] Trial 411 finished with value: 0.05179986587676146 and parameters: {'n_neighbors': 163, 'dim_reduction': 'pca', 'pca_solver': 'arpack', 'pca_components': 56, 'resolution': 1.6782138680678609, 'method': 'leiden', 'dist_metric': 'euclidean', 'louv_clustering_imp': 'igraph', 'leid_clustering_imp': 'leidenalg'}. Best is trial 204 with value: 0.23549598255204274.\n",
      "[I 2025-08-07 15:37:52,540] Trial 412 finished with value: 0.15205947968535022 and parameters: {'n_neighbors': 167, 'dim_reduction': 'raw', 'pca_solver': 'arpack', 'pca_components': 66, 'resolution': 0.20121382704851284, 'method': 'leiden', 'dist_metric': 'euclidean', 'louv_clustering_imp': 'igraph', 'leid_clustering_imp': 'leidenalg'}. Best is trial 204 with value: 0.23549598255204274.\n",
      "[I 2025-08-07 15:37:58,350] Trial 413 finished with value: 0.17011148592297573 and parameters: {'n_neighbors': 173, 'dim_reduction': 'pca', 'pca_solver': 'arpack', 'pca_components': 41, 'resolution': 0.15983713956190582, 'method': 'leiden', 'dist_metric': 'euclidean', 'louv_clustering_imp': 'igraph', 'leid_clustering_imp': 'leidenalg'}. Best is trial 204 with value: 0.23549598255204274.\n",
      "[I 2025-08-07 15:38:04,385] Trial 414 finished with value: 0.15819724189332376 and parameters: {'n_neighbors': 155, 'dim_reduction': 'pca', 'pca_solver': 'arpack', 'pca_components': 54, 'resolution': 0.133134256059547, 'method': 'leiden', 'dist_metric': 'euclidean', 'louv_clustering_imp': 'igraph', 'leid_clustering_imp': 'leidenalg'}. Best is trial 204 with value: 0.23549598255204274.\n",
      "[I 2025-08-07 15:38:11,271] Trial 415 finished with value: 0.13828945587011715 and parameters: {'n_neighbors': 160, 'dim_reduction': 'pca', 'pca_solver': 'arpack', 'pca_components': 60, 'resolution': 0.24452663172312905, 'method': 'leiden', 'dist_metric': 'euclidean', 'louv_clustering_imp': 'igraph', 'leid_clustering_imp': 'leidenalg'}. Best is trial 204 with value: 0.23549598255204274.\n",
      "[I 2025-08-07 15:38:13,668] Trial 416 finished with value: 0.14350405847416567 and parameters: {'n_neighbors': 36, 'dim_reduction': 'pca', 'pca_solver': 'randomized', 'pca_components': 63, 'resolution': 0.13299582748147046, 'method': 'leiden', 'dist_metric': 'euclidean', 'louv_clustering_imp': 'igraph', 'leid_clustering_imp': 'leidenalg'}. Best is trial 204 with value: 0.23549598255204274.\n",
      "[I 2025-08-07 15:38:23,990] Trial 417 finished with value: 0.17078676680696633 and parameters: {'n_neighbors': 181, 'dim_reduction': 'pca', 'pca_solver': 'arpack', 'pca_components': 59, 'resolution': 0.1645547444733522, 'method': 'leiden', 'dist_metric': 'euclidean', 'louv_clustering_imp': 'igraph', 'leid_clustering_imp': 'leidenalg'}. Best is trial 204 with value: 0.23549598255204274.\n",
      "[I 2025-08-07 15:38:30,839] Trial 418 finished with value: 0.16616147630073314 and parameters: {'n_neighbors': 169, 'dim_reduction': 'pca', 'pca_solver': 'arpack', 'pca_components': 57, 'resolution': 0.13309664625915937, 'method': 'leiden', 'dist_metric': 'euclidean', 'louv_clustering_imp': 'igraph', 'leid_clustering_imp': 'leidenalg'}. Best is trial 204 with value: 0.23549598255204274.\n",
      "[I 2025-08-07 15:38:35,859] Trial 419 finished with value: -1.0 and parameters: {'n_neighbors': 174, 'dim_reduction': 'pca', 'pca_solver': 'arpack', 'pca_components': 61, 'resolution': 0.1010196321473044, 'method': 'leiden', 'dist_metric': 'euclidean', 'louv_clustering_imp': 'igraph', 'leid_clustering_imp': 'leidenalg'}. Best is trial 204 with value: 0.23549598255204274.\n",
      "[I 2025-08-07 15:38:41,978] Trial 420 finished with value: 0.147159752658285 and parameters: {'n_neighbors': 165, 'dim_reduction': 'pca', 'pca_solver': 'arpack', 'pca_components': 38, 'resolution': 0.20053396716048438, 'method': 'leiden', 'dist_metric': 'euclidean', 'louv_clustering_imp': 'igraph', 'leid_clustering_imp': 'leidenalg'}. Best is trial 204 with value: 0.23549598255204274.\n",
      "[I 2025-08-07 15:38:48,412] Trial 421 finished with value: 0.17056770573295751 and parameters: {'n_neighbors': 179, 'dim_reduction': 'pca', 'pca_solver': 'arpack', 'pca_components': 52, 'resolution': 0.16372761882654746, 'method': 'leiden', 'dist_metric': 'euclidean', 'louv_clustering_imp': 'igraph', 'leid_clustering_imp': 'leidenalg'}. Best is trial 204 with value: 0.23549598255204274.\n",
      "[I 2025-08-07 15:38:54,413] Trial 422 finished with value: 0.15878287876233818 and parameters: {'n_neighbors': 158, 'dim_reduction': 'pca', 'pca_solver': 'arpack', 'pca_components': 62, 'resolution': 0.1359825614864095, 'method': 'leiden', 'dist_metric': 'euclidean', 'louv_clustering_imp': 'igraph', 'leid_clustering_imp': 'leidenalg'}. Best is trial 204 with value: 0.23549598255204274.\n",
      "[I 2025-08-07 15:39:00,895] Trial 423 finished with value: 0.1514049417106664 and parameters: {'n_neighbors': 170, 'dim_reduction': 'pca', 'pca_solver': 'arpack', 'pca_components': 64, 'resolution': 0.197921805174957, 'method': 'leiden', 'dist_metric': 'euclidean', 'louv_clustering_imp': 'igraph', 'leid_clustering_imp': 'leidenalg'}. Best is trial 204 with value: 0.23549598255204274.\n",
      "[I 2025-08-07 15:39:02,632] Trial 424 finished with value: -1.0 and parameters: {'n_neighbors': 176, 'dim_reduction': 'pca', 'pca_solver': 'arpack', 'pca_components': 58, 'resolution': 0.1013823762859723, 'method': 'leiden', 'dist_metric': 'euclidean', 'louv_clustering_imp': 'igraph', 'leid_clustering_imp': 'igraph'}. Best is trial 204 with value: 0.23549598255204274.\n",
      "[I 2025-08-07 15:39:10,481] Trial 425 finished with value: 0.16445997383086872 and parameters: {'n_neighbors': 162, 'dim_reduction': 'pca', 'pca_solver': 'arpack', 'pca_components': 48, 'resolution': 0.1564640221897084, 'method': 'leiden', 'dist_metric': 'euclidean', 'louv_clustering_imp': 'igraph', 'leid_clustering_imp': 'leidenalg'}. Best is trial 204 with value: 0.23549598255204274.\n",
      "[I 2025-08-07 15:39:18,060] Trial 426 finished with value: 0.08313489970084068 and parameters: {'n_neighbors': 166, 'dim_reduction': 'pca', 'pca_solver': 'arpack', 'pca_components': 45, 'resolution': 0.9398109748278978, 'method': 'leiden', 'dist_metric': 'euclidean', 'louv_clustering_imp': 'igraph', 'leid_clustering_imp': 'leidenalg'}. Best is trial 204 with value: 0.23549598255204274.\n",
      "[I 2025-08-07 15:39:24,152] Trial 427 finished with value: -1.0 and parameters: {'n_neighbors': 174, 'dim_reduction': 'pca', 'pca_solver': 'arpack', 'pca_components': 60, 'resolution': 0.10041585256436544, 'method': 'leiden', 'dist_metric': 'euclidean', 'louv_clustering_imp': 'igraph', 'leid_clustering_imp': 'leidenalg'}. Best is trial 204 with value: 0.23549598255204274.\n",
      "[I 2025-08-07 15:39:31,239] Trial 428 finished with value: 0.17087927518430432 and parameters: {'n_neighbors': 170, 'dim_reduction': 'pca', 'pca_solver': 'arpack', 'pca_components': 65, 'resolution': 0.13611552430725715, 'method': 'leiden', 'dist_metric': 'euclidean', 'louv_clustering_imp': 'igraph', 'leid_clustering_imp': 'leidenalg'}. Best is trial 204 with value: 0.23549598255204274.\n",
      "[I 2025-08-07 15:39:37,774] Trial 429 finished with value: 0.15477715702619582 and parameters: {'n_neighbors': 164, 'dim_reduction': 'pca', 'pca_solver': 'arpack', 'pca_components': 50, 'resolution': 0.17204954564734767, 'method': 'leiden', 'dist_metric': 'euclidean', 'louv_clustering_imp': 'igraph', 'leid_clustering_imp': 'leidenalg'}. Best is trial 204 with value: 0.23549598255204274.\n",
      "[I 2025-08-07 15:39:42,365] Trial 430 finished with value: -1.0 and parameters: {'n_neighbors': 183, 'dim_reduction': 'pca', 'pca_solver': 'arpack', 'pca_components': 55, 'resolution': 0.10028718506415997, 'method': 'leiden', 'dist_metric': 'euclidean', 'louv_clustering_imp': 'igraph', 'leid_clustering_imp': 'leidenalg'}. Best is trial 204 with value: 0.23549598255204274.\n",
      "[I 2025-08-07 15:39:48,586] Trial 431 finished with value: 0.1702106166904574 and parameters: {'n_neighbors': 168, 'dim_reduction': 'raw', 'pca_solver': 'arpack', 'pca_components': 62, 'resolution': 0.13610758487451036, 'method': 'leiden', 'dist_metric': 'euclidean', 'louv_clustering_imp': 'igraph', 'leid_clustering_imp': 'leidenalg'}. Best is trial 204 with value: 0.23549598255204274.\n",
      "[I 2025-08-07 15:39:56,965] Trial 432 finished with value: 0.08828887126037319 and parameters: {'n_neighbors': 177, 'dim_reduction': 'pca', 'pca_solver': 'arpack', 'pca_components': 43, 'resolution': 0.5366640980485651, 'method': 'leiden', 'dist_metric': 'euclidean', 'louv_clustering_imp': 'igraph', 'leid_clustering_imp': 'leidenalg'}. Best is trial 204 with value: 0.23549598255204274.\n",
      "[I 2025-08-07 15:40:04,834] Trial 433 finished with value: 0.14652000760096334 and parameters: {'n_neighbors': 158, 'dim_reduction': 'pca', 'pca_solver': 'arpack', 'pca_components': 59, 'resolution': 0.22859208061104294, 'method': 'leiden', 'dist_metric': 'euclidean', 'louv_clustering_imp': 'igraph', 'leid_clustering_imp': 'leidenalg'}. Best is trial 204 with value: 0.23549598255204274.\n",
      "[I 2025-08-07 15:40:11,790] Trial 434 finished with value: 0.16165890815058884 and parameters: {'n_neighbors': 172, 'dim_reduction': 'pca', 'pca_solver': 'arpack', 'pca_components': 57, 'resolution': 0.172571002786197, 'method': 'leiden', 'dist_metric': 'euclidean', 'louv_clustering_imp': 'igraph', 'leid_clustering_imp': 'leidenalg'}. Best is trial 204 with value: 0.23549598255204274.\n",
      "[I 2025-08-07 15:40:17,190] Trial 435 finished with value: 0.17078676680696633 and parameters: {'n_neighbors': 154, 'dim_reduction': 'pca', 'pca_solver': 'arpack', 'pca_components': 61, 'resolution': 0.14466469693018114, 'method': 'leiden', 'dist_metric': 'euclidean', 'louv_clustering_imp': 'igraph', 'leid_clustering_imp': 'leidenalg'}. Best is trial 204 with value: 0.23549598255204274.\n",
      "[I 2025-08-07 15:40:23,843] Trial 436 finished with value: 0.1514049417106664 and parameters: {'n_neighbors': 162, 'dim_reduction': 'pca', 'pca_solver': 'randomized', 'pca_components': 64, 'resolution': 0.1976891381097922, 'method': 'leiden', 'dist_metric': 'euclidean', 'louv_clustering_imp': 'igraph', 'leid_clustering_imp': 'leidenalg'}. Best is trial 204 with value: 0.23549598255204274.\n",
      "[I 2025-08-07 15:40:29,174] Trial 437 finished with value: -1.0 and parameters: {'n_neighbors': 167, 'dim_reduction': 'pca', 'pca_solver': 'arpack', 'pca_components': 67, 'resolution': 0.10071581113324912, 'method': 'leiden', 'dist_metric': 'euclidean', 'louv_clustering_imp': 'igraph', 'leid_clustering_imp': 'leidenalg'}. Best is trial 204 with value: 0.23549598255204274.\n",
      "[I 2025-08-07 15:40:35,052] Trial 438 finished with value: 0.17026270632787266 and parameters: {'n_neighbors': 174, 'dim_reduction': 'pca', 'pca_solver': 'arpack', 'pca_components': 58, 'resolution': 0.13358758081567002, 'method': 'leiden', 'dist_metric': 'euclidean', 'louv_clustering_imp': 'igraph', 'leid_clustering_imp': 'leidenalg'}. Best is trial 204 with value: 0.23549598255204274.\n",
      "[I 2025-08-07 15:40:39,564] Trial 439 finished with value: -1.0 and parameters: {'n_neighbors': 170, 'dim_reduction': 'pca', 'pca_solver': 'arpack', 'pca_components': 62, 'resolution': 0.10026537520568476, 'method': 'leiden', 'dist_metric': 'euclidean', 'louv_clustering_imp': 'igraph', 'leid_clustering_imp': 'leidenalg'}. Best is trial 204 with value: 0.23549598255204274.\n",
      "[I 2025-08-07 15:40:46,002] Trial 440 finished with value: 0.17078676680696633 and parameters: {'n_neighbors': 179, 'dim_reduction': 'pca', 'pca_solver': 'arpack', 'pca_components': 60, 'resolution': 0.16900595391086293, 'method': 'leiden', 'dist_metric': 'euclidean', 'louv_clustering_imp': 'igraph', 'leid_clustering_imp': 'leidenalg'}. Best is trial 204 with value: 0.23549598255204274.\n",
      "[I 2025-08-07 15:40:52,012] Trial 441 finished with value: 0.15860726303386716 and parameters: {'n_neighbors': 164, 'dim_reduction': 'pca', 'pca_solver': 'arpack', 'pca_components': 54, 'resolution': 0.13390689443570775, 'method': 'leiden', 'dist_metric': 'euclidean', 'louv_clustering_imp': 'igraph', 'leid_clustering_imp': 'leidenalg'}. Best is trial 204 with value: 0.23549598255204274.\n",
      "[I 2025-08-07 15:40:58,260] Trial 442 finished with value: 0.13798219538585887 and parameters: {'n_neighbors': 168, 'dim_reduction': 'pca', 'pca_solver': 'arpack', 'pca_components': 46, 'resolution': 0.2049556884766313, 'method': 'leiden', 'dist_metric': 'euclidean', 'louv_clustering_imp': 'igraph', 'leid_clustering_imp': 'leidenalg'}. Best is trial 204 with value: 0.23549598255204274.\n",
      "[I 2025-08-07 15:41:04,427] Trial 443 finished with value: 0.16165773980462092 and parameters: {'n_neighbors': 172, 'dim_reduction': 'pca', 'pca_solver': 'arpack', 'pca_components': 40, 'resolution': 0.13353640275345885, 'method': 'leiden', 'dist_metric': 'euclidean', 'louv_clustering_imp': 'igraph', 'leid_clustering_imp': 'leidenalg'}. Best is trial 204 with value: 0.23549598255204274.\n",
      "[I 2025-08-07 15:41:05,182] Trial 444 finished with value: 0.1554106740941879 and parameters: {'n_neighbors': 47, 'dim_reduction': 'pca', 'pca_solver': 'arpack', 'pca_components': 59, 'resolution': 0.10003609291266859, 'method': 'leiden', 'dist_metric': 'euclidean', 'louv_clustering_imp': 'igraph', 'leid_clustering_imp': 'igraph'}. Best is trial 204 with value: 0.23549598255204274.\n",
      "[I 2025-08-07 15:41:11,990] Trial 445 finished with value: 0.15135264643763383 and parameters: {'n_neighbors': 161, 'dim_reduction': 'pca', 'pca_solver': 'arpack', 'pca_components': 63, 'resolution': 0.16638201436523162, 'method': 'leiden', 'dist_metric': 'euclidean', 'louv_clustering_imp': 'igraph', 'leid_clustering_imp': 'leidenalg'}. Best is trial 204 with value: 0.23549598255204274.\n",
      "[I 2025-08-07 15:41:19,666] Trial 446 finished with value: 0.13808029804589825 and parameters: {'n_neighbors': 176, 'dim_reduction': 'pca', 'pca_solver': 'arpack', 'pca_components': 42, 'resolution': 0.2460646623181319, 'method': 'leiden', 'dist_metric': 'euclidean', 'louv_clustering_imp': 'igraph', 'leid_clustering_imp': 'leidenalg'}. Best is trial 204 with value: 0.23549598255204274.\n",
      "[I 2025-08-07 15:41:25,620] Trial 447 finished with value: 0.16616147630073314 and parameters: {'n_neighbors': 166, 'dim_reduction': 'pca', 'pca_solver': 'arpack', 'pca_components': 57, 'resolution': 0.1366226722119986, 'method': 'leiden', 'dist_metric': 'euclidean', 'louv_clustering_imp': 'igraph', 'leid_clustering_imp': 'leidenalg'}. Best is trial 204 with value: 0.23549598255204274.\n",
      "[I 2025-08-07 15:41:32,855] Trial 448 finished with value: 0.1613270659684663 and parameters: {'n_neighbors': 180, 'dim_reduction': 'pca', 'pca_solver': 'arpack', 'pca_components': 48, 'resolution': 0.1709599404571553, 'method': 'leiden', 'dist_metric': 'euclidean', 'louv_clustering_imp': 'igraph', 'leid_clustering_imp': 'leidenalg'}. Best is trial 204 with value: 0.23549598255204274.\n",
      "[I 2025-08-07 15:41:39,871] Trial 449 finished with value: 0.04877438763412978 and parameters: {'n_neighbors': 157, 'dim_reduction': 'pca', 'pca_solver': 'arpack', 'pca_components': 61, 'resolution': 1.4020943844815126, 'method': 'leiden', 'dist_metric': 'euclidean', 'louv_clustering_imp': 'igraph', 'leid_clustering_imp': 'leidenalg'}. Best is trial 204 with value: 0.23549598255204274.\n",
      "[I 2025-08-07 15:41:45,990] Trial 450 finished with value: 0.15837178032583693 and parameters: {'n_neighbors': 174, 'dim_reduction': 'pca', 'pca_solver': 'arpack', 'pca_components': 60, 'resolution': 0.13838999565050078, 'method': 'leiden', 'dist_metric': 'euclidean', 'louv_clustering_imp': 'igraph', 'leid_clustering_imp': 'leidenalg'}. Best is trial 204 with value: 0.23549598255204274.\n",
      "[I 2025-08-07 15:41:52,691] Trial 451 finished with value: 0.15154307858570487 and parameters: {'n_neighbors': 160, 'dim_reduction': 'raw', 'pca_solver': 'arpack', 'pca_components': 56, 'resolution': 0.2058471605566405, 'method': 'leiden', 'dist_metric': 'euclidean', 'louv_clustering_imp': 'igraph', 'leid_clustering_imp': 'leidenalg'}. Best is trial 204 with value: 0.23549598255204274.\n",
      "[I 2025-08-07 15:41:59,456] Trial 452 finished with value: 0.16675228533008649 and parameters: {'n_neighbors': 153, 'dim_reduction': 'pca', 'pca_solver': 'arpack', 'pca_components': 52, 'resolution': 0.13450646996281304, 'method': 'leiden', 'dist_metric': 'euclidean', 'louv_clustering_imp': 'igraph', 'leid_clustering_imp': 'leidenalg'}. Best is trial 204 with value: 0.23549598255204274.\n",
      "[I 2025-08-07 15:42:04,740] Trial 453 finished with value: -1.0 and parameters: {'n_neighbors': 171, 'dim_reduction': 'pca', 'pca_solver': 'arpack', 'pca_components': 65, 'resolution': 0.1003128563250695, 'method': 'leiden', 'dist_metric': 'euclidean', 'louv_clustering_imp': 'igraph', 'leid_clustering_imp': 'leidenalg'}. Best is trial 204 with value: 0.23549598255204274.\n",
      "[I 2025-08-07 15:42:11,208] Trial 454 finished with value: 0.14969425238180253 and parameters: {'n_neighbors': 164, 'dim_reduction': 'pca', 'pca_solver': 'arpack', 'pca_components': 44, 'resolution': 0.17420656220876773, 'method': 'leiden', 'dist_metric': 'euclidean', 'louv_clustering_imp': 'igraph', 'leid_clustering_imp': 'leidenalg'}. Best is trial 204 with value: 0.23549598255204274.\n",
      "[I 2025-08-07 15:42:18,925] Trial 455 finished with value: 0.17071644837457087 and parameters: {'n_neighbors': 184, 'dim_reduction': 'pca', 'pca_solver': 'arpack', 'pca_components': 63, 'resolution': 0.1326968189762424, 'method': 'leiden', 'dist_metric': 'euclidean', 'louv_clustering_imp': 'igraph', 'leid_clustering_imp': 'leidenalg'}. Best is trial 204 with value: 0.23549598255204274.\n",
      "[I 2025-08-07 15:42:25,658] Trial 456 finished with value: 0.16439189413381966 and parameters: {'n_neighbors': 167, 'dim_reduction': 'pca', 'pca_solver': 'randomized', 'pca_components': 59, 'resolution': 0.16338383778512444, 'method': 'leiden', 'dist_metric': 'euclidean', 'louv_clustering_imp': 'igraph', 'leid_clustering_imp': 'leidenalg'}. Best is trial 204 with value: 0.23549598255204274.\n",
      "[I 2025-08-07 15:42:30,678] Trial 457 finished with value: -1.0 and parameters: {'n_neighbors': 176, 'dim_reduction': 'pca', 'pca_solver': 'arpack', 'pca_components': 62, 'resolution': 0.1003231491259273, 'method': 'leiden', 'dist_metric': 'euclidean', 'louv_clustering_imp': 'igraph', 'leid_clustering_imp': 'leidenalg'}. Best is trial 204 with value: 0.23549598255204274.\n",
      "[I 2025-08-07 15:42:40,402] Trial 458 finished with value: 0.05444465261124416 and parameters: {'n_neighbors': 172, 'dim_reduction': 'pca', 'pca_solver': 'arpack', 'pca_components': 58, 'resolution': 1.7554783927890565, 'method': 'leiden', 'dist_metric': 'euclidean', 'louv_clustering_imp': 'igraph', 'leid_clustering_imp': 'leidenalg'}. Best is trial 204 with value: 0.23549598255204274.\n",
      "[I 2025-08-07 15:42:48,824] Trial 459 finished with value: 0.14930769457053306 and parameters: {'n_neighbors': 169, 'dim_reduction': 'pca', 'pca_solver': 'arpack', 'pca_components': 50, 'resolution': 0.2083857240191836, 'method': 'leiden', 'dist_metric': 'euclidean', 'louv_clustering_imp': 'igraph', 'leid_clustering_imp': 'leidenalg'}. Best is trial 204 with value: 0.23549598255204274.\n",
      "[I 2025-08-07 15:42:54,891] Trial 460 finished with value: 0.17075034468092284 and parameters: {'n_neighbors': 144, 'dim_reduction': 'pca', 'pca_solver': 'arpack', 'pca_components': 37, 'resolution': 0.10044971313431585, 'method': 'leiden', 'dist_metric': 'euclidean', 'louv_clustering_imp': 'igraph', 'leid_clustering_imp': 'leidenalg'}. Best is trial 204 with value: 0.23549598255204274.\n",
      "[I 2025-08-07 15:43:00,835] Trial 461 finished with value: 0.17078676680696633 and parameters: {'n_neighbors': 162, 'dim_reduction': 'pca', 'pca_solver': 'arpack', 'pca_components': 61, 'resolution': 0.13519762285368087, 'method': 'leiden', 'dist_metric': 'euclidean', 'louv_clustering_imp': 'igraph', 'leid_clustering_imp': 'leidenalg'}. Best is trial 204 with value: 0.23549598255204274.\n",
      "[I 2025-08-07 15:43:02,832] Trial 462 finished with value: 0.16980445880059566 and parameters: {'n_neighbors': 177, 'dim_reduction': 'pca', 'pca_solver': 'arpack', 'pca_components': 55, 'resolution': 0.1647851470208703, 'method': 'leiden', 'dist_metric': 'euclidean', 'louv_clustering_imp': 'igraph', 'leid_clustering_imp': 'igraph'}. Best is trial 204 with value: 0.23549598255204274.\n",
      "[I 2025-08-07 15:43:08,807] Trial 463 finished with value: 0.22377272379824212 and parameters: {'n_neighbors': 165, 'dim_reduction': 'pca', 'pca_solver': 'arpack', 'pca_components': 64, 'resolution': 0.10021137014582306, 'method': 'leiden', 'dist_metric': 'euclidean', 'louv_clustering_imp': 'igraph', 'leid_clustering_imp': 'leidenalg'}. Best is trial 204 with value: 0.23549598255204274.\n",
      "[I 2025-08-07 15:43:15,474] Trial 464 finished with value: 0.17016397059973923 and parameters: {'n_neighbors': 181, 'dim_reduction': 'pca', 'pca_solver': 'arpack', 'pca_components': 46, 'resolution': 0.14074880836441014, 'method': 'leiden', 'dist_metric': 'euclidean', 'louv_clustering_imp': 'igraph', 'leid_clustering_imp': 'leidenalg'}. Best is trial 204 with value: 0.23549598255204274.\n",
      "[I 2025-08-07 15:43:20,783] Trial 465 finished with value: 0.13808029804589825 and parameters: {'n_neighbors': 159, 'dim_reduction': 'pca', 'pca_solver': 'arpack', 'pca_components': 40, 'resolution': 0.18790809845541195, 'method': 'leiden', 'dist_metric': 'euclidean', 'louv_clustering_imp': 'igraph', 'leid_clustering_imp': 'leidenalg'}. Best is trial 204 with value: 0.23549598255204274.\n",
      "[I 2025-08-07 15:43:27,506] Trial 466 finished with value: 0.14663102860775773 and parameters: {'n_neighbors': 170, 'dim_reduction': 'pca', 'pca_solver': 'arpack', 'pca_components': 60, 'resolution': 0.24264267579045362, 'method': 'leiden', 'dist_metric': 'euclidean', 'louv_clustering_imp': 'igraph', 'leid_clustering_imp': 'leidenalg'}. Best is trial 204 with value: 0.23549598255204274.\n",
      "[I 2025-08-07 15:43:34,673] Trial 467 finished with value: 0.17075150923500446 and parameters: {'n_neighbors': 173, 'dim_reduction': 'pca', 'pca_solver': 'arpack', 'pca_components': 67, 'resolution': 0.14247868006792647, 'method': 'leiden', 'dist_metric': 'euclidean', 'louv_clustering_imp': 'igraph', 'leid_clustering_imp': 'leidenalg'}. Best is trial 204 with value: 0.23549598255204274.\n",
      "[I 2025-08-07 15:43:40,530] Trial 468 finished with value: 0.16616147630073314 and parameters: {'n_neighbors': 166, 'dim_reduction': 'pca', 'pca_solver': 'arpack', 'pca_components': 57, 'resolution': 0.1307015369083651, 'method': 'leiden', 'dist_metric': 'euclidean', 'louv_clustering_imp': 'igraph', 'leid_clustering_imp': 'leidenalg'}. Best is trial 204 with value: 0.23549598255204274.\n",
      "[I 2025-08-07 15:43:46,725] Trial 469 finished with value: 0.1709898148903841 and parameters: {'n_neighbors': 152, 'dim_reduction': 'raw', 'pca_solver': 'arpack', 'pca_components': 62, 'resolution': 0.17253969744723255, 'method': 'leiden', 'dist_metric': 'euclidean', 'louv_clustering_imp': 'igraph', 'leid_clustering_imp': 'leidenalg'}. Best is trial 204 with value: 0.23549598255204274.\n",
      "[I 2025-08-07 15:43:52,597] Trial 470 finished with value: 0.15819724189332376 and parameters: {'n_neighbors': 178, 'dim_reduction': 'pca', 'pca_solver': 'arpack', 'pca_components': 53, 'resolution': 0.1320748796524096, 'method': 'leiden', 'dist_metric': 'euclidean', 'louv_clustering_imp': 'igraph', 'leid_clustering_imp': 'leidenalg'}. Best is trial 204 with value: 0.23549598255204274.\n",
      "[I 2025-08-07 15:43:58,741] Trial 471 finished with value: 0.23484604948577148 and parameters: {'n_neighbors': 162, 'dim_reduction': 'pca', 'pca_solver': 'arpack', 'pca_components': 59, 'resolution': 0.10191586006974548, 'method': 'leiden', 'dist_metric': 'euclidean', 'louv_clustering_imp': 'igraph', 'leid_clustering_imp': 'leidenalg'}. Best is trial 204 with value: 0.23549598255204274.\n",
      "[I 2025-08-07 15:44:06,810] Trial 472 finished with value: 0.05252291872546722 and parameters: {'n_neighbors': 155, 'dim_reduction': 'pca', 'pca_solver': 'arpack', 'pca_components': 56, 'resolution': 1.5620832056420393, 'method': 'leiden', 'dist_metric': 'euclidean', 'louv_clustering_imp': 'igraph', 'leid_clustering_imp': 'leidenalg'}. Best is trial 204 with value: 0.23549598255204274.\n",
      "[I 2025-08-07 15:44:13,772] Trial 473 finished with value: 0.1496493491206139 and parameters: {'n_neighbors': 166, 'dim_reduction': 'pca', 'pca_solver': 'arpack', 'pca_components': 59, 'resolution': 0.19374896798320917, 'method': 'leiden', 'dist_metric': 'euclidean', 'louv_clustering_imp': 'igraph', 'leid_clustering_imp': 'leidenalg'}. Best is trial 204 with value: 0.23549598255204274.\n",
      "[I 2025-08-07 15:44:20,106] Trial 474 finished with value: 0.16093099580444076 and parameters: {'n_neighbors': 158, 'dim_reduction': 'pca', 'pca_solver': 'arpack', 'pca_components': 44, 'resolution': 0.10234970182886771, 'method': 'leiden', 'dist_metric': 'euclidean', 'louv_clustering_imp': 'igraph', 'leid_clustering_imp': 'leidenalg'}. Best is trial 204 with value: 0.23549598255204274.\n",
      "[I 2025-08-07 15:44:30,039] Trial 475 finished with value: 0.06975817118288773 and parameters: {'n_neighbors': 161, 'dim_reduction': 'pca', 'pca_solver': 'arpack', 'pca_components': 58, 'resolution': 0.675705616739799, 'method': 'leiden', 'dist_metric': 'euclidean', 'louv_clustering_imp': 'igraph', 'leid_clustering_imp': 'leidenalg'}. Best is trial 204 with value: 0.23549598255204274.\n",
      "[I 2025-08-07 15:44:36,507] Trial 476 finished with value: 0.1612512147570342 and parameters: {'n_neighbors': 162, 'dim_reduction': 'pca', 'pca_solver': 'arpack', 'pca_components': 48, 'resolution': 0.16069874364367823, 'method': 'leiden', 'dist_metric': 'euclidean', 'louv_clustering_imp': 'igraph', 'leid_clustering_imp': 'leidenalg'}. Best is trial 204 with value: 0.23549598255204274.\n",
      "[I 2025-08-07 15:44:42,066] Trial 477 finished with value: 0.1667609986302499 and parameters: {'n_neighbors': 157, 'dim_reduction': 'pca', 'pca_solver': 'randomized', 'pca_components': 61, 'resolution': 0.13537438460139561, 'method': 'leiden', 'dist_metric': 'euclidean', 'louv_clustering_imp': 'igraph', 'leid_clustering_imp': 'leidenalg'}. Best is trial 204 with value: 0.23549598255204274.\n",
      "[I 2025-08-07 15:44:49,432] Trial 478 finished with value: 0.15125538535066763 and parameters: {'n_neighbors': 172, 'dim_reduction': 'pca', 'pca_solver': 'arpack', 'pca_components': 64, 'resolution': 0.23387297047445643, 'method': 'leiden', 'dist_metric': 'euclidean', 'louv_clustering_imp': 'igraph', 'leid_clustering_imp': 'leidenalg'}. Best is trial 204 with value: 0.23549598255204274.\n",
      "[I 2025-08-07 15:44:54,665] Trial 479 finished with value: -1.0 and parameters: {'n_neighbors': 183, 'dim_reduction': 'pca', 'pca_solver': 'arpack', 'pca_components': 59, 'resolution': 0.10203032099118474, 'method': 'leiden', 'dist_metric': 'euclidean', 'louv_clustering_imp': 'igraph', 'leid_clustering_imp': 'leidenalg'}. Best is trial 204 with value: 0.23549598255204274.\n",
      "[I 2025-08-07 15:44:59,981] Trial 480 finished with value: 0.23549598255204274 and parameters: {'n_neighbors': 164, 'dim_reduction': 'pca', 'pca_solver': 'arpack', 'pca_components': 54, 'resolution': 0.10037746736170201, 'method': 'leiden', 'dist_metric': 'euclidean', 'louv_clustering_imp': 'igraph', 'leid_clustering_imp': 'leidenalg'}. Best is trial 204 with value: 0.23549598255204274.\n",
      "[I 2025-08-07 15:45:01,437] Trial 481 finished with value: 0.04567323282210972 and parameters: {'n_neighbors': 161, 'dim_reduction': 'pca', 'pca_solver': 'arpack', 'pca_components': 53, 'resolution': 1.09518478739442, 'method': 'leiden', 'dist_metric': 'euclidean', 'louv_clustering_imp': 'igraph', 'leid_clustering_imp': 'igraph'}. Best is trial 204 with value: 0.23549598255204274.\n",
      "[I 2025-08-07 15:45:08,485] Trial 482 finished with value: 0.15138225604923855 and parameters: {'n_neighbors': 164, 'dim_reduction': 'pca', 'pca_solver': 'arpack', 'pca_components': 50, 'resolution': 0.1705554538964616, 'method': 'leiden', 'dist_metric': 'euclidean', 'louv_clustering_imp': 'igraph', 'leid_clustering_imp': 'leidenalg'}. Best is trial 204 with value: 0.23549598255204274.\n",
      "[I 2025-08-07 15:45:13,138] Trial 483 finished with value: -1.0 and parameters: {'n_neighbors': 155, 'dim_reduction': 'pca', 'pca_solver': 'arpack', 'pca_components': 55, 'resolution': 0.10061744823535516, 'method': 'leiden', 'dist_metric': 'euclidean', 'louv_clustering_imp': 'igraph', 'leid_clustering_imp': 'leidenalg'}. Best is trial 204 with value: 0.23549598255204274.\n",
      "[I 2025-08-07 15:45:20,172] Trial 484 finished with value: 0.15167002982326272 and parameters: {'n_neighbors': 169, 'dim_reduction': 'pca', 'pca_solver': 'arpack', 'pca_components': 52, 'resolution': 0.20186995525170626, 'method': 'leiden', 'dist_metric': 'euclidean', 'louv_clustering_imp': 'igraph', 'leid_clustering_imp': 'leidenalg'}. Best is trial 204 with value: 0.23549598255204274.\n",
      "[I 2025-08-07 15:45:25,927] Trial 485 finished with value: 0.15860726303386716 and parameters: {'n_neighbors': 176, 'dim_reduction': 'pca', 'pca_solver': 'arpack', 'pca_components': 55, 'resolution': 0.13574074710037426, 'method': 'leiden', 'dist_metric': 'euclidean', 'louv_clustering_imp': 'igraph', 'leid_clustering_imp': 'leidenalg'}. Best is trial 204 with value: 0.23549598255204274.\n",
      "[I 2025-08-07 15:45:34,876] Trial 486 finished with value: 0.058946827705539835 and parameters: {'n_neighbors': 152, 'dim_reduction': 'pca', 'pca_solver': 'arpack', 'pca_components': 54, 'resolution': 1.8856144971313844, 'method': 'leiden', 'dist_metric': 'euclidean', 'louv_clustering_imp': 'igraph', 'leid_clustering_imp': 'leidenalg'}. Best is trial 204 with value: 0.23549598255204274.\n",
      "[I 2025-08-07 15:45:40,366] Trial 487 finished with value: 0.1611750133888465 and parameters: {'n_neighbors': 158, 'dim_reduction': 'pca', 'pca_solver': 'arpack', 'pca_components': 42, 'resolution': 0.16135119249898427, 'method': 'leiden', 'dist_metric': 'euclidean', 'louv_clustering_imp': 'igraph', 'leid_clustering_imp': 'leidenalg'}. Best is trial 204 with value: 0.23549598255204274.\n",
      "[I 2025-08-07 15:45:45,774] Trial 488 finished with value: 0.23484604948577148 and parameters: {'n_neighbors': 163, 'dim_reduction': 'pca', 'pca_solver': 'arpack', 'pca_components': 50, 'resolution': 0.1000701115565307, 'method': 'leiden', 'dist_metric': 'euclidean', 'louv_clustering_imp': 'igraph', 'leid_clustering_imp': 'leidenalg'}. Best is trial 204 with value: 0.23549598255204274.\n",
      "[I 2025-08-07 15:45:52,994] Trial 489 finished with value: 0.17056770573295751 and parameters: {'n_neighbors': 163, 'dim_reduction': 'pca', 'pca_solver': 'arpack', 'pca_components': 50, 'resolution': 0.13714970064757756, 'method': 'leiden', 'dist_metric': 'euclidean', 'louv_clustering_imp': 'igraph', 'leid_clustering_imp': 'leidenalg'}. Best is trial 204 with value: 0.23549598255204274.\n",
      "[I 2025-08-07 15:45:58,570] Trial 490 finished with value: -1.0 and parameters: {'n_neighbors': 159, 'dim_reduction': 'raw', 'pca_solver': 'arpack', 'pca_components': 48, 'resolution': 0.100972756777003, 'method': 'leiden', 'dist_metric': 'euclidean', 'louv_clustering_imp': 'igraph', 'leid_clustering_imp': 'leidenalg'}. Best is trial 204 with value: 0.23549598255204274.\n",
      "[I 2025-08-07 15:46:05,300] Trial 491 finished with value: 0.17017298304306078 and parameters: {'n_neighbors': 173, 'dim_reduction': 'pca', 'pca_solver': 'arpack', 'pca_components': 51, 'resolution': 0.16350096853434004, 'method': 'leiden', 'dist_metric': 'euclidean', 'louv_clustering_imp': 'igraph', 'leid_clustering_imp': 'leidenalg'}. Best is trial 204 with value: 0.23549598255204274.\n",
      "[I 2025-08-07 15:46:11,094] Trial 492 finished with value: 0.1450577026875726 and parameters: {'n_neighbors': 169, 'dim_reduction': 'pca', 'pca_solver': 'arpack', 'pca_components': 49, 'resolution': 0.1978377570006967, 'method': 'leiden', 'dist_metric': 'euclidean', 'louv_clustering_imp': 'igraph', 'leid_clustering_imp': 'leidenalg'}. Best is trial 204 with value: 0.23549598255204274.\n",
      "[I 2025-08-07 15:46:15,974] Trial 493 finished with value: 0.1702940532252526 and parameters: {'n_neighbors': 163, 'dim_reduction': 'pca', 'pca_solver': 'arpack', 'pca_components': 52, 'resolution': 0.13469383567864313, 'method': 'leiden', 'dist_metric': 'euclidean', 'louv_clustering_imp': 'igraph', 'leid_clustering_imp': 'leidenalg'}. Best is trial 204 with value: 0.23549598255204274.\n",
      "[I 2025-08-07 15:46:21,165] Trial 494 finished with value: 0.1643051675658162 and parameters: {'n_neighbors': 148, 'dim_reduction': 'pca', 'pca_solver': 'arpack', 'pca_components': 47, 'resolution': 0.13514808045453253, 'method': 'leiden', 'dist_metric': 'euclidean', 'louv_clustering_imp': 'igraph', 'leid_clustering_imp': 'leidenalg'}. Best is trial 204 with value: 0.23549598255204274.\n",
      "[I 2025-08-07 15:46:25,599] Trial 495 finished with value: -1.0 and parameters: {'n_neighbors': 178, 'dim_reduction': 'pca', 'pca_solver': 'arpack', 'pca_components': 45, 'resolution': 0.10035972460702003, 'method': 'leiden', 'dist_metric': 'euclidean', 'louv_clustering_imp': 'igraph', 'leid_clustering_imp': 'leidenalg'}. Best is trial 204 with value: 0.23549598255204274.\n",
      "[I 2025-08-07 15:46:26,611] Trial 496 finished with value: 0.1370747471693348 and parameters: {'n_neighbors': 11, 'dim_reduction': 'pca', 'pca_solver': 'arpack', 'pca_components': 52, 'resolution': 0.10022573612661209, 'method': 'leiden', 'dist_metric': 'euclidean', 'louv_clustering_imp': 'igraph', 'leid_clustering_imp': 'leidenalg'}. Best is trial 204 with value: 0.23549598255204274.\n",
      "[I 2025-08-07 15:46:32,079] Trial 497 finished with value: 0.1640173157968446 and parameters: {'n_neighbors': 166, 'dim_reduction': 'pca', 'pca_solver': 'arpack', 'pca_components': 49, 'resolution': 0.16445457999813212, 'method': 'leiden', 'dist_metric': 'euclidean', 'louv_clustering_imp': 'igraph', 'leid_clustering_imp': 'leidenalg'}. Best is trial 204 with value: 0.23549598255204274.\n",
      "[I 2025-08-07 15:46:38,664] Trial 498 finished with value: 0.15167002982326272 and parameters: {'n_neighbors': 173, 'dim_reduction': 'pca', 'pca_solver': 'randomized', 'pca_components': 47, 'resolution': 0.21993872454314917, 'method': 'leiden', 'dist_metric': 'euclidean', 'louv_clustering_imp': 'igraph', 'leid_clustering_imp': 'leidenalg'}. Best is trial 204 with value: 0.23549598255204274.\n",
      "[I 2025-08-07 15:46:40,029] Trial 499 finished with value: 0.1346138285738236 and parameters: {'n_neighbors': 22, 'dim_reduction': 'pca', 'pca_solver': 'arpack', 'pca_components': 50, 'resolution': 0.16089822847374347, 'method': 'leiden', 'dist_metric': 'euclidean', 'louv_clustering_imp': 'igraph', 'leid_clustering_imp': 'leidenalg'}. Best is trial 204 with value: 0.23549598255204274.\n"
     ]
    }
   ],
   "source": [
    "mitocheck_cluster_results = assess_heterogeneity(profiles=mito_trt, meta=mito_meta, features=mito_features, n_trials=500, n_jobs=1, study_name=\"mitocheck_heterogeneity\", seed=0)\n",
    "with open(results_dir / \"mitocheck_cluster_results.pkl\", \"wb\") as f:\n",
    "    pickle.dump(mitocheck_cluster_results, f)"
   ]
  },
  {
   "cell_type": "code",
   "execution_count": 8,
   "id": "dadc6155",
   "metadata": {},
   "outputs": [
    {
     "name": "stderr",
     "output_type": "stream",
     "text": [
      "[I 2025-08-07 15:46:44,690] A new study created in memory with name: cfret_heterogeneity\n"
     ]
    },
    {
     "data": {
      "application/vnd.jupyter.widget-view+json": {
       "model_id": "1e216e19f66a4b639a3dff5c101c8474",
       "version_major": 2,
       "version_minor": 0
      },
      "text/plain": [
       "  0%|          | 0/500 [00:00<?, ?it/s]"
      ]
     },
     "metadata": {},
     "output_type": "display_data"
    },
    {
     "name": "stderr",
     "output_type": "stream",
     "text": [
      "`resolution` parameter has no effect for flavor \"igraph\"\n"
     ]
    },
    {
     "name": "stdout",
     "output_type": "stream",
     "text": [
      "[I 2025-08-07 15:47:39,058] Trial 0 finished with value: 0.035042695598890734 and parameters: {'n_neighbors': 188, 'dim_reduction': 'raw', 'pca_solver': 'randomized', 'pca_components': 95, 'resolution': 1.0463606417159637, 'method': 'louvain', 'dist_metric': 'cosine', 'louv_clustering_imp': 'igraph', 'leid_clustering_imp': 'igraph'}. Best is trial 0 with value: 0.035042695598890734.\n"
     ]
    },
    {
     "name": "stderr",
     "output_type": "stream",
     "text": [
      "/home/erikserrano/Development/BuSCar/notebooks/1.compound-prioritization/../../utils/heterogeneity.py:113: UserWarning: Ignoring svd_solver='auto' and using randomized, sklearn.decomposition._truncated_svd.TruncatedSVD only supports dict_keys(['arpack', 'randomized']).\n",
      "  sc.pp.pca(\n",
      "`resolution` parameter has no effect for flavor \"igraph\"\n"
     ]
    },
    {
     "name": "stdout",
     "output_type": "stream",
     "text": [
      "[I 2025-08-07 15:47:53,328] Trial 1 finished with value: 0.03408321261560609 and parameters: {'n_neighbors': 75, 'dim_reduction': 'pca', 'pca_solver': 'auto', 'pca_components': 69, 'resolution': 0.9453342319381359, 'method': 'louvain', 'dist_metric': 'cosine', 'louv_clustering_imp': 'igraph', 'leid_clustering_imp': 'leidenalg'}. Best is trial 0 with value: 0.035042695598890734.\n"
     ]
    },
    {
     "name": "stderr",
     "output_type": "stream",
     "text": [
      "/home/erikserrano/Development/BuSCar/notebooks/1.compound-prioritization/../../utils/heterogeneity.py:113: UserWarning: Ignoring svd_solver='auto' and using randomized, sklearn.decomposition._truncated_svd.TruncatedSVD only supports dict_keys(['arpack', 'randomized']).\n",
      "  sc.pp.pca(\n"
     ]
    },
    {
     "name": "stdout",
     "output_type": "stream",
     "text": [
      "[I 2025-08-07 15:48:16,593] Trial 2 finished with value: 0.0106960645391285 and parameters: {'n_neighbors': 150, 'dim_reduction': 'pca', 'pca_solver': 'auto', 'pca_components': 29, 'resolution': 1.651024708142974, 'method': 'leiden', 'dist_metric': 'cosine', 'louv_clustering_imp': 'igraph', 'leid_clustering_imp': 'igraph'}. Best is trial 0 with value: 0.035042695598890734.\n"
     ]
    },
    {
     "name": "stderr",
     "output_type": "stream",
     "text": [
      "/home/erikserrano/Development/BuSCar/notebooks/1.compound-prioritization/../../utils/heterogeneity.py:113: UserWarning: Ignoring svd_solver='auto' and using randomized, sklearn.decomposition._truncated_svd.TruncatedSVD only supports dict_keys(['arpack', 'randomized']).\n",
      "  sc.pp.pca(\n"
     ]
    },
    {
     "name": "stdout",
     "output_type": "stream",
     "text": [
      "[I 2025-08-07 15:48:39,342] Trial 3 finished with value: 0.03433338695723387 and parameters: {'n_neighbors': 43, 'dim_reduction': 'pca', 'pca_solver': 'auto', 'pca_components': 23, 'resolution': 0.5322371899302648, 'method': 'leiden', 'dist_metric': 'cosine', 'louv_clustering_imp': 'igraph', 'leid_clustering_imp': 'leidenalg'}. Best is trial 0 with value: 0.035042695598890734.\n",
      "[I 2025-08-07 15:50:17,013] Trial 4 finished with value: 0.013316095820555204 and parameters: {'n_neighbors': 194, 'dim_reduction': 'raw', 'pca_solver': 'randomized', 'pca_components': 67, 'resolution': 1.7389288907805964, 'method': 'leiden', 'dist_metric': 'cosine', 'louv_clustering_imp': 'igraph', 'leid_clustering_imp': 'leidenalg'}. Best is trial 0 with value: 0.035042695598890734.\n"
     ]
    },
    {
     "name": "stderr",
     "output_type": "stream",
     "text": [
      "`resolution` parameter has no effect for flavor \"igraph\"\n"
     ]
    },
    {
     "name": "stdout",
     "output_type": "stream",
     "text": [
      "[I 2025-08-07 15:50:48,309] Trial 5 finished with value: 0.033223522573134746 and parameters: {'n_neighbors': 162, 'dim_reduction': 'pca', 'pca_solver': 'randomized', 'pca_components': 88, 'resolution': 0.9474213079202627, 'method': 'louvain', 'dist_metric': 'cosine', 'louv_clustering_imp': 'igraph', 'leid_clustering_imp': 'igraph'}. Best is trial 0 with value: 0.035042695598890734.\n",
      "[I 2025-08-07 15:51:25,197] Trial 6 finished with value: 0.03758073303119366 and parameters: {'n_neighbors': 179, 'dim_reduction': 'pca', 'pca_solver': 'randomized', 'pca_components': 91, 'resolution': 0.7853861811758154, 'method': 'leiden', 'dist_metric': 'euclidean', 'louv_clustering_imp': 'vtraag', 'leid_clustering_imp': 'igraph'}. Best is trial 6 with value: 0.03758073303119366.\n"
     ]
    },
    {
     "name": "stderr",
     "output_type": "stream",
     "text": [
      "`resolution` parameter has no effect for flavor \"igraph\"\n"
     ]
    },
    {
     "name": "stdout",
     "output_type": "stream",
     "text": [
      "[I 2025-08-07 15:51:58,000] Trial 7 finished with value: 0.03752853251229614 and parameters: {'n_neighbors': 129, 'dim_reduction': 'raw', 'pca_solver': 'auto', 'pca_components': 36, 'resolution': 0.8935826490209913, 'method': 'louvain', 'dist_metric': 'euclidean', 'louv_clustering_imp': 'igraph', 'leid_clustering_imp': 'leidenalg'}. Best is trial 6 with value: 0.03758073303119366.\n"
     ]
    },
    {
     "name": "stderr",
     "output_type": "stream",
     "text": [
      "`resolution` parameter has no effect for flavor \"igraph\"\n"
     ]
    },
    {
     "name": "stdout",
     "output_type": "stream",
     "text": [
      "[I 2025-08-07 15:52:15,583] Trial 8 finished with value: 0.034439456765518114 and parameters: {'n_neighbors': 117, 'dim_reduction': 'pca', 'pca_solver': 'randomized', 'pca_components': 25, 'resolution': 1.4926044741979556, 'method': 'louvain', 'dist_metric': 'euclidean', 'louv_clustering_imp': 'igraph', 'leid_clustering_imp': 'leidenalg'}. Best is trial 6 with value: 0.03758073303119366.\n"
     ]
    },
    {
     "name": "stderr",
     "output_type": "stream",
     "text": [
      "/home/erikserrano/Development/BuSCar/notebooks/1.compound-prioritization/../../utils/heterogeneity.py:113: UserWarning: Ignoring svd_solver='auto' and using randomized, sklearn.decomposition._truncated_svd.TruncatedSVD only supports dict_keys(['arpack', 'randomized']).\n",
      "  sc.pp.pca(\n",
      "`resolution` parameter has no effect for flavor \"igraph\"\n"
     ]
    },
    {
     "name": "stdout",
     "output_type": "stream",
     "text": [
      "[I 2025-08-07 15:52:42,506] Trial 9 finished with value: 0.03582047198704933 and parameters: {'n_neighbors': 179, 'dim_reduction': 'pca', 'pca_solver': 'auto', 'pca_components': 34, 'resolution': 0.707811233838843, 'method': 'louvain', 'dist_metric': 'euclidean', 'louv_clustering_imp': 'igraph', 'leid_clustering_imp': 'leidenalg'}. Best is trial 6 with value: 0.03758073303119366.\n",
      "[I 2025-08-07 15:53:02,140] Trial 10 finished with value: 0.033482405350605426 and parameters: {'n_neighbors': 88, 'dim_reduction': 'raw', 'pca_solver': 'arpack', 'pca_components': 79, 'resolution': 0.15858998794889156, 'method': 'leiden', 'dist_metric': 'euclidean', 'louv_clustering_imp': 'vtraag', 'leid_clustering_imp': 'igraph'}. Best is trial 6 with value: 0.03758073303119366.\n",
      "[I 2025-08-07 15:53:31,839] Trial 11 finished with value: 0.019084735382361894 and parameters: {'n_neighbors': 128, 'dim_reduction': 'raw', 'pca_solver': 'arpack', 'pca_components': 47, 'resolution': 1.384684523469222, 'method': 'leiden', 'dist_metric': 'euclidean', 'louv_clustering_imp': 'vtraag', 'leid_clustering_imp': 'igraph'}. Best is trial 6 with value: 0.03758073303119366.\n",
      "[I 2025-08-07 15:54:28,579] Trial 12 finished with value: 0.05112771226126498 and parameters: {'n_neighbors': 146, 'dim_reduction': 'raw', 'pca_solver': 'auto', 'pca_components': 46, 'resolution': 0.5595582728737056, 'method': 'leiden', 'dist_metric': 'euclidean', 'louv_clustering_imp': 'vtraag', 'leid_clustering_imp': 'leidenalg'}. Best is trial 12 with value: 0.05112771226126498.\n",
      "[I 2025-08-07 15:55:00,296] Trial 13 finished with value: 0.05640059082227245 and parameters: {'n_neighbors': 144, 'dim_reduction': 'raw', 'pca_solver': 'randomized', 'pca_components': 10, 'resolution': 0.3385248516253895, 'method': 'leiden', 'dist_metric': 'euclidean', 'louv_clustering_imp': 'vtraag', 'leid_clustering_imp': 'igraph'}. Best is trial 13 with value: 0.05640059082227245.\n",
      "[I 2025-08-07 15:55:52,994] Trial 14 finished with value: 0.05617099218011621 and parameters: {'n_neighbors': 142, 'dim_reduction': 'raw', 'pca_solver': 'arpack', 'pca_components': 12, 'resolution': 0.2796198033959967, 'method': 'leiden', 'dist_metric': 'euclidean', 'louv_clustering_imp': 'vtraag', 'leid_clustering_imp': 'leidenalg'}. Best is trial 13 with value: 0.05640059082227245.\n",
      "[I 2025-08-07 15:56:15,918] Trial 15 finished with value: 0.033563266014958335 and parameters: {'n_neighbors': 103, 'dim_reduction': 'raw', 'pca_solver': 'arpack', 'pca_components': 14, 'resolution': 0.10141400768677661, 'method': 'leiden', 'dist_metric': 'euclidean', 'louv_clustering_imp': 'vtraag', 'leid_clustering_imp': 'igraph'}. Best is trial 13 with value: 0.05640059082227245.\n",
      "[I 2025-08-07 15:56:30,668] Trial 16 finished with value: 0.05503802409466362 and parameters: {'n_neighbors': 65, 'dim_reduction': 'raw', 'pca_solver': 'arpack', 'pca_components': 10, 'resolution': 0.3656497715777576, 'method': 'leiden', 'dist_metric': 'euclidean', 'louv_clustering_imp': 'vtraag', 'leid_clustering_imp': 'igraph'}. Best is trial 13 with value: 0.05640059082227245.\n",
      "[I 2025-08-07 15:56:38,812] Trial 17 finished with value: 0.04705857440185384 and parameters: {'n_neighbors': 8, 'dim_reduction': 'raw', 'pca_solver': 'arpack', 'pca_components': 16, 'resolution': 0.3890738824391748, 'method': 'leiden', 'dist_metric': 'euclidean', 'louv_clustering_imp': 'vtraag', 'leid_clustering_imp': 'leidenalg'}. Best is trial 13 with value: 0.05640059082227245.\n",
      "[I 2025-08-07 15:57:54,950] Trial 18 finished with value: 0.02540566596535793 and parameters: {'n_neighbors': 157, 'dim_reduction': 'raw', 'pca_solver': 'arpack', 'pca_components': 57, 'resolution': 1.2806386444843456, 'method': 'leiden', 'dist_metric': 'euclidean', 'louv_clustering_imp': 'vtraag', 'leid_clustering_imp': 'leidenalg'}. Best is trial 13 with value: 0.05640059082227245.\n",
      "[I 2025-08-07 15:58:17,896] Trial 19 finished with value: 0.05596964934971102 and parameters: {'n_neighbors': 104, 'dim_reduction': 'raw', 'pca_solver': 'randomized', 'pca_components': 20, 'resolution': 0.339468185907972, 'method': 'leiden', 'dist_metric': 'euclidean', 'louv_clustering_imp': 'vtraag', 'leid_clustering_imp': 'igraph'}. Best is trial 13 with value: 0.05640059082227245.\n",
      "[I 2025-08-07 15:58:50,390] Trial 20 finished with value: 0.015573581787025953 and parameters: {'n_neighbors': 134, 'dim_reduction': 'raw', 'pca_solver': 'randomized', 'pca_components': 42, 'resolution': 1.9085274166578252, 'method': 'leiden', 'dist_metric': 'euclidean', 'louv_clustering_imp': 'vtraag', 'leid_clustering_imp': 'igraph'}. Best is trial 13 with value: 0.05640059082227245.\n",
      "[I 2025-08-07 15:59:12,624] Trial 21 finished with value: 0.05568535960697102 and parameters: {'n_neighbors': 100, 'dim_reduction': 'raw', 'pca_solver': 'randomized', 'pca_components': 19, 'resolution': 0.2896263850770999, 'method': 'leiden', 'dist_metric': 'euclidean', 'louv_clustering_imp': 'vtraag', 'leid_clustering_imp': 'igraph'}. Best is trial 13 with value: 0.05640059082227245.\n",
      "[I 2025-08-07 15:59:37,179] Trial 22 finished with value: 0.049539187362332815 and parameters: {'n_neighbors': 110, 'dim_reduction': 'raw', 'pca_solver': 'randomized', 'pca_components': 10, 'resolution': 0.5725898170333565, 'method': 'leiden', 'dist_metric': 'euclidean', 'louv_clustering_imp': 'vtraag', 'leid_clustering_imp': 'igraph'}. Best is trial 13 with value: 0.05640059082227245.\n",
      "[I 2025-08-07 16:00:12,213] Trial 23 finished with value: 0.056278729725342355 and parameters: {'n_neighbors': 164, 'dim_reduction': 'raw', 'pca_solver': 'randomized', 'pca_components': 22, 'resolution': 0.26333173047838765, 'method': 'leiden', 'dist_metric': 'euclidean', 'louv_clustering_imp': 'vtraag', 'leid_clustering_imp': 'igraph'}. Best is trial 13 with value: 0.05640059082227245.\n",
      "[I 2025-08-07 16:00:48,664] Trial 24 finished with value: 0.056237831047155365 and parameters: {'n_neighbors': 169, 'dim_reduction': 'raw', 'pca_solver': 'randomized', 'pca_components': 27, 'resolution': 0.21369246993065372, 'method': 'leiden', 'dist_metric': 'euclidean', 'louv_clustering_imp': 'vtraag', 'leid_clustering_imp': 'igraph'}. Best is trial 13 with value: 0.05640059082227245.\n",
      "[I 2025-08-07 16:01:24,706] Trial 25 finished with value: 0.0507894656809612 and parameters: {'n_neighbors': 168, 'dim_reduction': 'raw', 'pca_solver': 'randomized', 'pca_components': 32, 'resolution': 0.4926864677086422, 'method': 'leiden', 'dist_metric': 'euclidean', 'louv_clustering_imp': 'vtraag', 'leid_clustering_imp': 'igraph'}. Best is trial 13 with value: 0.05640059082227245.\n",
      "[I 2025-08-07 16:01:59,407] Trial 26 finished with value: -1.0 and parameters: {'n_neighbors': 171, 'dim_reduction': 'raw', 'pca_solver': 'randomized', 'pca_components': 26, 'resolution': 0.1000273787781647, 'method': 'leiden', 'dist_metric': 'euclidean', 'louv_clustering_imp': 'vtraag', 'leid_clustering_imp': 'igraph'}. Best is trial 13 with value: 0.05640059082227245.\n",
      "[I 2025-08-07 16:02:39,537] Trial 27 finished with value: 0.050008177681923206 and parameters: {'n_neighbors': 195, 'dim_reduction': 'raw', 'pca_solver': 'randomized', 'pca_components': 41, 'resolution': 0.7148270906757768, 'method': 'leiden', 'dist_metric': 'euclidean', 'louv_clustering_imp': 'vtraag', 'leid_clustering_imp': 'igraph'}. Best is trial 13 with value: 0.05640059082227245.\n",
      "[I 2025-08-07 16:03:13,855] Trial 28 finished with value: 0.05585095333085487 and parameters: {'n_neighbors': 157, 'dim_reduction': 'raw', 'pca_solver': 'randomized', 'pca_components': 53, 'resolution': 0.20869216337574292, 'method': 'leiden', 'dist_metric': 'euclidean', 'louv_clustering_imp': 'vtraag', 'leid_clustering_imp': 'igraph'}. Best is trial 13 with value: 0.05640059082227245.\n",
      "[I 2025-08-07 16:04:00,144] Trial 29 finished with value: 0.020906586139647496 and parameters: {'n_neighbors': 184, 'dim_reduction': 'raw', 'pca_solver': 'randomized', 'pca_components': 20, 'resolution': 1.1374717029687968, 'method': 'louvain', 'dist_metric': 'cosine', 'louv_clustering_imp': 'vtraag', 'leid_clustering_imp': 'igraph'}. Best is trial 13 with value: 0.05640059082227245.\n",
      "[I 2025-08-07 16:04:27,969] Trial 30 finished with value: 0.05131765439790649 and parameters: {'n_neighbors': 123, 'dim_reduction': 'raw', 'pca_solver': 'randomized', 'pca_components': 29, 'resolution': 0.44130330174298016, 'method': 'leiden', 'dist_metric': 'euclidean', 'louv_clustering_imp': 'vtraag', 'leid_clustering_imp': 'igraph'}. Best is trial 13 with value: 0.05640059082227245.\n",
      "[I 2025-08-07 16:04:58,525] Trial 31 finished with value: 0.05599139328819181 and parameters: {'n_neighbors': 139, 'dim_reduction': 'raw', 'pca_solver': 'arpack', 'pca_components': 12, 'resolution': 0.2571350746325553, 'method': 'leiden', 'dist_metric': 'euclidean', 'louv_clustering_imp': 'vtraag', 'leid_clustering_imp': 'igraph'}. Best is trial 13 with value: 0.05640059082227245.\n",
      "[I 2025-08-07 16:05:48,683] Trial 32 finished with value: 0.05609301046840469 and parameters: {'n_neighbors': 148, 'dim_reduction': 'raw', 'pca_solver': 'randomized', 'pca_components': 18, 'resolution': 0.23378465837486326, 'method': 'leiden', 'dist_metric': 'euclidean', 'louv_clustering_imp': 'vtraag', 'leid_clustering_imp': 'leidenalg'}. Best is trial 13 with value: 0.05640059082227245.\n",
      "[I 2025-08-07 16:06:25,506] Trial 33 finished with value: 0.049515184932428645 and parameters: {'n_neighbors': 172, 'dim_reduction': 'raw', 'pca_solver': 'arpack', 'pca_components': 24, 'resolution': 0.6240894147115403, 'method': 'leiden', 'dist_metric': 'euclidean', 'louv_clustering_imp': 'vtraag', 'leid_clustering_imp': 'igraph'}. Best is trial 13 with value: 0.05640059082227245.\n",
      "[I 2025-08-07 16:07:23,554] Trial 34 finished with value: 0.05037846944606478 and parameters: {'n_neighbors': 147, 'dim_reduction': 'raw', 'pca_solver': 'randomized', 'pca_components': 15, 'resolution': 0.416271018089143, 'method': 'leiden', 'dist_metric': 'cosine', 'louv_clustering_imp': 'vtraag', 'leid_clustering_imp': 'leidenalg'}. Best is trial 13 with value: 0.05640059082227245.\n",
      "[I 2025-08-07 16:08:06,550] Trial 35 finished with value: 0.05282858226797583 and parameters: {'n_neighbors': 200, 'dim_reduction': 'raw', 'pca_solver': 'randomized', 'pca_components': 30, 'resolution': 0.25403500831867987, 'method': 'leiden', 'dist_metric': 'cosine', 'louv_clustering_imp': 'vtraag', 'leid_clustering_imp': 'igraph'}. Best is trial 13 with value: 0.05640059082227245.\n",
      "[I 2025-08-07 16:08:28,494] Trial 36 finished with value: 0.055430622865719016 and parameters: {'n_neighbors': 161, 'dim_reduction': 'pca', 'pca_solver': 'arpack', 'pca_components': 38, 'resolution': 0.347706662308357, 'method': 'louvain', 'dist_metric': 'euclidean', 'louv_clustering_imp': 'vtraag', 'leid_clustering_imp': 'leidenalg'}. Best is trial 13 with value: 0.05640059082227245.\n",
      "[I 2025-08-07 16:09:01,244] Trial 37 finished with value: 0.0507231103270626 and parameters: {'n_neighbors': 137, 'dim_reduction': 'raw', 'pca_solver': 'auto', 'pca_components': 67, 'resolution': 0.4696628068568214, 'method': 'leiden', 'dist_metric': 'cosine', 'louv_clustering_imp': 'igraph', 'leid_clustering_imp': 'igraph'}. Best is trial 13 with value: 0.05640059082227245.\n",
      "[I 2025-08-07 16:10:11,307] Trial 38 finished with value: 0.031636258391954775 and parameters: {'n_neighbors': 179, 'dim_reduction': 'pca', 'pca_solver': 'randomized', 'pca_components': 23, 'resolution': 0.8424520446868031, 'method': 'leiden', 'dist_metric': 'euclidean', 'louv_clustering_imp': 'vtraag', 'leid_clustering_imp': 'leidenalg'}. Best is trial 13 with value: 0.05640059082227245.\n"
     ]
    },
    {
     "name": "stderr",
     "output_type": "stream",
     "text": [
      "`resolution` parameter has no effect for flavor \"igraph\"\n"
     ]
    },
    {
     "name": "stdout",
     "output_type": "stream",
     "text": [
      "[I 2025-08-07 16:10:37,561] Trial 39 finished with value: 0.03857556214553439 and parameters: {'n_neighbors': 117, 'dim_reduction': 'raw', 'pca_solver': 'randomized', 'pca_components': 100, 'resolution': 0.17547420859923968, 'method': 'louvain', 'dist_metric': 'euclidean', 'louv_clustering_imp': 'igraph', 'leid_clustering_imp': 'igraph'}. Best is trial 13 with value: 0.05640059082227245.\n"
     ]
    },
    {
     "name": "stderr",
     "output_type": "stream",
     "text": [
      "/home/erikserrano/Development/BuSCar/notebooks/1.compound-prioritization/../../utils/heterogeneity.py:113: UserWarning: Ignoring svd_solver='auto' and using randomized, sklearn.decomposition._truncated_svd.TruncatedSVD only supports dict_keys(['arpack', 'randomized']).\n",
      "  sc.pp.pca(\n"
     ]
    },
    {
     "name": "stdout",
     "output_type": "stream",
     "text": [
      "[I 2025-08-07 16:11:58,107] Trial 40 finished with value: 0.027194283321479693 and parameters: {'n_neighbors': 190, 'dim_reduction': 'pca', 'pca_solver': 'auto', 'pca_components': 10, 'resolution': 0.7083734753427284, 'method': 'leiden', 'dist_metric': 'cosine', 'louv_clustering_imp': 'vtraag', 'leid_clustering_imp': 'leidenalg'}. Best is trial 13 with value: 0.05640059082227245.\n",
      "[I 2025-08-07 16:12:57,745] Trial 41 finished with value: 0.05613179961908975 and parameters: {'n_neighbors': 147, 'dim_reduction': 'raw', 'pca_solver': 'randomized', 'pca_components': 17, 'resolution': 0.2557490666509229, 'method': 'leiden', 'dist_metric': 'euclidean', 'louv_clustering_imp': 'vtraag', 'leid_clustering_imp': 'leidenalg'}. Best is trial 13 with value: 0.05640059082227245.\n",
      "[I 2025-08-07 16:13:48,491] Trial 42 finished with value: 0.055994313850401774 and parameters: {'n_neighbors': 154, 'dim_reduction': 'raw', 'pca_solver': 'randomized', 'pca_components': 27, 'resolution': 0.30480694386351787, 'method': 'leiden', 'dist_metric': 'euclidean', 'louv_clustering_imp': 'vtraag', 'leid_clustering_imp': 'leidenalg'}. Best is trial 13 with value: 0.05640059082227245.\n",
      "[I 2025-08-07 16:14:53,849] Trial 43 finished with value: 0.05135299952131284 and parameters: {'n_neighbors': 140, 'dim_reduction': 'raw', 'pca_solver': 'randomized', 'pca_components': 16, 'resolution': 0.6351976727123789, 'method': 'leiden', 'dist_metric': 'euclidean', 'louv_clustering_imp': 'vtraag', 'leid_clustering_imp': 'leidenalg'}. Best is trial 13 with value: 0.05640059082227245.\n",
      "[I 2025-08-07 16:16:08,848] Trial 44 finished with value: 0.039087544402686296 and parameters: {'n_neighbors': 168, 'dim_reduction': 'raw', 'pca_solver': 'randomized', 'pca_components': 21, 'resolution': 0.9886790033214375, 'method': 'leiden', 'dist_metric': 'euclidean', 'louv_clustering_imp': 'igraph', 'leid_clustering_imp': 'leidenalg'}. Best is trial 13 with value: 0.05640059082227245.\n",
      "[I 2025-08-07 16:16:27,388] Trial 45 finished with value: -1.0 and parameters: {'n_neighbors': 87, 'dim_reduction': 'raw', 'pca_solver': 'randomized', 'pca_components': 81, 'resolution': 0.1416979539258148, 'method': 'louvain', 'dist_metric': 'euclidean', 'louv_clustering_imp': 'vtraag', 'leid_clustering_imp': 'leidenalg'}. Best is trial 13 with value: 0.05640059082227245.\n",
      "[I 2025-08-07 16:17:13,285] Trial 46 finished with value: 0.054820999853173256 and parameters: {'n_neighbors': 126, 'dim_reduction': 'pca', 'pca_solver': 'arpack', 'pca_components': 15, 'resolution': 0.21557521187048495, 'method': 'leiden', 'dist_metric': 'euclidean', 'louv_clustering_imp': 'vtraag', 'leid_clustering_imp': 'leidenalg'}. Best is trial 13 with value: 0.05640059082227245.\n",
      "[I 2025-08-07 16:17:44,814] Trial 47 finished with value: 0.050091347468455914 and parameters: {'n_neighbors': 143, 'dim_reduction': 'raw', 'pca_solver': 'auto', 'pca_components': 34, 'resolution': 0.4969818641885885, 'method': 'leiden', 'dist_metric': 'euclidean', 'louv_clustering_imp': 'vtraag', 'leid_clustering_imp': 'igraph'}. Best is trial 13 with value: 0.05640059082227245.\n",
      "[I 2025-08-07 16:18:47,909] Trial 48 finished with value: 0.0564107495338098 and parameters: {'n_neighbors': 175, 'dim_reduction': 'raw', 'pca_solver': 'randomized', 'pca_components': 23, 'resolution': 0.39044862255907886, 'method': 'leiden', 'dist_metric': 'euclidean', 'louv_clustering_imp': 'igraph', 'leid_clustering_imp': 'leidenalg'}. Best is trial 48 with value: 0.0564107495338098.\n",
      "[I 2025-08-07 16:19:28,629] Trial 49 finished with value: 0.020577515490615008 and parameters: {'n_neighbors': 186, 'dim_reduction': 'raw', 'pca_solver': 'arpack', 'pca_components': 24, 'resolution': 1.5950601894752383, 'method': 'leiden', 'dist_metric': 'euclidean', 'louv_clustering_imp': 'igraph', 'leid_clustering_imp': 'igraph'}. Best is trial 48 with value: 0.0564107495338098.\n"
     ]
    },
    {
     "name": "stderr",
     "output_type": "stream",
     "text": [
      "`resolution` parameter has no effect for flavor \"igraph\"\n"
     ]
    },
    {
     "name": "stdout",
     "output_type": "stream",
     "text": [
      "[I 2025-08-07 16:20:05,841] Trial 50 finished with value: 0.03801535987365151 and parameters: {'n_neighbors': 177, 'dim_reduction': 'raw', 'pca_solver': 'randomized', 'pca_components': 63, 'resolution': 0.4169953719020665, 'method': 'louvain', 'dist_metric': 'euclidean', 'louv_clustering_imp': 'igraph', 'leid_clustering_imp': 'leidenalg'}. Best is trial 48 with value: 0.0564107495338098.\n",
      "[I 2025-08-07 16:20:56,276] Trial 51 finished with value: 0.05602315985914114 and parameters: {'n_neighbors': 154, 'dim_reduction': 'raw', 'pca_solver': 'randomized', 'pca_components': 13, 'resolution': 0.32161773863802584, 'method': 'leiden', 'dist_metric': 'euclidean', 'louv_clustering_imp': 'igraph', 'leid_clustering_imp': 'leidenalg'}. Best is trial 48 with value: 0.0564107495338098.\n",
      "[I 2025-08-07 16:21:55,565] Trial 52 finished with value: 0.033392940011324854 and parameters: {'n_neighbors': 164, 'dim_reduction': 'raw', 'pca_solver': 'randomized', 'pca_components': 20, 'resolution': 0.17406402752012923, 'method': 'leiden', 'dist_metric': 'euclidean', 'louv_clustering_imp': 'igraph', 'leid_clustering_imp': 'leidenalg'}. Best is trial 48 with value: 0.0564107495338098.\n",
      "[I 2025-08-07 16:22:46,375] Trial 53 finished with value: 0.05114336311845689 and parameters: {'n_neighbors': 132, 'dim_reduction': 'raw', 'pca_solver': 'randomized', 'pca_components': 17, 'resolution': 0.5540922975377771, 'method': 'leiden', 'dist_metric': 'euclidean', 'louv_clustering_imp': 'igraph', 'leid_clustering_imp': 'leidenalg'}. Best is trial 48 with value: 0.0564107495338098.\n",
      "[I 2025-08-07 16:23:43,529] Trial 54 finished with value: 0.055990716004478656 and parameters: {'n_neighbors': 163, 'dim_reduction': 'raw', 'pca_solver': 'randomized', 'pca_components': 27, 'resolution': 0.36360324256801846, 'method': 'leiden', 'dist_metric': 'euclidean', 'louv_clustering_imp': 'vtraag', 'leid_clustering_imp': 'leidenalg'}. Best is trial 48 with value: 0.0564107495338098.\n",
      "[I 2025-08-07 16:23:50,323] Trial 55 finished with value: 0.03216759561987909 and parameters: {'n_neighbors': 12, 'dim_reduction': 'raw', 'pca_solver': 'randomized', 'pca_components': 13, 'resolution': 0.1088681057820147, 'method': 'leiden', 'dist_metric': 'euclidean', 'louv_clustering_imp': 'vtraag', 'leid_clustering_imp': 'leidenalg'}. Best is trial 48 with value: 0.0564107495338098.\n",
      "[I 2025-08-07 16:24:27,490] Trial 56 finished with value: 0.056476554790431024 and parameters: {'n_neighbors': 174, 'dim_reduction': 'raw', 'pca_solver': 'arpack', 'pca_components': 31, 'resolution': 0.2930265829625411, 'method': 'leiden', 'dist_metric': 'euclidean', 'louv_clustering_imp': 'igraph', 'leid_clustering_imp': 'igraph'}. Best is trial 56 with value: 0.056476554790431024.\n",
      "[I 2025-08-07 16:24:53,991] Trial 57 finished with value: 0.03746797601447804 and parameters: {'n_neighbors': 177, 'dim_reduction': 'pca', 'pca_solver': 'arpack', 'pca_components': 38, 'resolution': 0.624630390466712, 'method': 'leiden', 'dist_metric': 'euclidean', 'louv_clustering_imp': 'igraph', 'leid_clustering_imp': 'igraph'}. Best is trial 56 with value: 0.056476554790431024.\n",
      "[I 2025-08-07 16:25:34,216] Trial 58 finished with value: 0.03456275827750425 and parameters: {'n_neighbors': 184, 'dim_reduction': 'raw', 'pca_solver': 'arpack', 'pca_components': 33, 'resolution': 1.1693274870674157, 'method': 'leiden', 'dist_metric': 'euclidean', 'louv_clustering_imp': 'igraph', 'leid_clustering_imp': 'igraph'}. Best is trial 56 with value: 0.056476554790431024.\n",
      "[I 2025-08-07 16:26:13,248] Trial 59 finished with value: 0.04826304440823345 and parameters: {'n_neighbors': 173, 'dim_reduction': 'raw', 'pca_solver': 'arpack', 'pca_components': 29, 'resolution': 0.3977915895590669, 'method': 'leiden', 'dist_metric': 'cosine', 'louv_clustering_imp': 'igraph', 'leid_clustering_imp': 'igraph'}. Best is trial 56 with value: 0.056476554790431024.\n",
      "[I 2025-08-07 16:26:53,028] Trial 60 finished with value: 0.05107996660603456 and parameters: {'n_neighbors': 193, 'dim_reduction': 'raw', 'pca_solver': 'arpack', 'pca_components': 22, 'resolution': 0.5117389202833601, 'method': 'leiden', 'dist_metric': 'euclidean', 'louv_clustering_imp': 'igraph', 'leid_clustering_imp': 'igraph'}. Best is trial 56 with value: 0.056476554790431024.\n",
      "[I 2025-08-07 16:27:27,297] Trial 61 finished with value: 0.05652889379226107 and parameters: {'n_neighbors': 158, 'dim_reduction': 'raw', 'pca_solver': 'arpack', 'pca_components': 10, 'resolution': 0.30122454731189563, 'method': 'leiden', 'dist_metric': 'euclidean', 'louv_clustering_imp': 'igraph', 'leid_clustering_imp': 'igraph'}. Best is trial 61 with value: 0.05652889379226107.\n",
      "[I 2025-08-07 16:28:02,131] Trial 62 finished with value: 0.056290388676245244 and parameters: {'n_neighbors': 160, 'dim_reduction': 'raw', 'pca_solver': 'arpack', 'pca_components': 10, 'resolution': 0.32939073866058877, 'method': 'leiden', 'dist_metric': 'euclidean', 'louv_clustering_imp': 'igraph', 'leid_clustering_imp': 'igraph'}. Best is trial 61 with value: 0.05652889379226107.\n",
      "[I 2025-08-07 16:28:37,153] Trial 63 finished with value: 0.056424914122881725 and parameters: {'n_neighbors': 162, 'dim_reduction': 'raw', 'pca_solver': 'arpack', 'pca_components': 10, 'resolution': 0.29914948822220244, 'method': 'leiden', 'dist_metric': 'euclidean', 'louv_clustering_imp': 'igraph', 'leid_clustering_imp': 'igraph'}. Best is trial 61 with value: 0.05652889379226107.\n",
      "[I 2025-08-07 16:29:11,633] Trial 64 finished with value: 0.05661703009709333 and parameters: {'n_neighbors': 158, 'dim_reduction': 'raw', 'pca_solver': 'arpack', 'pca_components': 10, 'resolution': 0.3175373632962443, 'method': 'leiden', 'dist_metric': 'euclidean', 'louv_clustering_imp': 'igraph', 'leid_clustering_imp': 'igraph'}. Best is trial 64 with value: 0.05661703009709333.\n",
      "[I 2025-08-07 16:29:45,089] Trial 65 finished with value: 0.056799934030883806 and parameters: {'n_neighbors': 153, 'dim_reduction': 'raw', 'pca_solver': 'arpack', 'pca_components': 10, 'resolution': 0.4514865468331367, 'method': 'leiden', 'dist_metric': 'euclidean', 'louv_clustering_imp': 'igraph', 'leid_clustering_imp': 'igraph'}. Best is trial 65 with value: 0.056799934030883806.\n",
      "[I 2025-08-07 16:30:19,166] Trial 66 finished with value: 0.04957425267319833 and parameters: {'n_neighbors': 155, 'dim_reduction': 'raw', 'pca_solver': 'arpack', 'pca_components': 13, 'resolution': 0.5603688828151766, 'method': 'leiden', 'dist_metric': 'euclidean', 'louv_clustering_imp': 'igraph', 'leid_clustering_imp': 'igraph'}. Best is trial 65 with value: 0.056799934030883806.\n",
      "[I 2025-08-07 16:30:57,013] Trial 67 finished with value: 0.05684300863629461 and parameters: {'n_neighbors': 180, 'dim_reduction': 'raw', 'pca_solver': 'arpack', 'pca_components': 10, 'resolution': 0.43043530874967945, 'method': 'leiden', 'dist_metric': 'euclidean', 'louv_clustering_imp': 'igraph', 'leid_clustering_imp': 'igraph'}. Best is trial 67 with value: 0.05684300863629461.\n",
      "[I 2025-08-07 16:31:11,874] Trial 68 finished with value: 0.03126963028892926 and parameters: {'n_neighbors': 66, 'dim_reduction': 'raw', 'pca_solver': 'arpack', 'pca_components': 10, 'resolution': 0.8013157196129288, 'method': 'leiden', 'dist_metric': 'euclidean', 'louv_clustering_imp': 'igraph', 'leid_clustering_imp': 'igraph'}. Best is trial 67 with value: 0.05684300863629461.\n",
      "[I 2025-08-07 16:31:52,022] Trial 69 finished with value: 0.05688519596554692 and parameters: {'n_neighbors': 197, 'dim_reduction': 'raw', 'pca_solver': 'arpack', 'pca_components': 18, 'resolution': 0.4251804987932495, 'method': 'leiden', 'dist_metric': 'euclidean', 'louv_clustering_imp': 'igraph', 'leid_clustering_imp': 'igraph'}. Best is trial 69 with value: 0.05688519596554692.\n"
     ]
    },
    {
     "name": "stderr",
     "output_type": "stream",
     "text": [
      "`resolution` parameter has no effect for flavor \"igraph\"\n"
     ]
    },
    {
     "name": "stdout",
     "output_type": "stream",
     "text": [
      "[I 2025-08-07 16:32:32,507] Trial 70 finished with value: 0.03824081572553575 and parameters: {'n_neighbors': 199, 'dim_reduction': 'raw', 'pca_solver': 'arpack', 'pca_components': 18, 'resolution': 0.42675524769493506, 'method': 'louvain', 'dist_metric': 'euclidean', 'louv_clustering_imp': 'igraph', 'leid_clustering_imp': 'igraph'}. Best is trial 69 with value: 0.05688519596554692.\n",
      "[I 2025-08-07 16:33:11,890] Trial 71 finished with value: 0.05679146831668785 and parameters: {'n_neighbors': 189, 'dim_reduction': 'raw', 'pca_solver': 'arpack', 'pca_components': 14, 'resolution': 0.46661241239342194, 'method': 'leiden', 'dist_metric': 'euclidean', 'louv_clustering_imp': 'igraph', 'leid_clustering_imp': 'igraph'}. Best is trial 69 with value: 0.05688519596554692.\n",
      "[I 2025-08-07 16:33:50,084] Trial 72 finished with value: 0.05102163913578116 and parameters: {'n_neighbors': 182, 'dim_reduction': 'raw', 'pca_solver': 'arpack', 'pca_components': 14, 'resolution': 0.49712880102048845, 'method': 'leiden', 'dist_metric': 'euclidean', 'louv_clustering_imp': 'igraph', 'leid_clustering_imp': 'igraph'}. Best is trial 69 with value: 0.05688519596554692.\n",
      "[I 2025-08-07 16:34:30,274] Trial 73 finished with value: 0.05014394554867709 and parameters: {'n_neighbors': 195, 'dim_reduction': 'raw', 'pca_solver': 'arpack', 'pca_components': 13, 'resolution': 0.6527484699901003, 'method': 'leiden', 'dist_metric': 'euclidean', 'louv_clustering_imp': 'igraph', 'leid_clustering_imp': 'igraph'}. Best is trial 69 with value: 0.05688519596554692.\n",
      "[I 2025-08-07 16:35:09,114] Trial 74 finished with value: 0.05682234196909494 and parameters: {'n_neighbors': 187, 'dim_reduction': 'raw', 'pca_solver': 'arpack', 'pca_components': 16, 'resolution': 0.46502934532194146, 'method': 'leiden', 'dist_metric': 'euclidean', 'louv_clustering_imp': 'igraph', 'leid_clustering_imp': 'igraph'}. Best is trial 69 with value: 0.05688519596554692.\n",
      "[I 2025-08-07 16:35:48,058] Trial 75 finished with value: 0.056804475718355146 and parameters: {'n_neighbors': 188, 'dim_reduction': 'raw', 'pca_solver': 'arpack', 'pca_components': 19, 'resolution': 0.4521014260960617, 'method': 'leiden', 'dist_metric': 'euclidean', 'louv_clustering_imp': 'igraph', 'leid_clustering_imp': 'igraph'}. Best is trial 69 with value: 0.05688519596554692.\n",
      "[I 2025-08-07 16:36:27,276] Trial 76 finished with value: 0.05011888179845912 and parameters: {'n_neighbors': 189, 'dim_reduction': 'raw', 'pca_solver': 'arpack', 'pca_components': 16, 'resolution': 0.595421536045021, 'method': 'leiden', 'dist_metric': 'euclidean', 'louv_clustering_imp': 'igraph', 'leid_clustering_imp': 'igraph'}. Best is trial 69 with value: 0.05688519596554692.\n",
      "[I 2025-08-07 16:36:51,615] Trial 77 finished with value: 0.04481024540082535 and parameters: {'n_neighbors': 189, 'dim_reduction': 'pca', 'pca_solver': 'arpack', 'pca_components': 20, 'resolution': 0.45838829475989895, 'method': 'leiden', 'dist_metric': 'cosine', 'louv_clustering_imp': 'igraph', 'leid_clustering_imp': 'igraph'}. Best is trial 69 with value: 0.05688519596554692.\n",
      "[I 2025-08-07 16:37:31,953] Trial 78 finished with value: 0.050099430543096284 and parameters: {'n_neighbors': 200, 'dim_reduction': 'raw', 'pca_solver': 'arpack', 'pca_components': 19, 'resolution': 0.6750672811945913, 'method': 'leiden', 'dist_metric': 'euclidean', 'louv_clustering_imp': 'igraph', 'leid_clustering_imp': 'igraph'}. Best is trial 69 with value: 0.05688519596554692.\n",
      "[I 2025-08-07 16:38:12,649] Trial 79 finished with value: 0.03905068154870215 and parameters: {'n_neighbors': 193, 'dim_reduction': 'raw', 'pca_solver': 'arpack', 'pca_components': 12, 'resolution': 0.7287237101822314, 'method': 'leiden', 'dist_metric': 'euclidean', 'louv_clustering_imp': 'igraph', 'leid_clustering_imp': 'igraph'}. Best is trial 69 with value: 0.05688519596554692.\n",
      "[I 2025-08-07 16:38:50,804] Trial 80 finished with value: 0.05072886491332495 and parameters: {'n_neighbors': 183, 'dim_reduction': 'raw', 'pca_solver': 'arpack', 'pca_components': 15, 'resolution': 0.5488973171416246, 'method': 'leiden', 'dist_metric': 'euclidean', 'louv_clustering_imp': 'igraph', 'leid_clustering_imp': 'igraph'}. Best is trial 69 with value: 0.05688519596554692.\n",
      "[I 2025-08-07 16:39:27,021] Trial 81 finished with value: 0.05667594806553327 and parameters: {'n_neighbors': 169, 'dim_reduction': 'raw', 'pca_solver': 'arpack', 'pca_components': 51, 'resolution': 0.35662260088853115, 'method': 'leiden', 'dist_metric': 'euclidean', 'louv_clustering_imp': 'igraph', 'leid_clustering_imp': 'igraph'}. Best is trial 69 with value: 0.05688519596554692.\n",
      "[I 2025-08-07 16:40:03,318] Trial 82 finished with value: 0.05671345877845697 and parameters: {'n_neighbors': 169, 'dim_reduction': 'raw', 'pca_solver': 'arpack', 'pca_components': 48, 'resolution': 0.46328001823768006, 'method': 'leiden', 'dist_metric': 'euclidean', 'louv_clustering_imp': 'igraph', 'leid_clustering_imp': 'igraph'}. Best is trial 69 with value: 0.05688519596554692.\n",
      "[I 2025-08-07 16:40:39,441] Trial 83 finished with value: 0.05670795547029724 and parameters: {'n_neighbors': 168, 'dim_reduction': 'raw', 'pca_solver': 'arpack', 'pca_components': 53, 'resolution': 0.42541293930863705, 'method': 'leiden', 'dist_metric': 'euclidean', 'louv_clustering_imp': 'igraph', 'leid_clustering_imp': 'igraph'}. Best is trial 69 with value: 0.05688519596554692.\n",
      "[I 2025-08-07 16:41:17,236] Trial 84 finished with value: 0.0567534858866076 and parameters: {'n_neighbors': 180, 'dim_reduction': 'raw', 'pca_solver': 'arpack', 'pca_components': 53, 'resolution': 0.4415447384563409, 'method': 'leiden', 'dist_metric': 'euclidean', 'louv_clustering_imp': 'igraph', 'leid_clustering_imp': 'igraph'}. Best is trial 69 with value: 0.05688519596554692.\n",
      "[I 2025-08-07 16:41:55,268] Trial 85 finished with value: 0.05676939022769542 and parameters: {'n_neighbors': 181, 'dim_reduction': 'raw', 'pca_solver': 'arpack', 'pca_components': 58, 'resolution': 0.4599010118933993, 'method': 'leiden', 'dist_metric': 'euclidean', 'louv_clustering_imp': 'igraph', 'leid_clustering_imp': 'igraph'}. Best is trial 69 with value: 0.05688519596554692.\n",
      "[I 2025-08-07 16:42:33,196] Trial 86 finished with value: 0.05680343722340291 and parameters: {'n_neighbors': 180, 'dim_reduction': 'raw', 'pca_solver': 'arpack', 'pca_components': 60, 'resolution': 0.45836389383356363, 'method': 'leiden', 'dist_metric': 'euclidean', 'louv_clustering_imp': 'igraph', 'leid_clustering_imp': 'igraph'}. Best is trial 69 with value: 0.05688519596554692.\n"
     ]
    },
    {
     "name": "stderr",
     "output_type": "stream",
     "text": [
      "`resolution` parameter has no effect for flavor \"igraph\"\n"
     ]
    },
    {
     "name": "stdout",
     "output_type": "stream",
     "text": [
      "[I 2025-08-07 16:43:12,886] Trial 87 finished with value: 0.03813698752657771 and parameters: {'n_neighbors': 188, 'dim_reduction': 'raw', 'pca_solver': 'arpack', 'pca_components': 63, 'resolution': 0.591968263491698, 'method': 'louvain', 'dist_metric': 'euclidean', 'louv_clustering_imp': 'igraph', 'leid_clustering_imp': 'igraph'}. Best is trial 69 with value: 0.05688519596554692.\n",
      "[I 2025-08-07 16:43:52,110] Trial 88 finished with value: 0.05090149862677076 and parameters: {'n_neighbors': 193, 'dim_reduction': 'raw', 'pca_solver': 'arpack', 'pca_components': 73, 'resolution': 0.5258934119753764, 'method': 'leiden', 'dist_metric': 'euclidean', 'louv_clustering_imp': 'igraph', 'leid_clustering_imp': 'igraph'}. Best is trial 69 with value: 0.05688519596554692.\n",
      "[I 2025-08-07 16:44:22,816] Trial 89 finished with value: 0.011058132344503903 and parameters: {'n_neighbors': 179, 'dim_reduction': 'pca', 'pca_solver': 'arpack', 'pca_components': 59, 'resolution': 1.8011874296965662, 'method': 'leiden', 'dist_metric': 'cosine', 'louv_clustering_imp': 'igraph', 'leid_clustering_imp': 'igraph'}. Best is trial 69 with value: 0.05688519596554692.\n",
      "[I 2025-08-07 16:45:00,678] Trial 90 finished with value: 0.056792553290023376 and parameters: {'n_neighbors': 182, 'dim_reduction': 'raw', 'pca_solver': 'auto', 'pca_components': 60, 'resolution': 0.4619903102390075, 'method': 'leiden', 'dist_metric': 'euclidean', 'louv_clustering_imp': 'igraph', 'leid_clustering_imp': 'igraph'}. Best is trial 69 with value: 0.05688519596554692.\n",
      "[I 2025-08-07 16:45:38,564] Trial 91 finished with value: 0.056637438412045854 and parameters: {'n_neighbors': 180, 'dim_reduction': 'raw', 'pca_solver': 'auto', 'pca_components': 59, 'resolution': 0.4724000618939813, 'method': 'leiden', 'dist_metric': 'euclidean', 'louv_clustering_imp': 'igraph', 'leid_clustering_imp': 'igraph'}. Best is trial 69 with value: 0.05688519596554692.\n",
      "[I 2025-08-07 16:46:16,860] Trial 92 finished with value: 0.057027926008012174 and parameters: {'n_neighbors': 186, 'dim_reduction': 'raw', 'pca_solver': 'auto', 'pca_components': 64, 'resolution': 0.38666836999222165, 'method': 'leiden', 'dist_metric': 'euclidean', 'louv_clustering_imp': 'igraph', 'leid_clustering_imp': 'igraph'}. Best is trial 92 with value: 0.057027926008012174.\n",
      "[I 2025-08-07 16:46:56,592] Trial 93 finished with value: 0.05685468928041562 and parameters: {'n_neighbors': 196, 'dim_reduction': 'raw', 'pca_solver': 'auto', 'pca_components': 73, 'resolution': 0.3893477511792178, 'method': 'leiden', 'dist_metric': 'euclidean', 'louv_clustering_imp': 'igraph', 'leid_clustering_imp': 'igraph'}. Best is trial 92 with value: 0.057027926008012174.\n",
      "[I 2025-08-07 16:47:36,357] Trial 94 finished with value: 0.05667644050171586 and parameters: {'n_neighbors': 196, 'dim_reduction': 'raw', 'pca_solver': 'auto', 'pca_components': 71, 'resolution': 0.3800246980224513, 'method': 'leiden', 'dist_metric': 'euclidean', 'louv_clustering_imp': 'igraph', 'leid_clustering_imp': 'igraph'}. Best is trial 92 with value: 0.057027926008012174.\n",
      "[I 2025-08-07 16:48:15,462] Trial 95 finished with value: 0.05109316837458405 and parameters: {'n_neighbors': 187, 'dim_reduction': 'raw', 'pca_solver': 'auto', 'pca_components': 78, 'resolution': 0.5076365559390175, 'method': 'leiden', 'dist_metric': 'euclidean', 'louv_clustering_imp': 'igraph', 'leid_clustering_imp': 'igraph'}. Best is trial 92 with value: 0.057027926008012174.\n",
      "[I 2025-08-07 16:48:55,654] Trial 96 finished with value: 0.050127056931054924 and parameters: {'n_neighbors': 197, 'dim_reduction': 'raw', 'pca_solver': 'auto', 'pca_components': 56, 'resolution': 0.5934718822660727, 'method': 'leiden', 'dist_metric': 'euclidean', 'louv_clustering_imp': 'igraph', 'leid_clustering_imp': 'igraph'}. Best is trial 92 with value: 0.057027926008012174.\n",
      "[I 2025-08-07 16:49:35,058] Trial 97 finished with value: 0.056972824008583785 and parameters: {'n_neighbors': 191, 'dim_reduction': 'raw', 'pca_solver': 'auto', 'pca_components': 64, 'resolution': 0.39765559331605543, 'method': 'leiden', 'dist_metric': 'euclidean', 'louv_clustering_imp': 'igraph', 'leid_clustering_imp': 'igraph'}. Best is trial 92 with value: 0.057027926008012174.\n",
      "[I 2025-08-07 16:50:14,359] Trial 98 finished with value: 0.056790547225465844 and parameters: {'n_neighbors': 191, 'dim_reduction': 'raw', 'pca_solver': 'auto', 'pca_components': 62, 'resolution': 0.3798484450861208, 'method': 'leiden', 'dist_metric': 'euclidean', 'louv_clustering_imp': 'igraph', 'leid_clustering_imp': 'igraph'}. Best is trial 92 with value: 0.057027926008012174.\n"
     ]
    },
    {
     "name": "stderr",
     "output_type": "stream",
     "text": [
      "`resolution` parameter has no effect for flavor \"igraph\"\n"
     ]
    },
    {
     "name": "stdout",
     "output_type": "stream",
     "text": [
      "[I 2025-08-07 16:50:55,908] Trial 99 finished with value: 0.03803760833116838 and parameters: {'n_neighbors': 185, 'dim_reduction': 'raw', 'pca_solver': 'auto', 'pca_components': 65, 'resolution': 1.4541619806659787, 'method': 'louvain', 'dist_metric': 'euclidean', 'louv_clustering_imp': 'igraph', 'leid_clustering_imp': 'igraph'}. Best is trial 92 with value: 0.057027926008012174.\n",
      "[I 2025-08-07 16:51:33,231] Trial 100 finished with value: 0.03807636330734253 and parameters: {'n_neighbors': 175, 'dim_reduction': 'raw', 'pca_solver': 'auto', 'pca_components': 69, 'resolution': 0.7681154380108286, 'method': 'leiden', 'dist_metric': 'euclidean', 'louv_clustering_imp': 'igraph', 'leid_clustering_imp': 'igraph'}. Best is trial 92 with value: 0.057027926008012174.\n",
      "[I 2025-08-07 16:52:12,758] Trial 101 finished with value: 0.05089421315842551 and parameters: {'n_neighbors': 187, 'dim_reduction': 'raw', 'pca_solver': 'auto', 'pca_components': 76, 'resolution': 0.5227098396582964, 'method': 'leiden', 'dist_metric': 'euclidean', 'louv_clustering_imp': 'igraph', 'leid_clustering_imp': 'igraph'}. Best is trial 92 with value: 0.057027926008012174.\n",
      "[I 2025-08-07 16:52:52,781] Trial 102 finished with value: 0.056935461587275527 and parameters: {'n_neighbors': 197, 'dim_reduction': 'raw', 'pca_solver': 'auto', 'pca_components': 67, 'resolution': 0.3859257325548072, 'method': 'leiden', 'dist_metric': 'euclidean', 'louv_clustering_imp': 'igraph', 'leid_clustering_imp': 'igraph'}. Best is trial 92 with value: 0.057027926008012174.\n",
      "[I 2025-08-07 16:53:32,936] Trial 103 finished with value: 0.056767237360241966 and parameters: {'n_neighbors': 200, 'dim_reduction': 'raw', 'pca_solver': 'auto', 'pca_components': 61, 'resolution': 0.3972046187131055, 'method': 'leiden', 'dist_metric': 'euclidean', 'louv_clustering_imp': 'igraph', 'leid_clustering_imp': 'igraph'}. Best is trial 92 with value: 0.057027926008012174.\n",
      "[I 2025-08-07 16:54:12,567] Trial 104 finished with value: 0.055866779360239135 and parameters: {'n_neighbors': 195, 'dim_reduction': 'raw', 'pca_solver': 'auto', 'pca_components': 67, 'resolution': 0.21116933237583874, 'method': 'leiden', 'dist_metric': 'euclidean', 'louv_clustering_imp': 'igraph', 'leid_clustering_imp': 'igraph'}. Best is trial 92 with value: 0.057027926008012174.\n",
      "[I 2025-08-07 16:54:51,865] Trial 105 finished with value: 0.05710951570912175 and parameters: {'n_neighbors': 192, 'dim_reduction': 'raw', 'pca_solver': 'auto', 'pca_components': 65, 'resolution': 0.34956055546416226, 'method': 'leiden', 'dist_metric': 'euclidean', 'louv_clustering_imp': 'igraph', 'leid_clustering_imp': 'igraph'}. Best is trial 105 with value: 0.05710951570912175.\n",
      "[I 2025-08-07 16:55:30,517] Trial 106 finished with value: 0.05678900939046228 and parameters: {'n_neighbors': 192, 'dim_reduction': 'raw', 'pca_solver': 'auto', 'pca_components': 65, 'resolution': 0.27328953886212776, 'method': 'leiden', 'dist_metric': 'euclidean', 'louv_clustering_imp': 'igraph', 'leid_clustering_imp': 'igraph'}. Best is trial 105 with value: 0.05710951570912175.\n",
      "[I 2025-08-07 16:55:38,658] Trial 107 finished with value: 0.05101617206346745 and parameters: {'n_neighbors': 35, 'dim_reduction': 'raw', 'pca_solver': 'auto', 'pca_components': 85, 'resolution': 0.33560213882152146, 'method': 'leiden', 'dist_metric': 'euclidean', 'louv_clustering_imp': 'igraph', 'leid_clustering_imp': 'igraph'}. Best is trial 105 with value: 0.05710951570912175.\n"
     ]
    },
    {
     "name": "stderr",
     "output_type": "stream",
     "text": [
      "/home/erikserrano/Development/BuSCar/notebooks/1.compound-prioritization/../../utils/heterogeneity.py:113: UserWarning: Ignoring svd_solver='auto' and using randomized, sklearn.decomposition._truncated_svd.TruncatedSVD only supports dict_keys(['arpack', 'randomized']).\n",
      "  sc.pp.pca(\n"
     ]
    },
    {
     "name": "stdout",
     "output_type": "stream",
     "text": [
      "[I 2025-08-07 16:56:09,806] Trial 108 finished with value: 0.05287173702884071 and parameters: {'n_neighbors': 186, 'dim_reduction': 'pca', 'pca_solver': 'auto', 'pca_components': 70, 'resolution': 0.36387957398096377, 'method': 'leiden', 'dist_metric': 'cosine', 'louv_clustering_imp': 'igraph', 'leid_clustering_imp': 'igraph'}. Best is trial 105 with value: 0.05710951570912175.\n",
      "[I 2025-08-07 16:56:49,653] Trial 109 finished with value: 0.05715140693414884 and parameters: {'n_neighbors': 198, 'dim_reduction': 'raw', 'pca_solver': 'auto', 'pca_components': 72, 'resolution': 0.4229132902161477, 'method': 'leiden', 'dist_metric': 'euclidean', 'louv_clustering_imp': 'igraph', 'leid_clustering_imp': 'igraph'}. Best is trial 109 with value: 0.05715140693414884.\n",
      "[I 2025-08-07 16:57:29,481] Trial 110 finished with value: 0.033326374144884985 and parameters: {'n_neighbors': 196, 'dim_reduction': 'raw', 'pca_solver': 'auto', 'pca_components': 73, 'resolution': 0.18299984256379176, 'method': 'leiden', 'dist_metric': 'euclidean', 'louv_clustering_imp': 'igraph', 'leid_clustering_imp': 'igraph'}. Best is trial 109 with value: 0.05715140693414884.\n",
      "[I 2025-08-07 16:58:09,983] Trial 111 finished with value: 0.056787881659941954 and parameters: {'n_neighbors': 200, 'dim_reduction': 'raw', 'pca_solver': 'auto', 'pca_components': 65, 'resolution': 0.42831142190782123, 'method': 'leiden', 'dist_metric': 'euclidean', 'louv_clustering_imp': 'igraph', 'leid_clustering_imp': 'igraph'}. Best is trial 109 with value: 0.05715140693414884.\n",
      "[I 2025-08-07 16:58:49,558] Trial 112 finished with value: 0.056810385840201115 and parameters: {'n_neighbors': 192, 'dim_reduction': 'raw', 'pca_solver': 'auto', 'pca_components': 72, 'resolution': 0.4144207491694705, 'method': 'leiden', 'dist_metric': 'euclidean', 'louv_clustering_imp': 'igraph', 'leid_clustering_imp': 'igraph'}. Best is trial 109 with value: 0.05715140693414884.\n",
      "[I 2025-08-07 16:59:28,447] Trial 113 finished with value: 0.05614692519844766 and parameters: {'n_neighbors': 191, 'dim_reduction': 'raw', 'pca_solver': 'auto', 'pca_components': 73, 'resolution': 0.23503217293738285, 'method': 'leiden', 'dist_metric': 'euclidean', 'louv_clustering_imp': 'igraph', 'leid_clustering_imp': 'igraph'}. Best is trial 109 with value: 0.05715140693414884.\n",
      "[I 2025-08-07 17:00:08,234] Trial 114 finished with value: 0.05688986957756781 and parameters: {'n_neighbors': 196, 'dim_reduction': 'raw', 'pca_solver': 'auto', 'pca_components': 76, 'resolution': 0.40281312660493623, 'method': 'leiden', 'dist_metric': 'euclidean', 'louv_clustering_imp': 'igraph', 'leid_clustering_imp': 'igraph'}. Best is trial 109 with value: 0.05715140693414884.\n",
      "[I 2025-08-07 17:00:47,595] Trial 115 finished with value: 0.05681810090182444 and parameters: {'n_neighbors': 195, 'dim_reduction': 'raw', 'pca_solver': 'auto', 'pca_components': 75, 'resolution': 0.3534116924134603, 'method': 'leiden', 'dist_metric': 'euclidean', 'louv_clustering_imp': 'igraph', 'leid_clustering_imp': 'igraph'}. Best is trial 109 with value: 0.05715140693414884.\n",
      "[I 2025-08-07 17:01:26,970] Trial 116 finished with value: 0.056941400568016116 and parameters: {'n_neighbors': 196, 'dim_reduction': 'raw', 'pca_solver': 'auto', 'pca_components': 81, 'resolution': 0.3431005024385432, 'method': 'leiden', 'dist_metric': 'euclidean', 'louv_clustering_imp': 'igraph', 'leid_clustering_imp': 'igraph'}. Best is trial 109 with value: 0.05715140693414884.\n",
      "[I 2025-08-07 17:02:06,526] Trial 117 finished with value: 0.05648152626938442 and parameters: {'n_neighbors': 196, 'dim_reduction': 'raw', 'pca_solver': 'auto', 'pca_components': 82, 'resolution': 0.2701060232787167, 'method': 'leiden', 'dist_metric': 'euclidean', 'louv_clustering_imp': 'igraph', 'leid_clustering_imp': 'igraph'}. Best is trial 109 with value: 0.05715140693414884.\n",
      "[I 2025-08-07 17:02:46,332] Trial 118 finished with value: 0.05677271324174758 and parameters: {'n_neighbors': 200, 'dim_reduction': 'raw', 'pca_solver': 'auto', 'pca_components': 75, 'resolution': 0.3157851892776848, 'method': 'leiden', 'dist_metric': 'euclidean', 'louv_clustering_imp': 'igraph', 'leid_clustering_imp': 'igraph'}. Best is trial 109 with value: 0.05715140693414884.\n",
      "[I 2025-08-07 17:03:25,019] Trial 119 finished with value: 0.05692762819747989 and parameters: {'n_neighbors': 185, 'dim_reduction': 'raw', 'pca_solver': 'auto', 'pca_components': 90, 'resolution': 0.34521736427956684, 'method': 'leiden', 'dist_metric': 'euclidean', 'louv_clustering_imp': 'igraph', 'leid_clustering_imp': 'igraph'}. Best is trial 109 with value: 0.05715140693414884.\n",
      "[I 2025-08-07 17:04:03,797] Trial 120 finished with value: 0.03377704131686161 and parameters: {'n_neighbors': 183, 'dim_reduction': 'raw', 'pca_solver': 'auto', 'pca_components': 97, 'resolution': 0.14585740561105734, 'method': 'leiden', 'dist_metric': 'euclidean', 'louv_clustering_imp': 'igraph', 'leid_clustering_imp': 'igraph'}. Best is trial 109 with value: 0.05715140693414884.\n",
      "[I 2025-08-07 17:04:43,402] Trial 121 finished with value: 0.05667472916901464 and parameters: {'n_neighbors': 196, 'dim_reduction': 'raw', 'pca_solver': 'auto', 'pca_components': 89, 'resolution': 0.3914352880847093, 'method': 'leiden', 'dist_metric': 'euclidean', 'louv_clustering_imp': 'igraph', 'leid_clustering_imp': 'igraph'}. Best is trial 109 with value: 0.05715140693414884.\n",
      "[I 2025-08-07 17:05:22,400] Trial 122 finished with value: 0.05710951570912175 and parameters: {'n_neighbors': 192, 'dim_reduction': 'raw', 'pca_solver': 'auto', 'pca_components': 79, 'resolution': 0.34934125249673276, 'method': 'leiden', 'dist_metric': 'euclidean', 'louv_clustering_imp': 'igraph', 'leid_clustering_imp': 'igraph'}. Best is trial 109 with value: 0.05715140693414884.\n",
      "[I 2025-08-07 17:06:01,229] Trial 123 finished with value: 0.05645462342386609 and parameters: {'n_neighbors': 191, 'dim_reduction': 'raw', 'pca_solver': 'auto', 'pca_components': 81, 'resolution': 0.25452728976673655, 'method': 'leiden', 'dist_metric': 'euclidean', 'louv_clustering_imp': 'igraph', 'leid_clustering_imp': 'igraph'}. Best is trial 109 with value: 0.05715140693414884.\n",
      "[I 2025-08-07 17:06:38,457] Trial 124 finished with value: 0.05671762343059182 and parameters: {'n_neighbors': 176, 'dim_reduction': 'raw', 'pca_solver': 'auto', 'pca_components': 68, 'resolution': 0.33383961922246097, 'method': 'leiden', 'dist_metric': 'euclidean', 'louv_clustering_imp': 'igraph', 'leid_clustering_imp': 'igraph'}. Best is trial 109 with value: 0.05715140693414884.\n"
     ]
    },
    {
     "name": "stderr",
     "output_type": "stream",
     "text": [
      "`resolution` parameter has no effect for flavor \"igraph\"\n"
     ]
    },
    {
     "name": "stdout",
     "output_type": "stream",
     "text": [
      "[I 2025-08-07 17:07:15,998] Trial 125 finished with value: 0.03729105550199975 and parameters: {'n_neighbors': 184, 'dim_reduction': 'raw', 'pca_solver': 'auto', 'pca_components': 78, 'resolution': 0.29933484781612546, 'method': 'louvain', 'dist_metric': 'euclidean', 'louv_clustering_imp': 'igraph', 'leid_clustering_imp': 'igraph'}. Best is trial 109 with value: 0.05715140693414884.\n",
      "[I 2025-08-07 17:07:54,976] Trial 126 finished with value: 0.05701092972927532 and parameters: {'n_neighbors': 187, 'dim_reduction': 'raw', 'pca_solver': 'auto', 'pca_components': 86, 'resolution': 0.3713966322595074, 'method': 'leiden', 'dist_metric': 'euclidean', 'louv_clustering_imp': 'igraph', 'leid_clustering_imp': 'igraph'}. Best is trial 109 with value: 0.05715140693414884.\n",
      "[I 2025-08-07 17:08:34,257] Trial 127 finished with value: 0.05668552949543123 and parameters: {'n_neighbors': 192, 'dim_reduction': 'raw', 'pca_solver': 'auto', 'pca_components': 93, 'resolution': 0.3645541264090101, 'method': 'leiden', 'dist_metric': 'euclidean', 'louv_clustering_imp': 'igraph', 'leid_clustering_imp': 'igraph'}. Best is trial 109 with value: 0.05715140693414884.\n",
      "[I 2025-08-07 17:09:14,279] Trial 128 finished with value: 0.05679198958798691 and parameters: {'n_neighbors': 198, 'dim_reduction': 'raw', 'pca_solver': 'auto', 'pca_components': 85, 'resolution': 0.4063987501066894, 'method': 'leiden', 'dist_metric': 'euclidean', 'louv_clustering_imp': 'igraph', 'leid_clustering_imp': 'igraph'}. Best is trial 109 with value: 0.05715140693414884.\n"
     ]
    },
    {
     "name": "stderr",
     "output_type": "stream",
     "text": [
      "/home/erikserrano/Development/BuSCar/notebooks/1.compound-prioritization/../../utils/heterogeneity.py:113: UserWarning: Ignoring svd_solver='auto' and using randomized, sklearn.decomposition._truncated_svd.TruncatedSVD only supports dict_keys(['arpack', 'randomized']).\n",
      "  sc.pp.pca(\n"
     ]
    },
    {
     "name": "stdout",
     "output_type": "stream",
     "text": [
      "[I 2025-08-07 17:09:43,967] Trial 129 finished with value: 0.05210260115736375 and parameters: {'n_neighbors': 172, 'dim_reduction': 'pca', 'pca_solver': 'auto', 'pca_components': 85, 'resolution': 0.2294502053455587, 'method': 'leiden', 'dist_metric': 'cosine', 'louv_clustering_imp': 'igraph', 'leid_clustering_imp': 'igraph'}. Best is trial 109 with value: 0.05715140693414884.\n",
      "[I 2025-08-07 17:10:24,148] Trial 130 finished with value: 0.030524011164062274 and parameters: {'n_neighbors': 185, 'dim_reduction': 'raw', 'pca_solver': 'auto', 'pca_components': 80, 'resolution': 1.258720052072791, 'method': 'leiden', 'dist_metric': 'euclidean', 'louv_clustering_imp': 'igraph', 'leid_clustering_imp': 'igraph'}. Best is trial 109 with value: 0.05715140693414884.\n",
      "[I 2025-08-07 17:11:03,411] Trial 131 finished with value: 0.05091098593661003 and parameters: {'n_neighbors': 188, 'dim_reduction': 'raw', 'pca_solver': 'auto', 'pca_components': 90, 'resolution': 0.49063727369788734, 'method': 'leiden', 'dist_metric': 'euclidean', 'louv_clustering_imp': 'igraph', 'leid_clustering_imp': 'igraph'}. Best is trial 109 with value: 0.05715140693414884.\n",
      "[I 2025-08-07 17:11:23,206] Trial 132 finished with value: 0.05583353153972671 and parameters: {'n_neighbors': 88, 'dim_reduction': 'raw', 'pca_solver': 'auto', 'pca_components': 84, 'resolution': 0.3475646756396121, 'method': 'leiden', 'dist_metric': 'euclidean', 'louv_clustering_imp': 'igraph', 'leid_clustering_imp': 'igraph'}. Best is trial 109 with value: 0.05715140693414884.\n",
      "[I 2025-08-07 17:12:02,230] Trial 133 finished with value: 0.05663363631971791 and parameters: {'n_neighbors': 190, 'dim_reduction': 'raw', 'pca_solver': 'auto', 'pca_components': 77, 'resolution': 0.285567472157267, 'method': 'leiden', 'dist_metric': 'euclidean', 'louv_clustering_imp': 'igraph', 'leid_clustering_imp': 'igraph'}. Best is trial 109 with value: 0.05715140693414884.\n",
      "[I 2025-08-07 17:12:42,301] Trial 134 finished with value: 0.056767237360241966 and parameters: {'n_neighbors': 200, 'dim_reduction': 'raw', 'pca_solver': 'auto', 'pca_components': 92, 'resolution': 0.39857011371763496, 'method': 'leiden', 'dist_metric': 'euclidean', 'louv_clustering_imp': 'igraph', 'leid_clustering_imp': 'igraph'}. Best is trial 109 with value: 0.05715140693414884.\n",
      "[I 2025-08-07 17:13:22,011] Trial 135 finished with value: 0.050776101471736064 and parameters: {'n_neighbors': 194, 'dim_reduction': 'raw', 'pca_solver': 'auto', 'pca_components': 88, 'resolution': 0.5476318806417392, 'method': 'leiden', 'dist_metric': 'euclidean', 'louv_clustering_imp': 'igraph', 'leid_clustering_imp': 'igraph'}. Best is trial 109 with value: 0.05715140693414884.\n",
      "[I 2025-08-07 17:14:00,404] Trial 136 finished with value: 0.056638453653219886 and parameters: {'n_neighbors': 186, 'dim_reduction': 'raw', 'pca_solver': 'auto', 'pca_components': 83, 'resolution': 0.33599729537456974, 'method': 'leiden', 'dist_metric': 'euclidean', 'louv_clustering_imp': 'igraph', 'leid_clustering_imp': 'igraph'}. Best is trial 109 with value: 0.05715140693414884.\n",
      "[I 2025-08-07 17:14:38,233] Trial 137 finished with value: 0.051013293233239464 and parameters: {'n_neighbors': 179, 'dim_reduction': 'raw', 'pca_solver': 'auto', 'pca_components': 70, 'resolution': 0.4989859161040852, 'method': 'leiden', 'dist_metric': 'euclidean', 'louv_clustering_imp': 'igraph', 'leid_clustering_imp': 'igraph'}. Best is trial 109 with value: 0.05715140693414884.\n",
      "[I 2025-08-07 17:15:17,623] Trial 138 finished with value: 0.05676236760037257 and parameters: {'n_neighbors': 193, 'dim_reduction': 'raw', 'pca_solver': 'auto', 'pca_components': 64, 'resolution': 0.37812038564941425, 'method': 'leiden', 'dist_metric': 'euclidean', 'louv_clustering_imp': 'igraph', 'leid_clustering_imp': 'igraph'}. Best is trial 109 with value: 0.05715140693414884.\n",
      "[I 2025-08-07 17:15:54,744] Trial 139 finished with value: 0.056749322962933176 and parameters: {'n_neighbors': 177, 'dim_reduction': 'raw', 'pca_solver': 'auto', 'pca_components': 67, 'resolution': 0.41617723380078264, 'method': 'leiden', 'dist_metric': 'euclidean', 'louv_clustering_imp': 'igraph', 'leid_clustering_imp': 'igraph'}. Best is trial 109 with value: 0.05715140693414884.\n",
      "[I 2025-08-07 17:16:33,635] Trial 140 finished with value: 0.056864694887385145 and parameters: {'n_neighbors': 188, 'dim_reduction': 'raw', 'pca_solver': 'auto', 'pca_components': 88, 'resolution': 0.29870580392811497, 'method': 'leiden', 'dist_metric': 'euclidean', 'louv_clustering_imp': 'igraph', 'leid_clustering_imp': 'igraph'}. Best is trial 109 with value: 0.05715140693414884.\n",
      "[I 2025-08-07 17:17:12,907] Trial 141 finished with value: 0.05659429642260992 and parameters: {'n_neighbors': 188, 'dim_reduction': 'raw', 'pca_solver': 'auto', 'pca_components': 87, 'resolution': 0.30501352615357935, 'method': 'leiden', 'dist_metric': 'euclidean', 'louv_clustering_imp': 'igraph', 'leid_clustering_imp': 'igraph'}. Best is trial 109 with value: 0.05715140693414884.\n",
      "[I 2025-08-07 17:17:51,311] Trial 142 finished with value: 0.05678659270270489 and parameters: {'n_neighbors': 183, 'dim_reduction': 'raw', 'pca_solver': 'auto', 'pca_components': 95, 'resolution': 0.4298773989540713, 'method': 'leiden', 'dist_metric': 'euclidean', 'louv_clustering_imp': 'igraph', 'leid_clustering_imp': 'igraph'}. Best is trial 109 with value: 0.05715140693414884.\n",
      "[I 2025-08-07 17:18:30,926] Trial 143 finished with value: 0.05631301536955962 and parameters: {'n_neighbors': 197, 'dim_reduction': 'raw', 'pca_solver': 'auto', 'pca_components': 87, 'resolution': 0.27328639357071627, 'method': 'leiden', 'dist_metric': 'euclidean', 'louv_clustering_imp': 'igraph', 'leid_clustering_imp': 'igraph'}. Best is trial 109 with value: 0.05715140693414884.\n",
      "[I 2025-08-07 17:19:09,378] Trial 144 finished with value: 0.0561065985513001 and parameters: {'n_neighbors': 189, 'dim_reduction': 'raw', 'pca_solver': 'auto', 'pca_components': 80, 'resolution': 0.1874463746395019, 'method': 'leiden', 'dist_metric': 'euclidean', 'louv_clustering_imp': 'igraph', 'leid_clustering_imp': 'igraph'}. Best is trial 109 with value: 0.05715140693414884.\n",
      "[I 2025-08-07 17:19:48,262] Trial 145 finished with value: 0.05681990175584077 and parameters: {'n_neighbors': 193, 'dim_reduction': 'raw', 'pca_solver': 'auto', 'pca_components': 75, 'resolution': 0.3647720006523005, 'method': 'leiden', 'dist_metric': 'euclidean', 'louv_clustering_imp': 'igraph', 'leid_clustering_imp': 'igraph'}. Best is trial 109 with value: 0.05715140693414884.\n",
      "[I 2025-08-07 17:20:29,971] Trial 146 finished with value: 0.04057937215071033 and parameters: {'n_neighbors': 200, 'dim_reduction': 'raw', 'pca_solver': 'auto', 'pca_components': 78, 'resolution': 0.8955042420016202, 'method': 'leiden', 'dist_metric': 'euclidean', 'louv_clustering_imp': 'igraph', 'leid_clustering_imp': 'igraph'}. Best is trial 109 with value: 0.05715140693414884.\n"
     ]
    },
    {
     "name": "stderr",
     "output_type": "stream",
     "text": [
      "`resolution` parameter has no effect for flavor \"igraph\"\n"
     ]
    },
    {
     "name": "stdout",
     "output_type": "stream",
     "text": [
      "[I 2025-08-07 17:21:07,468] Trial 147 finished with value: 0.049111794364566246 and parameters: {'n_neighbors': 184, 'dim_reduction': 'raw', 'pca_solver': 'auto', 'pca_components': 71, 'resolution': 0.3143775272640147, 'method': 'louvain', 'dist_metric': 'euclidean', 'louv_clustering_imp': 'igraph', 'leid_clustering_imp': 'igraph'}. Best is trial 109 with value: 0.05715140693414884.\n",
      "[I 2025-08-07 17:21:46,966] Trial 148 finished with value: 0.05647093296179137 and parameters: {'n_neighbors': 196, 'dim_reduction': 'raw', 'pca_solver': 'auto', 'pca_components': 66, 'resolution': 0.2477964738589387, 'method': 'leiden', 'dist_metric': 'euclidean', 'louv_clustering_imp': 'igraph', 'leid_clustering_imp': 'igraph'}. Best is trial 109 with value: 0.05715140693414884.\n",
      "[I 2025-08-07 17:22:23,331] Trial 149 finished with value: 0.05141430795215487 and parameters: {'n_neighbors': 190, 'dim_reduction': 'raw', 'pca_solver': 'auto', 'pca_components': 68, 'resolution': 0.48658238033940276, 'method': 'leiden', 'dist_metric': 'euclidean', 'louv_clustering_imp': 'igraph', 'leid_clustering_imp': 'igraph'}. Best is trial 109 with value: 0.05715140693414884.\n"
     ]
    },
    {
     "name": "stderr",
     "output_type": "stream",
     "text": [
      "/home/erikserrano/Development/BuSCar/notebooks/1.compound-prioritization/../../utils/heterogeneity.py:113: UserWarning: Ignoring svd_solver='auto' and using randomized, sklearn.decomposition._truncated_svd.TruncatedSVD only supports dict_keys(['arpack', 'randomized']).\n",
      "  sc.pp.pca(\n"
     ]
    },
    {
     "name": "stdout",
     "output_type": "stream",
     "text": [
      "[I 2025-08-07 17:22:32,385] Trial 150 finished with value: 0.03965073618620676 and parameters: {'n_neighbors': 49, 'dim_reduction': 'pca', 'pca_solver': 'auto', 'pca_components': 74, 'resolution': 0.5321465601060515, 'method': 'leiden', 'dist_metric': 'euclidean', 'louv_clustering_imp': 'igraph', 'leid_clustering_imp': 'igraph'}. Best is trial 109 with value: 0.05715140693414884.\n",
      "[I 2025-08-07 17:23:11,939] Trial 151 finished with value: 0.056887980099791124 and parameters: {'n_neighbors': 192, 'dim_reduction': 'raw', 'pca_solver': 'auto', 'pca_components': 75, 'resolution': 0.37283867133654125, 'method': 'leiden', 'dist_metric': 'euclidean', 'louv_clustering_imp': 'igraph', 'leid_clustering_imp': 'igraph'}. Best is trial 109 with value: 0.05715140693414884.\n",
      "[I 2025-08-07 17:23:50,607] Trial 152 finished with value: 0.05664853364215283 and parameters: {'n_neighbors': 187, 'dim_reduction': 'raw', 'pca_solver': 'auto', 'pca_components': 77, 'resolution': 0.38362470806964716, 'method': 'leiden', 'dist_metric': 'euclidean', 'louv_clustering_imp': 'igraph', 'leid_clustering_imp': 'igraph'}. Best is trial 109 with value: 0.05715140693414884.\n",
      "[I 2025-08-07 17:24:30,526] Trial 153 finished with value: 0.05701737196316238 and parameters: {'n_neighbors': 195, 'dim_reduction': 'raw', 'pca_solver': 'auto', 'pca_components': 82, 'resolution': 0.4283357594329848, 'method': 'leiden', 'dist_metric': 'euclidean', 'louv_clustering_imp': 'igraph', 'leid_clustering_imp': 'igraph'}. Best is trial 109 with value: 0.05715140693414884.\n",
      "[I 2025-08-07 17:25:12,306] Trial 154 finished with value: 0.013348999081959174 and parameters: {'n_neighbors': 195, 'dim_reduction': 'raw', 'pca_solver': 'auto', 'pca_components': 83, 'resolution': 1.9801281084273832, 'method': 'leiden', 'dist_metric': 'euclidean', 'louv_clustering_imp': 'igraph', 'leid_clustering_imp': 'igraph'}. Best is trial 109 with value: 0.05715140693414884.\n",
      "[I 2025-08-07 17:25:51,324] Trial 155 finished with value: 0.05677511814477027 and parameters: {'n_neighbors': 191, 'dim_reduction': 'raw', 'pca_solver': 'auto', 'pca_components': 79, 'resolution': 0.33830525383437837, 'method': 'leiden', 'dist_metric': 'euclidean', 'louv_clustering_imp': 'igraph', 'leid_clustering_imp': 'igraph'}. Best is trial 109 with value: 0.05715140693414884.\n",
      "[I 2025-08-07 17:26:33,751] Trial 156 finished with value: 0.04739766199730856 and parameters: {'n_neighbors': 197, 'dim_reduction': 'raw', 'pca_solver': 'auto', 'pca_components': 86, 'resolution': 0.42234197519803374, 'method': 'leiden', 'dist_metric': 'cosine', 'louv_clustering_imp': 'igraph', 'leid_clustering_imp': 'igraph'}. Best is trial 109 with value: 0.05715140693414884.\n",
      "[I 2025-08-07 17:27:14,193] Trial 157 finished with value: 0.0566679109170519 and parameters: {'n_neighbors': 200, 'dim_reduction': 'raw', 'pca_solver': 'auto', 'pca_components': 82, 'resolution': 0.3844108960370074, 'method': 'leiden', 'dist_metric': 'euclidean', 'louv_clustering_imp': 'igraph', 'leid_clustering_imp': 'igraph'}. Best is trial 109 with value: 0.05715140693414884.\n",
      "[I 2025-08-07 17:27:51,938] Trial 158 finished with value: 0.05647423341919126 and parameters: {'n_neighbors': 180, 'dim_reduction': 'raw', 'pca_solver': 'auto', 'pca_components': 69, 'resolution': 0.29469811700022874, 'method': 'leiden', 'dist_metric': 'euclidean', 'louv_clustering_imp': 'igraph', 'leid_clustering_imp': 'igraph'}. Best is trial 109 with value: 0.05715140693414884.\n",
      "[I 2025-08-07 17:28:31,371] Trial 159 finished with value: 0.0567846912099693 and parameters: {'n_neighbors': 193, 'dim_reduction': 'raw', 'pca_solver': 'auto', 'pca_components': 72, 'resolution': 0.4382380116028898, 'method': 'leiden', 'dist_metric': 'euclidean', 'louv_clustering_imp': 'igraph', 'leid_clustering_imp': 'igraph'}. Best is trial 109 with value: 0.05715140693414884.\n",
      "[I 2025-08-07 17:29:09,405] Trial 160 finished with value: 0.05667850584228868 and parameters: {'n_neighbors': 184, 'dim_reduction': 'raw', 'pca_solver': 'auto', 'pca_components': 90, 'resolution': 0.35700858768776905, 'method': 'leiden', 'dist_metric': 'euclidean', 'louv_clustering_imp': 'igraph', 'leid_clustering_imp': 'igraph'}. Best is trial 109 with value: 0.05715140693414884.\n",
      "[I 2025-08-07 17:29:48,425] Trial 161 finished with value: 0.05675123137994593 and parameters: {'n_neighbors': 188, 'dim_reduction': 'raw', 'pca_solver': 'auto', 'pca_components': 76, 'resolution': 0.4473118751096338, 'method': 'leiden', 'dist_metric': 'euclidean', 'louv_clustering_imp': 'igraph', 'leid_clustering_imp': 'igraph'}. Best is trial 109 with value: 0.05715140693414884.\n",
      "[I 2025-08-07 17:30:28,095] Trial 162 finished with value: 0.05684218496197293 and parameters: {'n_neighbors': 194, 'dim_reduction': 'raw', 'pca_solver': 'auto', 'pca_components': 80, 'resolution': 0.40803115897867204, 'method': 'leiden', 'dist_metric': 'euclidean', 'louv_clustering_imp': 'igraph', 'leid_clustering_imp': 'igraph'}. Best is trial 109 with value: 0.05715140693414884.\n",
      "[I 2025-08-07 17:31:04,822] Trial 163 finished with value: 0.05691553806126745 and parameters: {'n_neighbors': 195, 'dim_reduction': 'raw', 'pca_solver': 'auto', 'pca_components': 81, 'resolution': 0.4035626839016426, 'method': 'leiden', 'dist_metric': 'euclidean', 'louv_clustering_imp': 'igraph', 'leid_clustering_imp': 'igraph'}. Best is trial 109 with value: 0.05715140693414884.\n",
      "[I 2025-08-07 17:31:41,119] Trial 164 finished with value: 0.05663048556629292 and parameters: {'n_neighbors': 197, 'dim_reduction': 'raw', 'pca_solver': 'auto', 'pca_components': 83, 'resolution': 0.33428391369825544, 'method': 'leiden', 'dist_metric': 'euclidean', 'louv_clustering_imp': 'igraph', 'leid_clustering_imp': 'igraph'}. Best is trial 109 with value: 0.05715140693414884.\n",
      "[I 2025-08-07 17:32:17,338] Trial 165 finished with value: 0.05670867163156778 and parameters: {'n_neighbors': 191, 'dim_reduction': 'raw', 'pca_solver': 'auto', 'pca_components': 63, 'resolution': 0.3776037360164354, 'method': 'leiden', 'dist_metric': 'euclidean', 'louv_clustering_imp': 'igraph', 'leid_clustering_imp': 'igraph'}. Best is trial 109 with value: 0.05715140693414884.\n",
      "[I 2025-08-07 17:32:56,258] Trial 166 finished with value: 0.03734141161312318 and parameters: {'n_neighbors': 200, 'dim_reduction': 'raw', 'pca_solver': 'auto', 'pca_components': 81, 'resolution': 1.02369012093393, 'method': 'leiden', 'dist_metric': 'euclidean', 'louv_clustering_imp': 'igraph', 'leid_clustering_imp': 'igraph'}. Best is trial 109 with value: 0.05715140693414884.\n",
      "[I 2025-08-07 17:33:32,411] Trial 167 finished with value: 0.05630287158916328 and parameters: {'n_neighbors': 194, 'dim_reduction': 'raw', 'pca_solver': 'auto', 'pca_components': 74, 'resolution': 0.2730767653072105, 'method': 'leiden', 'dist_metric': 'euclidean', 'louv_clustering_imp': 'igraph', 'leid_clustering_imp': 'igraph'}. Best is trial 109 with value: 0.05715140693414884.\n",
      "[I 2025-08-07 17:34:07,971] Trial 168 finished with value: 0.05095154651157007 and parameters: {'n_neighbors': 182, 'dim_reduction': 'raw', 'pca_solver': 'auto', 'pca_components': 94, 'resolution': 0.4863945369973024, 'method': 'leiden', 'dist_metric': 'euclidean', 'louv_clustering_imp': 'igraph', 'leid_clustering_imp': 'igraph'}. Best is trial 109 with value: 0.05715140693414884.\n"
     ]
    },
    {
     "name": "stderr",
     "output_type": "stream",
     "text": [
      "`resolution` parameter has no effect for flavor \"igraph\"\n"
     ]
    },
    {
     "name": "stdout",
     "output_type": "stream",
     "text": [
      "[I 2025-08-07 17:34:44,615] Trial 169 finished with value: 0.03769037235593078 and parameters: {'n_neighbors': 190, 'dim_reduction': 'raw', 'pca_solver': 'auto', 'pca_components': 87, 'resolution': 0.3235246615267555, 'method': 'louvain', 'dist_metric': 'euclidean', 'louv_clustering_imp': 'igraph', 'leid_clustering_imp': 'igraph'}. Best is trial 109 with value: 0.05715140693414884.\n",
      "[I 2025-08-07 17:35:18,880] Trial 170 finished with value: 0.05668785534465304 and parameters: {'n_neighbors': 175, 'dim_reduction': 'raw', 'pca_solver': 'auto', 'pca_components': 42, 'resolution': 0.4006186948560928, 'method': 'leiden', 'dist_metric': 'euclidean', 'louv_clustering_imp': 'igraph', 'leid_clustering_imp': 'igraph'}. Best is trial 109 with value: 0.05715140693414884.\n",
      "[I 2025-08-07 17:35:55,144] Trial 171 finished with value: 0.05681144384773893 and parameters: {'n_neighbors': 195, 'dim_reduction': 'raw', 'pca_solver': 'auto', 'pca_components': 80, 'resolution': 0.4238847949823712, 'method': 'leiden', 'dist_metric': 'euclidean', 'louv_clustering_imp': 'igraph', 'leid_clustering_imp': 'igraph'}. Best is trial 109 with value: 0.05715140693414884.\n",
      "[I 2025-08-07 17:36:30,149] Trial 172 finished with value: 0.05672563376665189 and parameters: {'n_neighbors': 186, 'dim_reduction': 'raw', 'pca_solver': 'auto', 'pca_components': 78, 'resolution': 0.41433624475636194, 'method': 'leiden', 'dist_metric': 'euclidean', 'louv_clustering_imp': 'igraph', 'leid_clustering_imp': 'igraph'}. Best is trial 109 with value: 0.05715140693414884.\n",
      "[I 2025-08-07 17:37:06,089] Trial 173 finished with value: 0.05687861053131147 and parameters: {'n_neighbors': 192, 'dim_reduction': 'raw', 'pca_solver': 'auto', 'pca_components': 76, 'resolution': 0.35857811932243355, 'method': 'leiden', 'dist_metric': 'euclidean', 'louv_clustering_imp': 'igraph', 'leid_clustering_imp': 'igraph'}. Best is trial 109 with value: 0.05715140693414884.\n",
      "[I 2025-08-07 17:37:41,571] Trial 174 finished with value: 0.056950064427191305 and parameters: {'n_neighbors': 190, 'dim_reduction': 'raw', 'pca_solver': 'auto', 'pca_components': 76, 'resolution': 0.3417348709367508, 'method': 'leiden', 'dist_metric': 'euclidean', 'louv_clustering_imp': 'igraph', 'leid_clustering_imp': 'igraph'}. Best is trial 109 with value: 0.05715140693414884.\n",
      "[I 2025-08-07 17:38:17,303] Trial 175 finished with value: 0.05619540111852097 and parameters: {'n_neighbors': 191, 'dim_reduction': 'raw', 'pca_solver': 'auto', 'pca_components': 76, 'resolution': 0.22293778142223922, 'method': 'leiden', 'dist_metric': 'euclidean', 'louv_clustering_imp': 'igraph', 'leid_clustering_imp': 'igraph'}. Best is trial 109 with value: 0.05715140693414884.\n",
      "[I 2025-08-07 17:38:56,801] Trial 176 finished with value: 0.05687911367696566 and parameters: {'n_neighbors': 198, 'dim_reduction': 'raw', 'pca_solver': 'auto', 'pca_components': 73, 'resolution': 0.351092878809023, 'method': 'leiden', 'dist_metric': 'euclidean', 'louv_clustering_imp': 'igraph', 'leid_clustering_imp': 'igraph'}. Best is trial 109 with value: 0.05715140693414884.\n",
      "[I 2025-08-07 17:39:36,704] Trial 177 finished with value: 0.05638364575913396 and parameters: {'n_neighbors': 200, 'dim_reduction': 'raw', 'pca_solver': 'auto', 'pca_components': 70, 'resolution': 0.3005700144595475, 'method': 'leiden', 'dist_metric': 'euclidean', 'louv_clustering_imp': 'igraph', 'leid_clustering_imp': 'igraph'}. Best is trial 109 with value: 0.05715140693414884.\n",
      "[I 2025-08-07 17:40:15,386] Trial 178 finished with value: 0.05696150121887954 and parameters: {'n_neighbors': 187, 'dim_reduction': 'raw', 'pca_solver': 'auto', 'pca_components': 91, 'resolution': 0.34675408776513816, 'method': 'leiden', 'dist_metric': 'euclidean', 'louv_clustering_imp': 'igraph', 'leid_clustering_imp': 'igraph'}. Best is trial 109 with value: 0.05715140693414884.\n",
      "[I 2025-08-07 17:40:54,919] Trial 179 finished with value: 0.057057496286361906 and parameters: {'n_neighbors': 197, 'dim_reduction': 'raw', 'pca_solver': 'auto', 'pca_components': 76, 'resolution': 0.35130574888729993, 'method': 'leiden', 'dist_metric': 'euclidean', 'louv_clustering_imp': 'igraph', 'leid_clustering_imp': 'igraph'}. Best is trial 109 with value: 0.05715140693414884.\n"
     ]
    },
    {
     "name": "stderr",
     "output_type": "stream",
     "text": [
      "/home/erikserrano/Development/BuSCar/notebooks/1.compound-prioritization/../../utils/heterogeneity.py:113: UserWarning: Ignoring svd_solver='auto' and using randomized, sklearn.decomposition._truncated_svd.TruncatedSVD only supports dict_keys(['arpack', 'randomized']).\n",
      "  sc.pp.pca(\n"
     ]
    },
    {
     "name": "stdout",
     "output_type": "stream",
     "text": [
      "[I 2025-08-07 17:41:14,185] Trial 180 finished with value: 0.05136689676819235 and parameters: {'n_neighbors': 111, 'dim_reduction': 'pca', 'pca_solver': 'auto', 'pca_components': 91, 'resolution': 0.33965335144298614, 'method': 'leiden', 'dist_metric': 'euclidean', 'louv_clustering_imp': 'igraph', 'leid_clustering_imp': 'igraph'}. Best is trial 109 with value: 0.05715140693414884.\n",
      "[I 2025-08-07 17:41:53,809] Trial 181 finished with value: 0.05706826458964796 and parameters: {'n_neighbors': 197, 'dim_reduction': 'raw', 'pca_solver': 'auto', 'pca_components': 77, 'resolution': 0.354976892499298, 'method': 'leiden', 'dist_metric': 'euclidean', 'louv_clustering_imp': 'igraph', 'leid_clustering_imp': 'igraph'}. Best is trial 109 with value: 0.05715140693414884.\n",
      "[I 2025-08-07 17:42:30,940] Trial 182 finished with value: 0.056830486327956196 and parameters: {'n_neighbors': 197, 'dim_reduction': 'raw', 'pca_solver': 'auto', 'pca_components': 74, 'resolution': 0.3618863058077219, 'method': 'leiden', 'dist_metric': 'euclidean', 'louv_clustering_imp': 'igraph', 'leid_clustering_imp': 'igraph'}. Best is trial 109 with value: 0.05715140693414884.\n",
      "[I 2025-08-07 17:43:07,751] Trial 183 finished with value: 0.05627189173990124 and parameters: {'n_neighbors': 197, 'dim_reduction': 'raw', 'pca_solver': 'auto', 'pca_components': 78, 'resolution': 0.26938092979293105, 'method': 'leiden', 'dist_metric': 'euclidean', 'louv_clustering_imp': 'igraph', 'leid_clustering_imp': 'igraph'}. Best is trial 109 with value: 0.05715140693414884.\n",
      "[I 2025-08-07 17:43:43,761] Trial 184 finished with value: 0.056879605684036105 and parameters: {'n_neighbors': 193, 'dim_reduction': 'raw', 'pca_solver': 'auto', 'pca_components': 77, 'resolution': 0.3171998316718031, 'method': 'leiden', 'dist_metric': 'euclidean', 'louv_clustering_imp': 'igraph', 'leid_clustering_imp': 'igraph'}. Best is trial 109 with value: 0.05715140693414884.\n",
      "[I 2025-08-07 17:44:22,320] Trial 185 finished with value: 0.04950458845427198 and parameters: {'n_neighbors': 186, 'dim_reduction': 'raw', 'pca_solver': 'auto', 'pca_components': 82, 'resolution': 0.31946644302744875, 'method': 'leiden', 'dist_metric': 'cosine', 'louv_clustering_imp': 'igraph', 'leid_clustering_imp': 'igraph'}. Best is trial 109 with value: 0.05715140693414884.\n",
      "[I 2025-08-07 17:44:57,883] Trial 186 finished with value: 0.05652428972353492 and parameters: {'n_neighbors': 191, 'dim_reduction': 'raw', 'pca_solver': 'auto', 'pca_components': 77, 'resolution': 0.24672264363015253, 'method': 'leiden', 'dist_metric': 'euclidean', 'louv_clustering_imp': 'igraph', 'leid_clustering_imp': 'igraph'}. Best is trial 109 with value: 0.05715140693414884.\n",
      "[I 2025-08-07 17:45:34,028] Trial 187 finished with value: 0.056816291070652156 and parameters: {'n_neighbors': 194, 'dim_reduction': 'raw', 'pca_solver': 'auto', 'pca_components': 79, 'resolution': 0.45922238522585934, 'method': 'leiden', 'dist_metric': 'euclidean', 'louv_clustering_imp': 'igraph', 'leid_clustering_imp': 'igraph'}. Best is trial 109 with value: 0.05715140693414884.\n",
      "[I 2025-08-07 17:46:09,138] Trial 188 finished with value: 0.05696839506771822 and parameters: {'n_neighbors': 184, 'dim_reduction': 'raw', 'pca_solver': 'auto', 'pca_components': 85, 'resolution': 0.39078102519328356, 'method': 'leiden', 'dist_metric': 'euclidean', 'louv_clustering_imp': 'igraph', 'leid_clustering_imp': 'igraph'}. Best is trial 109 with value: 0.05715140693414884.\n",
      "[I 2025-08-07 17:46:44,419] Trial 189 finished with value: 0.05677123226735061 and parameters: {'n_neighbors': 185, 'dim_reduction': 'raw', 'pca_solver': 'auto', 'pca_components': 84, 'resolution': 0.3887240117788845, 'method': 'leiden', 'dist_metric': 'euclidean', 'louv_clustering_imp': 'igraph', 'leid_clustering_imp': 'igraph'}. Best is trial 109 with value: 0.05715140693414884.\n",
      "[I 2025-08-07 17:47:19,317] Trial 190 finished with value: 0.056782382098317784 and parameters: {'n_neighbors': 181, 'dim_reduction': 'raw', 'pca_solver': 'auto', 'pca_components': 85, 'resolution': 0.4372681726458678, 'method': 'leiden', 'dist_metric': 'euclidean', 'louv_clustering_imp': 'igraph', 'leid_clustering_imp': 'igraph'}. Best is trial 109 with value: 0.05715140693414884.\n",
      "[I 2025-08-07 17:47:54,990] Trial 191 finished with value: 0.056691305197618475 and parameters: {'n_neighbors': 189, 'dim_reduction': 'raw', 'pca_solver': 'auto', 'pca_components': 81, 'resolution': 0.3292831516982449, 'method': 'leiden', 'dist_metric': 'euclidean', 'louv_clustering_imp': 'igraph', 'leid_clustering_imp': 'igraph'}. Best is trial 109 with value: 0.05715140693414884.\n",
      "[I 2025-08-07 17:48:31,000] Trial 192 finished with value: 0.056775469680267525 and parameters: {'n_neighbors': 193, 'dim_reduction': 'raw', 'pca_solver': 'auto', 'pca_components': 75, 'resolution': 0.3774246097240255, 'method': 'leiden', 'dist_metric': 'euclidean', 'louv_clustering_imp': 'igraph', 'leid_clustering_imp': 'igraph'}. Best is trial 109 with value: 0.05715140693414884.\n",
      "[I 2025-08-07 17:49:06,467] Trial 193 finished with value: 0.056913843143364375 and parameters: {'n_neighbors': 189, 'dim_reduction': 'raw', 'pca_solver': 'auto', 'pca_components': 79, 'resolution': 0.2980551919698722, 'method': 'leiden', 'dist_metric': 'euclidean', 'louv_clustering_imp': 'igraph', 'leid_clustering_imp': 'igraph'}. Best is trial 109 with value: 0.05715140693414884.\n",
      "[I 2025-08-07 17:49:41,725] Trial 194 finished with value: 0.056726610625538174 and parameters: {'n_neighbors': 187, 'dim_reduction': 'raw', 'pca_solver': 'auto', 'pca_components': 79, 'resolution': 0.40037095125236305, 'method': 'leiden', 'dist_metric': 'euclidean', 'louv_clustering_imp': 'igraph', 'leid_clustering_imp': 'igraph'}. Best is trial 109 with value: 0.05715140693414884.\n",
      "[I 2025-08-07 17:50:18,428] Trial 195 finished with value: 0.05654776011154818 and parameters: {'n_neighbors': 200, 'dim_reduction': 'raw', 'pca_solver': 'auto', 'pca_components': 89, 'resolution': 0.27149863900958715, 'method': 'leiden', 'dist_metric': 'euclidean', 'louv_clustering_imp': 'igraph', 'leid_clustering_imp': 'igraph'}. Best is trial 109 with value: 0.05715140693414884.\n",
      "[I 2025-08-07 17:50:53,379] Trial 196 finished with value: 0.05696834336243434 and parameters: {'n_neighbors': 182, 'dim_reduction': 'raw', 'pca_solver': 'auto', 'pca_components': 82, 'resolution': 0.35500754813607016, 'method': 'leiden', 'dist_metric': 'euclidean', 'louv_clustering_imp': 'igraph', 'leid_clustering_imp': 'igraph'}. Best is trial 109 with value: 0.05715140693414884.\n",
      "[I 2025-08-07 17:51:28,291] Trial 197 finished with value: 0.05673930490160614 and parameters: {'n_neighbors': 183, 'dim_reduction': 'raw', 'pca_solver': 'auto', 'pca_components': 83, 'resolution': 0.35659640909364315, 'method': 'leiden', 'dist_metric': 'euclidean', 'louv_clustering_imp': 'igraph', 'leid_clustering_imp': 'igraph'}. Best is trial 109 with value: 0.05715140693414884.\n",
      "[I 2025-08-07 17:52:03,092] Trial 198 finished with value: 0.056654365368849456 and parameters: {'n_neighbors': 180, 'dim_reduction': 'raw', 'pca_solver': 'auto', 'pca_components': 81, 'resolution': 0.36381561033245774, 'method': 'leiden', 'dist_metric': 'euclidean', 'louv_clustering_imp': 'igraph', 'leid_clustering_imp': 'igraph'}. Best is trial 109 with value: 0.05715140693414884.\n",
      "[I 2025-08-07 17:52:39,926] Trial 199 finished with value: 0.03832472532870806 and parameters: {'n_neighbors': 189, 'dim_reduction': 'raw', 'pca_solver': 'auto', 'pca_components': 85, 'resolution': 1.1074042085549467, 'method': 'leiden', 'dist_metric': 'euclidean', 'louv_clustering_imp': 'igraph', 'leid_clustering_imp': 'igraph'}. Best is trial 109 with value: 0.05715140693414884.\n",
      "[I 2025-08-07 17:53:13,960] Trial 200 finished with value: 0.05677029906936978 and parameters: {'n_neighbors': 177, 'dim_reduction': 'raw', 'pca_solver': 'auto', 'pca_components': 79, 'resolution': 0.3258352464158554, 'method': 'leiden', 'dist_metric': 'euclidean', 'louv_clustering_imp': 'igraph', 'leid_clustering_imp': 'igraph'}. Best is trial 109 with value: 0.05715140693414884.\n",
      "[I 2025-08-07 17:53:49,993] Trial 201 finished with value: 0.056918556687726635 and parameters: {'n_neighbors': 196, 'dim_reduction': 'raw', 'pca_solver': 'auto', 'pca_components': 82, 'resolution': 0.4383328795357321, 'method': 'leiden', 'dist_metric': 'euclidean', 'louv_clustering_imp': 'igraph', 'leid_clustering_imp': 'igraph'}. Best is trial 109 with value: 0.05715140693414884.\n",
      "[I 2025-08-07 17:54:26,848] Trial 202 finished with value: 0.05686325863014221 and parameters: {'n_neighbors': 195, 'dim_reduction': 'raw', 'pca_solver': 'auto', 'pca_components': 81, 'resolution': 0.46972607238844166, 'method': 'leiden', 'dist_metric': 'euclidean', 'louv_clustering_imp': 'igraph', 'leid_clustering_imp': 'igraph'}. Best is trial 109 with value: 0.05715140693414884.\n",
      "[I 2025-08-07 17:55:02,164] Trial 203 finished with value: 0.0568045568876924 and parameters: {'n_neighbors': 190, 'dim_reduction': 'raw', 'pca_solver': 'auto', 'pca_components': 83, 'resolution': 0.39095633326757495, 'method': 'leiden', 'dist_metric': 'euclidean', 'louv_clustering_imp': 'igraph', 'leid_clustering_imp': 'igraph'}. Best is trial 109 with value: 0.05715140693414884.\n",
      "[I 2025-08-07 17:55:37,022] Trial 204 finished with value: 0.05686666213777927 and parameters: {'n_neighbors': 186, 'dim_reduction': 'raw', 'pca_solver': 'auto', 'pca_components': 87, 'resolution': 0.28848854077104863, 'method': 'leiden', 'dist_metric': 'euclidean', 'louv_clustering_imp': 'igraph', 'leid_clustering_imp': 'igraph'}. Best is trial 109 with value: 0.05715140693414884.\n",
      "[I 2025-08-07 17:56:13,126] Trial 205 finished with value: 0.05710119471107793 and parameters: {'n_neighbors': 195, 'dim_reduction': 'raw', 'pca_solver': 'auto', 'pca_components': 66, 'resolution': 0.42128084938204213, 'method': 'leiden', 'dist_metric': 'euclidean', 'louv_clustering_imp': 'igraph', 'leid_clustering_imp': 'igraph'}. Best is trial 109 with value: 0.05715140693414884.\n",
      "[I 2025-08-07 17:56:49,157] Trial 206 finished with value: 0.05715494741804244 and parameters: {'n_neighbors': 196, 'dim_reduction': 'raw', 'pca_solver': 'auto', 'pca_components': 66, 'resolution': 0.4257082504967855, 'method': 'leiden', 'dist_metric': 'euclidean', 'louv_clustering_imp': 'igraph', 'leid_clustering_imp': 'igraph'}. Best is trial 206 with value: 0.05715494741804244.\n"
     ]
    },
    {
     "name": "stderr",
     "output_type": "stream",
     "text": [
      "`resolution` parameter has no effect for flavor \"igraph\"\n"
     ]
    },
    {
     "name": "stdout",
     "output_type": "stream",
     "text": [
      "[I 2025-08-07 17:57:27,371] Trial 207 finished with value: 0.03838455732307687 and parameters: {'n_neighbors': 200, 'dim_reduction': 'raw', 'pca_solver': 'auto', 'pca_components': 65, 'resolution': 0.49269690544967804, 'method': 'louvain', 'dist_metric': 'euclidean', 'louv_clustering_imp': 'igraph', 'leid_clustering_imp': 'igraph'}. Best is trial 206 with value: 0.05715494741804244.\n",
      "[I 2025-08-07 17:58:24,208] Trial 208 finished with value: 0.05662514865898224 and parameters: {'n_neighbors': 183, 'dim_reduction': 'raw', 'pca_solver': 'auto', 'pca_components': 67, 'resolution': 0.45509011158429075, 'method': 'leiden', 'dist_metric': 'euclidean', 'louv_clustering_imp': 'igraph', 'leid_clustering_imp': 'leidenalg'}. Best is trial 206 with value: 0.05715494741804244.\n",
      "[I 2025-08-07 17:59:00,092] Trial 209 finished with value: 0.05683444612368142 and parameters: {'n_neighbors': 194, 'dim_reduction': 'raw', 'pca_solver': 'auto', 'pca_components': 62, 'resolution': 0.42540033552591916, 'method': 'leiden', 'dist_metric': 'euclidean', 'louv_clustering_imp': 'igraph', 'leid_clustering_imp': 'igraph'}. Best is trial 206 with value: 0.05715494741804244.\n",
      "[I 2025-08-07 17:59:35,613] Trial 210 finished with value: 0.0510721593272171 and parameters: {'n_neighbors': 188, 'dim_reduction': 'raw', 'pca_solver': 'auto', 'pca_components': 66, 'resolution': 0.5133326300579213, 'method': 'leiden', 'dist_metric': 'euclidean', 'louv_clustering_imp': 'igraph', 'leid_clustering_imp': 'igraph'}. Best is trial 206 with value: 0.05715494741804244.\n",
      "[I 2025-08-07 18:00:11,828] Trial 211 finished with value: 0.056841215281303765 and parameters: {'n_neighbors': 196, 'dim_reduction': 'raw', 'pca_solver': 'auto', 'pca_components': 64, 'resolution': 0.41554276699822307, 'method': 'leiden', 'dist_metric': 'euclidean', 'louv_clustering_imp': 'igraph', 'leid_clustering_imp': 'igraph'}. Best is trial 206 with value: 0.05715494741804244.\n",
      "[I 2025-08-07 18:00:47,742] Trial 212 finished with value: 0.05707357642586372 and parameters: {'n_neighbors': 196, 'dim_reduction': 'raw', 'pca_solver': 'auto', 'pca_components': 96, 'resolution': 0.3493290055436302, 'method': 'leiden', 'dist_metric': 'euclidean', 'louv_clustering_imp': 'igraph', 'leid_clustering_imp': 'igraph'}. Best is trial 206 with value: 0.05715494741804244.\n",
      "[I 2025-08-07 18:01:23,038] Trial 213 finished with value: 0.05677511814477027 and parameters: {'n_neighbors': 191, 'dim_reduction': 'raw', 'pca_solver': 'auto', 'pca_components': 94, 'resolution': 0.3386765652369478, 'method': 'leiden', 'dist_metric': 'euclidean', 'louv_clustering_imp': 'igraph', 'leid_clustering_imp': 'igraph'}. Best is trial 206 with value: 0.05715494741804244.\n",
      "[I 2025-08-07 18:01:59,116] Trial 214 finished with value: 0.05664299690543159 and parameters: {'n_neighbors': 197, 'dim_reduction': 'raw', 'pca_solver': 'auto', 'pca_components': 99, 'resolution': 0.3028617295400631, 'method': 'leiden', 'dist_metric': 'euclidean', 'louv_clustering_imp': 'igraph', 'leid_clustering_imp': 'igraph'}. Best is trial 206 with value: 0.05715494741804244.\n",
      "[I 2025-08-07 18:02:34,675] Trial 215 finished with value: 0.056887980099791124 and parameters: {'n_neighbors': 192, 'dim_reduction': 'raw', 'pca_solver': 'auto', 'pca_components': 62, 'resolution': 0.37332482116624055, 'method': 'leiden', 'dist_metric': 'euclidean', 'louv_clustering_imp': 'igraph', 'leid_clustering_imp': 'igraph'}. Best is trial 206 with value: 0.05715494741804244.\n",
      "[I 2025-08-07 18:03:09,811] Trial 216 finished with value: 0.05697556168635956 and parameters: {'n_neighbors': 186, 'dim_reduction': 'raw', 'pca_solver': 'auto', 'pca_components': 97, 'resolution': 0.34768139517171814, 'method': 'leiden', 'dist_metric': 'euclidean', 'louv_clustering_imp': 'igraph', 'leid_clustering_imp': 'igraph'}. Best is trial 206 with value: 0.05715494741804244.\n"
     ]
    },
    {
     "name": "stderr",
     "output_type": "stream",
     "text": [
      "/home/erikserrano/Development/BuSCar/notebooks/1.compound-prioritization/../../utils/heterogeneity.py:113: UserWarning: Ignoring svd_solver='auto' and using randomized, sklearn.decomposition._truncated_svd.TruncatedSVD only supports dict_keys(['arpack', 'randomized']).\n",
      "  sc.pp.pca(\n"
     ]
    },
    {
     "name": "stdout",
     "output_type": "stream",
     "text": [
      "[I 2025-08-07 18:03:32,459] Trial 217 finished with value: 0.05476912684369859 and parameters: {'n_neighbors': 185, 'dim_reduction': 'pca', 'pca_solver': 'auto', 'pca_components': 96, 'resolution': 0.44332523213170827, 'method': 'leiden', 'dist_metric': 'euclidean', 'louv_clustering_imp': 'igraph', 'leid_clustering_imp': 'igraph'}. Best is trial 206 with value: 0.05715494741804244.\n",
      "[I 2025-08-07 18:04:12,005] Trial 218 finished with value: 0.05272126472727137 and parameters: {'n_neighbors': 200, 'dim_reduction': 'raw', 'pca_solver': 'auto', 'pca_components': 99, 'resolution': 0.3502074812084084, 'method': 'leiden', 'dist_metric': 'cosine', 'louv_clustering_imp': 'igraph', 'leid_clustering_imp': 'igraph'}. Best is trial 206 with value: 0.05715494741804244.\n",
      "[I 2025-08-07 18:04:47,956] Trial 219 finished with value: 0.05685104484569104 and parameters: {'n_neighbors': 195, 'dim_reduction': 'raw', 'pca_solver': 'auto', 'pca_components': 92, 'resolution': 0.40071847677464356, 'method': 'leiden', 'dist_metric': 'euclidean', 'louv_clustering_imp': 'igraph', 'leid_clustering_imp': 'igraph'}. Best is trial 206 with value: 0.05715494741804244.\n",
      "[I 2025-08-07 18:05:23,150] Trial 220 finished with value: 0.05674933206415497 and parameters: {'n_neighbors': 185, 'dim_reduction': 'raw', 'pca_solver': 'auto', 'pca_components': 97, 'resolution': 0.3801262866868813, 'method': 'leiden', 'dist_metric': 'euclidean', 'louv_clustering_imp': 'igraph', 'leid_clustering_imp': 'igraph'}. Best is trial 206 with value: 0.05715494741804244.\n",
      "[I 2025-08-07 18:05:58,514] Trial 221 finished with value: 0.05661325647953247 and parameters: {'n_neighbors': 189, 'dim_reduction': 'raw', 'pca_solver': 'auto', 'pca_components': 97, 'resolution': 0.3172536949215057, 'method': 'leiden', 'dist_metric': 'euclidean', 'louv_clustering_imp': 'igraph', 'leid_clustering_imp': 'igraph'}. Best is trial 206 with value: 0.05715494741804244.\n",
      "[I 2025-08-07 18:06:34,053] Trial 222 finished with value: 0.056407241129093115 and parameters: {'n_neighbors': 192, 'dim_reduction': 'raw', 'pca_solver': 'auto', 'pca_components': 69, 'resolution': 0.28523883471313805, 'method': 'leiden', 'dist_metric': 'euclidean', 'louv_clustering_imp': 'igraph', 'leid_clustering_imp': 'igraph'}. Best is trial 206 with value: 0.05715494741804244.\n",
      "[I 2025-08-07 18:07:10,184] Trial 223 finished with value: 0.05691150658712452 and parameters: {'n_neighbors': 196, 'dim_reduction': 'raw', 'pca_solver': 'auto', 'pca_components': 84, 'resolution': 0.3349470519947454, 'method': 'leiden', 'dist_metric': 'euclidean', 'louv_clustering_imp': 'igraph', 'leid_clustering_imp': 'igraph'}. Best is trial 206 with value: 0.05715494741804244.\n",
      "[I 2025-08-07 18:07:45,499] Trial 224 finished with value: 0.057009635431908595 and parameters: {'n_neighbors': 189, 'dim_reduction': 'raw', 'pca_solver': 'auto', 'pca_components': 66, 'resolution': 0.42004955043405345, 'method': 'leiden', 'dist_metric': 'euclidean', 'louv_clustering_imp': 'igraph', 'leid_clustering_imp': 'igraph'}. Best is trial 206 with value: 0.05715494741804244.\n",
      "[I 2025-08-07 18:08:20,190] Trial 225 finished with value: 0.05684317160788039 and parameters: {'n_neighbors': 182, 'dim_reduction': 'raw', 'pca_solver': 'auto', 'pca_components': 66, 'resolution': 0.42877628946431495, 'method': 'leiden', 'dist_metric': 'euclidean', 'louv_clustering_imp': 'igraph', 'leid_clustering_imp': 'igraph'}. Best is trial 206 with value: 0.05715494741804244.\n",
      "[I 2025-08-07 18:08:56,132] Trial 226 finished with value: 0.056772560177361334 and parameters: {'n_neighbors': 193, 'dim_reduction': 'raw', 'pca_solver': 'auto', 'pca_components': 61, 'resolution': 0.395891939908016, 'method': 'leiden', 'dist_metric': 'euclidean', 'louv_clustering_imp': 'igraph', 'leid_clustering_imp': 'igraph'}. Best is trial 206 with value: 0.05715494741804244.\n",
      "[I 2025-08-07 18:09:31,368] Trial 227 finished with value: 0.05685582846937222 and parameters: {'n_neighbors': 188, 'dim_reduction': 'raw', 'pca_solver': 'auto', 'pca_components': 64, 'resolution': 0.46660751262670846, 'method': 'leiden', 'dist_metric': 'euclidean', 'louv_clustering_imp': 'igraph', 'leid_clustering_imp': 'igraph'}. Best is trial 206 with value: 0.05715494741804244.\n",
      "[I 2025-08-07 18:10:07,398] Trial 228 finished with value: 0.056938701103293334 and parameters: {'n_neighbors': 197, 'dim_reduction': 'raw', 'pca_solver': 'auto', 'pca_components': 67, 'resolution': 0.3587365031034654, 'method': 'leiden', 'dist_metric': 'euclidean', 'louv_clustering_imp': 'igraph', 'leid_clustering_imp': 'igraph'}. Best is trial 206 with value: 0.05715494741804244.\n",
      "[I 2025-08-07 18:10:43,717] Trial 229 finished with value: 0.05705620463616891 and parameters: {'n_neighbors': 197, 'dim_reduction': 'raw', 'pca_solver': 'auto', 'pca_components': 68, 'resolution': 0.361335085073183, 'method': 'leiden', 'dist_metric': 'euclidean', 'louv_clustering_imp': 'igraph', 'leid_clustering_imp': 'igraph'}. Best is trial 206 with value: 0.05715494741804244.\n",
      "[I 2025-08-07 18:11:20,299] Trial 230 finished with value: 0.05665115488315879 and parameters: {'n_neighbors': 200, 'dim_reduction': 'raw', 'pca_solver': 'auto', 'pca_components': 68, 'resolution': 0.3580206054367601, 'method': 'leiden', 'dist_metric': 'euclidean', 'louv_clustering_imp': 'igraph', 'leid_clustering_imp': 'igraph'}. Best is trial 206 with value: 0.05715494741804244.\n",
      "[I 2025-08-07 18:11:57,332] Trial 231 finished with value: 0.01854490459587791 and parameters: {'n_neighbors': 194, 'dim_reduction': 'raw', 'pca_solver': 'auto', 'pca_components': 69, 'resolution': 1.6190920501986121, 'method': 'leiden', 'dist_metric': 'euclidean', 'louv_clustering_imp': 'igraph', 'leid_clustering_imp': 'igraph'}. Best is trial 206 with value: 0.05715494741804244.\n",
      "[I 2025-08-07 18:12:33,570] Trial 232 finished with value: 0.05690000165984391 and parameters: {'n_neighbors': 196, 'dim_reduction': 'raw', 'pca_solver': 'auto', 'pca_components': 71, 'resolution': 0.3599470947396134, 'method': 'leiden', 'dist_metric': 'euclidean', 'louv_clustering_imp': 'igraph', 'leid_clustering_imp': 'igraph'}. Best is trial 206 with value: 0.05715494741804244.\n",
      "[I 2025-08-07 18:13:09,085] Trial 233 finished with value: 0.05693976649532565 and parameters: {'n_neighbors': 190, 'dim_reduction': 'raw', 'pca_solver': 'auto', 'pca_components': 67, 'resolution': 0.34428085863380586, 'method': 'leiden', 'dist_metric': 'euclidean', 'louv_clustering_imp': 'igraph', 'leid_clustering_imp': 'igraph'}. Best is trial 206 with value: 0.05715494741804244.\n",
      "[I 2025-08-07 18:13:44,441] Trial 234 finished with value: 0.0567107505061235 and parameters: {'n_neighbors': 189, 'dim_reduction': 'raw', 'pca_solver': 'auto', 'pca_components': 65, 'resolution': 0.3332371382117022, 'method': 'leiden', 'dist_metric': 'euclidean', 'louv_clustering_imp': 'igraph', 'leid_clustering_imp': 'igraph'}. Best is trial 206 with value: 0.05715494741804244.\n",
      "[I 2025-08-07 18:14:19,460] Trial 235 finished with value: 0.05667126952826294 and parameters: {'n_neighbors': 185, 'dim_reduction': 'raw', 'pca_solver': 'auto', 'pca_components': 66, 'resolution': 0.37328389936273504, 'method': 'leiden', 'dist_metric': 'euclidean', 'louv_clustering_imp': 'igraph', 'leid_clustering_imp': 'igraph'}. Best is trial 206 with value: 0.05715494741804244.\n",
      "[I 2025-08-07 18:14:54,952] Trial 236 finished with value: 0.056610309969563 and parameters: {'n_neighbors': 190, 'dim_reduction': 'raw', 'pca_solver': 'auto', 'pca_components': 67, 'resolution': 0.31803180709816614, 'method': 'leiden', 'dist_metric': 'euclidean', 'louv_clustering_imp': 'igraph', 'leid_clustering_imp': 'igraph'}. Best is trial 206 with value: 0.05715494741804244.\n",
      "[I 2025-08-07 18:15:29,714] Trial 237 finished with value: 0.05669956286926202 and parameters: {'n_neighbors': 179, 'dim_reduction': 'raw', 'pca_solver': 'auto', 'pca_components': 68, 'resolution': 0.3919569857268272, 'method': 'leiden', 'dist_metric': 'euclidean', 'louv_clustering_imp': 'igraph', 'leid_clustering_imp': 'igraph'}. Best is trial 206 with value: 0.05715494741804244.\n",
      "[I 2025-08-07 18:16:06,034] Trial 238 finished with value: 0.05656811523486999 and parameters: {'n_neighbors': 200, 'dim_reduction': 'raw', 'pca_solver': 'auto', 'pca_components': 64, 'resolution': 0.2475792246660541, 'method': 'leiden', 'dist_metric': 'euclidean', 'louv_clustering_imp': 'igraph', 'leid_clustering_imp': 'igraph'}. Best is trial 206 with value: 0.05715494741804244.\n",
      "[I 2025-08-07 18:16:41,552] Trial 239 finished with value: 0.05665971018290914 and parameters: {'n_neighbors': 192, 'dim_reduction': 'raw', 'pca_solver': 'auto', 'pca_components': 71, 'resolution': 0.3354161393159488, 'method': 'leiden', 'dist_metric': 'euclidean', 'louv_clustering_imp': 'igraph', 'leid_clustering_imp': 'igraph'}. Best is trial 206 with value: 0.05715494741804244.\n",
      "[I 2025-08-07 18:17:16,721] Trial 240 finished with value: 0.05682069517837909 and parameters: {'n_neighbors': 186, 'dim_reduction': 'raw', 'pca_solver': 'auto', 'pca_components': 66, 'resolution': 0.2822757350225318, 'method': 'leiden', 'dist_metric': 'euclidean', 'louv_clustering_imp': 'igraph', 'leid_clustering_imp': 'igraph'}. Best is trial 206 with value: 0.05715494741804244.\n",
      "[I 2025-08-07 18:17:52,886] Trial 241 finished with value: 0.05699565207084295 and parameters: {'n_neighbors': 196, 'dim_reduction': 'raw', 'pca_solver': 'auto', 'pca_components': 63, 'resolution': 0.42629183292029144, 'method': 'leiden', 'dist_metric': 'euclidean', 'louv_clustering_imp': 'igraph', 'leid_clustering_imp': 'igraph'}. Best is trial 206 with value: 0.05715494741804244.\n",
      "[I 2025-08-07 18:18:28,523] Trial 242 finished with value: 0.05680626611526807 and parameters: {'n_neighbors': 192, 'dim_reduction': 'raw', 'pca_solver': 'auto', 'pca_components': 63, 'resolution': 0.4158564060858165, 'method': 'leiden', 'dist_metric': 'euclidean', 'louv_clustering_imp': 'igraph', 'leid_clustering_imp': 'igraph'}. Best is trial 206 with value: 0.05715494741804244.\n",
      "[I 2025-08-07 18:19:04,453] Trial 243 finished with value: 0.05696654459134667 and parameters: {'n_neighbors': 197, 'dim_reduction': 'raw', 'pca_solver': 'auto', 'pca_components': 67, 'resolution': 0.3661280022304885, 'method': 'leiden', 'dist_metric': 'euclidean', 'louv_clustering_imp': 'igraph', 'leid_clustering_imp': 'igraph'}. Best is trial 206 with value: 0.05715494741804244.\n",
      "[I 2025-08-07 18:19:40,724] Trial 244 finished with value: 0.05700544546437721 and parameters: {'n_neighbors': 197, 'dim_reduction': 'raw', 'pca_solver': 'auto', 'pca_components': 69, 'resolution': 0.372035216009439, 'method': 'leiden', 'dist_metric': 'euclidean', 'louv_clustering_imp': 'igraph', 'leid_clustering_imp': 'igraph'}. Best is trial 206 with value: 0.05715494741804244.\n",
      "[I 2025-08-07 18:20:16,731] Trial 245 finished with value: 0.05677005778902248 and parameters: {'n_neighbors': 198, 'dim_reduction': 'raw', 'pca_solver': 'auto', 'pca_components': 69, 'resolution': 0.37871444167991947, 'method': 'leiden', 'dist_metric': 'euclidean', 'louv_clustering_imp': 'igraph', 'leid_clustering_imp': 'igraph'}. Best is trial 206 with value: 0.05715494741804244.\n",
      "[I 2025-08-07 18:20:53,225] Trial 246 finished with value: 0.056773648348815854 and parameters: {'n_neighbors': 197, 'dim_reduction': 'raw', 'pca_solver': 'auto', 'pca_components': 68, 'resolution': 0.4348325680755711, 'method': 'leiden', 'dist_metric': 'euclidean', 'louv_clustering_imp': 'igraph', 'leid_clustering_imp': 'igraph'}. Best is trial 206 with value: 0.05715494741804244.\n",
      "[I 2025-08-07 18:21:30,539] Trial 247 finished with value: 0.057367640503134656 and parameters: {'n_neighbors': 193, 'dim_reduction': 'raw', 'pca_solver': 'auto', 'pca_components': 65, 'resolution': 0.3445428921875722, 'method': 'louvain', 'dist_metric': 'euclidean', 'louv_clustering_imp': 'vtraag', 'leid_clustering_imp': 'leidenalg'}. Best is trial 247 with value: 0.057367640503134656.\n",
      "[I 2025-08-07 18:22:08,016] Trial 248 finished with value: 0.057283909099791155 and parameters: {'n_neighbors': 193, 'dim_reduction': 'raw', 'pca_solver': 'auto', 'pca_components': 61, 'resolution': 0.32130029760206535, 'method': 'louvain', 'dist_metric': 'euclidean', 'louv_clustering_imp': 'vtraag', 'leid_clustering_imp': 'leidenalg'}. Best is trial 247 with value: 0.057367640503134656.\n",
      "[I 2025-08-07 18:22:45,812] Trial 249 finished with value: 0.057297587772314515 and parameters: {'n_neighbors': 193, 'dim_reduction': 'raw', 'pca_solver': 'auto', 'pca_components': 63, 'resolution': 0.30980706347721765, 'method': 'louvain', 'dist_metric': 'euclidean', 'louv_clustering_imp': 'vtraag', 'leid_clustering_imp': 'leidenalg'}. Best is trial 247 with value: 0.057367640503134656.\n",
      "[I 2025-08-07 18:23:24,501] Trial 250 finished with value: 0.057243679902364786 and parameters: {'n_neighbors': 192, 'dim_reduction': 'raw', 'pca_solver': 'auto', 'pca_components': 58, 'resolution': 0.2997500144271393, 'method': 'louvain', 'dist_metric': 'euclidean', 'louv_clustering_imp': 'vtraag', 'leid_clustering_imp': 'leidenalg'}. Best is trial 247 with value: 0.057367640503134656.\n",
      "[I 2025-08-07 18:24:06,779] Trial 251 finished with value: 0.12785311959840842 and parameters: {'n_neighbors': 193, 'dim_reduction': 'raw', 'pca_solver': 'auto', 'pca_components': 57, 'resolution': 0.2289241558097448, 'method': 'louvain', 'dist_metric': 'euclidean', 'louv_clustering_imp': 'vtraag', 'leid_clustering_imp': 'leidenalg'}. Best is trial 251 with value: 0.12785311959840842.\n",
      "[I 2025-08-07 18:24:12,268] Trial 252 finished with value: 0.04860315749192374 and parameters: {'n_neighbors': 18, 'dim_reduction': 'raw', 'pca_solver': 'auto', 'pca_components': 57, 'resolution': 0.24580838383803322, 'method': 'louvain', 'dist_metric': 'euclidean', 'louv_clustering_imp': 'vtraag', 'leid_clustering_imp': 'leidenalg'}. Best is trial 251 with value: 0.12785311959840842.\n"
     ]
    },
    {
     "name": "stderr",
     "output_type": "stream",
     "text": [
      "/home/erikserrano/Development/BuSCar/notebooks/1.compound-prioritization/../../utils/heterogeneity.py:113: UserWarning: Ignoring svd_solver='auto' and using randomized, sklearn.decomposition._truncated_svd.TruncatedSVD only supports dict_keys(['arpack', 'randomized']).\n",
      "  sc.pp.pca(\n"
     ]
    },
    {
     "name": "stdout",
     "output_type": "stream",
     "text": [
      "[I 2025-08-07 18:24:27,872] Trial 253 finished with value: 0.05174166241103058 and parameters: {'n_neighbors': 91, 'dim_reduction': 'pca', 'pca_solver': 'auto', 'pca_components': 59, 'resolution': 0.22360171012891017, 'method': 'louvain', 'dist_metric': 'cosine', 'louv_clustering_imp': 'vtraag', 'leid_clustering_imp': 'leidenalg'}. Best is trial 251 with value: 0.12785311959840842.\n",
      "[I 2025-08-07 18:25:10,547] Trial 254 finished with value: 0.03344196520719353 and parameters: {'n_neighbors': 193, 'dim_reduction': 'raw', 'pca_solver': 'auto', 'pca_components': 59, 'resolution': 0.2050482180578014, 'method': 'louvain', 'dist_metric': 'euclidean', 'louv_clustering_imp': 'vtraag', 'leid_clustering_imp': 'leidenalg'}. Best is trial 251 with value: 0.12785311959840842.\n",
      "[I 2025-08-07 18:25:52,834] Trial 255 finished with value: 0.0573934716394386 and parameters: {'n_neighbors': 200, 'dim_reduction': 'raw', 'pca_solver': 'auto', 'pca_components': 55, 'resolution': 0.2958037355272964, 'method': 'louvain', 'dist_metric': 'euclidean', 'louv_clustering_imp': 'vtraag', 'leid_clustering_imp': 'leidenalg'}. Best is trial 251 with value: 0.12785311959840842.\n",
      "[I 2025-08-07 18:26:36,162] Trial 256 finished with value: 0.057393502012310256 and parameters: {'n_neighbors': 200, 'dim_reduction': 'raw', 'pca_solver': 'auto', 'pca_components': 55, 'resolution': 0.27678691483005663, 'method': 'louvain', 'dist_metric': 'euclidean', 'louv_clustering_imp': 'vtraag', 'leid_clustering_imp': 'leidenalg'}. Best is trial 251 with value: 0.12785311959840842.\n",
      "[I 2025-08-07 18:27:19,479] Trial 257 finished with value: -1.0 and parameters: {'n_neighbors': 200, 'dim_reduction': 'raw', 'pca_solver': 'auto', 'pca_components': 58, 'resolution': 0.1402721265896199, 'method': 'louvain', 'dist_metric': 'euclidean', 'louv_clustering_imp': 'vtraag', 'leid_clustering_imp': 'leidenalg'}. Best is trial 251 with value: 0.12785311959840842.\n",
      "[I 2025-08-07 18:28:02,298] Trial 258 finished with value: 0.12773006394514008 and parameters: {'n_neighbors': 200, 'dim_reduction': 'raw', 'pca_solver': 'auto', 'pca_components': 55, 'resolution': 0.26703217559877646, 'method': 'louvain', 'dist_metric': 'euclidean', 'louv_clustering_imp': 'vtraag', 'leid_clustering_imp': 'leidenalg'}. Best is trial 251 with value: 0.12785311959840842.\n",
      "[I 2025-08-07 18:28:42,497] Trial 259 finished with value: -1.0 and parameters: {'n_neighbors': 194, 'dim_reduction': 'raw', 'pca_solver': 'auto', 'pca_components': 53, 'resolution': 0.17040067179105728, 'method': 'louvain', 'dist_metric': 'euclidean', 'louv_clustering_imp': 'vtraag', 'leid_clustering_imp': 'leidenalg'}. Best is trial 251 with value: 0.12785311959840842.\n",
      "[I 2025-08-07 18:29:24,833] Trial 260 finished with value: 0.12779859966704799 and parameters: {'n_neighbors': 199, 'dim_reduction': 'raw', 'pca_solver': 'auto', 'pca_components': 55, 'resolution': 0.2641119217952367, 'method': 'louvain', 'dist_metric': 'euclidean', 'louv_clustering_imp': 'vtraag', 'leid_clustering_imp': 'leidenalg'}. Best is trial 251 with value: 0.12785311959840842.\n",
      "[I 2025-08-07 18:30:09,511] Trial 261 finished with value: 0.03351672192574946 and parameters: {'n_neighbors': 200, 'dim_reduction': 'raw', 'pca_solver': 'auto', 'pca_components': 54, 'resolution': 0.1989695510124133, 'method': 'louvain', 'dist_metric': 'euclidean', 'louv_clustering_imp': 'vtraag', 'leid_clustering_imp': 'leidenalg'}. Best is trial 251 with value: 0.12785311959840842.\n",
      "[I 2025-08-07 18:30:53,000] Trial 262 finished with value: 0.12772506598092093 and parameters: {'n_neighbors': 200, 'dim_reduction': 'raw', 'pca_solver': 'auto', 'pca_components': 51, 'resolution': 0.25182295676159255, 'method': 'louvain', 'dist_metric': 'euclidean', 'louv_clustering_imp': 'vtraag', 'leid_clustering_imp': 'leidenalg'}. Best is trial 251 with value: 0.12785311959840842.\n",
      "[I 2025-08-07 18:31:37,028] Trial 263 finished with value: 0.12783749083358673 and parameters: {'n_neighbors': 199, 'dim_reduction': 'raw', 'pca_solver': 'auto', 'pca_components': 53, 'resolution': 0.25844666241481273, 'method': 'louvain', 'dist_metric': 'euclidean', 'louv_clustering_imp': 'vtraag', 'leid_clustering_imp': 'leidenalg'}. Best is trial 251 with value: 0.12785311959840842.\n",
      "[I 2025-08-07 18:32:21,520] Trial 264 finished with value: 0.1277373110345668 and parameters: {'n_neighbors': 200, 'dim_reduction': 'raw', 'pca_solver': 'auto', 'pca_components': 50, 'resolution': 0.257988228117525, 'method': 'louvain', 'dist_metric': 'euclidean', 'louv_clustering_imp': 'vtraag', 'leid_clustering_imp': 'leidenalg'}. Best is trial 251 with value: 0.12785311959840842.\n",
      "[I 2025-08-07 18:33:03,895] Trial 265 finished with value: 0.12772946993718712 and parameters: {'n_neighbors': 200, 'dim_reduction': 'raw', 'pca_solver': 'auto', 'pca_components': 51, 'resolution': 0.22918605427302502, 'method': 'louvain', 'dist_metric': 'euclidean', 'louv_clustering_imp': 'vtraag', 'leid_clustering_imp': 'leidenalg'}. Best is trial 251 with value: 0.12785311959840842.\n",
      "[I 2025-08-07 18:33:47,908] Trial 266 finished with value: 0.12769072412736504 and parameters: {'n_neighbors': 200, 'dim_reduction': 'raw', 'pca_solver': 'auto', 'pca_components': 50, 'resolution': 0.24459460500374003, 'method': 'louvain', 'dist_metric': 'euclidean', 'louv_clustering_imp': 'vtraag', 'leid_clustering_imp': 'leidenalg'}. Best is trial 251 with value: 0.12785311959840842.\n",
      "[I 2025-08-07 18:34:32,113] Trial 267 finished with value: 0.1277411749532377 and parameters: {'n_neighbors': 200, 'dim_reduction': 'raw', 'pca_solver': 'auto', 'pca_components': 55, 'resolution': 0.22200186875681463, 'method': 'louvain', 'dist_metric': 'euclidean', 'louv_clustering_imp': 'vtraag', 'leid_clustering_imp': 'leidenalg'}. Best is trial 251 with value: 0.12785311959840842.\n",
      "[I 2025-08-07 18:35:16,815] Trial 268 finished with value: 0.0335186122716111 and parameters: {'n_neighbors': 200, 'dim_reduction': 'raw', 'pca_solver': 'auto', 'pca_components': 50, 'resolution': 0.2091319221504544, 'method': 'louvain', 'dist_metric': 'euclidean', 'louv_clustering_imp': 'vtraag', 'leid_clustering_imp': 'leidenalg'}. Best is trial 251 with value: 0.12785311959840842.\n",
      "[I 2025-08-07 18:36:00,638] Trial 269 finished with value: -1.0 and parameters: {'n_neighbors': 200, 'dim_reduction': 'raw', 'pca_solver': 'auto', 'pca_components': 55, 'resolution': 0.143260916441671, 'method': 'louvain', 'dist_metric': 'euclidean', 'louv_clustering_imp': 'vtraag', 'leid_clustering_imp': 'leidenalg'}. Best is trial 251 with value: 0.12785311959840842.\n",
      "[I 2025-08-07 18:36:45,281] Trial 270 finished with value: 0.0335186122716111 and parameters: {'n_neighbors': 200, 'dim_reduction': 'raw', 'pca_solver': 'randomized', 'pca_components': 51, 'resolution': 0.21439215117335023, 'method': 'louvain', 'dist_metric': 'euclidean', 'louv_clustering_imp': 'vtraag', 'leid_clustering_imp': 'leidenalg'}. Best is trial 251 with value: 0.12785311959840842.\n",
      "[I 2025-08-07 18:37:28,852] Trial 271 finished with value: 0.12769521845119483 and parameters: {'n_neighbors': 200, 'dim_reduction': 'raw', 'pca_solver': 'auto', 'pca_components': 48, 'resolution': 0.2385993683597613, 'method': 'louvain', 'dist_metric': 'euclidean', 'louv_clustering_imp': 'vtraag', 'leid_clustering_imp': 'leidenalg'}. Best is trial 251 with value: 0.12785311959840842.\n",
      "[I 2025-08-07 18:38:13,161] Trial 272 finished with value: 0.1277231253139294 and parameters: {'n_neighbors': 200, 'dim_reduction': 'raw', 'pca_solver': 'auto', 'pca_components': 49, 'resolution': 0.25088089250315865, 'method': 'louvain', 'dist_metric': 'euclidean', 'louv_clustering_imp': 'vtraag', 'leid_clustering_imp': 'leidenalg'}. Best is trial 251 with value: 0.12785311959840842.\n"
     ]
    },
    {
     "name": "stderr",
     "output_type": "stream",
     "text": [
      "/home/erikserrano/Development/BuSCar/notebooks/1.compound-prioritization/../../utils/heterogeneity.py:113: UserWarning: Ignoring svd_solver='auto' and using randomized, sklearn.decomposition._truncated_svd.TruncatedSVD only supports dict_keys(['arpack', 'randomized']).\n",
      "  sc.pp.pca(\n"
     ]
    },
    {
     "name": "stdout",
     "output_type": "stream",
     "text": [
      "[I 2025-08-07 18:38:45,559] Trial 273 finished with value: 0.031814253820465474 and parameters: {'n_neighbors': 200, 'dim_reduction': 'pca', 'pca_solver': 'auto', 'pca_components': 46, 'resolution': 0.18075599728824332, 'method': 'louvain', 'dist_metric': 'euclidean', 'louv_clustering_imp': 'vtraag', 'leid_clustering_imp': 'leidenalg'}. Best is trial 251 with value: 0.12785311959840842.\n",
      "[I 2025-08-07 18:39:24,333] Trial 274 finished with value: 0.12952632496049638 and parameters: {'n_neighbors': 200, 'dim_reduction': 'raw', 'pca_solver': 'auto', 'pca_components': 48, 'resolution': 0.22454907372837743, 'method': 'louvain', 'dist_metric': 'cosine', 'louv_clustering_imp': 'vtraag', 'leid_clustering_imp': 'leidenalg'}. Best is trial 274 with value: 0.12952632496049638.\n",
      "[I 2025-08-07 18:40:03,673] Trial 275 finished with value: 0.12954704999582134 and parameters: {'n_neighbors': 200, 'dim_reduction': 'raw', 'pca_solver': 'auto', 'pca_components': 47, 'resolution': 0.23374428261086838, 'method': 'louvain', 'dist_metric': 'cosine', 'louv_clustering_imp': 'vtraag', 'leid_clustering_imp': 'leidenalg'}. Best is trial 275 with value: 0.12954704999582134.\n",
      "[I 2025-08-07 18:40:42,959] Trial 276 finished with value: 0.12958257377546795 and parameters: {'n_neighbors': 200, 'dim_reduction': 'raw', 'pca_solver': 'auto', 'pca_components': 48, 'resolution': 0.2513710758261461, 'method': 'louvain', 'dist_metric': 'cosine', 'louv_clustering_imp': 'vtraag', 'leid_clustering_imp': 'leidenalg'}. Best is trial 276 with value: 0.12958257377546795.\n",
      "[I 2025-08-07 18:41:22,191] Trial 277 finished with value: 0.1295933932590293 and parameters: {'n_neighbors': 200, 'dim_reduction': 'raw', 'pca_solver': 'auto', 'pca_components': 48, 'resolution': 0.24659659203923495, 'method': 'louvain', 'dist_metric': 'cosine', 'louv_clustering_imp': 'vtraag', 'leid_clustering_imp': 'leidenalg'}. Best is trial 277 with value: 0.1295933932590293.\n",
      "[I 2025-08-07 18:42:01,574] Trial 278 finished with value: 0.1294962856623326 and parameters: {'n_neighbors': 199, 'dim_reduction': 'raw', 'pca_solver': 'auto', 'pca_components': 48, 'resolution': 0.24358692155638015, 'method': 'louvain', 'dist_metric': 'cosine', 'louv_clustering_imp': 'vtraag', 'leid_clustering_imp': 'leidenalg'}. Best is trial 277 with value: 0.1295933932590293.\n",
      "[I 2025-08-07 18:42:41,547] Trial 279 finished with value: 0.12964544250258045 and parameters: {'n_neighbors': 200, 'dim_reduction': 'raw', 'pca_solver': 'auto', 'pca_components': 47, 'resolution': 0.2393467098233631, 'method': 'louvain', 'dist_metric': 'cosine', 'louv_clustering_imp': 'vtraag', 'leid_clustering_imp': 'leidenalg'}. Best is trial 279 with value: 0.12964544250258045.\n",
      "[I 2025-08-07 18:43:20,731] Trial 280 finished with value: 0.12954704999582134 and parameters: {'n_neighbors': 200, 'dim_reduction': 'raw', 'pca_solver': 'auto', 'pca_components': 47, 'resolution': 0.23619853226113074, 'method': 'louvain', 'dist_metric': 'cosine', 'louv_clustering_imp': 'vtraag', 'leid_clustering_imp': 'leidenalg'}. Best is trial 279 with value: 0.12964544250258045.\n",
      "[I 2025-08-07 18:44:01,147] Trial 281 finished with value: 0.12964544250258045 and parameters: {'n_neighbors': 200, 'dim_reduction': 'raw', 'pca_solver': 'auto', 'pca_components': 46, 'resolution': 0.24182007087296048, 'method': 'louvain', 'dist_metric': 'cosine', 'louv_clustering_imp': 'vtraag', 'leid_clustering_imp': 'leidenalg'}. Best is trial 279 with value: 0.12964544250258045.\n",
      "[I 2025-08-07 18:44:38,328] Trial 282 finished with value: -1.0 and parameters: {'n_neighbors': 200, 'dim_reduction': 'raw', 'pca_solver': 'auto', 'pca_components': 48, 'resolution': 0.10854650250373307, 'method': 'louvain', 'dist_metric': 'cosine', 'louv_clustering_imp': 'vtraag', 'leid_clustering_imp': 'leidenalg'}. Best is trial 279 with value: 0.12964544250258045.\n",
      "[I 2025-08-07 18:45:18,008] Trial 283 finished with value: 0.12964544250258045 and parameters: {'n_neighbors': 200, 'dim_reduction': 'raw', 'pca_solver': 'auto', 'pca_components': 45, 'resolution': 0.2384560292317874, 'method': 'louvain', 'dist_metric': 'cosine', 'louv_clustering_imp': 'vtraag', 'leid_clustering_imp': 'leidenalg'}. Best is trial 279 with value: 0.12964544250258045.\n",
      "[I 2025-08-07 18:45:56,594] Trial 284 finished with value: 0.12954704999582134 and parameters: {'n_neighbors': 200, 'dim_reduction': 'raw', 'pca_solver': 'auto', 'pca_components': 45, 'resolution': 0.23488563639430943, 'method': 'louvain', 'dist_metric': 'cosine', 'louv_clustering_imp': 'vtraag', 'leid_clustering_imp': 'leidenalg'}. Best is trial 279 with value: 0.12964544250258045.\n",
      "[I 2025-08-07 18:46:35,641] Trial 285 finished with value: 0.12964544250258045 and parameters: {'n_neighbors': 200, 'dim_reduction': 'raw', 'pca_solver': 'auto', 'pca_components': 44, 'resolution': 0.2385058220109698, 'method': 'louvain', 'dist_metric': 'cosine', 'louv_clustering_imp': 'vtraag', 'leid_clustering_imp': 'leidenalg'}. Best is trial 279 with value: 0.12964544250258045.\n",
      "[I 2025-08-07 18:47:14,222] Trial 286 finished with value: 0.12954704999582134 and parameters: {'n_neighbors': 200, 'dim_reduction': 'raw', 'pca_solver': 'auto', 'pca_components': 44, 'resolution': 0.2360313425950393, 'method': 'louvain', 'dist_metric': 'cosine', 'louv_clustering_imp': 'vtraag', 'leid_clustering_imp': 'leidenalg'}. Best is trial 279 with value: 0.12964544250258045.\n",
      "[I 2025-08-07 18:47:52,274] Trial 287 finished with value: 0.1293479915089049 and parameters: {'n_neighbors': 200, 'dim_reduction': 'raw', 'pca_solver': 'auto', 'pca_components': 44, 'resolution': 0.1692707873126489, 'method': 'louvain', 'dist_metric': 'cosine', 'louv_clustering_imp': 'vtraag', 'leid_clustering_imp': 'leidenalg'}. Best is trial 279 with value: 0.12964544250258045.\n",
      "[I 2025-08-07 18:48:30,834] Trial 288 finished with value: 0.1293479915089049 and parameters: {'n_neighbors': 200, 'dim_reduction': 'raw', 'pca_solver': 'auto', 'pca_components': 44, 'resolution': 0.16941018108705733, 'method': 'louvain', 'dist_metric': 'cosine', 'louv_clustering_imp': 'vtraag', 'leid_clustering_imp': 'leidenalg'}. Best is trial 279 with value: 0.12964544250258045.\n",
      "[I 2025-08-07 18:49:08,601] Trial 289 finished with value: 0.12921334118557984 and parameters: {'n_neighbors': 199, 'dim_reduction': 'raw', 'pca_solver': 'auto', 'pca_components': 43, 'resolution': 0.17171467800240475, 'method': 'louvain', 'dist_metric': 'cosine', 'louv_clustering_imp': 'vtraag', 'leid_clustering_imp': 'leidenalg'}. Best is trial 279 with value: 0.12964544250258045.\n",
      "[I 2025-08-07 18:49:47,078] Trial 290 finished with value: 0.12932911867672237 and parameters: {'n_neighbors': 200, 'dim_reduction': 'raw', 'pca_solver': 'auto', 'pca_components': 44, 'resolution': 0.1553424858940194, 'method': 'louvain', 'dist_metric': 'cosine', 'louv_clustering_imp': 'vtraag', 'leid_clustering_imp': 'leidenalg'}. Best is trial 279 with value: 0.12964544250258045.\n",
      "[I 2025-08-07 18:50:25,747] Trial 291 finished with value: 0.12932911867672237 and parameters: {'n_neighbors': 200, 'dim_reduction': 'raw', 'pca_solver': 'auto', 'pca_components': 44, 'resolution': 0.16468739559606937, 'method': 'louvain', 'dist_metric': 'cosine', 'louv_clustering_imp': 'vtraag', 'leid_clustering_imp': 'leidenalg'}. Best is trial 279 with value: 0.12964544250258045.\n",
      "[I 2025-08-07 18:51:02,632] Trial 292 finished with value: -1.0 and parameters: {'n_neighbors': 200, 'dim_reduction': 'raw', 'pca_solver': 'randomized', 'pca_components': 43, 'resolution': 0.14988790325134121, 'method': 'louvain', 'dist_metric': 'cosine', 'louv_clustering_imp': 'vtraag', 'leid_clustering_imp': 'leidenalg'}. Best is trial 279 with value: 0.12964544250258045.\n",
      "[I 2025-08-07 18:51:41,478] Trial 293 finished with value: 0.1293479915089049 and parameters: {'n_neighbors': 200, 'dim_reduction': 'raw', 'pca_solver': 'auto', 'pca_components': 45, 'resolution': 0.17138218462920424, 'method': 'louvain', 'dist_metric': 'cosine', 'louv_clustering_imp': 'vtraag', 'leid_clustering_imp': 'leidenalg'}. Best is trial 279 with value: 0.12964544250258045.\n",
      "[I 2025-08-07 18:52:20,280] Trial 294 finished with value: 0.1293479915089049 and parameters: {'n_neighbors': 200, 'dim_reduction': 'raw', 'pca_solver': 'auto', 'pca_components': 44, 'resolution': 0.17126137812368203, 'method': 'louvain', 'dist_metric': 'cosine', 'louv_clustering_imp': 'vtraag', 'leid_clustering_imp': 'leidenalg'}. Best is trial 279 with value: 0.12964544250258045.\n"
     ]
    },
    {
     "name": "stderr",
     "output_type": "stream",
     "text": [
      "/home/erikserrano/Development/BuSCar/notebooks/1.compound-prioritization/../../utils/heterogeneity.py:113: UserWarning: Ignoring svd_solver='auto' and using randomized, sklearn.decomposition._truncated_svd.TruncatedSVD only supports dict_keys(['arpack', 'randomized']).\n",
      "  sc.pp.pca(\n"
     ]
    },
    {
     "name": "stdout",
     "output_type": "stream",
     "text": [
      "[I 2025-08-07 18:52:48,654] Trial 295 finished with value: 0.12940036610799627 and parameters: {'n_neighbors': 200, 'dim_reduction': 'pca', 'pca_solver': 'auto', 'pca_components': 44, 'resolution': 0.1763402434022936, 'method': 'louvain', 'dist_metric': 'cosine', 'louv_clustering_imp': 'vtraag', 'leid_clustering_imp': 'leidenalg'}. Best is trial 279 with value: 0.12964544250258045.\n"
     ]
    },
    {
     "name": "stderr",
     "output_type": "stream",
     "text": [
      "/home/erikserrano/Development/BuSCar/notebooks/1.compound-prioritization/../../utils/heterogeneity.py:113: UserWarning: Ignoring svd_solver='auto' and using randomized, sklearn.decomposition._truncated_svd.TruncatedSVD only supports dict_keys(['arpack', 'randomized']).\n",
      "  sc.pp.pca(\n"
     ]
    },
    {
     "name": "stdout",
     "output_type": "stream",
     "text": [
      "[I 2025-08-07 18:53:16,348] Trial 296 finished with value: 0.12884413651468285 and parameters: {'n_neighbors': 196, 'dim_reduction': 'pca', 'pca_solver': 'auto', 'pca_components': 44, 'resolution': 0.1721391403983913, 'method': 'louvain', 'dist_metric': 'cosine', 'louv_clustering_imp': 'vtraag', 'leid_clustering_imp': 'leidenalg'}. Best is trial 279 with value: 0.12964544250258045.\n"
     ]
    },
    {
     "name": "stderr",
     "output_type": "stream",
     "text": [
      "/home/erikserrano/Development/BuSCar/notebooks/1.compound-prioritization/../../utils/heterogeneity.py:113: UserWarning: Ignoring svd_solver='auto' and using randomized, sklearn.decomposition._truncated_svd.TruncatedSVD only supports dict_keys(['arpack', 'randomized']).\n",
      "  sc.pp.pca(\n"
     ]
    },
    {
     "name": "stdout",
     "output_type": "stream",
     "text": [
      "[I 2025-08-07 18:53:43,597] Trial 297 finished with value: -1.0 and parameters: {'n_neighbors': 197, 'dim_reduction': 'pca', 'pca_solver': 'auto', 'pca_components': 44, 'resolution': 0.12935067538118455, 'method': 'louvain', 'dist_metric': 'cosine', 'louv_clustering_imp': 'vtraag', 'leid_clustering_imp': 'leidenalg'}. Best is trial 279 with value: 0.12964544250258045.\n"
     ]
    },
    {
     "name": "stderr",
     "output_type": "stream",
     "text": [
      "/home/erikserrano/Development/BuSCar/notebooks/1.compound-prioritization/../../utils/heterogeneity.py:113: UserWarning: Ignoring svd_solver='auto' and using randomized, sklearn.decomposition._truncated_svd.TruncatedSVD only supports dict_keys(['arpack', 'randomized']).\n",
      "  sc.pp.pca(\n"
     ]
    },
    {
     "name": "stdout",
     "output_type": "stream",
     "text": [
      "[I 2025-08-07 18:54:09,031] Trial 298 finished with value: -1.0 and parameters: {'n_neighbors': 196, 'dim_reduction': 'pca', 'pca_solver': 'auto', 'pca_components': 39, 'resolution': 0.10319239086091059, 'method': 'louvain', 'dist_metric': 'cosine', 'louv_clustering_imp': 'vtraag', 'leid_clustering_imp': 'leidenalg'}. Best is trial 279 with value: 0.12964544250258045.\n"
     ]
    },
    {
     "name": "stderr",
     "output_type": "stream",
     "text": [
      "/home/erikserrano/Development/BuSCar/notebooks/1.compound-prioritization/../../utils/heterogeneity.py:113: UserWarning: Ignoring svd_solver='auto' and using randomized, sklearn.decomposition._truncated_svd.TruncatedSVD only supports dict_keys(['arpack', 'randomized']).\n",
      "  sc.pp.pca(\n"
     ]
    },
    {
     "name": "stdout",
     "output_type": "stream",
     "text": [
      "[I 2025-08-07 18:54:35,922] Trial 299 finished with value: 0.12918401842538207 and parameters: {'n_neighbors': 196, 'dim_reduction': 'pca', 'pca_solver': 'auto', 'pca_components': 45, 'resolution': 0.1645796929093592, 'method': 'louvain', 'dist_metric': 'cosine', 'louv_clustering_imp': 'vtraag', 'leid_clustering_imp': 'leidenalg'}. Best is trial 279 with value: 0.12964544250258045.\n"
     ]
    },
    {
     "name": "stderr",
     "output_type": "stream",
     "text": [
      "/home/erikserrano/Development/BuSCar/notebooks/1.compound-prioritization/../../utils/heterogeneity.py:113: UserWarning: Ignoring svd_solver='auto' and using randomized, sklearn.decomposition._truncated_svd.TruncatedSVD only supports dict_keys(['arpack', 'randomized']).\n",
      "  sc.pp.pca(\n"
     ]
    },
    {
     "name": "stdout",
     "output_type": "stream",
     "text": [
      "[I 2025-08-07 18:55:03,882] Trial 300 finished with value: 0.12921144593678088 and parameters: {'n_neighbors': 196, 'dim_reduction': 'pca', 'pca_solver': 'auto', 'pca_components': 45, 'resolution': 0.1781953158690313, 'method': 'louvain', 'dist_metric': 'cosine', 'louv_clustering_imp': 'vtraag', 'leid_clustering_imp': 'leidenalg'}. Best is trial 279 with value: 0.12964544250258045.\n"
     ]
    },
    {
     "name": "stderr",
     "output_type": "stream",
     "text": [
      "/home/erikserrano/Development/BuSCar/notebooks/1.compound-prioritization/../../utils/heterogeneity.py:113: UserWarning: Ignoring svd_solver='auto' and using randomized, sklearn.decomposition._truncated_svd.TruncatedSVD only supports dict_keys(['arpack', 'randomized']).\n",
      "  sc.pp.pca(\n"
     ]
    },
    {
     "name": "stdout",
     "output_type": "stream",
     "text": [
      "[I 2025-08-07 18:55:23,251] Trial 301 finished with value: 0.12835215547404186 and parameters: {'n_neighbors': 120, 'dim_reduction': 'pca', 'pca_solver': 'auto', 'pca_components': 45, 'resolution': 0.16861714087880708, 'method': 'louvain', 'dist_metric': 'cosine', 'louv_clustering_imp': 'vtraag', 'leid_clustering_imp': 'leidenalg'}. Best is trial 279 with value: 0.12964544250258045.\n"
     ]
    },
    {
     "name": "stderr",
     "output_type": "stream",
     "text": [
      "/home/erikserrano/Development/BuSCar/notebooks/1.compound-prioritization/../../utils/heterogeneity.py:113: UserWarning: Ignoring svd_solver='auto' and using randomized, sklearn.decomposition._truncated_svd.TruncatedSVD only supports dict_keys(['arpack', 'randomized']).\n",
      "  sc.pp.pca(\n"
     ]
    },
    {
     "name": "stdout",
     "output_type": "stream",
     "text": [
      "[I 2025-08-07 18:55:54,842] Trial 302 finished with value: 0.129146356112775 and parameters: {'n_neighbors': 195, 'dim_reduction': 'pca', 'pca_solver': 'auto', 'pca_components': 45, 'resolution': 0.17117466691078462, 'method': 'louvain', 'dist_metric': 'cosine', 'louv_clustering_imp': 'vtraag', 'leid_clustering_imp': 'leidenalg'}. Best is trial 279 with value: 0.12964544250258045.\n"
     ]
    },
    {
     "name": "stderr",
     "output_type": "stream",
     "text": [
      "/home/erikserrano/Development/BuSCar/notebooks/1.compound-prioritization/../../utils/heterogeneity.py:113: UserWarning: Ignoring svd_solver='auto' and using randomized, sklearn.decomposition._truncated_svd.TruncatedSVD only supports dict_keys(['arpack', 'randomized']).\n",
      "  sc.pp.pca(\n"
     ]
    },
    {
     "name": "stdout",
     "output_type": "stream",
     "text": [
      "[I 2025-08-07 18:56:22,396] Trial 303 finished with value: 0.12918401842538207 and parameters: {'n_neighbors': 196, 'dim_reduction': 'pca', 'pca_solver': 'auto', 'pca_components': 45, 'resolution': 0.1719875627034549, 'method': 'louvain', 'dist_metric': 'cosine', 'louv_clustering_imp': 'vtraag', 'leid_clustering_imp': 'leidenalg'}. Best is trial 279 with value: 0.12964544250258045.\n"
     ]
    },
    {
     "name": "stderr",
     "output_type": "stream",
     "text": [
      "/home/erikserrano/Development/BuSCar/notebooks/1.compound-prioritization/../../utils/heterogeneity.py:113: UserWarning: Ignoring svd_solver='auto' and using randomized, sklearn.decomposition._truncated_svd.TruncatedSVD only supports dict_keys(['arpack', 'randomized']).\n",
      "  sc.pp.pca(\n"
     ]
    },
    {
     "name": "stdout",
     "output_type": "stream",
     "text": [
      "[I 2025-08-07 18:56:50,864] Trial 304 finished with value: 0.12846612157249832 and parameters: {'n_neighbors': 196, 'dim_reduction': 'pca', 'pca_solver': 'auto', 'pca_components': 46, 'resolution': 0.17235973219276973, 'method': 'louvain', 'dist_metric': 'cosine', 'louv_clustering_imp': 'vtraag', 'leid_clustering_imp': 'leidenalg'}. Best is trial 279 with value: 0.12964544250258045.\n"
     ]
    },
    {
     "name": "stderr",
     "output_type": "stream",
     "text": [
      "/home/erikserrano/Development/BuSCar/notebooks/1.compound-prioritization/../../utils/heterogeneity.py:113: UserWarning: Ignoring svd_solver='auto' and using randomized, sklearn.decomposition._truncated_svd.TruncatedSVD only supports dict_keys(['arpack', 'randomized']).\n",
      "  sc.pp.pca(\n"
     ]
    },
    {
     "name": "stdout",
     "output_type": "stream",
     "text": [
      "[I 2025-08-07 18:57:17,671] Trial 305 finished with value: 0.12940926721274057 and parameters: {'n_neighbors': 196, 'dim_reduction': 'pca', 'pca_solver': 'auto', 'pca_components': 41, 'resolution': 0.1750805574498263, 'method': 'louvain', 'dist_metric': 'cosine', 'louv_clustering_imp': 'vtraag', 'leid_clustering_imp': 'leidenalg'}. Best is trial 279 with value: 0.12964544250258045.\n"
     ]
    },
    {
     "name": "stderr",
     "output_type": "stream",
     "text": [
      "/home/erikserrano/Development/BuSCar/notebooks/1.compound-prioritization/../../utils/heterogeneity.py:113: UserWarning: Ignoring svd_solver='auto' and using randomized, sklearn.decomposition._truncated_svd.TruncatedSVD only supports dict_keys(['arpack', 'randomized']).\n",
      "  sc.pp.pca(\n"
     ]
    },
    {
     "name": "stdout",
     "output_type": "stream",
     "text": [
      "[I 2025-08-07 18:57:43,865] Trial 306 finished with value: -1.0 and parameters: {'n_neighbors': 195, 'dim_reduction': 'pca', 'pca_solver': 'auto', 'pca_components': 40, 'resolution': 0.13548002499161285, 'method': 'louvain', 'dist_metric': 'cosine', 'louv_clustering_imp': 'vtraag', 'leid_clustering_imp': 'leidenalg'}. Best is trial 279 with value: 0.12964544250258045.\n"
     ]
    },
    {
     "name": "stderr",
     "output_type": "stream",
     "text": [
      "/home/erikserrano/Development/BuSCar/notebooks/1.compound-prioritization/../../utils/heterogeneity.py:113: UserWarning: Ignoring svd_solver='auto' and using randomized, sklearn.decomposition._truncated_svd.TruncatedSVD only supports dict_keys(['arpack', 'randomized']).\n",
      "  sc.pp.pca(\n"
     ]
    },
    {
     "name": "stdout",
     "output_type": "stream",
     "text": [
      "[I 2025-08-07 18:58:14,121] Trial 307 finished with value: 0.1285603647350003 and parameters: {'n_neighbors': 196, 'dim_reduction': 'pca', 'pca_solver': 'auto', 'pca_components': 42, 'resolution': 0.18529529171667675, 'method': 'louvain', 'dist_metric': 'cosine', 'louv_clustering_imp': 'vtraag', 'leid_clustering_imp': 'leidenalg'}. Best is trial 279 with value: 0.12964544250258045.\n"
     ]
    },
    {
     "name": "stderr",
     "output_type": "stream",
     "text": [
      "/home/erikserrano/Development/BuSCar/notebooks/1.compound-prioritization/../../utils/heterogeneity.py:113: UserWarning: Ignoring svd_solver='auto' and using randomized, sklearn.decomposition._truncated_svd.TruncatedSVD only supports dict_keys(['arpack', 'randomized']).\n",
      "  sc.pp.pca(\n"
     ]
    },
    {
     "name": "stdout",
     "output_type": "stream",
     "text": [
      "[I 2025-08-07 18:58:24,763] Trial 308 finished with value: 0.12473524349239391 and parameters: {'n_neighbors': 52, 'dim_reduction': 'pca', 'pca_solver': 'auto', 'pca_components': 46, 'resolution': 0.13693492656791437, 'method': 'louvain', 'dist_metric': 'cosine', 'louv_clustering_imp': 'vtraag', 'leid_clustering_imp': 'leidenalg'}. Best is trial 279 with value: 0.12964544250258045.\n"
     ]
    },
    {
     "name": "stderr",
     "output_type": "stream",
     "text": [
      "/home/erikserrano/Development/BuSCar/notebooks/1.compound-prioritization/../../utils/heterogeneity.py:113: UserWarning: Ignoring svd_solver='auto' and using randomized, sklearn.decomposition._truncated_svd.TruncatedSVD only supports dict_keys(['arpack', 'randomized']).\n",
      "  sc.pp.pca(\n"
     ]
    },
    {
     "name": "stdout",
     "output_type": "stream",
     "text": [
      "[I 2025-08-07 18:58:51,158] Trial 309 finished with value: 0.12940926721274057 and parameters: {'n_neighbors': 196, 'dim_reduction': 'pca', 'pca_solver': 'auto', 'pca_components': 41, 'resolution': 0.17288674932273068, 'method': 'louvain', 'dist_metric': 'cosine', 'louv_clustering_imp': 'vtraag', 'leid_clustering_imp': 'leidenalg'}. Best is trial 279 with value: 0.12964544250258045.\n"
     ]
    },
    {
     "name": "stderr",
     "output_type": "stream",
     "text": [
      "/home/erikserrano/Development/BuSCar/notebooks/1.compound-prioritization/../../utils/heterogeneity.py:113: UserWarning: Ignoring svd_solver='auto' and using randomized, sklearn.decomposition._truncated_svd.TruncatedSVD only supports dict_keys(['arpack', 'randomized']).\n",
      "  sc.pp.pca(\n"
     ]
    },
    {
     "name": "stdout",
     "output_type": "stream",
     "text": [
      "[I 2025-08-07 18:59:16,200] Trial 310 finished with value: -1.0 and parameters: {'n_neighbors': 196, 'dim_reduction': 'pca', 'pca_solver': 'auto', 'pca_components': 41, 'resolution': 0.10174483807705921, 'method': 'louvain', 'dist_metric': 'cosine', 'louv_clustering_imp': 'vtraag', 'leid_clustering_imp': 'leidenalg'}. Best is trial 279 with value: 0.12964544250258045.\n"
     ]
    },
    {
     "name": "stderr",
     "output_type": "stream",
     "text": [
      "/home/erikserrano/Development/BuSCar/notebooks/1.compound-prioritization/../../utils/heterogeneity.py:113: UserWarning: Ignoring svd_solver='auto' and using randomized, sklearn.decomposition._truncated_svd.TruncatedSVD only supports dict_keys(['arpack', 'randomized']).\n",
      "  sc.pp.pca(\n"
     ]
    },
    {
     "name": "stdout",
     "output_type": "stream",
     "text": [
      "[I 2025-08-07 18:59:43,295] Trial 311 finished with value: 0.12818539258088166 and parameters: {'n_neighbors': 196, 'dim_reduction': 'pca', 'pca_solver': 'auto', 'pca_components': 43, 'resolution': 0.18561575360115284, 'method': 'louvain', 'dist_metric': 'cosine', 'louv_clustering_imp': 'vtraag', 'leid_clustering_imp': 'leidenalg'}. Best is trial 279 with value: 0.12964544250258045.\n"
     ]
    },
    {
     "name": "stderr",
     "output_type": "stream",
     "text": [
      "/home/erikserrano/Development/BuSCar/notebooks/1.compound-prioritization/../../utils/heterogeneity.py:113: UserWarning: Ignoring svd_solver='auto' and using randomized, sklearn.decomposition._truncated_svd.TruncatedSVD only supports dict_keys(['arpack', 'randomized']).\n",
      "  sc.pp.pca(\n"
     ]
    },
    {
     "name": "stdout",
     "output_type": "stream",
     "text": [
      "[I 2025-08-07 19:00:15,231] Trial 312 finished with value: 0.1292703239913966 and parameters: {'n_neighbors': 196, 'dim_reduction': 'pca', 'pca_solver': 'auto', 'pca_components': 47, 'resolution': 0.1903958960607219, 'method': 'louvain', 'dist_metric': 'cosine', 'louv_clustering_imp': 'vtraag', 'leid_clustering_imp': 'leidenalg'}. Best is trial 279 with value: 0.12964544250258045.\n"
     ]
    },
    {
     "name": "stderr",
     "output_type": "stream",
     "text": [
      "/home/erikserrano/Development/BuSCar/notebooks/1.compound-prioritization/../../utils/heterogeneity.py:113: UserWarning: Ignoring svd_solver='auto' and using randomized, sklearn.decomposition._truncated_svd.TruncatedSVD only supports dict_keys(['arpack', 'randomized']).\n",
      "  sc.pp.pca(\n"
     ]
    },
    {
     "name": "stdout",
     "output_type": "stream",
     "text": [
      "[I 2025-08-07 19:00:43,124] Trial 313 finished with value: 0.1280841420589183 and parameters: {'n_neighbors': 200, 'dim_reduction': 'pca', 'pca_solver': 'auto', 'pca_components': 37, 'resolution': 0.19956071965194766, 'method': 'louvain', 'dist_metric': 'cosine', 'louv_clustering_imp': 'vtraag', 'leid_clustering_imp': 'leidenalg'}. Best is trial 279 with value: 0.12964544250258045.\n"
     ]
    },
    {
     "name": "stderr",
     "output_type": "stream",
     "text": [
      "/home/erikserrano/Development/BuSCar/notebooks/1.compound-prioritization/../../utils/heterogeneity.py:113: UserWarning: Ignoring svd_solver='auto' and using randomized, sklearn.decomposition._truncated_svd.TruncatedSVD only supports dict_keys(['arpack', 'randomized']).\n",
      "  sc.pp.pca(\n"
     ]
    },
    {
     "name": "stdout",
     "output_type": "stream",
     "text": [
      "[I 2025-08-07 19:01:11,365] Trial 314 finished with value: -1.0 and parameters: {'n_neighbors': 194, 'dim_reduction': 'pca', 'pca_solver': 'auto', 'pca_components': 47, 'resolution': 0.14066418497952554, 'method': 'louvain', 'dist_metric': 'cosine', 'louv_clustering_imp': 'vtraag', 'leid_clustering_imp': 'leidenalg'}. Best is trial 279 with value: 0.12964544250258045.\n",
      "[I 2025-08-07 19:01:37,488] Trial 315 finished with value: 0.12933953758605393 and parameters: {'n_neighbors': 196, 'dim_reduction': 'pca', 'pca_solver': 'randomized', 'pca_components': 41, 'resolution': 0.1965886862064612, 'method': 'louvain', 'dist_metric': 'cosine', 'louv_clustering_imp': 'vtraag', 'leid_clustering_imp': 'leidenalg'}. Best is trial 279 with value: 0.12964544250258045.\n",
      "[I 2025-08-07 19:01:57,759] Trial 316 finished with value: 0.12878677504932223 and parameters: {'n_neighbors': 136, 'dim_reduction': 'pca', 'pca_solver': 'randomized', 'pca_components': 41, 'resolution': 0.20559055459357184, 'method': 'louvain', 'dist_metric': 'cosine', 'louv_clustering_imp': 'vtraag', 'leid_clustering_imp': 'leidenalg'}. Best is trial 279 with value: 0.12964544250258045.\n"
     ]
    },
    {
     "name": "stderr",
     "output_type": "stream",
     "text": [
      "/home/erikserrano/Development/BuSCar/notebooks/1.compound-prioritization/../../utils/heterogeneity.py:113: UserWarning: Ignoring svd_solver='auto' and using randomized, sklearn.decomposition._truncated_svd.TruncatedSVD only supports dict_keys(['arpack', 'randomized']).\n",
      "  sc.pp.pca(\n"
     ]
    },
    {
     "name": "stdout",
     "output_type": "stream",
     "text": [
      "[I 2025-08-07 19:02:28,947] Trial 317 finished with value: 0.12902894098757559 and parameters: {'n_neighbors': 200, 'dim_reduction': 'pca', 'pca_solver': 'auto', 'pca_components': 43, 'resolution': 0.19816818913758028, 'method': 'louvain', 'dist_metric': 'cosine', 'louv_clustering_imp': 'vtraag', 'leid_clustering_imp': 'leidenalg'}. Best is trial 279 with value: 0.12964544250258045.\n",
      "[I 2025-08-07 19:02:56,362] Trial 318 finished with value: -1.0 and parameters: {'n_neighbors': 193, 'dim_reduction': 'pca', 'pca_solver': 'randomized', 'pca_components': 47, 'resolution': 0.1280044678683145, 'method': 'louvain', 'dist_metric': 'cosine', 'louv_clustering_imp': 'vtraag', 'leid_clustering_imp': 'leidenalg'}. Best is trial 279 with value: 0.12964544250258045.\n",
      "[I 2025-08-07 19:03:26,143] Trial 319 finished with value: 0.12924780840665676 and parameters: {'n_neighbors': 196, 'dim_reduction': 'pca', 'pca_solver': 'randomized', 'pca_components': 40, 'resolution': 0.20339019557500249, 'method': 'louvain', 'dist_metric': 'cosine', 'louv_clustering_imp': 'vtraag', 'leid_clustering_imp': 'leidenalg'}. Best is trial 279 with value: 0.12964544250258045.\n",
      "[I 2025-08-07 19:03:52,064] Trial 320 finished with value: 0.12896239819982402 and parameters: {'n_neighbors': 200, 'dim_reduction': 'pca', 'pca_solver': 'randomized', 'pca_components': 39, 'resolution': 0.2132115595442397, 'method': 'louvain', 'dist_metric': 'cosine', 'louv_clustering_imp': 'vtraag', 'leid_clustering_imp': 'leidenalg'}. Best is trial 279 with value: 0.12964544250258045.\n",
      "[I 2025-08-07 19:04:19,292] Trial 321 finished with value: 0.12791471288864548 and parameters: {'n_neighbors': 193, 'dim_reduction': 'pca', 'pca_solver': 'randomized', 'pca_components': 42, 'resolution': 0.15225529145950084, 'method': 'louvain', 'dist_metric': 'cosine', 'louv_clustering_imp': 'vtraag', 'leid_clustering_imp': 'leidenalg'}. Best is trial 279 with value: 0.12964544250258045.\n",
      "[I 2025-08-07 19:04:45,309] Trial 322 finished with value: 0.12854762742134493 and parameters: {'n_neighbors': 196, 'dim_reduction': 'pca', 'pca_solver': 'randomized', 'pca_components': 48, 'resolution': 0.20874960728167835, 'method': 'louvain', 'dist_metric': 'cosine', 'louv_clustering_imp': 'vtraag', 'leid_clustering_imp': 'leidenalg'}. Best is trial 279 with value: 0.12964544250258045.\n",
      "[I 2025-08-07 19:05:10,735] Trial 323 finished with value: -1.0 and parameters: {'n_neighbors': 200, 'dim_reduction': 'pca', 'pca_solver': 'randomized', 'pca_components': 36, 'resolution': 0.10423954406924875, 'method': 'louvain', 'dist_metric': 'cosine', 'louv_clustering_imp': 'vtraag', 'leid_clustering_imp': 'leidenalg'}. Best is trial 279 with value: 0.12964544250258045.\n"
     ]
    },
    {
     "name": "stderr",
     "output_type": "stream",
     "text": [
      "/home/erikserrano/Development/BuSCar/notebooks/1.compound-prioritization/../../utils/heterogeneity.py:113: UserWarning: Ignoring svd_solver='auto' and using randomized, sklearn.decomposition._truncated_svd.TruncatedSVD only supports dict_keys(['arpack', 'randomized']).\n",
      "  sc.pp.pca(\n"
     ]
    },
    {
     "name": "stdout",
     "output_type": "stream",
     "text": [
      "[I 2025-08-07 19:05:38,766] Trial 324 finished with value: 0.1288619828516612 and parameters: {'n_neighbors': 196, 'dim_reduction': 'pca', 'pca_solver': 'auto', 'pca_components': 43, 'resolution': 0.20400958487960014, 'method': 'louvain', 'dist_metric': 'cosine', 'louv_clustering_imp': 'vtraag', 'leid_clustering_imp': 'leidenalg'}. Best is trial 279 with value: 0.12964544250258045.\n",
      "[I 2025-08-07 19:06:04,806] Trial 325 finished with value: -1.0 and parameters: {'n_neighbors': 193, 'dim_reduction': 'pca', 'pca_solver': 'randomized', 'pca_components': 41, 'resolution': 0.14576802453483018, 'method': 'louvain', 'dist_metric': 'cosine', 'louv_clustering_imp': 'vtraag', 'leid_clustering_imp': 'leidenalg'}. Best is trial 279 with value: 0.12964544250258045.\n",
      "[I 2025-08-07 19:06:36,594] Trial 326 finished with value: 0.12903889329959917 and parameters: {'n_neighbors': 197, 'dim_reduction': 'pca', 'pca_solver': 'randomized', 'pca_components': 47, 'resolution': 0.19569247509851456, 'method': 'louvain', 'dist_metric': 'cosine', 'louv_clustering_imp': 'vtraag', 'leid_clustering_imp': 'leidenalg'}. Best is trial 279 with value: 0.12964544250258045.\n",
      "[I 2025-08-07 19:07:05,732] Trial 327 finished with value: 0.12946070520473532 and parameters: {'n_neighbors': 200, 'dim_reduction': 'pca', 'pca_solver': 'randomized', 'pca_components': 44, 'resolution': 0.22566984738804374, 'method': 'louvain', 'dist_metric': 'cosine', 'louv_clustering_imp': 'vtraag', 'leid_clustering_imp': 'leidenalg'}. Best is trial 279 with value: 0.12964544250258045.\n",
      "[I 2025-08-07 19:07:18,760] Trial 328 finished with value: 0.05222968917074405 and parameters: {'n_neighbors': 75, 'dim_reduction': 'pca', 'pca_solver': 'randomized', 'pca_components': 39, 'resolution': 0.21910581797263892, 'method': 'louvain', 'dist_metric': 'cosine', 'louv_clustering_imp': 'vtraag', 'leid_clustering_imp': 'leidenalg'}. Best is trial 279 with value: 0.12964544250258045.\n",
      "[I 2025-08-07 19:07:49,778] Trial 329 finished with value: 0.12946070520473532 and parameters: {'n_neighbors': 200, 'dim_reduction': 'pca', 'pca_solver': 'randomized', 'pca_components': 44, 'resolution': 0.22886286040076811, 'method': 'louvain', 'dist_metric': 'cosine', 'louv_clustering_imp': 'vtraag', 'leid_clustering_imp': 'leidenalg'}. Best is trial 279 with value: 0.12964544250258045.\n",
      "[I 2025-08-07 19:08:19,360] Trial 330 finished with value: 0.1286951179220445 and parameters: {'n_neighbors': 200, 'dim_reduction': 'pca', 'pca_solver': 'randomized', 'pca_components': 48, 'resolution': 0.227648718890556, 'method': 'louvain', 'dist_metric': 'cosine', 'louv_clustering_imp': 'vtraag', 'leid_clustering_imp': 'leidenalg'}. Best is trial 279 with value: 0.12964544250258045.\n",
      "[I 2025-08-07 19:08:47,488] Trial 331 finished with value: 0.1283418842539292 and parameters: {'n_neighbors': 192, 'dim_reduction': 'pca', 'pca_solver': 'randomized', 'pca_components': 46, 'resolution': 0.15430785929170357, 'method': 'louvain', 'dist_metric': 'cosine', 'louv_clustering_imp': 'vtraag', 'leid_clustering_imp': 'leidenalg'}. Best is trial 279 with value: 0.12964544250258045.\n",
      "[I 2025-08-07 19:09:03,453] Trial 332 finished with value: 0.05234270335500076 and parameters: {'n_neighbors': 97, 'dim_reduction': 'pca', 'pca_solver': 'randomized', 'pca_components': 44, 'resolution': 0.2397447912265739, 'method': 'louvain', 'dist_metric': 'cosine', 'louv_clustering_imp': 'vtraag', 'leid_clustering_imp': 'leidenalg'}. Best is trial 279 with value: 0.12964544250258045.\n",
      "[I 2025-08-07 19:09:22,722] Trial 333 finished with value: -1.0 and parameters: {'n_neighbors': 131, 'dim_reduction': 'pca', 'pca_solver': 'randomized', 'pca_components': 44, 'resolution': 0.13657977855944856, 'method': 'louvain', 'dist_metric': 'cosine', 'louv_clustering_imp': 'vtraag', 'leid_clustering_imp': 'leidenalg'}. Best is trial 279 with value: 0.12964544250258045.\n",
      "[I 2025-08-07 19:09:55,359] Trial 334 finished with value: 0.12885004013814122 and parameters: {'n_neighbors': 200, 'dim_reduction': 'pca', 'pca_solver': 'randomized', 'pca_components': 47, 'resolution': 0.22583764078543067, 'method': 'louvain', 'dist_metric': 'cosine', 'louv_clustering_imp': 'vtraag', 'leid_clustering_imp': 'leidenalg'}. Best is trial 279 with value: 0.12964544250258045.\n",
      "[I 2025-08-07 19:10:21,706] Trial 335 finished with value: 0.12866913490199364 and parameters: {'n_neighbors': 193, 'dim_reduction': 'pca', 'pca_solver': 'randomized', 'pca_components': 49, 'resolution': 0.19955337590554212, 'method': 'louvain', 'dist_metric': 'cosine', 'louv_clustering_imp': 'vtraag', 'leid_clustering_imp': 'leidenalg'}. Best is trial 279 with value: 0.12964544250258045.\n",
      "[I 2025-08-07 19:10:51,344] Trial 336 finished with value: 0.1285375146588935 and parameters: {'n_neighbors': 200, 'dim_reduction': 'pca', 'pca_solver': 'randomized', 'pca_components': 46, 'resolution': 0.16990993652779304, 'method': 'louvain', 'dist_metric': 'cosine', 'louv_clustering_imp': 'vtraag', 'leid_clustering_imp': 'leidenalg'}. Best is trial 279 with value: 0.12964544250258045.\n",
      "[I 2025-08-07 19:11:22,485] Trial 337 finished with value: 0.12863420356786276 and parameters: {'n_neighbors': 196, 'dim_reduction': 'pca', 'pca_solver': 'randomized', 'pca_components': 42, 'resolution': 0.24573153401215164, 'method': 'louvain', 'dist_metric': 'cosine', 'louv_clustering_imp': 'vtraag', 'leid_clustering_imp': 'leidenalg'}. Best is trial 279 with value: 0.12964544250258045.\n",
      "[I 2025-08-07 19:11:49,719] Trial 338 finished with value: -1.0 and parameters: {'n_neighbors': 192, 'dim_reduction': 'pca', 'pca_solver': 'randomized', 'pca_components': 44, 'resolution': 0.11717018907434962, 'method': 'louvain', 'dist_metric': 'cosine', 'louv_clustering_imp': 'vtraag', 'leid_clustering_imp': 'leidenalg'}. Best is trial 279 with value: 0.12964544250258045.\n"
     ]
    },
    {
     "name": "stderr",
     "output_type": "stream",
     "text": [
      "/home/erikserrano/Development/BuSCar/notebooks/1.compound-prioritization/../../utils/heterogeneity.py:113: UserWarning: Ignoring svd_solver='auto' and using randomized, sklearn.decomposition._truncated_svd.TruncatedSVD only supports dict_keys(['arpack', 'randomized']).\n",
      "  sc.pp.pca(\n"
     ]
    },
    {
     "name": "stdout",
     "output_type": "stream",
     "text": [
      "[I 2025-08-07 19:12:19,210] Trial 339 finished with value: 0.1285133125725435 and parameters: {'n_neighbors': 200, 'dim_reduction': 'pca', 'pca_solver': 'auto', 'pca_components': 46, 'resolution': 0.15829148818130198, 'method': 'louvain', 'dist_metric': 'cosine', 'louv_clustering_imp': 'vtraag', 'leid_clustering_imp': 'leidenalg'}. Best is trial 279 with value: 0.12964544250258045.\n"
     ]
    },
    {
     "name": "stderr",
     "output_type": "stream",
     "text": [
      "/home/erikserrano/Development/BuSCar/notebooks/1.compound-prioritization/../../utils/heterogeneity.py:113: UserWarning: Ignoring svd_solver='auto' and using randomized, sklearn.decomposition._truncated_svd.TruncatedSVD only supports dict_keys(['arpack', 'randomized']).\n",
      "  sc.pp.pca(\n"
     ]
    },
    {
     "name": "stdout",
     "output_type": "stream",
     "text": [
      "[I 2025-08-07 19:12:45,512] Trial 340 finished with value: 0.1293690681574417 and parameters: {'n_neighbors': 196, 'dim_reduction': 'pca', 'pca_solver': 'auto', 'pca_components': 41, 'resolution': 0.23444703091606012, 'method': 'louvain', 'dist_metric': 'cosine', 'louv_clustering_imp': 'vtraag', 'leid_clustering_imp': 'leidenalg'}. Best is trial 279 with value: 0.12964544250258045.\n"
     ]
    },
    {
     "name": "stderr",
     "output_type": "stream",
     "text": [
      "/home/erikserrano/Development/BuSCar/notebooks/1.compound-prioritization/../../utils/heterogeneity.py:113: UserWarning: Ignoring svd_solver='auto' and using randomized, sklearn.decomposition._truncated_svd.TruncatedSVD only supports dict_keys(['arpack', 'randomized']).\n",
      "  sc.pp.pca(\n"
     ]
    },
    {
     "name": "stdout",
     "output_type": "stream",
     "text": [
      "[I 2025-08-07 19:13:11,910] Trial 341 finished with value: 0.12947892437390282 and parameters: {'n_neighbors': 196, 'dim_reduction': 'pca', 'pca_solver': 'auto', 'pca_components': 41, 'resolution': 0.24300860498705373, 'method': 'louvain', 'dist_metric': 'cosine', 'louv_clustering_imp': 'vtraag', 'leid_clustering_imp': 'leidenalg'}. Best is trial 279 with value: 0.12964544250258045.\n",
      "[I 2025-08-07 19:13:40,072] Trial 342 finished with value: 0.05350575386927853 and parameters: {'n_neighbors': 191, 'dim_reduction': 'pca', 'pca_solver': 'randomized', 'pca_components': 36, 'resolution': 0.24633752149960725, 'method': 'louvain', 'dist_metric': 'cosine', 'louv_clustering_imp': 'vtraag', 'leid_clustering_imp': 'leidenalg'}. Best is trial 279 with value: 0.12964544250258045.\n"
     ]
    },
    {
     "name": "stderr",
     "output_type": "stream",
     "text": [
      "/home/erikserrano/Development/BuSCar/notebooks/1.compound-prioritization/../../utils/heterogeneity.py:113: UserWarning: Ignoring svd_solver='auto' and using randomized, sklearn.decomposition._truncated_svd.TruncatedSVD only supports dict_keys(['arpack', 'randomized']).\n",
      "  sc.pp.pca(\n"
     ]
    },
    {
     "name": "stdout",
     "output_type": "stream",
     "text": [
      "[I 2025-08-07 19:14:06,362] Trial 343 finished with value: 0.053801641046615424 and parameters: {'n_neighbors': 196, 'dim_reduction': 'pca', 'pca_solver': 'auto', 'pca_components': 41, 'resolution': 0.2687399260828306, 'method': 'louvain', 'dist_metric': 'cosine', 'louv_clustering_imp': 'vtraag', 'leid_clustering_imp': 'leidenalg'}. Best is trial 279 with value: 0.12964544250258045.\n"
     ]
    },
    {
     "name": "stderr",
     "output_type": "stream",
     "text": [
      "/home/erikserrano/Development/BuSCar/notebooks/1.compound-prioritization/../../utils/heterogeneity.py:113: UserWarning: Ignoring svd_solver='auto' and using randomized, sklearn.decomposition._truncated_svd.TruncatedSVD only supports dict_keys(['arpack', 'randomized']).\n",
      "  sc.pp.pca(\n"
     ]
    },
    {
     "name": "stdout",
     "output_type": "stream",
     "text": [
      "[I 2025-08-07 19:14:37,232] Trial 344 finished with value: 0.028631342475515388 and parameters: {'n_neighbors': 191, 'dim_reduction': 'pca', 'pca_solver': 'auto', 'pca_components': 38, 'resolution': 1.377352738817462, 'method': 'louvain', 'dist_metric': 'cosine', 'louv_clustering_imp': 'vtraag', 'leid_clustering_imp': 'leidenalg'}. Best is trial 279 with value: 0.12964544250258045.\n"
     ]
    },
    {
     "name": "stderr",
     "output_type": "stream",
     "text": [
      "/home/erikserrano/Development/BuSCar/notebooks/1.compound-prioritization/../../utils/heterogeneity.py:113: UserWarning: Ignoring svd_solver='auto' and using randomized, sklearn.decomposition._truncated_svd.TruncatedSVD only supports dict_keys(['arpack', 'randomized']).\n",
      "  sc.pp.pca(\n"
     ]
    },
    {
     "name": "stdout",
     "output_type": "stream",
     "text": [
      "[I 2025-08-07 19:15:07,871] Trial 345 finished with value: 0.12857544699304607 and parameters: {'n_neighbors': 196, 'dim_reduction': 'pca', 'pca_solver': 'auto', 'pca_components': 42, 'resolution': 0.22165272407241687, 'method': 'louvain', 'dist_metric': 'cosine', 'louv_clustering_imp': 'vtraag', 'leid_clustering_imp': 'leidenalg'}. Best is trial 279 with value: 0.12964544250258045.\n"
     ]
    },
    {
     "name": "stderr",
     "output_type": "stream",
     "text": [
      "/home/erikserrano/Development/BuSCar/notebooks/1.compound-prioritization/../../utils/heterogeneity.py:113: UserWarning: Ignoring svd_solver='auto' and using randomized, sklearn.decomposition._truncated_svd.TruncatedSVD only supports dict_keys(['arpack', 'randomized']).\n",
      "  sc.pp.pca(\n"
     ]
    },
    {
     "name": "stdout",
     "output_type": "stream",
     "text": [
      "[I 2025-08-07 19:15:33,586] Trial 346 finished with value: 0.12899949460606105 and parameters: {'n_neighbors': 193, 'dim_reduction': 'pca', 'pca_solver': 'auto', 'pca_components': 40, 'resolution': 0.24113486148522503, 'method': 'louvain', 'dist_metric': 'cosine', 'louv_clustering_imp': 'vtraag', 'leid_clustering_imp': 'leidenalg'}. Best is trial 279 with value: 0.12964544250258045.\n"
     ]
    },
    {
     "name": "stderr",
     "output_type": "stream",
     "text": [
      "/home/erikserrano/Development/BuSCar/notebooks/1.compound-prioritization/../../utils/heterogeneity.py:113: UserWarning: Ignoring svd_solver='auto' and using randomized, sklearn.decomposition._truncated_svd.TruncatedSVD only supports dict_keys(['arpack', 'randomized']).\n",
      "  sc.pp.pca(\n"
     ]
    },
    {
     "name": "stdout",
     "output_type": "stream",
     "text": [
      "[I 2025-08-07 19:16:01,039] Trial 347 finished with value: 0.05302511368120303 and parameters: {'n_neighbors': 200, 'dim_reduction': 'pca', 'pca_solver': 'auto', 'pca_components': 49, 'resolution': 0.263185200070462, 'method': 'louvain', 'dist_metric': 'cosine', 'louv_clustering_imp': 'vtraag', 'leid_clustering_imp': 'leidenalg'}. Best is trial 279 with value: 0.12964544250258045.\n"
     ]
    },
    {
     "name": "stderr",
     "output_type": "stream",
     "text": [
      "/home/erikserrano/Development/BuSCar/notebooks/1.compound-prioritization/../../utils/heterogeneity.py:113: UserWarning: Ignoring svd_solver='auto' and using randomized, sklearn.decomposition._truncated_svd.TruncatedSVD only supports dict_keys(['arpack', 'randomized']).\n",
      "  sc.pp.pca(\n"
     ]
    },
    {
     "name": "stdout",
     "output_type": "stream",
     "text": [
      "[I 2025-08-07 19:16:29,197] Trial 348 finished with value: 0.1288544287976372 and parameters: {'n_neighbors': 197, 'dim_reduction': 'pca', 'pca_solver': 'auto', 'pca_components': 44, 'resolution': 0.1982371108588233, 'method': 'louvain', 'dist_metric': 'cosine', 'louv_clustering_imp': 'vtraag', 'leid_clustering_imp': 'leidenalg'}. Best is trial 279 with value: 0.12964544250258045.\n"
     ]
    },
    {
     "name": "stderr",
     "output_type": "stream",
     "text": [
      "/home/erikserrano/Development/BuSCar/notebooks/1.compound-prioritization/../../utils/heterogeneity.py:113: UserWarning: Ignoring svd_solver='auto' and using randomized, sklearn.decomposition._truncated_svd.TruncatedSVD only supports dict_keys(['arpack', 'randomized']).\n",
      "  sc.pp.pca(\n"
     ]
    },
    {
     "name": "stdout",
     "output_type": "stream",
     "text": [
      "[I 2025-08-07 19:17:01,669] Trial 349 finished with value: 0.12852062915208523 and parameters: {'n_neighbors': 194, 'dim_reduction': 'pca', 'pca_solver': 'auto', 'pca_components': 42, 'resolution': 0.22037105967144466, 'method': 'louvain', 'dist_metric': 'cosine', 'louv_clustering_imp': 'vtraag', 'leid_clustering_imp': 'leidenalg'}. Best is trial 279 with value: 0.12964544250258045.\n"
     ]
    },
    {
     "name": "stderr",
     "output_type": "stream",
     "text": [
      "/home/erikserrano/Development/BuSCar/notebooks/1.compound-prioritization/../../utils/heterogeneity.py:113: UserWarning: Ignoring svd_solver='auto' and using randomized, sklearn.decomposition._truncated_svd.TruncatedSVD only supports dict_keys(['arpack', 'randomized']).\n",
      "  sc.pp.pca(\n"
     ]
    },
    {
     "name": "stdout",
     "output_type": "stream",
     "text": [
      "[I 2025-08-07 19:17:29,156] Trial 350 finished with value: 0.05329519219594564 and parameters: {'n_neighbors': 190, 'dim_reduction': 'pca', 'pca_solver': 'auto', 'pca_components': 45, 'resolution': 0.2600761427328688, 'method': 'louvain', 'dist_metric': 'cosine', 'louv_clustering_imp': 'vtraag', 'leid_clustering_imp': 'leidenalg'}. Best is trial 279 with value: 0.12964544250258045.\n"
     ]
    },
    {
     "name": "stderr",
     "output_type": "stream",
     "text": [
      "/home/erikserrano/Development/BuSCar/notebooks/1.compound-prioritization/../../utils/heterogeneity.py:113: UserWarning: Ignoring svd_solver='auto' and using randomized, sklearn.decomposition._truncated_svd.TruncatedSVD only supports dict_keys(['arpack', 'randomized']).\n",
      "  sc.pp.pca(\n"
     ]
    },
    {
     "name": "stdout",
     "output_type": "stream",
     "text": [
      "[I 2025-08-07 19:17:59,218] Trial 351 finished with value: 0.12863656461656017 and parameters: {'n_neighbors': 200, 'dim_reduction': 'pca', 'pca_solver': 'auto', 'pca_components': 48, 'resolution': 0.19391190463236652, 'method': 'louvain', 'dist_metric': 'cosine', 'louv_clustering_imp': 'vtraag', 'leid_clustering_imp': 'leidenalg'}. Best is trial 279 with value: 0.12964544250258045.\n"
     ]
    },
    {
     "name": "stderr",
     "output_type": "stream",
     "text": [
      "/home/erikserrano/Development/BuSCar/notebooks/1.compound-prioritization/../../utils/heterogeneity.py:113: UserWarning: Ignoring svd_solver='auto' and using randomized, sklearn.decomposition._truncated_svd.TruncatedSVD only supports dict_keys(['arpack', 'randomized']).\n",
      "  sc.pp.pca(\n"
     ]
    },
    {
     "name": "stdout",
     "output_type": "stream",
     "text": [
      "[I 2025-08-07 19:18:27,432] Trial 352 finished with value: -1.0 and parameters: {'n_neighbors': 196, 'dim_reduction': 'pca', 'pca_solver': 'auto', 'pca_components': 43, 'resolution': 0.10173697997718606, 'method': 'louvain', 'dist_metric': 'cosine', 'louv_clustering_imp': 'vtraag', 'leid_clustering_imp': 'leidenalg'}. Best is trial 279 with value: 0.12964544250258045.\n",
      "[I 2025-08-07 19:18:58,212] Trial 353 finished with value: 0.12875142532388228 and parameters: {'n_neighbors': 196, 'dim_reduction': 'pca', 'pca_solver': 'randomized', 'pca_components': 38, 'resolution': 0.15540484725177778, 'method': 'louvain', 'dist_metric': 'cosine', 'louv_clustering_imp': 'vtraag', 'leid_clustering_imp': 'leidenalg'}. Best is trial 279 with value: 0.12964544250258045.\n"
     ]
    },
    {
     "name": "stderr",
     "output_type": "stream",
     "text": [
      "/home/erikserrano/Development/BuSCar/notebooks/1.compound-prioritization/../../utils/heterogeneity.py:113: UserWarning: Ignoring svd_solver='auto' and using randomized, sklearn.decomposition._truncated_svd.TruncatedSVD only supports dict_keys(['arpack', 'randomized']).\n",
      "  sc.pp.pca(\n"
     ]
    },
    {
     "name": "stdout",
     "output_type": "stream",
     "text": [
      "[I 2025-08-07 19:19:24,693] Trial 354 finished with value: 0.12870999101070887 and parameters: {'n_neighbors': 191, 'dim_reduction': 'pca', 'pca_solver': 'auto', 'pca_components': 40, 'resolution': 0.23298079521901965, 'method': 'louvain', 'dist_metric': 'cosine', 'louv_clustering_imp': 'vtraag', 'leid_clustering_imp': 'leidenalg'}. Best is trial 279 with value: 0.12964544250258045.\n"
     ]
    },
    {
     "name": "stderr",
     "output_type": "stream",
     "text": [
      "/home/erikserrano/Development/BuSCar/notebooks/1.compound-prioritization/../../utils/heterogeneity.py:113: UserWarning: Ignoring svd_solver='auto' and using randomized, sklearn.decomposition._truncated_svd.TruncatedSVD only supports dict_keys(['arpack', 'randomized']).\n",
      "  sc.pp.pca(\n"
     ]
    },
    {
     "name": "stdout",
     "output_type": "stream",
     "text": [
      "[I 2025-08-07 19:19:32,122] Trial 355 finished with value: 0.015185361818605948 and parameters: {'n_neighbors': 27, 'dim_reduction': 'pca', 'pca_solver': 'auto', 'pca_components': 45, 'resolution': 1.7783753649968002, 'method': 'louvain', 'dist_metric': 'cosine', 'louv_clustering_imp': 'vtraag', 'leid_clustering_imp': 'leidenalg'}. Best is trial 279 with value: 0.12964544250258045.\n"
     ]
    },
    {
     "name": "stderr",
     "output_type": "stream",
     "text": [
      "/home/erikserrano/Development/BuSCar/notebooks/1.compound-prioritization/../../utils/heterogeneity.py:113: UserWarning: Ignoring svd_solver='auto' and using randomized, sklearn.decomposition._truncated_svd.TruncatedSVD only supports dict_keys(['arpack', 'randomized']).\n",
      "  sc.pp.pca(\n"
     ]
    },
    {
     "name": "stdout",
     "output_type": "stream",
     "text": [
      "[I 2025-08-07 19:20:02,189] Trial 356 finished with value: 0.053601137875466665 and parameters: {'n_neighbors': 200, 'dim_reduction': 'pca', 'pca_solver': 'auto', 'pca_components': 46, 'resolution': 0.2781814180539735, 'method': 'louvain', 'dist_metric': 'cosine', 'louv_clustering_imp': 'vtraag', 'leid_clustering_imp': 'leidenalg'}. Best is trial 279 with value: 0.12964544250258045.\n"
     ]
    },
    {
     "name": "stderr",
     "output_type": "stream",
     "text": [
      "/home/erikserrano/Development/BuSCar/notebooks/1.compound-prioritization/../../utils/heterogeneity.py:113: UserWarning: Ignoring svd_solver='auto' and using randomized, sklearn.decomposition._truncated_svd.TruncatedSVD only supports dict_keys(['arpack', 'randomized']).\n",
      "  sc.pp.pca(\n"
     ]
    },
    {
     "name": "stdout",
     "output_type": "stream",
     "text": [
      "[I 2025-08-07 19:20:28,245] Trial 357 finished with value: 0.1286328522035976 and parameters: {'n_neighbors': 194, 'dim_reduction': 'pca', 'pca_solver': 'auto', 'pca_components': 49, 'resolution': 0.18334899994923928, 'method': 'louvain', 'dist_metric': 'cosine', 'louv_clustering_imp': 'vtraag', 'leid_clustering_imp': 'leidenalg'}. Best is trial 279 with value: 0.12964544250258045.\n"
     ]
    },
    {
     "name": "stderr",
     "output_type": "stream",
     "text": [
      "/home/erikserrano/Development/BuSCar/notebooks/1.compound-prioritization/../../utils/heterogeneity.py:113: UserWarning: Ignoring svd_solver='auto' and using randomized, sklearn.decomposition._truncated_svd.TruncatedSVD only supports dict_keys(['arpack', 'randomized']).\n",
      "  sc.pp.pca(\n"
     ]
    },
    {
     "name": "stdout",
     "output_type": "stream",
     "text": [
      "[I 2025-08-07 19:20:57,003] Trial 358 finished with value: 0.12840800791049956 and parameters: {'n_neighbors': 197, 'dim_reduction': 'pca', 'pca_solver': 'auto', 'pca_components': 42, 'resolution': 0.224333858439818, 'method': 'louvain', 'dist_metric': 'cosine', 'louv_clustering_imp': 'vtraag', 'leid_clustering_imp': 'leidenalg'}. Best is trial 279 with value: 0.12964544250258045.\n",
      "[I 2025-08-07 19:21:22,965] Trial 359 finished with value: -1.0 and parameters: {'n_neighbors': 200, 'dim_reduction': 'pca', 'pca_solver': 'randomized', 'pca_components': 44, 'resolution': 0.13914542223541693, 'method': 'louvain', 'dist_metric': 'cosine', 'louv_clustering_imp': 'vtraag', 'leid_clustering_imp': 'leidenalg'}. Best is trial 279 with value: 0.12964544250258045.\n",
      "[I 2025-08-07 19:22:01,221] Trial 360 finished with value: 0.053525517552143805 and parameters: {'n_neighbors': 193, 'dim_reduction': 'raw', 'pca_solver': 'auto', 'pca_components': 47, 'resolution': 0.27455773315569465, 'method': 'louvain', 'dist_metric': 'cosine', 'louv_clustering_imp': 'vtraag', 'leid_clustering_imp': 'leidenalg'}. Best is trial 279 with value: 0.12964544250258045.\n"
     ]
    },
    {
     "name": "stderr",
     "output_type": "stream",
     "text": [
      "/home/erikserrano/Development/BuSCar/notebooks/1.compound-prioritization/../../utils/heterogeneity.py:113: UserWarning: Ignoring svd_solver='auto' and using randomized, sklearn.decomposition._truncated_svd.TruncatedSVD only supports dict_keys(['arpack', 'randomized']).\n",
      "  sc.pp.pca(\n"
     ]
    },
    {
     "name": "stdout",
     "output_type": "stream",
     "text": [
      "[I 2025-08-07 19:22:28,448] Trial 361 finished with value: 0.12931013004077827 and parameters: {'n_neighbors': 196, 'dim_reduction': 'pca', 'pca_solver': 'auto', 'pca_components': 51, 'resolution': 0.18626000580913712, 'method': 'louvain', 'dist_metric': 'cosine', 'louv_clustering_imp': 'vtraag', 'leid_clustering_imp': 'leidenalg'}. Best is trial 279 with value: 0.12964544250258045.\n",
      "[I 2025-08-07 19:23:07,618] Trial 362 finished with value: 0.13107500232590247 and parameters: {'n_neighbors': 190, 'dim_reduction': 'raw', 'pca_solver': 'auto', 'pca_components': 41, 'resolution': 0.22999119874134563, 'method': 'louvain', 'dist_metric': 'cosine', 'louv_clustering_imp': 'vtraag', 'leid_clustering_imp': 'leidenalg'}. Best is trial 362 with value: 0.13107500232590247.\n",
      "[I 2025-08-07 19:23:46,386] Trial 363 finished with value: 0.1310525927355763 and parameters: {'n_neighbors': 190, 'dim_reduction': 'raw', 'pca_solver': 'auto', 'pca_components': 41, 'resolution': 0.23884595568714925, 'method': 'louvain', 'dist_metric': 'cosine', 'louv_clustering_imp': 'vtraag', 'leid_clustering_imp': 'leidenalg'}. Best is trial 362 with value: 0.13107500232590247.\n",
      "[I 2025-08-07 19:24:26,123] Trial 364 finished with value: 0.13069271012276715 and parameters: {'n_neighbors': 190, 'dim_reduction': 'raw', 'pca_solver': 'auto', 'pca_components': 39, 'resolution': 0.27317445560182485, 'method': 'louvain', 'dist_metric': 'cosine', 'louv_clustering_imp': 'vtraag', 'leid_clustering_imp': 'leidenalg'}. Best is trial 362 with value: 0.13107500232590247.\n",
      "[I 2025-08-07 19:25:07,949] Trial 365 finished with value: 0.1295521361565224 and parameters: {'n_neighbors': 188, 'dim_reduction': 'raw', 'pca_solver': 'auto', 'pca_components': 38, 'resolution': 0.26469294237335944, 'method': 'louvain', 'dist_metric': 'cosine', 'louv_clustering_imp': 'vtraag', 'leid_clustering_imp': 'leidenalg'}. Best is trial 362 with value: 0.13107500232590247.\n",
      "[I 2025-08-07 19:25:50,014] Trial 366 finished with value: 0.05352582093670756 and parameters: {'n_neighbors': 188, 'dim_reduction': 'raw', 'pca_solver': 'auto', 'pca_components': 38, 'resolution': 0.2737809468049296, 'method': 'louvain', 'dist_metric': 'cosine', 'louv_clustering_imp': 'vtraag', 'leid_clustering_imp': 'leidenalg'}. Best is trial 362 with value: 0.13107500232590247.\n",
      "[I 2025-08-07 19:26:30,581] Trial 367 finished with value: 0.13059640121552799 and parameters: {'n_neighbors': 190, 'dim_reduction': 'raw', 'pca_solver': 'auto', 'pca_components': 36, 'resolution': 0.2813062130133832, 'method': 'louvain', 'dist_metric': 'cosine', 'louv_clustering_imp': 'vtraag', 'leid_clustering_imp': 'leidenalg'}. Best is trial 362 with value: 0.13107500232590247.\n",
      "[I 2025-08-07 19:27:11,602] Trial 368 finished with value: 0.1305978843572845 and parameters: {'n_neighbors': 189, 'dim_reduction': 'raw', 'pca_solver': 'auto', 'pca_components': 34, 'resolution': 0.27698072657294137, 'method': 'louvain', 'dist_metric': 'cosine', 'louv_clustering_imp': 'vtraag', 'leid_clustering_imp': 'leidenalg'}. Best is trial 362 with value: 0.13107500232590247.\n",
      "[I 2025-08-07 19:27:53,234] Trial 369 finished with value: 0.053524716161600545 and parameters: {'n_neighbors': 188, 'dim_reduction': 'raw', 'pca_solver': 'auto', 'pca_components': 34, 'resolution': 0.2786753898718528, 'method': 'louvain', 'dist_metric': 'cosine', 'louv_clustering_imp': 'vtraag', 'leid_clustering_imp': 'leidenalg'}. Best is trial 362 with value: 0.13107500232590247.\n",
      "[I 2025-08-07 19:28:32,878] Trial 370 finished with value: 0.1305978843572845 and parameters: {'n_neighbors': 189, 'dim_reduction': 'raw', 'pca_solver': 'auto', 'pca_components': 35, 'resolution': 0.27383648681833933, 'method': 'louvain', 'dist_metric': 'cosine', 'louv_clustering_imp': 'vtraag', 'leid_clustering_imp': 'leidenalg'}. Best is trial 362 with value: 0.13107500232590247.\n",
      "[I 2025-08-07 19:29:17,299] Trial 371 finished with value: 0.053602417469787986 and parameters: {'n_neighbors': 189, 'dim_reduction': 'raw', 'pca_solver': 'auto', 'pca_components': 36, 'resolution': 0.29966167836302393, 'method': 'louvain', 'dist_metric': 'cosine', 'louv_clustering_imp': 'vtraag', 'leid_clustering_imp': 'leidenalg'}. Best is trial 362 with value: 0.13107500232590247.\n",
      "[I 2025-08-07 19:29:57,209] Trial 372 finished with value: 0.1305978843572845 and parameters: {'n_neighbors': 189, 'dim_reduction': 'raw', 'pca_solver': 'auto', 'pca_components': 33, 'resolution': 0.2757599930102718, 'method': 'louvain', 'dist_metric': 'cosine', 'louv_clustering_imp': 'vtraag', 'leid_clustering_imp': 'leidenalg'}. Best is trial 362 with value: 0.13107500232590247.\n",
      "[I 2025-08-07 19:30:35,884] Trial 373 finished with value: 0.053488739628695305 and parameters: {'n_neighbors': 187, 'dim_reduction': 'raw', 'pca_solver': 'auto', 'pca_components': 34, 'resolution': 0.2854235099017597, 'method': 'louvain', 'dist_metric': 'cosine', 'louv_clustering_imp': 'vtraag', 'leid_clustering_imp': 'leidenalg'}. Best is trial 362 with value: 0.13107500232590247.\n",
      "[I 2025-08-07 19:31:14,914] Trial 374 finished with value: 0.13082507450947137 and parameters: {'n_neighbors': 189, 'dim_reduction': 'raw', 'pca_solver': 'auto', 'pca_components': 35, 'resolution': 0.2641436267169553, 'method': 'louvain', 'dist_metric': 'cosine', 'louv_clustering_imp': 'vtraag', 'leid_clustering_imp': 'leidenalg'}. Best is trial 362 with value: 0.13107500232590247.\n",
      "[I 2025-08-07 19:31:48,980] Trial 375 finished with value: 0.05316591995912176 and parameters: {'n_neighbors': 150, 'dim_reduction': 'raw', 'pca_solver': 'auto', 'pca_components': 32, 'resolution': 0.28607057870163133, 'method': 'louvain', 'dist_metric': 'cosine', 'louv_clustering_imp': 'vtraag', 'leid_clustering_imp': 'leidenalg'}. Best is trial 362 with value: 0.13107500232590247.\n",
      "[I 2025-08-07 19:32:29,847] Trial 376 finished with value: 0.053631869047371536 and parameters: {'n_neighbors': 184, 'dim_reduction': 'raw', 'pca_solver': 'auto', 'pca_components': 31, 'resolution': 0.2682062778608066, 'method': 'louvain', 'dist_metric': 'cosine', 'louv_clustering_imp': 'vtraag', 'leid_clustering_imp': 'leidenalg'}. Best is trial 362 with value: 0.13107500232590247.\n",
      "[I 2025-08-07 19:33:12,174] Trial 377 finished with value: 0.12959964617370898 and parameters: {'n_neighbors': 188, 'dim_reduction': 'raw', 'pca_solver': 'auto', 'pca_components': 29, 'resolution': 0.2563678607062854, 'method': 'louvain', 'dist_metric': 'cosine', 'louv_clustering_imp': 'vtraag', 'leid_clustering_imp': 'leidenalg'}. Best is trial 362 with value: 0.13107500232590247.\n",
      "[I 2025-08-07 19:33:52,366] Trial 378 finished with value: 0.05351503586760248 and parameters: {'n_neighbors': 180, 'dim_reduction': 'raw', 'pca_solver': 'auto', 'pca_components': 35, 'resolution': 0.29248792459085415, 'method': 'louvain', 'dist_metric': 'cosine', 'louv_clustering_imp': 'vtraag', 'leid_clustering_imp': 'leidenalg'}. Best is trial 362 with value: 0.13107500232590247.\n",
      "[I 2025-08-07 19:34:30,270] Trial 379 finished with value: 0.1294281330499416 and parameters: {'n_neighbors': 187, 'dim_reduction': 'raw', 'pca_solver': 'auto', 'pca_components': 28, 'resolution': 0.2466282351173914, 'method': 'louvain', 'dist_metric': 'cosine', 'louv_clustering_imp': 'vtraag', 'leid_clustering_imp': 'leidenalg'}. Best is trial 362 with value: 0.13107500232590247.\n",
      "[I 2025-08-07 19:35:09,741] Trial 380 finished with value: 0.035724153368910765 and parameters: {'n_neighbors': 183, 'dim_reduction': 'raw', 'pca_solver': 'auto', 'pca_components': 30, 'resolution': 0.9528783604246878, 'method': 'louvain', 'dist_metric': 'cosine', 'louv_clustering_imp': 'vtraag', 'leid_clustering_imp': 'leidenalg'}. Best is trial 362 with value: 0.13107500232590247.\n",
      "[I 2025-08-07 19:35:48,529] Trial 381 finished with value: 0.1308352128046411 and parameters: {'n_neighbors': 189, 'dim_reduction': 'raw', 'pca_solver': 'auto', 'pca_components': 25, 'resolution': 0.25551931442951753, 'method': 'louvain', 'dist_metric': 'cosine', 'louv_clustering_imp': 'vtraag', 'leid_clustering_imp': 'leidenalg'}. Best is trial 362 with value: 0.13107500232590247.\n",
      "[I 2025-08-07 19:36:26,931] Trial 382 finished with value: 0.05358625256286208 and parameters: {'n_neighbors': 187, 'dim_reduction': 'raw', 'pca_solver': 'auto', 'pca_components': 32, 'resolution': 0.29718969625185504, 'method': 'louvain', 'dist_metric': 'cosine', 'louv_clustering_imp': 'vtraag', 'leid_clustering_imp': 'leidenalg'}. Best is trial 362 with value: 0.13107500232590247.\n",
      "[I 2025-08-07 19:37:06,438] Trial 383 finished with value: 0.12920712390659242 and parameters: {'n_neighbors': 182, 'dim_reduction': 'raw', 'pca_solver': 'auto', 'pca_components': 33, 'resolution': 0.26017070781369456, 'method': 'louvain', 'dist_metric': 'cosine', 'louv_clustering_imp': 'vtraag', 'leid_clustering_imp': 'leidenalg'}. Best is trial 362 with value: 0.13107500232590247.\n",
      "[I 2025-08-07 19:37:45,637] Trial 384 finished with value: 0.13099309849791813 and parameters: {'n_neighbors': 189, 'dim_reduction': 'raw', 'pca_solver': 'auto', 'pca_components': 35, 'resolution': 0.24885647218690218, 'method': 'louvain', 'dist_metric': 'cosine', 'louv_clustering_imp': 'vtraag', 'leid_clustering_imp': 'leidenalg'}. Best is trial 362 with value: 0.13107500232590247.\n",
      "[I 2025-08-07 19:38:24,927] Trial 385 finished with value: 0.05353458380714834 and parameters: {'n_neighbors': 178, 'dim_reduction': 'raw', 'pca_solver': 'auto', 'pca_components': 36, 'resolution': 0.30492362635433157, 'method': 'louvain', 'dist_metric': 'cosine', 'louv_clustering_imp': 'vtraag', 'leid_clustering_imp': 'leidenalg'}. Best is trial 362 with value: 0.13107500232590247.\n",
      "[I 2025-08-07 19:39:06,861] Trial 386 finished with value: 0.12957506862495585 and parameters: {'n_neighbors': 188, 'dim_reduction': 'raw', 'pca_solver': 'auto', 'pca_components': 26, 'resolution': 0.2608649358916023, 'method': 'louvain', 'dist_metric': 'cosine', 'louv_clustering_imp': 'vtraag', 'leid_clustering_imp': 'leidenalg'}. Best is trial 362 with value: 0.13107500232590247.\n",
      "[I 2025-08-07 19:39:44,882] Trial 387 finished with value: 0.053550110336614956 and parameters: {'n_neighbors': 186, 'dim_reduction': 'raw', 'pca_solver': 'auto', 'pca_components': 26, 'resolution': 0.28910043746883085, 'method': 'louvain', 'dist_metric': 'cosine', 'louv_clustering_imp': 'vtraag', 'leid_clustering_imp': 'leidenalg'}. Best is trial 362 with value: 0.13107500232590247.\n",
      "[I 2025-08-07 19:40:24,513] Trial 388 finished with value: 0.053624826982583036 and parameters: {'n_neighbors': 183, 'dim_reduction': 'raw', 'pca_solver': 'auto', 'pca_components': 29, 'resolution': 0.26527390527809946, 'method': 'louvain', 'dist_metric': 'cosine', 'louv_clustering_imp': 'vtraag', 'leid_clustering_imp': 'leidenalg'}. Best is trial 362 with value: 0.13107500232590247.\n",
      "[I 2025-08-07 19:41:08,828] Trial 389 finished with value: 0.05360128841115266 and parameters: {'n_neighbors': 189, 'dim_reduction': 'raw', 'pca_solver': 'auto', 'pca_components': 26, 'resolution': 0.3024368814348294, 'method': 'louvain', 'dist_metric': 'cosine', 'louv_clustering_imp': 'vtraag', 'leid_clustering_imp': 'leidenalg'}. Best is trial 362 with value: 0.13107500232590247.\n",
      "[I 2025-08-07 19:41:46,388] Trial 390 finished with value: 0.1290078620887272 and parameters: {'n_neighbors': 177, 'dim_reduction': 'raw', 'pca_solver': 'auto', 'pca_components': 25, 'resolution': 0.2532385155833913, 'method': 'louvain', 'dist_metric': 'cosine', 'louv_clustering_imp': 'vtraag', 'leid_clustering_imp': 'leidenalg'}. Best is trial 362 with value: 0.13107500232590247.\n",
      "[I 2025-08-07 19:42:24,951] Trial 391 finished with value: 0.1308352128046411 and parameters: {'n_neighbors': 189, 'dim_reduction': 'raw', 'pca_solver': 'auto', 'pca_components': 33, 'resolution': 0.25337980358519974, 'method': 'louvain', 'dist_metric': 'cosine', 'louv_clustering_imp': 'vtraag', 'leid_clustering_imp': 'leidenalg'}. Best is trial 362 with value: 0.13107500232590247.\n",
      "[I 2025-08-07 19:43:05,343] Trial 392 finished with value: 0.05354497927268232 and parameters: {'n_neighbors': 182, 'dim_reduction': 'raw', 'pca_solver': 'auto', 'pca_components': 22, 'resolution': 0.2896538659230205, 'method': 'louvain', 'dist_metric': 'cosine', 'louv_clustering_imp': 'vtraag', 'leid_clustering_imp': 'leidenalg'}. Best is trial 362 with value: 0.13107500232590247.\n",
      "[I 2025-08-07 19:43:47,968] Trial 393 finished with value: 0.12895809282425094 and parameters: {'n_neighbors': 173, 'dim_reduction': 'raw', 'pca_solver': 'auto', 'pca_components': 32, 'resolution': 0.2468460439786272, 'method': 'louvain', 'dist_metric': 'cosine', 'louv_clustering_imp': 'vtraag', 'leid_clustering_imp': 'leidenalg'}. Best is trial 362 with value: 0.13107500232590247.\n",
      "[I 2025-08-07 19:44:26,079] Trial 394 finished with value: 0.053649312051725746 and parameters: {'n_neighbors': 185, 'dim_reduction': 'raw', 'pca_solver': 'auto', 'pca_components': 28, 'resolution': 0.3093398393849794, 'method': 'louvain', 'dist_metric': 'cosine', 'louv_clustering_imp': 'vtraag', 'leid_clustering_imp': 'leidenalg'}. Best is trial 362 with value: 0.13107500232590247.\n",
      "[I 2025-08-07 19:45:04,703] Trial 395 finished with value: 0.13082507450947137 and parameters: {'n_neighbors': 189, 'dim_reduction': 'raw', 'pca_solver': 'auto', 'pca_components': 35, 'resolution': 0.2633334018908172, 'method': 'louvain', 'dist_metric': 'cosine', 'louv_clustering_imp': 'vtraag', 'leid_clustering_imp': 'leidenalg'}. Best is trial 362 with value: 0.13107500232590247.\n",
      "[I 2025-08-07 19:45:43,996] Trial 396 finished with value: 0.1292368098329067 and parameters: {'n_neighbors': 180, 'dim_reduction': 'raw', 'pca_solver': 'auto', 'pca_components': 34, 'resolution': 0.25774842120420827, 'method': 'louvain', 'dist_metric': 'cosine', 'louv_clustering_imp': 'vtraag', 'leid_clustering_imp': 'leidenalg'}. Best is trial 362 with value: 0.13107500232590247.\n",
      "[I 2025-08-07 19:46:23,079] Trial 397 finished with value: 0.12979560147744082 and parameters: {'n_neighbors': 189, 'dim_reduction': 'raw', 'pca_solver': 'auto', 'pca_components': 34, 'resolution': 0.2973088352018459, 'method': 'louvain', 'dist_metric': 'cosine', 'louv_clustering_imp': 'vtraag', 'leid_clustering_imp': 'leidenalg'}. Best is trial 362 with value: 0.13107500232590247.\n",
      "[I 2025-08-07 19:47:00,981] Trial 398 finished with value: 0.05361138580305634 and parameters: {'n_neighbors': 186, 'dim_reduction': 'raw', 'pca_solver': 'auto', 'pca_components': 35, 'resolution': 0.3021231885506552, 'method': 'louvain', 'dist_metric': 'cosine', 'louv_clustering_imp': 'vtraag', 'leid_clustering_imp': 'leidenalg'}. Best is trial 362 with value: 0.13107500232590247.\n",
      "[I 2025-08-07 19:47:42,190] Trial 399 finished with value: 0.053529095099859085 and parameters: {'n_neighbors': 188, 'dim_reduction': 'raw', 'pca_solver': 'auto', 'pca_components': 30, 'resolution': 0.2811752741384208, 'method': 'louvain', 'dist_metric': 'cosine', 'louv_clustering_imp': 'vtraag', 'leid_clustering_imp': 'leidenalg'}. Best is trial 362 with value: 0.13107500232590247.\n",
      "[I 2025-08-07 19:48:22,182] Trial 400 finished with value: 0.020169932319334224 and parameters: {'n_neighbors': 183, 'dim_reduction': 'raw', 'pca_solver': 'auto', 'pca_components': 37, 'resolution': 1.2519102945478586, 'method': 'louvain', 'dist_metric': 'cosine', 'louv_clustering_imp': 'vtraag', 'leid_clustering_imp': 'leidenalg'}. Best is trial 362 with value: 0.13107500232590247.\n",
      "[I 2025-08-07 19:49:00,521] Trial 401 finished with value: 0.053514219018367885 and parameters: {'n_neighbors': 176, 'dim_reduction': 'raw', 'pca_solver': 'auto', 'pca_components': 33, 'resolution': 0.30082947436016505, 'method': 'louvain', 'dist_metric': 'cosine', 'louv_clustering_imp': 'vtraag', 'leid_clustering_imp': 'leidenalg'}. Best is trial 362 with value: 0.13107500232590247.\n",
      "[I 2025-08-07 19:49:38,899] Trial 402 finished with value: 0.13082507450947137 and parameters: {'n_neighbors': 189, 'dim_reduction': 'raw', 'pca_solver': 'auto', 'pca_components': 37, 'resolution': 0.2630079751637005, 'method': 'louvain', 'dist_metric': 'cosine', 'louv_clustering_imp': 'vtraag', 'leid_clustering_imp': 'leidenalg'}. Best is trial 362 with value: 0.13107500232590247.\n",
      "[I 2025-08-07 19:50:20,116] Trial 403 finished with value: 0.05352582093670756 and parameters: {'n_neighbors': 188, 'dim_reduction': 'raw', 'pca_solver': 'auto', 'pca_components': 35, 'resolution': 0.2682793584468471, 'method': 'louvain', 'dist_metric': 'cosine', 'louv_clustering_imp': 'vtraag', 'leid_clustering_imp': 'leidenalg'}. Best is trial 362 with value: 0.13107500232590247.\n",
      "[I 2025-08-07 19:50:59,952] Trial 404 finished with value: 0.05350329710134934 and parameters: {'n_neighbors': 180, 'dim_reduction': 'raw', 'pca_solver': 'auto', 'pca_components': 37, 'resolution': 0.3164267886023515, 'method': 'louvain', 'dist_metric': 'cosine', 'louv_clustering_imp': 'vtraag', 'leid_clustering_imp': 'leidenalg'}. Best is trial 362 with value: 0.13107500232590247.\n",
      "[I 2025-08-07 19:51:38,286] Trial 405 finished with value: 0.002121247637940806 and parameters: {'n_neighbors': 184, 'dim_reduction': 'raw', 'pca_solver': 'auto', 'pca_components': 33, 'resolution': 1.548163972791604, 'method': 'louvain', 'dist_metric': 'cosine', 'louv_clustering_imp': 'vtraag', 'leid_clustering_imp': 'leidenalg'}. Best is trial 362 with value: 0.13107500232590247.\n",
      "[I 2025-08-07 19:52:04,316] Trial 406 finished with value: 0.053139085843302326 and parameters: {'n_neighbors': 110, 'dim_reduction': 'raw', 'pca_solver': 'auto', 'pca_components': 35, 'resolution': 0.2759752606753135, 'method': 'louvain', 'dist_metric': 'cosine', 'louv_clustering_imp': 'vtraag', 'leid_clustering_imp': 'leidenalg'}. Best is trial 362 with value: 0.13107500232590247.\n",
      "[I 2025-08-07 19:52:42,745] Trial 407 finished with value: 0.1308352128046411 and parameters: {'n_neighbors': 189, 'dim_reduction': 'raw', 'pca_solver': 'auto', 'pca_components': 37, 'resolution': 0.2539146517920992, 'method': 'louvain', 'dist_metric': 'cosine', 'louv_clustering_imp': 'vtraag', 'leid_clustering_imp': 'leidenalg'}. Best is trial 362 with value: 0.13107500232590247.\n",
      "[I 2025-08-07 19:53:25,684] Trial 408 finished with value: 0.05360128841115266 and parameters: {'n_neighbors': 189, 'dim_reduction': 'raw', 'pca_solver': 'auto', 'pca_components': 37, 'resolution': 0.3042718045663212, 'method': 'louvain', 'dist_metric': 'cosine', 'louv_clustering_imp': 'vtraag', 'leid_clustering_imp': 'leidenalg'}. Best is trial 362 with value: 0.13107500232590247.\n",
      "[I 2025-08-07 19:54:05,675] Trial 409 finished with value: 0.1292542987184469 and parameters: {'n_neighbors': 184, 'dim_reduction': 'raw', 'pca_solver': 'auto', 'pca_components': 38, 'resolution': 0.25343603052282887, 'method': 'louvain', 'dist_metric': 'cosine', 'louv_clustering_imp': 'vtraag', 'leid_clustering_imp': 'leidenalg'}. Best is trial 362 with value: 0.13107500232590247.\n",
      "[I 2025-08-07 19:54:49,762] Trial 410 finished with value: 0.1296194427346223 and parameters: {'n_neighbors': 188, 'dim_reduction': 'raw', 'pca_solver': 'arpack', 'pca_components': 32, 'resolution': 0.22232913356249018, 'method': 'louvain', 'dist_metric': 'cosine', 'louv_clustering_imp': 'vtraag', 'leid_clustering_imp': 'leidenalg'}. Best is trial 362 with value: 0.13107500232590247.\n",
      "[I 2025-08-07 19:55:32,189] Trial 411 finished with value: 0.04367490510401704 and parameters: {'n_neighbors': 186, 'dim_reduction': 'raw', 'pca_solver': 'arpack', 'pca_components': 31, 'resolution': 0.7757702655294317, 'method': 'louvain', 'dist_metric': 'cosine', 'louv_clustering_imp': 'vtraag', 'leid_clustering_imp': 'leidenalg'}. Best is trial 362 with value: 0.13107500232590247.\n",
      "[I 2025-08-07 19:56:11,926] Trial 412 finished with value: 0.05353458380714834 and parameters: {'n_neighbors': 178, 'dim_reduction': 'raw', 'pca_solver': 'arpack', 'pca_components': 34, 'resolution': 0.30944541049028557, 'method': 'louvain', 'dist_metric': 'cosine', 'louv_clustering_imp': 'vtraag', 'leid_clustering_imp': 'leidenalg'}. Best is trial 362 with value: 0.13107500232590247.\n",
      "[I 2025-08-07 19:56:51,267] Trial 413 finished with value: 0.13121297888806757 and parameters: {'n_neighbors': 189, 'dim_reduction': 'raw', 'pca_solver': 'arpack', 'pca_components': 30, 'resolution': 0.21805089410088374, 'method': 'louvain', 'dist_metric': 'cosine', 'louv_clustering_imp': 'vtraag', 'leid_clustering_imp': 'leidenalg'}. Best is trial 413 with value: 0.13121297888806757.\n",
      "[I 2025-08-07 19:57:30,778] Trial 414 finished with value: 0.12921475413761643 and parameters: {'n_neighbors': 182, 'dim_reduction': 'raw', 'pca_solver': 'arpack', 'pca_components': 30, 'resolution': 0.22624063782290876, 'method': 'louvain', 'dist_metric': 'cosine', 'louv_clustering_imp': 'vtraag', 'leid_clustering_imp': 'leidenalg'}. Best is trial 413 with value: 0.13121297888806757.\n",
      "[I 2025-08-07 19:58:10,860] Trial 415 finished with value: 0.13113661744144708 and parameters: {'n_neighbors': 189, 'dim_reduction': 'raw', 'pca_solver': 'arpack', 'pca_components': 24, 'resolution': 0.21107056503658533, 'method': 'louvain', 'dist_metric': 'cosine', 'louv_clustering_imp': 'vtraag', 'leid_clustering_imp': 'leidenalg'}. Best is trial 413 with value: 0.13121297888806757.\n",
      "[I 2025-08-07 19:58:50,266] Trial 416 finished with value: 0.13113661744144708 and parameters: {'n_neighbors': 189, 'dim_reduction': 'raw', 'pca_solver': 'arpack', 'pca_components': 33, 'resolution': 0.21133545338815932, 'method': 'louvain', 'dist_metric': 'cosine', 'louv_clustering_imp': 'vtraag', 'leid_clustering_imp': 'leidenalg'}. Best is trial 413 with value: 0.13121297888806757.\n",
      "[I 2025-08-07 19:59:28,152] Trial 417 finished with value: 0.1297697350490619 and parameters: {'n_neighbors': 185, 'dim_reduction': 'raw', 'pca_solver': 'arpack', 'pca_components': 33, 'resolution': 0.19917867392414162, 'method': 'louvain', 'dist_metric': 'cosine', 'louv_clustering_imp': 'vtraag', 'leid_clustering_imp': 'leidenalg'}. Best is trial 413 with value: 0.13121297888806757.\n",
      "[I 2025-08-07 20:00:07,611] Trial 418 finished with value: 0.12956204538954624 and parameters: {'n_neighbors': 181, 'dim_reduction': 'raw', 'pca_solver': 'arpack', 'pca_components': 31, 'resolution': 0.2160006734576741, 'method': 'louvain', 'dist_metric': 'cosine', 'louv_clustering_imp': 'vtraag', 'leid_clustering_imp': 'leidenalg'}. Best is trial 413 with value: 0.13121297888806757.\n",
      "[I 2025-08-07 20:00:49,332] Trial 419 finished with value: 0.12946308070404777 and parameters: {'n_neighbors': 171, 'dim_reduction': 'raw', 'pca_solver': 'arpack', 'pca_components': 33, 'resolution': 0.2198677048097667, 'method': 'louvain', 'dist_metric': 'cosine', 'louv_clustering_imp': 'vtraag', 'leid_clustering_imp': 'leidenalg'}. Best is trial 413 with value: 0.13121297888806757.\n",
      "[I 2025-08-07 20:01:27,517] Trial 420 finished with value: 0.12964706138875318 and parameters: {'n_neighbors': 185, 'dim_reduction': 'raw', 'pca_solver': 'arpack', 'pca_components': 28, 'resolution': 0.20643959099951492, 'method': 'louvain', 'dist_metric': 'cosine', 'louv_clustering_imp': 'vtraag', 'leid_clustering_imp': 'leidenalg'}. Best is trial 413 with value: 0.13121297888806757.\n",
      "[I 2025-08-07 20:02:07,849] Trial 421 finished with value: 0.1296104713311516 and parameters: {'n_neighbors': 184, 'dim_reduction': 'raw', 'pca_solver': 'arpack', 'pca_components': 23, 'resolution': 0.2025310260940528, 'method': 'louvain', 'dist_metric': 'cosine', 'louv_clustering_imp': 'vtraag', 'leid_clustering_imp': 'leidenalg'}. Best is trial 413 with value: 0.13121297888806757.\n",
      "[I 2025-08-07 20:02:46,027] Trial 422 finished with value: 0.12939912966841413 and parameters: {'n_neighbors': 175, 'dim_reduction': 'raw', 'pca_solver': 'arpack', 'pca_components': 32, 'resolution': 0.2070192683261799, 'method': 'louvain', 'dist_metric': 'cosine', 'louv_clustering_imp': 'vtraag', 'leid_clustering_imp': 'leidenalg'}. Best is trial 413 with value: 0.13121297888806757.\n",
      "[I 2025-08-07 20:03:23,518] Trial 423 finished with value: 0.02136814713869723 and parameters: {'n_neighbors': 184, 'dim_reduction': 'raw', 'pca_solver': 'arpack', 'pca_components': 34, 'resolution': 1.7021525666877158, 'method': 'louvain', 'dist_metric': 'cosine', 'louv_clustering_imp': 'vtraag', 'leid_clustering_imp': 'leidenalg'}. Best is trial 413 with value: 0.13121297888806757.\n",
      "[I 2025-08-07 20:04:01,776] Trial 424 finished with value: 0.1295586847936777 and parameters: {'n_neighbors': 180, 'dim_reduction': 'raw', 'pca_solver': 'arpack', 'pca_components': 28, 'resolution': 0.20817967687341596, 'method': 'louvain', 'dist_metric': 'cosine', 'louv_clustering_imp': 'vtraag', 'leid_clustering_imp': 'leidenalg'}. Best is trial 413 with value: 0.13121297888806757.\n",
      "[I 2025-08-07 20:04:41,470] Trial 425 finished with value: 0.1313716049735554 and parameters: {'n_neighbors': 190, 'dim_reduction': 'raw', 'pca_solver': 'arpack', 'pca_components': 36, 'resolution': 0.20018826154195818, 'method': 'louvain', 'dist_metric': 'cosine', 'louv_clustering_imp': 'vtraag', 'leid_clustering_imp': 'leidenalg'}. Best is trial 425 with value: 0.1313716049735554.\n",
      "[I 2025-08-07 20:05:22,066] Trial 426 finished with value: 0.03329976797631546 and parameters: {'n_neighbors': 190, 'dim_reduction': 'raw', 'pca_solver': 'arpack', 'pca_components': 36, 'resolution': 1.0678219661529291, 'method': 'louvain', 'dist_metric': 'cosine', 'louv_clustering_imp': 'vtraag', 'leid_clustering_imp': 'leidenalg'}. Best is trial 425 with value: 0.1313716049735554.\n",
      "[I 2025-08-07 20:06:05,085] Trial 427 finished with value: 0.030696520563020902 and parameters: {'n_neighbors': 186, 'dim_reduction': 'raw', 'pca_solver': 'arpack', 'pca_components': 35, 'resolution': 0.8753436067766238, 'method': 'louvain', 'dist_metric': 'cosine', 'louv_clustering_imp': 'vtraag', 'leid_clustering_imp': 'leidenalg'}. Best is trial 425 with value: 0.1313716049735554.\n",
      "[I 2025-08-07 20:06:44,483] Trial 428 finished with value: 0.1312775887544784 and parameters: {'n_neighbors': 190, 'dim_reduction': 'raw', 'pca_solver': 'arpack', 'pca_components': 24, 'resolution': 0.21187435211591216, 'method': 'louvain', 'dist_metric': 'cosine', 'louv_clustering_imp': 'vtraag', 'leid_clustering_imp': 'leidenalg'}. Best is trial 425 with value: 0.1313716049735554.\n",
      "[I 2025-08-07 20:07:19,386] Trial 429 finished with value: 0.13017373844816396 and parameters: {'n_neighbors': 165, 'dim_reduction': 'raw', 'pca_solver': 'arpack', 'pca_components': 24, 'resolution': 0.21278689366287631, 'method': 'louvain', 'dist_metric': 'cosine', 'louv_clustering_imp': 'vtraag', 'leid_clustering_imp': 'leidenalg'}. Best is trial 425 with value: 0.1313716049735554.\n",
      "[I 2025-08-07 20:07:52,934] Trial 430 finished with value: 0.12890110762801923 and parameters: {'n_neighbors': 144, 'dim_reduction': 'raw', 'pca_solver': 'arpack', 'pca_components': 27, 'resolution': 0.18957157549428288, 'method': 'louvain', 'dist_metric': 'cosine', 'louv_clustering_imp': 'vtraag', 'leid_clustering_imp': 'leidenalg'}. Best is trial 425 with value: 0.1313716049735554.\n",
      "[I 2025-08-07 20:08:26,695] Trial 431 finished with value: 0.1288953587156298 and parameters: {'n_neighbors': 161, 'dim_reduction': 'raw', 'pca_solver': 'arpack', 'pca_components': 24, 'resolution': 0.20321555952306025, 'method': 'louvain', 'dist_metric': 'cosine', 'louv_clustering_imp': 'vtraag', 'leid_clustering_imp': 'leidenalg'}. Best is trial 425 with value: 0.1313716049735554.\n",
      "[I 2025-08-07 20:09:07,748] Trial 432 finished with value: 0.0467824482668315 and parameters: {'n_neighbors': 178, 'dim_reduction': 'raw', 'pca_solver': 'arpack', 'pca_components': 24, 'resolution': 0.6784103887632609, 'method': 'louvain', 'dist_metric': 'cosine', 'louv_clustering_imp': 'vtraag', 'leid_clustering_imp': 'leidenalg'}. Best is trial 425 with value: 0.1313716049735554.\n",
      "[I 2025-08-07 20:09:48,612] Trial 433 finished with value: 0.053672559463653347 and parameters: {'n_neighbors': 183, 'dim_reduction': 'raw', 'pca_solver': 'arpack', 'pca_components': 22, 'resolution': 0.2810195097860372, 'method': 'louvain', 'dist_metric': 'cosine', 'louv_clustering_imp': 'vtraag', 'leid_clustering_imp': 'leidenalg'}. Best is trial 425 with value: 0.1313716049735554.\n",
      "[I 2025-08-07 20:10:28,995] Trial 434 finished with value: 0.13142996308333962 and parameters: {'n_neighbors': 189, 'dim_reduction': 'raw', 'pca_solver': 'arpack', 'pca_components': 36, 'resolution': 0.20183573602096633, 'method': 'louvain', 'dist_metric': 'cosine', 'louv_clustering_imp': 'vtraag', 'leid_clustering_imp': 'leidenalg'}. Best is trial 434 with value: 0.13142996308333962.\n",
      "[I 2025-08-07 20:11:09,254] Trial 435 finished with value: 0.12961887254322754 and parameters: {'n_neighbors': 184, 'dim_reduction': 'raw', 'pca_solver': 'arpack', 'pca_components': 36, 'resolution': 0.19685201854859274, 'method': 'louvain', 'dist_metric': 'cosine', 'louv_clustering_imp': 'vtraag', 'leid_clustering_imp': 'leidenalg'}. Best is trial 434 with value: 0.13142996308333962.\n",
      "[I 2025-08-07 20:11:49,233] Trial 436 finished with value: 0.13122978991343762 and parameters: {'n_neighbors': 190, 'dim_reduction': 'raw', 'pca_solver': 'arpack', 'pca_components': 21, 'resolution': 0.2056579936396097, 'method': 'louvain', 'dist_metric': 'cosine', 'louv_clustering_imp': 'vtraag', 'leid_clustering_imp': 'leidenalg'}. Best is trial 434 with value: 0.13142996308333962.\n",
      "[I 2025-08-07 20:12:17,670] Trial 437 finished with value: 0.12825703260167182 and parameters: {'n_neighbors': 126, 'dim_reduction': 'raw', 'pca_solver': 'arpack', 'pca_components': 21, 'resolution': 0.20248217600429977, 'method': 'louvain', 'dist_metric': 'cosine', 'louv_clustering_imp': 'vtraag', 'leid_clustering_imp': 'leidenalg'}. Best is trial 434 with value: 0.13142996308333962.\n",
      "[I 2025-08-07 20:12:57,728] Trial 438 finished with value: -1.0 and parameters: {'n_neighbors': 189, 'dim_reduction': 'raw', 'pca_solver': 'arpack', 'pca_components': 24, 'resolution': 0.13231175421305968, 'method': 'louvain', 'dist_metric': 'cosine', 'louv_clustering_imp': 'vtraag', 'leid_clustering_imp': 'leidenalg'}. Best is trial 434 with value: 0.13142996308333962.\n",
      "[I 2025-08-07 20:13:32,254] Trial 439 finished with value: 0.1304017474011559 and parameters: {'n_neighbors': 166, 'dim_reduction': 'raw', 'pca_solver': 'arpack', 'pca_components': 34, 'resolution': 0.2011090959073938, 'method': 'louvain', 'dist_metric': 'cosine', 'louv_clustering_imp': 'vtraag', 'leid_clustering_imp': 'leidenalg'}. Best is trial 434 with value: 0.13142996308333962.\n",
      "[I 2025-08-07 20:14:06,994] Trial 440 finished with value: 0.12974138704264015 and parameters: {'n_neighbors': 166, 'dim_reduction': 'raw', 'pca_solver': 'arpack', 'pca_components': 19, 'resolution': 0.31372895697737463, 'method': 'louvain', 'dist_metric': 'cosine', 'louv_clustering_imp': 'vtraag', 'leid_clustering_imp': 'leidenalg'}. Best is trial 434 with value: 0.13142996308333962.\n",
      "[I 2025-08-07 20:14:39,243] Trial 441 finished with value: -1.0 and parameters: {'n_neighbors': 158, 'dim_reduction': 'raw', 'pca_solver': 'arpack', 'pca_components': 34, 'resolution': 0.13801168118369558, 'method': 'louvain', 'dist_metric': 'cosine', 'louv_clustering_imp': 'vtraag', 'leid_clustering_imp': 'leidenalg'}. Best is trial 434 with value: 0.13142996308333962.\n",
      "[I 2025-08-07 20:15:11,207] Trial 442 finished with value: 0.12893559787111977 and parameters: {'n_neighbors': 141, 'dim_reduction': 'raw', 'pca_solver': 'arpack', 'pca_components': 20, 'resolution': 0.1894576127401041, 'method': 'louvain', 'dist_metric': 'cosine', 'louv_clustering_imp': 'vtraag', 'leid_clustering_imp': 'leidenalg'}. Best is trial 434 with value: 0.13142996308333962.\n",
      "[I 2025-08-07 20:15:46,991] Trial 443 finished with value: 0.053439226491631575 and parameters: {'n_neighbors': 169, 'dim_reduction': 'raw', 'pca_solver': 'arpack', 'pca_components': 36, 'resolution': 0.28393474890048237, 'method': 'louvain', 'dist_metric': 'cosine', 'louv_clustering_imp': 'vtraag', 'leid_clustering_imp': 'leidenalg'}. Best is trial 434 with value: 0.13142996308333962.\n",
      "[I 2025-08-07 20:16:24,416] Trial 444 finished with value: -1.0 and parameters: {'n_neighbors': 190, 'dim_reduction': 'raw', 'pca_solver': 'arpack', 'pca_components': 33, 'resolution': 0.14288869533332216, 'method': 'louvain', 'dist_metric': 'cosine', 'louv_clustering_imp': 'vtraag', 'leid_clustering_imp': 'leidenalg'}. Best is trial 434 with value: 0.13142996308333962.\n",
      "[I 2025-08-07 20:16:57,007] Trial 445 finished with value: 0.1289374559715376 and parameters: {'n_neighbors': 152, 'dim_reduction': 'raw', 'pca_solver': 'arpack', 'pca_components': 37, 'resolution': 0.2059865453501698, 'method': 'louvain', 'dist_metric': 'cosine', 'louv_clustering_imp': 'vtraag', 'leid_clustering_imp': 'leidenalg'}. Best is trial 434 with value: 0.13142996308333962.\n",
      "[I 2025-08-07 20:17:36,957] Trial 446 finished with value: 0.05364934926935794 and parameters: {'n_neighbors': 175, 'dim_reduction': 'raw', 'pca_solver': 'arpack', 'pca_components': 35, 'resolution': 0.27326936218798475, 'method': 'louvain', 'dist_metric': 'cosine', 'louv_clustering_imp': 'vtraag', 'leid_clustering_imp': 'leidenalg'}. Best is trial 434 with value: 0.13142996308333962.\n",
      "[I 2025-08-07 20:18:19,638] Trial 447 finished with value: 0.12937301491304848 and parameters: {'n_neighbors': 180, 'dim_reduction': 'raw', 'pca_solver': 'arpack', 'pca_components': 31, 'resolution': 0.21726541871529007, 'method': 'louvain', 'dist_metric': 'cosine', 'louv_clustering_imp': 'vtraag', 'leid_clustering_imp': 'leidenalg'}. Best is trial 434 with value: 0.13142996308333962.\n",
      "[I 2025-08-07 20:19:00,916] Trial 448 finished with value: 0.13212172210089082 and parameters: {'n_neighbors': 189, 'dim_reduction': 'raw', 'pca_solver': 'arpack', 'pca_components': 33, 'resolution': 0.16528090240142412, 'method': 'louvain', 'dist_metric': 'cosine', 'louv_clustering_imp': 'vtraag', 'leid_clustering_imp': 'leidenalg'}. Best is trial 448 with value: 0.13212172210089082.\n",
      "[I 2025-08-07 20:19:43,328] Trial 449 finished with value: 0.1321015877935309 and parameters: {'n_neighbors': 190, 'dim_reduction': 'raw', 'pca_solver': 'arpack', 'pca_components': 39, 'resolution': 0.16939303478861178, 'method': 'louvain', 'dist_metric': 'cosine', 'louv_clustering_imp': 'vtraag', 'leid_clustering_imp': 'leidenalg'}. Best is trial 448 with value: 0.13212172210089082.\n",
      "[I 2025-08-07 20:20:21,271] Trial 450 finished with value: -1.0 and parameters: {'n_neighbors': 189, 'dim_reduction': 'raw', 'pca_solver': 'arpack', 'pca_components': 39, 'resolution': 0.10786036566208801, 'method': 'louvain', 'dist_metric': 'cosine', 'louv_clustering_imp': 'vtraag', 'leid_clustering_imp': 'leidenalg'}. Best is trial 448 with value: 0.13212172210089082.\n",
      "[I 2025-08-07 20:21:00,863] Trial 451 finished with value: 0.1328277455792616 and parameters: {'n_neighbors': 189, 'dim_reduction': 'raw', 'pca_solver': 'arpack', 'pca_components': 38, 'resolution': 0.14710131760837797, 'method': 'louvain', 'dist_metric': 'cosine', 'louv_clustering_imp': 'vtraag', 'leid_clustering_imp': 'leidenalg'}. Best is trial 451 with value: 0.1328277455792616.\n",
      "[I 2025-08-07 20:21:39,042] Trial 452 finished with value: -1.0 and parameters: {'n_neighbors': 190, 'dim_reduction': 'raw', 'pca_solver': 'arpack', 'pca_components': 38, 'resolution': 0.1444952721302798, 'method': 'louvain', 'dist_metric': 'cosine', 'louv_clustering_imp': 'vtraag', 'leid_clustering_imp': 'leidenalg'}. Best is trial 451 with value: 0.1328277455792616.\n",
      "[I 2025-08-07 20:22:15,757] Trial 453 finished with value: -1.0 and parameters: {'n_neighbors': 185, 'dim_reduction': 'raw', 'pca_solver': 'arpack', 'pca_components': 37, 'resolution': 0.13667055896292557, 'method': 'louvain', 'dist_metric': 'cosine', 'louv_clustering_imp': 'vtraag', 'leid_clustering_imp': 'leidenalg'}. Best is trial 451 with value: 0.1328277455792616.\n",
      "[I 2025-08-07 20:22:54,376] Trial 454 finished with value: -1.0 and parameters: {'n_neighbors': 190, 'dim_reduction': 'raw', 'pca_solver': 'arpack', 'pca_components': 39, 'resolution': 0.10120729273296572, 'method': 'louvain', 'dist_metric': 'cosine', 'louv_clustering_imp': 'vtraag', 'leid_clustering_imp': 'leidenalg'}. Best is trial 451 with value: 0.1328277455792616.\n",
      "[I 2025-08-07 20:23:12,942] Trial 455 finished with value: 0.12867391916314627 and parameters: {'n_neighbors': 77, 'dim_reduction': 'raw', 'pca_solver': 'arpack', 'pca_components': 36, 'resolution': 0.15647334679026587, 'method': 'louvain', 'dist_metric': 'cosine', 'louv_clustering_imp': 'vtraag', 'leid_clustering_imp': 'leidenalg'}. Best is trial 451 with value: 0.1328277455792616.\n",
      "[I 2025-08-07 20:23:51,308] Trial 456 finished with value: 0.12953771498826203 and parameters: {'n_neighbors': 181, 'dim_reduction': 'raw', 'pca_solver': 'arpack', 'pca_components': 35, 'resolution': 0.166327186313089, 'method': 'louvain', 'dist_metric': 'cosine', 'louv_clustering_imp': 'vtraag', 'leid_clustering_imp': 'leidenalg'}. Best is trial 451 with value: 0.1328277455792616.\n",
      "[I 2025-08-07 20:24:31,009] Trial 457 finished with value: 0.12973448439852742 and parameters: {'n_neighbors': 186, 'dim_reduction': 'raw', 'pca_solver': 'arpack', 'pca_components': 37, 'resolution': 0.170972331508477, 'method': 'louvain', 'dist_metric': 'cosine', 'louv_clustering_imp': 'vtraag', 'leid_clustering_imp': 'leidenalg'}. Best is trial 451 with value: 0.1328277455792616.\n",
      "[I 2025-08-07 20:25:10,064] Trial 458 finished with value: 0.13185392055388767 and parameters: {'n_neighbors': 189, 'dim_reduction': 'raw', 'pca_solver': 'arpack', 'pca_components': 31, 'resolution': 0.1757483980946358, 'method': 'louvain', 'dist_metric': 'cosine', 'louv_clustering_imp': 'vtraag', 'leid_clustering_imp': 'leidenalg'}. Best is trial 451 with value: 0.1328277455792616.\n",
      "[I 2025-08-07 20:25:49,323] Trial 459 finished with value: 0.1329003600770534 and parameters: {'n_neighbors': 189, 'dim_reduction': 'raw', 'pca_solver': 'arpack', 'pca_components': 30, 'resolution': 0.147233103673845, 'method': 'louvain', 'dist_metric': 'cosine', 'louv_clustering_imp': 'vtraag', 'leid_clustering_imp': 'leidenalg'}. Best is trial 459 with value: 0.1329003600770534.\n",
      "[I 2025-08-07 20:26:26,867] Trial 460 finished with value: -1.0 and parameters: {'n_neighbors': 186, 'dim_reduction': 'raw', 'pca_solver': 'arpack', 'pca_components': 31, 'resolution': 0.1051732387948549, 'method': 'louvain', 'dist_metric': 'cosine', 'louv_clustering_imp': 'vtraag', 'leid_clustering_imp': 'leidenalg'}. Best is trial 459 with value: 0.1329003600770534.\n",
      "[I 2025-08-07 20:27:04,477] Trial 461 finished with value: -1.0 and parameters: {'n_neighbors': 190, 'dim_reduction': 'raw', 'pca_solver': 'arpack', 'pca_components': 31, 'resolution': 0.138531483186902, 'method': 'louvain', 'dist_metric': 'cosine', 'louv_clustering_imp': 'vtraag', 'leid_clustering_imp': 'leidenalg'}. Best is trial 459 with value: 0.1329003600770534.\n",
      "[I 2025-08-07 20:27:41,199] Trial 462 finished with value: -1.0 and parameters: {'n_neighbors': 181, 'dim_reduction': 'raw', 'pca_solver': 'arpack', 'pca_components': 29, 'resolution': 0.14104469137602535, 'method': 'louvain', 'dist_metric': 'cosine', 'louv_clustering_imp': 'vtraag', 'leid_clustering_imp': 'leidenalg'}. Best is trial 459 with value: 0.1329003600770534.\n",
      "[I 2025-08-07 20:28:20,201] Trial 463 finished with value: 0.12973448439852742 and parameters: {'n_neighbors': 186, 'dim_reduction': 'raw', 'pca_solver': 'arpack', 'pca_components': 30, 'resolution': 0.16835877174806155, 'method': 'louvain', 'dist_metric': 'cosine', 'louv_clustering_imp': 'vtraag', 'leid_clustering_imp': 'leidenalg'}. Best is trial 459 with value: 0.1329003600770534.\n",
      "[I 2025-08-07 20:28:57,369] Trial 464 finished with value: -1.0 and parameters: {'n_neighbors': 182, 'dim_reduction': 'raw', 'pca_solver': 'arpack', 'pca_components': 32, 'resolution': 0.1293493776760376, 'method': 'louvain', 'dist_metric': 'cosine', 'louv_clustering_imp': 'vtraag', 'leid_clustering_imp': 'leidenalg'}. Best is trial 459 with value: 0.1329003600770534.\n",
      "[I 2025-08-07 20:29:36,470] Trial 465 finished with value: 0.13210723846849165 and parameters: {'n_neighbors': 190, 'dim_reduction': 'raw', 'pca_solver': 'arpack', 'pca_components': 17, 'resolution': 0.16927799515905184, 'method': 'louvain', 'dist_metric': 'cosine', 'louv_clustering_imp': 'vtraag', 'leid_clustering_imp': 'leidenalg'}. Best is trial 459 with value: 0.1329003600770534.\n",
      "[I 2025-08-07 20:30:16,498] Trial 466 finished with value: 0.13237807519811637 and parameters: {'n_neighbors': 191, 'dim_reduction': 'raw', 'pca_solver': 'arpack', 'pca_components': 17, 'resolution': 0.1670035983989749, 'method': 'louvain', 'dist_metric': 'cosine', 'louv_clustering_imp': 'vtraag', 'leid_clustering_imp': 'leidenalg'}. Best is trial 459 with value: 0.1329003600770534.\n",
      "[I 2025-08-07 20:30:54,755] Trial 467 finished with value: -1.0 and parameters: {'n_neighbors': 191, 'dim_reduction': 'raw', 'pca_solver': 'arpack', 'pca_components': 20, 'resolution': 0.1250099095058369, 'method': 'louvain', 'dist_metric': 'cosine', 'louv_clustering_imp': 'vtraag', 'leid_clustering_imp': 'leidenalg'}. Best is trial 459 with value: 0.1329003600770534.\n",
      "[I 2025-08-07 20:31:34,527] Trial 468 finished with value: 0.13242587707679754 and parameters: {'n_neighbors': 191, 'dim_reduction': 'raw', 'pca_solver': 'arpack', 'pca_components': 18, 'resolution': 0.16395310647785397, 'method': 'louvain', 'dist_metric': 'cosine', 'louv_clustering_imp': 'vtraag', 'leid_clustering_imp': 'leidenalg'}. Best is trial 459 with value: 0.1329003600770534.\n",
      "[I 2025-08-07 20:32:12,441] Trial 469 finished with value: -1.0 and parameters: {'n_neighbors': 191, 'dim_reduction': 'raw', 'pca_solver': 'arpack', 'pca_components': 17, 'resolution': 0.10438309353246585, 'method': 'louvain', 'dist_metric': 'cosine', 'louv_clustering_imp': 'vtraag', 'leid_clustering_imp': 'leidenalg'}. Best is trial 459 with value: 0.1329003600770534.\n",
      "[I 2025-08-07 20:32:26,174] Trial 470 finished with value: 0.1282788800220313 and parameters: {'n_neighbors': 57, 'dim_reduction': 'raw', 'pca_solver': 'arpack', 'pca_components': 15, 'resolution': 0.15173558231640638, 'method': 'louvain', 'dist_metric': 'cosine', 'louv_clustering_imp': 'vtraag', 'leid_clustering_imp': 'leidenalg'}. Best is trial 459 with value: 0.1329003600770534.\n",
      "[I 2025-08-07 20:33:05,999] Trial 471 finished with value: 0.1296010092381756 and parameters: {'n_neighbors': 184, 'dim_reduction': 'raw', 'pca_solver': 'arpack', 'pca_components': 21, 'resolution': 0.1704327669819982, 'method': 'louvain', 'dist_metric': 'cosine', 'louv_clustering_imp': 'vtraag', 'leid_clustering_imp': 'leidenalg'}. Best is trial 459 with value: 0.1329003600770534.\n",
      "[I 2025-08-07 20:33:44,425] Trial 472 finished with value: 0.12973448439852742 and parameters: {'n_neighbors': 186, 'dim_reduction': 'raw', 'pca_solver': 'arpack', 'pca_components': 18, 'resolution': 0.17401847101811518, 'method': 'louvain', 'dist_metric': 'cosine', 'louv_clustering_imp': 'vtraag', 'leid_clustering_imp': 'leidenalg'}. Best is trial 459 with value: 0.1329003600770534.\n",
      "[I 2025-08-07 20:34:22,301] Trial 473 finished with value: -1.0 and parameters: {'n_neighbors': 191, 'dim_reduction': 'raw', 'pca_solver': 'arpack', 'pca_components': 19, 'resolution': 0.14504865284315277, 'method': 'louvain', 'dist_metric': 'cosine', 'louv_clustering_imp': 'vtraag', 'leid_clustering_imp': 'leidenalg'}. Best is trial 459 with value: 0.1329003600770534.\n",
      "[I 2025-08-07 20:35:00,296] Trial 474 finished with value: 0.12991926013805685 and parameters: {'n_neighbors': 185, 'dim_reduction': 'raw', 'pca_solver': 'arpack', 'pca_components': 16, 'resolution': 0.1638500774231233, 'method': 'louvain', 'dist_metric': 'cosine', 'louv_clustering_imp': 'vtraag', 'leid_clustering_imp': 'leidenalg'}. Best is trial 459 with value: 0.1329003600770534.\n",
      "[I 2025-08-07 20:35:43,815] Trial 475 finished with value: -0.011592876607075654 and parameters: {'n_neighbors': 190, 'dim_reduction': 'raw', 'pca_solver': 'arpack', 'pca_components': 15, 'resolution': 1.9253070265297927, 'method': 'louvain', 'dist_metric': 'cosine', 'louv_clustering_imp': 'vtraag', 'leid_clustering_imp': 'leidenalg'}. Best is trial 459 with value: 0.1329003600770534.\n",
      "[I 2025-08-07 20:36:18,612] Trial 476 finished with value: -1.0 and parameters: {'n_neighbors': 178, 'dim_reduction': 'raw', 'pca_solver': 'arpack', 'pca_components': 26, 'resolution': 0.10474107856012171, 'method': 'louvain', 'dist_metric': 'cosine', 'louv_clustering_imp': 'vtraag', 'leid_clustering_imp': 'leidenalg'}. Best is trial 459 with value: 0.1329003600770534.\n",
      "[I 2025-08-07 20:36:58,613] Trial 477 finished with value: 0.13215366084569663 and parameters: {'n_neighbors': 191, 'dim_reduction': 'raw', 'pca_solver': 'arpack', 'pca_components': 17, 'resolution': 0.17728211243376674, 'method': 'louvain', 'dist_metric': 'cosine', 'louv_clustering_imp': 'vtraag', 'leid_clustering_imp': 'leidenalg'}. Best is trial 459 with value: 0.1329003600770534.\n",
      "[I 2025-08-07 20:37:37,710] Trial 478 finished with value: 0.12973448439852742 and parameters: {'n_neighbors': 186, 'dim_reduction': 'raw', 'pca_solver': 'arpack', 'pca_components': 18, 'resolution': 0.17310080293770322, 'method': 'louvain', 'dist_metric': 'cosine', 'louv_clustering_imp': 'vtraag', 'leid_clustering_imp': 'leidenalg'}. Best is trial 459 with value: 0.1329003600770534.\n",
      "[I 2025-08-07 20:38:15,101] Trial 479 finished with value: -1.0 and parameters: {'n_neighbors': 182, 'dim_reduction': 'raw', 'pca_solver': 'arpack', 'pca_components': 17, 'resolution': 0.12745410653541148, 'method': 'louvain', 'dist_metric': 'cosine', 'louv_clustering_imp': 'vtraag', 'leid_clustering_imp': 'leidenalg'}. Best is trial 459 with value: 0.1329003600770534.\n",
      "[I 2025-08-07 20:38:55,040] Trial 480 finished with value: 0.13215366084569663 and parameters: {'n_neighbors': 191, 'dim_reduction': 'raw', 'pca_solver': 'arpack', 'pca_components': 12, 'resolution': 0.17784773592066597, 'method': 'louvain', 'dist_metric': 'cosine', 'louv_clustering_imp': 'vtraag', 'leid_clustering_imp': 'leidenalg'}. Best is trial 459 with value: 0.1329003600770534.\n",
      "[I 2025-08-07 20:39:35,106] Trial 481 finished with value: 0.13199176150749126 and parameters: {'n_neighbors': 191, 'dim_reduction': 'raw', 'pca_solver': 'arpack', 'pca_components': 13, 'resolution': 0.1817666170617253, 'method': 'louvain', 'dist_metric': 'cosine', 'louv_clustering_imp': 'vtraag', 'leid_clustering_imp': 'leidenalg'}. Best is trial 459 with value: 0.1329003600770534.\n",
      "[I 2025-08-07 20:40:12,049] Trial 482 finished with value: -1.0 and parameters: {'n_neighbors': 192, 'dim_reduction': 'raw', 'pca_solver': 'arpack', 'pca_components': 11, 'resolution': 0.1030819796236898, 'method': 'louvain', 'dist_metric': 'cosine', 'louv_clustering_imp': 'vtraag', 'leid_clustering_imp': 'leidenalg'}. Best is trial 459 with value: 0.1329003600770534.\n",
      "[I 2025-08-07 20:40:47,826] Trial 483 finished with value: -1.0 and parameters: {'n_neighbors': 192, 'dim_reduction': 'raw', 'pca_solver': 'arpack', 'pca_components': 12, 'resolution': 0.14791315576204123, 'method': 'louvain', 'dist_metric': 'cosine', 'louv_clustering_imp': 'vtraag', 'leid_clustering_imp': 'leidenalg'}. Best is trial 459 with value: 0.1329003600770534.\n",
      "[I 2025-08-07 20:41:26,898] Trial 484 finished with value: 0.12973448439852742 and parameters: {'n_neighbors': 186, 'dim_reduction': 'raw', 'pca_solver': 'arpack', 'pca_components': 13, 'resolution': 0.17998444894508908, 'method': 'louvain', 'dist_metric': 'cosine', 'louv_clustering_imp': 'vtraag', 'leid_clustering_imp': 'leidenalg'}. Best is trial 459 with value: 0.1329003600770534.\n",
      "[I 2025-08-07 20:42:04,786] Trial 485 finished with value: 0.1291560814425983 and parameters: {'n_neighbors': 192, 'dim_reduction': 'raw', 'pca_solver': 'arpack', 'pca_components': 13, 'resolution': 0.17419132272574434, 'method': 'louvain', 'dist_metric': 'cosine', 'louv_clustering_imp': 'vtraag', 'leid_clustering_imp': 'leidenalg'}. Best is trial 459 with value: 0.1329003600770534.\n",
      "[I 2025-08-07 20:42:42,293] Trial 486 finished with value: -1.0 and parameters: {'n_neighbors': 186, 'dim_reduction': 'raw', 'pca_solver': 'arpack', 'pca_components': 14, 'resolution': 0.14278651573337572, 'method': 'louvain', 'dist_metric': 'cosine', 'louv_clustering_imp': 'vtraag', 'leid_clustering_imp': 'leidenalg'}. Best is trial 459 with value: 0.1329003600770534.\n",
      "[I 2025-08-07 20:43:21,482] Trial 487 finished with value: 0.1295166440819339 and parameters: {'n_neighbors': 182, 'dim_reduction': 'raw', 'pca_solver': 'arpack', 'pca_components': 16, 'resolution': 0.1933384407394584, 'method': 'louvain', 'dist_metric': 'cosine', 'louv_clustering_imp': 'vtraag', 'leid_clustering_imp': 'leidenalg'}. Best is trial 459 with value: 0.1329003600770534.\n",
      "[I 2025-08-07 20:43:58,601] Trial 488 finished with value: 0.12918137266069327 and parameters: {'n_neighbors': 192, 'dim_reduction': 'raw', 'pca_solver': 'arpack', 'pca_components': 22, 'resolution': 0.18553101453229348, 'method': 'louvain', 'dist_metric': 'cosine', 'louv_clustering_imp': 'vtraag', 'leid_clustering_imp': 'leidenalg'}. Best is trial 459 with value: 0.1329003600770534.\n",
      "[I 2025-08-07 20:44:35,988] Trial 489 finished with value: -1.0 and parameters: {'n_neighbors': 191, 'dim_reduction': 'raw', 'pca_solver': 'arpack', 'pca_components': 19, 'resolution': 0.10170030945440377, 'method': 'louvain', 'dist_metric': 'cosine', 'louv_clustering_imp': 'vtraag', 'leid_clustering_imp': 'leidenalg'}. Best is trial 459 with value: 0.1329003600770534.\n",
      "[I 2025-08-07 20:45:12,057] Trial 490 finished with value: -1.0 and parameters: {'n_neighbors': 187, 'dim_reduction': 'raw', 'pca_solver': 'arpack', 'pca_components': 15, 'resolution': 0.14038785557996916, 'method': 'louvain', 'dist_metric': 'cosine', 'louv_clustering_imp': 'vtraag', 'leid_clustering_imp': 'leidenalg'}. Best is trial 459 with value: 0.1329003600770534.\n",
      "[I 2025-08-07 20:45:51,165] Trial 491 finished with value: 0.12951131597501814 and parameters: {'n_neighbors': 181, 'dim_reduction': 'raw', 'pca_solver': 'arpack', 'pca_components': 12, 'resolution': 0.2002027655536539, 'method': 'louvain', 'dist_metric': 'cosine', 'louv_clustering_imp': 'vtraag', 'leid_clustering_imp': 'leidenalg'}. Best is trial 459 with value: 0.1329003600770534.\n",
      "[I 2025-08-07 20:45:55,482] Trial 492 finished with value: 0.04618282064035838 and parameters: {'n_neighbors': 5, 'dim_reduction': 'raw', 'pca_solver': 'arpack', 'pca_components': 21, 'resolution': 0.1550079833242087, 'method': 'louvain', 'dist_metric': 'cosine', 'louv_clustering_imp': 'vtraag', 'leid_clustering_imp': 'leidenalg'}. Best is trial 459 with value: 0.1329003600770534.\n",
      "[I 2025-08-07 20:46:32,266] Trial 493 finished with value: 0.12918137266069327 and parameters: {'n_neighbors': 192, 'dim_reduction': 'raw', 'pca_solver': 'arpack', 'pca_components': 17, 'resolution': 0.18605301201039692, 'method': 'louvain', 'dist_metric': 'cosine', 'louv_clustering_imp': 'vtraag', 'leid_clustering_imp': 'leidenalg'}. Best is trial 459 with value: 0.1329003600770534.\n",
      "[I 2025-08-07 20:47:08,204] Trial 494 finished with value: -1.0 and parameters: {'n_neighbors': 187, 'dim_reduction': 'raw', 'pca_solver': 'arpack', 'pca_components': 17, 'resolution': 0.13753160611153187, 'method': 'louvain', 'dist_metric': 'cosine', 'louv_clustering_imp': 'vtraag', 'leid_clustering_imp': 'leidenalg'}. Best is trial 459 with value: 0.1329003600770534.\n",
      "[I 2025-08-07 20:47:49,016] Trial 495 finished with value: 0.12948328843077894 and parameters: {'n_neighbors': 179, 'dim_reduction': 'raw', 'pca_solver': 'arpack', 'pca_components': 23, 'resolution': 0.21799120536446387, 'method': 'louvain', 'dist_metric': 'cosine', 'louv_clustering_imp': 'vtraag', 'leid_clustering_imp': 'leidenalg'}. Best is trial 459 with value: 0.1329003600770534.\n",
      "[I 2025-08-07 20:48:28,352] Trial 496 finished with value: 0.12922411732380842 and parameters: {'n_neighbors': 192, 'dim_reduction': 'raw', 'pca_solver': 'arpack', 'pca_components': 27, 'resolution': 0.1911376047276111, 'method': 'louvain', 'dist_metric': 'cosine', 'louv_clustering_imp': 'vtraag', 'leid_clustering_imp': 'leidenalg'}. Best is trial 459 with value: 0.1329003600770534.\n",
      "[I 2025-08-07 20:49:11,043] Trial 497 finished with value: 0.1296010092381756 and parameters: {'n_neighbors': 184, 'dim_reduction': 'raw', 'pca_solver': 'arpack', 'pca_components': 11, 'resolution': 0.16624255686270945, 'method': 'louvain', 'dist_metric': 'cosine', 'louv_clustering_imp': 'vtraag', 'leid_clustering_imp': 'leidenalg'}. Best is trial 459 with value: 0.1329003600770534.\n",
      "[I 2025-08-07 20:49:52,566] Trial 498 finished with value: 0.1294740783380317 and parameters: {'n_neighbors': 187, 'dim_reduction': 'raw', 'pca_solver': 'arpack', 'pca_components': 19, 'resolution': 0.21206485638214226, 'method': 'louvain', 'dist_metric': 'cosine', 'louv_clustering_imp': 'vtraag', 'leid_clustering_imp': 'leidenalg'}. Best is trial 459 with value: 0.1329003600770534.\n",
      "[I 2025-08-07 20:50:02,637] Trial 499 finished with value: 0.01784302471359399 and parameters: {'n_neighbors': 39, 'dim_reduction': 'raw', 'pca_solver': 'arpack', 'pca_components': 13, 'resolution': 1.3869929078958287, 'method': 'louvain', 'dist_metric': 'cosine', 'louv_clustering_imp': 'vtraag', 'leid_clustering_imp': 'leidenalg'}. Best is trial 459 with value: 0.1329003600770534.\n"
     ]
    }
   ],
   "source": [
    "cfret_cluster_results = assess_heterogeneity(profiles=cfret_trt, meta=cfret_meta, features=cfret_feats, n_trials=500, n_jobs=1, study_name=\"cfret_heterogeneity\", seed=0)\n",
    "with open(results_dir / \"cfret_cluster_results.pkl\", \"wb\") as f:\n",
    "    pickle.dump(cfret_cluster_results, f)"
   ]
  },
  {
   "cell_type": "code",
   "execution_count": null,
   "id": "70d92ca7",
   "metadata": {},
   "outputs": [
    {
     "name": "stderr",
     "output_type": "stream",
     "text": [
      "[I 2025-08-07 20:50:43,078] A new study created in memory with name: cpjump1_heterogeneity\n"
     ]
    },
    {
     "data": {
      "application/vnd.jupyter.widget-view+json": {
       "model_id": "9d2d551a77b444928567e845007ab678",
       "version_major": 2,
       "version_minor": 0
      },
      "text/plain": [
       "  0%|          | 0/500 [00:00<?, ?it/s]"
      ]
     },
     "metadata": {},
     "output_type": "display_data"
    }
   ],
   "source": [
    "cpjump1_cluster_results = assess_heterogeneity(profiles=cpjump1_trt, meta=cpjump1_meta, features=cpjump1_feats, n_trials=500, n_jobs=1, study_name=\"cpjump1_heterogeneity\", seed=0)\n",
    "with open(results_dir / \"cpjump1_cluster_results.pkl\", \"wb\") as f:\n",
    "    pickle.dump(cpjump1_cluster_results, f)\n"
   ]
  }
 ],
 "metadata": {
  "kernelspec": {
   "display_name": "buscar",
   "language": "python",
   "name": "python3"
  },
  "language_info": {
   "codemirror_mode": {
    "name": "ipython",
    "version": 3
   },
   "file_extension": ".py",
   "mimetype": "text/x-python",
   "name": "python",
   "nbconvert_exporter": "python",
   "pygments_lexer": "ipython3",
   "version": "3.12.11"
  }
 },
 "nbformat": 4,
 "nbformat_minor": 5
}
