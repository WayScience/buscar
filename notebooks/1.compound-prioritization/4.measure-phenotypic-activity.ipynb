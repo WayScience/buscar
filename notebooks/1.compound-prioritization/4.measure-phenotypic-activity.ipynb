{
 "cells": [
  {
   "cell_type": "markdown",
   "id": "a0af77a7",
   "metadata": {},
   "source": [
    "## 4. Measuring Phenotypic Activity\n",
    "\n",
    "In this notebook, we measure the **phenotypic activity** of compounds by comparing them against the negative control. To do this, we focus on the treatment-specific clusters identified earlier, which allow us to capture the **heterogeneous effects** that each treatment produces across different subpopulations of cells. We also make use of the *on* and *off* signatures.\n",
    "\n",
    "Our approach is based on the **Earth Mover’s Distance (EMD)**, a distance metric that is interpretable in the sense that it reflects how much “work” is needed to transform one distribution (cells treated with a compound) into another (e.g., the healthy cell state as a control).\n",
    "\n",
    "We calculate EMD on two sets of features: those defining the *on-signature* and those defining the *off-signature*. This can be interpreted as follows:\n",
    "\n",
    "* **On-signature scores:**\n",
    "\n",
    "  * High EMD → the treatment/perturbation produces strong differences in morphology features associated with the targeted cell state.\n",
    "  * Low EMD → the targeted features resemble the controls, suggesting potential evidence of reversal.\n",
    "\n",
    "* **Off-signature scores:**\n",
    "\n",
    "  * High EMD → strong off-target effects, since these features are unrelated to the specific cell state.\n",
    "  * Low EMD → minimal off-target effects, indicating the compound acts more selectively."
   ]
  },
  {
   "cell_type": "code",
   "execution_count": 1,
   "id": "efaec44f",
   "metadata": {},
   "outputs": [],
   "source": [
    "import sys\n",
    "import pathlib\n",
    "\n",
    "import polars as pl\n",
    "\n",
    "sys.path.append(\"../../\")\n",
    "from utils.metrics import measure_phenotypic_activity\n",
    "from utils import io_utils"
   ]
  },
  {
   "cell_type": "markdown",
   "id": "c3e546f8",
   "metadata": {},
   "source": [
    "helper functions"
   ]
  },
  {
   "cell_type": "markdown",
   "id": "a8e603e0",
   "metadata": {},
   "source": [
    "setting import and output paths"
   ]
  },
  {
   "cell_type": "code",
   "execution_count": null,
   "id": "11f230da",
   "metadata": {},
   "outputs": [],
   "source": [
    "# setting directories\n",
    "data_dir = pathlib.Path(\"../0.download-data/data/sc-profiles\").resolve(strict=True)\n",
    "results_dir = pathlib.Path(\"./results\").resolve(strict=True) \n",
    "signatures_dir = (results_dir / \"signature_results\").resolve(strict=True)\n",
    "cluster_labels_dir = (results_dir / \"cluster-labels\").resolve(strict=True)\n",
    "\n",
    "# setting cpjump1 profile paths, signatures, cluster labels\n",
    "cpjump1_negcon_profiles_path = (data_dir / \"cpjump1\" / \"negcon\").resolve(strict=True).glob(\"*.parquet\")\n",
    "cpjump1_trt_profiles_path = (data_dir / \"cpjump1\" / \"trt-profiles\"/ \"cpjump1_crispr_trt_profiles.parquet\").resolve(strict=True)\n",
    "cpjump1_signatures_path = (results_dir / \"signature_results\" /\"ks_test_cpjump1_consensus_signatures.json\").resolve(strict=True)\n",
    "#cpjump1_cluster_labels_path = (results_dir / \"cluster-labels\" / \"cpjump1_cluster_labels.json\").resolve(strict=True)\n",
    "\n",
    "# setting cfret1 profile paths, signatures, cluster labels\n",
    "cfret_profiles_path = (data_dir / \"cfret\" / \"localhost230405150001_sc_feature_selected.parquet\").resolve(strict=True)\n",
    "cfret_signatures_path = (signatures_dir / \"ks_test_cfret_signatures.json\").resolve(strict=True)\n",
    "cfret_cluster_labels_path = (cluster_labels_dir / \"cfret_cluster_results.pkl\").resolve(strict=True)\n",
    "\n",
    "# setting mitocheck profile paths, signatures, cluster labels\n",
    "mitocheck_negcon_profiles_path = (data_dir / \"mitocheck\" / \"negcon_mitocheck_cp_profiles.parquet\").resolve(strict=True)\n",
    "mitocheck_trt_profiles_path = (data_dir / \"mitocheck\" / \"treated_mitocheck_cp_profiles.parquet\").resolve(strict=True)\n",
    "mitocheck_signatures_path = (signatures_dir / \"ks_test_mitocheck_signatures.json\").resolve(strict=True)\n",
    "mitocheck_cluster_labels_path = (cluster_labels_dir / \"mitocheck_cluster_results.pkl\").resolve(strict=True)\n",
    "\n",
    "# setting output paths\n",
    "metric_out_dir = (results_dir / \"metrics\").resolve()\n",
    "metric_out_dir.mkdir(exist_ok=True)"
   ]
  },
  {
   "cell_type": "code",
   "execution_count": null,
   "id": "a0ffe675",
   "metadata": {},
   "outputs": [],
   "source": [
    "# load cfret profiles\n",
    "cfret_profiles = pl.read_parquet(cfret_profiles_path)\n",
    "negcon_cfret_profiles = cfret_profiles.filter(pl.col(\"Metadata_treatment\") == \"DMSO\")\n",
    "treated_cfret_profiles = cfret_profiles.filter(pl.col(\"Metadata_treatment\") != \"DMSO\")\n",
    "\n",
    "# load mitocheck\n",
    "mitocheck_negcon_profiles = pl.read_parquet(mitocheck_negcon_profiles_path)\n",
    "mitocheck_trt_profiles = pl.read_parquet(mitocheck_trt_profiles_path)\n",
    "\n",
    "# load signatures (pickle files)\n",
    "mitocheck_sigs = io_utils.load_configs(mitocheck_signatures_path)\n",
    "cfret_sigs = io_utils.load_configs(cfret_signatures_path)\n",
    "\n",
    "# load cluster labels (pickle files)\n",
    "mitocheck_cluster_labels = io_utils.load_configs(mitocheck_cluster_labels_path)\n",
    "cfret_cluster_labels = io_utils.load_configs(cfret_cluster_labels_path)\n"
   ]
  },
  {
   "cell_type": "code",
   "execution_count": null,
   "id": "deef46c0",
   "metadata": {},
   "outputs": [],
   "source": [
    "# adding cluster labels to the profiles\n",
    "mitocheck_negcon_profiles = mitocheck_negcon_profiles.with_columns(\n",
    "    pl.lit(0).alias(\"Metadata_cluster\")\n",
    ")\n",
    "mitocheck_trt_profiles = mitocheck_trt_profiles.with_columns(\n",
    "    pl.Series(\"Metadata_cluster\", mitocheck_cluster_labels[\"cluster_labels\"])\n",
    ")\n",
    "\n",
    "\n",
    "negcon_cfret_profiles = negcon_cfret_profiles.with_columns(\n",
    "    pl.lit(0).alias(\"Metadata_cluster\")\n",
    ")\n",
    "treated_cfret_profiles = treated_cfret_profiles.with_columns(\n",
    "    pl.Series(\"Metadata_cluster\", cfret_cluster_labels[\"cluster_labels\"]))"
   ]
  },
  {
   "cell_type": "markdown",
   "id": "7de5667b",
   "metadata": {},
   "source": [
    "## Measuring phenotypic activity"
   ]
  },
  {
   "cell_type": "code",
   "execution_count": 6,
   "id": "d0df5a1b",
   "metadata": {},
   "outputs": [
    {
     "name": "stderr",
     "output_type": "stream",
     "text": [
      "/home/erikserrano/Programs/miniconda3/envs/buscar/lib/python3.12/site-packages/ot/lp/__init__.py:630: UserWarning: numItermax reached before optimality. Try to increase numItermax.\n",
      "  check_result(result_code)\n"
     ]
    }
   ],
   "source": [
    "mitocheck_phenotypic_activity = measure_phenotypic_activity(ref_profile=mitocheck_negcon_profiles,\n",
    "                            exp_profiles=mitocheck_trt_profiles,\n",
    "                            on_signature= mitocheck_sigs[\"mitocheck_negcon_ENSG00000149503_poscon\"][\"signatures\"][\"on\"],\n",
    "                            off_signature= mitocheck_sigs[\"mitocheck_negcon_ENSG00000149503_poscon\"][\"signatures\"][\"off\"],\n",
    "                            method=\"emd\",\n",
    "                            treatment_col=\"Metadata_Gene\",\n",
    "                            emd_dist_matrix_method=\"euclidean\",\n",
    "                            )"
   ]
  },
  {
   "cell_type": "code",
   "execution_count": 7,
   "id": "1613c8d6",
   "metadata": {},
   "outputs": [
    {
     "name": "stderr",
     "output_type": "stream",
     "text": [
      "/home/erikserrano/Programs/miniconda3/envs/buscar/lib/python3.12/site-packages/ot/lp/__init__.py:630: UserWarning: numItermax reached before optimality. Try to increase numItermax.\n",
      "  check_result(result_code)\n"
     ]
    }
   ],
   "source": [
    "cfret_phenotypic_activity = measure_phenotypic_activity(ref_profile=negcon_cfret_profiles,\n",
    "                            exp_profiles=treated_cfret_profiles,\n",
    "                            on_signature= cfret_sigs[\"cfret_negcon_TGFRi_poscon\"][\"signatures\"][\"on\"],\n",
    "                            off_signature= cfret_sigs[\"cfret_negcon_TGFRi_poscon\"][\"signatures\"][\"off\"],\n",
    "                            method=\"emd\",\n",
    "                            treatment_col=\"Metadata_treatment\",\n",
    "                            emd_dist_matrix_method=\"euclidean\",\n",
    "                            )"
   ]
  },
  {
   "cell_type": "code",
   "execution_count": 10,
   "id": "51834181",
   "metadata": {},
   "outputs": [],
   "source": [
    "# save phenotypic activity scores\n",
    "mitocheck_phenotypic_activity.write_csv(metric_out_dir / \"mitocheck_phenotypic_activity_scores.csv\")\n",
    "cfret_phenotypic_activity.write_csv(metric_out_dir / \"cfret_phenotypic_activity_scores.csv\")"
   ]
  }
 ],
 "metadata": {
  "kernelspec": {
   "display_name": "buscar",
   "language": "python",
   "name": "python3"
  },
  "language_info": {
   "codemirror_mode": {
    "name": "ipython",
    "version": 3
   },
   "file_extension": ".py",
   "mimetype": "text/x-python",
   "name": "python",
   "nbconvert_exporter": "python",
   "pygments_lexer": "ipython3",
   "version": "3.12.11"
  }
 },
 "nbformat": 4,
 "nbformat_minor": 5
}
